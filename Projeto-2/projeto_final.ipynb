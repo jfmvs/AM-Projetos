{
  "cells": [
    {
      "cell_type": "markdown",
      "source": [
        "**Gender Gap in Spanish WP Data Set**"
      ],
      "metadata": {
        "id": "F3R9Afp4d8ha"
      }
    },
    {
      "cell_type": "markdown",
      "metadata": {
        "id": "ydc_-KvuKeRq"
      },
      "source": [
        "Grupo: <br>\n",
        "Carlos Roberto Cordeiro Pereira <br>\n",
        "João Felipe Morais Vasconcelos Sobral"
      ]
    },
    {
      "cell_type": "markdown",
      "source": [
        "Leitura do dataset:"
      ],
      "metadata": {
        "id": "wkZ-WLHvreuX"
      }
    },
    {
      "cell_type": "code",
      "source": [
        "import pandas as pd\n",
        "df = pd.read_csv('https://raw.githubusercontent.com/jfmvs/AM-Projeto-1/main/data.csv')"
      ],
      "metadata": {
        "id": "0rmsnFa9reId"
      },
      "execution_count": null,
      "outputs": []
    },
    {
      "cell_type": "markdown",
      "source": [
        "# Business Understanding"
      ],
      "metadata": {
        "id": "KewtcOzteQCg"
      }
    },
    {
      "cell_type": "markdown",
      "source": [
        "## Business Objectives:\n",
        "O objetivo do projeto é analisar a disparidade de gênero na Wikipédia em espanhol e identificar possíveis razões para a baixa participação de mulheres na plataforma. O objetivo final é perceber fatores que podem ajudar a abordar e reduzir a disparidade de gênero nesse site, incentivando mais mulheres a participar ativamente da criação e edição de conteúdo na plataforma.\n",
        "\n",
        "## Assess Situation:\n",
        "A análise inicial da situação indica que a participação de mulheres na Wikipédia em espanhol é significativamente menor do que a de homens. Isso é evidenciado pelo baixo número de edições e artigos criados por mulheres em comparação com homens. Essa disparidade de gênero pode ser um reflexo da desigualdade de gênero mais ampla em nossa sociedade, mas também pode ser influenciada por fatores específicos da plataforma, como a cultura e os processos de edição.\n",
        "\n",
        "## Data Science Goals:\n",
        "1. Preparar o conjunto de dados para análise.\n",
        "2. Realizar a análise exploratória para identificar padrões e tendências na participação dos dois gêneros.\n",
        "3. Analisar o tamanho da disparidade entre os dois gêneros na Wikipédia.\n",
        "4. Ver quais características estão mais relacionadas.\n",
        "5. Testar vários modelos e buscar seus melhores parâmetros para que seja feita a avaliação com o conjunto de testes.\n",
        "6. Criar modelos otimizados que possam prever com base no histórico de edições do usuário se ele é homem ou mulher com uma boa precisão.\n",
        "\n",
        "## *Project* Plan:\n",
        "1. Análise dos dados: Coletar e visualizar os dados do conjunto de dados \"Gender Gap in Spanish WP Dataset\" para que possamos encontrar correlações, distribuições e características importantes.\n",
        "2. Pré-processamento: Após a possível modificação das features do dataset na parte de análise e maior conhecimento sobre ele podemos então preparar os dados para a modelagem.\n",
        "3. Criação de modelos: Com o dataset pronto para uso podemos então começar a criação dos modelos de machine learning e procurar pelos melhores hiperparâmetros em cada um.\n",
        "4. Avaliação dos modelos: Após a obtenção dos melhores parâmetros e criação avaliamos então os resultados utilizando o conjunto de testes para validação.\n"
      ],
      "metadata": {
        "id": "Nrx69STke9SL"
      }
    },
    {
      "cell_type": "markdown",
      "source": [
        "# Análise exploratória\n"
      ],
      "metadata": {
        "id": "Dg4VIndSeU8m"
      }
    },
    {
      "cell_type": "markdown",
      "source": [
        "O dataset usado contém dados sobre a atividade de editores da wikipédia em espanhol com a finalidade de estimar quantos dos editores são mulheres. Os dados foram fornecidos numa tabela com 4.746 entradas e 21 atributos. Os atributos são:\n"
      ],
      "metadata": {
        "id": "L32e6Y8ifByB"
      }
    },
    {
      "cell_type": "markdown",
      "source": [
        "|Atributo | Descrição |\n",
        "| ---------------|----------------|\n",
        "|gender |0 (unknown), 1 (male), 2 (female)|\n",
        "C_api |gender extracted from WikiMedia API, codes as female / male / unknown\n",
        "C_man |gender extracted from content coding, coded as 1 (male) / 2 (female) / 3 (unknown)\n",
        "E_NEds |I index of stratum IJ (0,1,2,3)\n",
        "E_Bpag |J index of stratum IJ (0,1,2,3)\n",
        "firstDay | first edition in the Spanish Wikipedia (YYYYMMDDHHMMSS)\n",
        "lastDay | last edition in the Spanish Wikipedia (YYYYMMDDHHMMSS)\n",
        "NEds | total number of editions\n",
        "NDays | number of days (lastDay-firstDay+1)\n",
        "NActDays | number of days with editions\n",
        "NPages | number of different pages edited\n",
        "NPcreated | number of pages created\n",
        "pagesWomen | number of edits in pages related to women\n",
        "wikiprojWomen | number of edits in WikiProjects related to women\n",
        "ns_user | number of edits in namespace user\n",
        "ns_wikipedia | number of edits in namespace wikipedia\n",
        "ns_talk | number of edits in namespace talk\n",
        "ns_userTalk | number of edits in namespace user talk\n",
        "ns_content | number of edits in content pages\n",
        "weightIJ | correcting weight for stratum IJ\n",
        "NIJ | number of elements in stratum IJ\n",
        "\n"
      ],
      "metadata": {
        "id": "gYp1Fy7ZfIyq"
      }
    },
    {
      "cell_type": "markdown",
      "source": [
        "Onde gender é o atributo de classificação de gênero do usuário, podendo ser masculino, feminino ou desconhecido. Os dados não tinham ocorrências de valores nulos ou duplicados. E se apresentavam da seguinte forma:"
      ],
      "metadata": {
        "id": "2dVF1j5mp6Lv"
      }
    },
    {
      "cell_type": "code",
      "source": [
        "df.info()"
      ],
      "metadata": {
        "colab": {
          "base_uri": "https://localhost:8080/"
        },
        "id": "_cd8R5Jtsfsb",
        "outputId": "3258b840-c6bb-4d71-cf30-30c92715c1d3"
      },
      "execution_count": null,
      "outputs": [
        {
          "output_type": "stream",
          "name": "stdout",
          "text": [
            "<class 'pandas.core.frame.DataFrame'>\n",
            "RangeIndex: 4746 entries, 0 to 4745\n",
            "Data columns (total 21 columns):\n",
            " #   Column         Non-Null Count  Dtype  \n",
            "---  ------         --------------  -----  \n",
            " 0   gender         4746 non-null   int64  \n",
            " 1   C_api          4746 non-null   object \n",
            " 2   C_man          4746 non-null   int64  \n",
            " 3   E_NEds         4746 non-null   int64  \n",
            " 4   E_Bpag         4746 non-null   int64  \n",
            " 5   firstDay       4746 non-null   int64  \n",
            " 6   lastDay        4746 non-null   int64  \n",
            " 7   NEds           4746 non-null   int64  \n",
            " 8   NDays          4746 non-null   int64  \n",
            " 9   NActDays       4746 non-null   int64  \n",
            " 10  NPages         4746 non-null   int64  \n",
            " 11  NPcreated      4746 non-null   int64  \n",
            " 12  pagesWomen     4746 non-null   int64  \n",
            " 13  wikiprojWomen  4746 non-null   int64  \n",
            " 14  ns_user        4746 non-null   int64  \n",
            " 15  ns_wikipedia   4746 non-null   int64  \n",
            " 16  ns_talk        4746 non-null   int64  \n",
            " 17  ns_userTalk    4746 non-null   int64  \n",
            " 18  ns_content     4746 non-null   int64  \n",
            " 19  weightIJ       4746 non-null   float64\n",
            " 20  NIJ            4746 non-null   int64  \n",
            "dtypes: float64(1), int64(19), object(1)\n",
            "memory usage: 778.8+ KB\n"
          ]
        }
      ]
    },
    {
      "cell_type": "markdown",
      "source": [
        "Fizemos algumas transformações para obter valores mais significativos. Os valores de data lastDay e firstDay se apresentavam com um único valor inteiro contendo o valor de data e hora no formato YYYYMMDDHHMMSS. Como esses dados representam quando o usuário fez sua primeira e última edição na wikipédia em espanhol, para cada uma dessas colunas geramos 3 colunas com o valor de ano, mês e dia como valores inteiros.\n",
        "Outra transformação feita foi a dos valores de gender, que estavam como inteiros 0, 1 e 2 para valores categóricos de unknown, male e female. Os valores de C_api, C_man, E_NEds e E_Bpab que também representam categorias, foram transformados em valores categóricos."
      ],
      "metadata": {
        "id": "mMlgPaHgr0XB"
      }
    },
    {
      "cell_type": "code",
      "source": [
        "df['gender'] = df['gender'].replace({0: 'unknown', 1: 'male', 2: 'female'})\n",
        "\n",
        "df['C_api'] =   df['C_api'].astype(str)\n",
        "\n",
        "df['firstDay'] = df['firstDay'].astype(str)\n",
        "df.insert(5, 'firstMonth',df['firstDay'].str.slice(4, 6).astype(int))\n",
        "df.insert(5, 'firstYear', df['firstDay'].str.slice(0, 4).astype(int))\n",
        "df['firstDay'] = df['firstDay'].str.slice(6, 8).astype(int)\n",
        "\n",
        "df['lastDay'] =   df['lastDay'].astype(str)\n",
        "df.insert(8,'lastMonth',  df['lastDay'].str.slice(4, 6).astype(int))\n",
        "df.insert(8,'lastYear',  df['lastDay'].str.slice(0, 4).astype(int))\n",
        "df['lastDay'] =   df['lastDay'].str.slice(6, 8).astype(int)\n",
        "\n",
        "df['gender'] = df['gender'].astype('category')\n",
        "df['C_api'] =   df['C_api'].astype('category')\n",
        "df['C_man'] = df['C_man'].astype('category')\n",
        "df['E_NEds'] =   df['E_NEds'].astype('category')\n",
        "df['E_Bpag'] = df['E_Bpag'].astype('category')\n",
        "\n",
        "\n",
        "df.info()"
      ],
      "metadata": {
        "colab": {
          "base_uri": "https://localhost:8080/"
        },
        "id": "tBj0JK4pqGEc",
        "outputId": "772dc85c-1a74-4626-91ee-5028b396c0de"
      },
      "execution_count": null,
      "outputs": [
        {
          "output_type": "stream",
          "name": "stdout",
          "text": [
            "<class 'pandas.core.frame.DataFrame'>\n",
            "RangeIndex: 4746 entries, 0 to 4745\n",
            "Data columns (total 25 columns):\n",
            " #   Column         Non-Null Count  Dtype   \n",
            "---  ------         --------------  -----   \n",
            " 0   gender         4746 non-null   category\n",
            " 1   C_api          4746 non-null   category\n",
            " 2   C_man          4746 non-null   category\n",
            " 3   E_NEds         4746 non-null   category\n",
            " 4   E_Bpag         4746 non-null   category\n",
            " 5   firstYear      4746 non-null   int64   \n",
            " 6   firstMonth     4746 non-null   int64   \n",
            " 7   firstDay       4746 non-null   int64   \n",
            " 8   lastYear       4746 non-null   int64   \n",
            " 9   lastMonth      4746 non-null   int64   \n",
            " 10  lastDay        4746 non-null   int64   \n",
            " 11  NEds           4746 non-null   int64   \n",
            " 12  NDays          4746 non-null   int64   \n",
            " 13  NActDays       4746 non-null   int64   \n",
            " 14  NPages         4746 non-null   int64   \n",
            " 15  NPcreated      4746 non-null   int64   \n",
            " 16  pagesWomen     4746 non-null   int64   \n",
            " 17  wikiprojWomen  4746 non-null   int64   \n",
            " 18  ns_user        4746 non-null   int64   \n",
            " 19  ns_wikipedia   4746 non-null   int64   \n",
            " 20  ns_talk        4746 non-null   int64   \n",
            " 21  ns_userTalk    4746 non-null   int64   \n",
            " 22  ns_content     4746 non-null   int64   \n",
            " 23  weightIJ       4746 non-null   float64 \n",
            " 24  NIJ            4746 non-null   int64   \n",
            "dtypes: category(5), float64(1), int64(19)\n",
            "memory usage: 765.6 KB\n"
          ]
        }
      ]
    },
    {
      "cell_type": "markdown",
      "source": [
        "Plotamos os gráficos a seguir para analisar a representatividade de cada categoria nos dados:\n"
      ],
      "metadata": {
        "id": "X5R1GvgUtCLq"
      }
    },
    {
      "cell_type": "code",
      "source": [
        "import pandas as pd\n",
        "import matplotlib.pyplot as plt\n",
        "\n",
        "# count values in gender column\n",
        "gender_counts = df['gender'].value_counts()\n",
        "\n",
        "df_ok = df[df['gender'] != 'unknown']\n",
        "gender_counts_ok = df_ok['gender'].value_counts()\n",
        "\n",
        "\n",
        "# define color map\n",
        "color_map = {'male': 'lightskyblue', 'female': 'indianred', 'unknown': 'lightgray'}\n",
        "\n",
        "# map each value in gender column to a color using the color map\n",
        "colors = [color_map[value] for value in gender_counts.index]\n",
        "colors_ok = [color_map[value] for value in gender_counts_ok.index]\n",
        "\n",
        "\n",
        "# create pie charts\n",
        "fig, (ax1, ax2) = plt.subplots(1, 2, figsize=(15, 5))\n",
        "gender_counts.plot(kind='pie', autopct='%1.1f%%', colors=colors, ax=ax1)\n",
        "gender_counts_ok.plot(kind='pie', autopct='%1.1f%%', colors=colors_ok, ax=ax2)\n",
        "\n",
        "# set titles\n",
        "ax1.set_title('Gênero conhecido')\n",
        "ax2.set_title('Gênero conhecido ignorando os desconhecidos')\n",
        "\n",
        "# show chart\n",
        "plt.show()"
      ],
      "metadata": {
        "colab": {
          "base_uri": "https://localhost:8080/",
          "height": 444
        },
        "id": "Zir4bmuFtBLR",
        "outputId": "05c697a9-8e9c-46fd-c70b-f4c08c61edce"
      },
      "execution_count": null,
      "outputs": [
        {
          "output_type": "display_data",
          "data": {
            "text/plain": [
              "<Figure size 1500x500 with 2 Axes>"
            ],
            "image/png": "[encoded data removed]"
          },
          "metadata": {}
        }
      ]
    },
    {
      "cell_type": "markdown",
      "source": [
        "Com isso podemos perceber que temos um terço dos dados sem categoria conhecida (unknown) e que entre os que temos categoria conhecida, a grande 88.8% são categorizados como no gênero masculino.\n",
        "\tAs categorias de Stratum foram usadas pelos pesquisadores para garantir que essa base de dados fosse representativa dos editores em geral, utilizando como critérios o número de edições e o tamanho de sua página pessoal. Essa estratificação gera classificações de perfis de usuário, que podem ser úteis no momento da classificação de gênero.\n",
        "\tAbaixo temos um comparativo de como se distribuem os homens e mulheres nessas categoria:\n"
      ],
      "metadata": {
        "id": "xsRmJm08r892"
      }
    },
    {
      "cell_type": "code",
      "source": [
        "# Create a figure and two axis objects side by side\n",
        "fig, (ax1, ax2) = plt.subplots(ncols=2, figsize=(10, 5))\n",
        "\n",
        "# Calculate the frequency of each value in the E_NEds column\n",
        "freq_E_NEds = df['E_NEds'].value_counts()\n",
        "\n",
        "# Plot the frequency of E_NEds as a column graph on the first axis\n",
        "ax1.bar(freq_E_NEds.index, freq_E_NEds.values)\n",
        "ax1.set_xlabel('E_NEds')\n",
        "ax1.set_ylabel('Frequency')\n",
        "ax1.set_title('Frequency of E_NEds')\n",
        "\n",
        "# Calculate the frequency of each value in the E_Bpag column\n",
        "freq_E_Bpag = df['E_Bpag'].value_counts()\n",
        "\n",
        "# Plot the frequency of E_Bpag as a column graph on the second axis\n",
        "ax2.bar(freq_E_Bpag.index, freq_E_Bpag.values)\n",
        "ax2.set_xlabel('E_Bpag')\n",
        "ax2.set_ylabel('Frequency')\n",
        "ax2.set_title('Frequency of E_Bpag')\n",
        "\n",
        "# Show the plot\n",
        "plt.show()"
      ],
      "metadata": {
        "colab": {
          "base_uri": "https://localhost:8080/",
          "height": 487
        },
        "id": "07PIBo8ltZ1o",
        "outputId": "c440c031-8ec3-47d4-a300-cfac33d4eda9"
      },
      "execution_count": null,
      "outputs": [
        {
          "output_type": "display_data",
          "data": {
            "text/plain": [
              "<Figure size 1000x500 with 2 Axes>"
            ],
            "image/png": "[encoded data removed]"
          },
          "metadata": {}
        }
      ]
    },
    {
      "cell_type": "markdown",
      "source": [
        "Um atributo que mostrou ter um potencial relevante na classificação é o de pagesWomen. Fizemos uma relação sum(pagesWomen) / sum(NEds), ou seja do somatório de edições feitas em páginas de mulheres sobre o somatório de edições totais entre homens e mulheres e tivemos o seguinte resultado:"
      ],
      "metadata": {
        "id": "NMrnfavVtnNq"
      }
    },
    {
      "cell_type": "code",
      "source": [
        "import pandas as pd\n",
        "import matplotlib.pyplot as plt\n",
        "\n",
        "# filter DataFrame to only include rows where C_api is 'unknown'\n",
        "female_df = df[df['gender'] == 'female']\n",
        "male_df = df[df['gender'] == 'male']\n",
        "\n",
        "female_ratio = female_df['pagesWomen'].sum() / female_df['NEds'].sum() * 100\n",
        "male_ratio = male_df['pagesWomen'].sum() / male_df['NEds'].sum() * 100\n",
        "\n",
        "print(f'Porcentagem feminino: {round(female_ratio*100, 2)}%')\n",
        "print(f'Porcentagem masculino: {round(male_ratio*100, 2)}%')"
      ],
      "metadata": {
        "colab": {
          "base_uri": "https://localhost:8080/"
        },
        "id": "zLvB8mprtpdg",
        "outputId": "c7870cf0-615d-4534-b486-285065a4e248"
      },
      "execution_count": null,
      "outputs": [
        {
          "output_type": "stream",
          "name": "stdout",
          "text": [
            "Porcentagem feminino: 10.6%\n",
            "Porcentagem masculino: 1.29%\n"
          ]
        }
      ]
    },
    {
      "cell_type": "markdown",
      "source": [
        "Com isso, percebemos que as mulheres em média editam 8,15 vezes mais páginas relacionadas a mulheres do que os homens. Esse atributo deve ser bastante importante para a classificação de gênero."
      ],
      "metadata": {
        "id": "oMCp0DxnuLH7"
      }
    },
    {
      "cell_type": "markdown",
      "source": [
        "Como podemos observar abaixo, não há nenhuma anomalia nas distribuições das colunas. Elas estão com seus quartis com o valor 0 são as que correspondem à edição de locais muito específicos, como páginas relacionadas à mulheres quando já vimos que a maioria dos usuários são homens."
      ],
      "metadata": {
        "id": "kqfQ1X1CueWx"
      }
    },
    {
      "cell_type": "code",
      "source": [
        "df.describe()"
      ],
      "metadata": {
        "colab": {
          "base_uri": "https://localhost:8080/",
          "height": 364
        },
        "id": "M1jBFd9auTB2",
        "outputId": "0cecfe17-28a2-4bd5-b423-9f0706185a56"
      },
      "execution_count": null,
      "outputs": [
        {
          "output_type": "execute_result",
          "data": {
            "text/plain": [
              "         firstYear   firstMonth     firstDay     lastYear    lastMonth  \\\n",
              "count  4746.000000  4746.000000  4746.000000  4746.000000  4746.000000   \n",
              "mean   2009.875685     6.449431    15.884956  2015.419722     6.787611   \n",
              "std       3.519168     3.444223     8.879182     1.745680     3.119466   \n",
              "min    2002.000000     1.000000     1.000000  2012.000000     1.000000   \n",
              "25%    2007.000000     3.000000     8.000000  2014.000000     4.000000   \n",
              "50%    2009.000000     7.000000    16.000000  2016.000000     7.000000   \n",
              "75%    2013.000000     9.000000    24.000000  2017.000000     9.000000   \n",
              "max    2017.000000    12.000000    31.000000  2017.000000    12.000000   \n",
              "\n",
              "           lastDay           NEds        NDays     NActDays        NPages  \\\n",
              "count  4746.000000    4746.000000  4746.000000  4746.000000   4746.000000   \n",
              "mean     16.113780    2029.969448  2036.607880   183.162663    689.451960   \n",
              "std       9.341665    7793.300833  1336.119914   374.034481   3355.302483   \n",
              "min       1.000000      50.000000     1.000000     1.000000      1.000000   \n",
              "25%       8.000000      95.000000   835.250000    24.000000     29.000000   \n",
              "50%      16.000000     218.000000  2035.500000    53.000000     68.000000   \n",
              "75%      25.000000     757.750000  3146.500000   154.000000    219.750000   \n",
              "max      31.000000  153193.000000  5349.000000  3843.000000  94142.000000   \n",
              "\n",
              "          NPcreated   pagesWomen  wikiprojWomen      ns_user  ns_wikipedia  \\\n",
              "count   4746.000000  4746.000000    4746.000000  4746.000000   4746.000000   \n",
              "mean      43.479140     0.438896       0.439949    74.372946     74.368310   \n",
              "std      297.395507     5.327440      17.832244   246.407233    560.782479   \n",
              "min        0.000000     0.000000       0.000000     1.000000      0.000000   \n",
              "25%        1.000000     0.000000       0.000000     4.000000      0.000000   \n",
              "50%        4.000000     0.000000       0.000000    14.000000      1.000000   \n",
              "75%       14.000000     0.000000       0.000000    46.000000      8.000000   \n",
              "max    13394.000000   185.000000     949.000000  6041.000000  24392.000000   \n",
              "\n",
              "           ns_talk   ns_userTalk     ns_content     weightIJ          NIJ  \n",
              "count  4746.000000   4746.000000    4746.000000  4746.000000  4746.000000  \n",
              "mean     49.947745     96.081753    1521.886641     1.000000   867.148546  \n",
              "std     215.554281    545.025818    6099.009235     0.325763   325.933076  \n",
              "min       0.000000      0.000000       0.000000     0.411985   297.000000  \n",
              "25%       0.000000      1.000000      61.000000     0.831954   664.000000  \n",
              "50%       4.000000      5.000000     151.000000     0.997535   917.000000  \n",
              "75%      19.000000     22.000000     563.750000     1.057149   994.000000  \n",
              "max    4788.000000  12350.000000  115547.000000     1.865008  1596.000000  "
            ],
            "text/html": [
              "\n",
              "  <div id=\"df-b11a0eac-eb04-44e4-91f0-621222e1ab64\">\n",
              "    <div class=\"colab-df-container\">\n",
              "      <div>\n",
              "<style scoped>\n",
              "    .dataframe tbody tr th:only-of-type {\n",
              "        vertical-align: middle;\n",
              "    }\n",
              "\n",
              "    .dataframe tbody tr th {\n",
              "        vertical-align: top;\n",
              "    }\n",
              "\n",
              "    .dataframe thead th {\n",
              "        text-align: right;\n",
              "    }\n",
              "</style>\n",
              "<table border=\"1\" class=\"dataframe\">\n",
              "  <thead>\n",
              "    <tr style=\"text-align: right;\">\n",
              "      <th></th>\n",
              "      <th>firstYear</th>\n",
              "      <th>firstMonth</th>\n",
              "      <th>firstDay</th>\n",
              "      <th>lastYear</th>\n",
              "      <th>lastMonth</th>\n",
              "      <th>lastDay</th>\n",
              "      <th>NEds</th>\n",
              "      <th>NDays</th>\n",
              "      <th>NActDays</th>\n",
              "      <th>NPages</th>\n",
              "      <th>NPcreated</th>\n",
              "      <th>pagesWomen</th>\n",
              "      <th>wikiprojWomen</th>\n",
              "      <th>ns_user</th>\n",
              "      <th>ns_wikipedia</th>\n",
              "      <th>ns_talk</th>\n",
              "      <th>ns_userTalk</th>\n",
              "      <th>ns_content</th>\n",
              "      <th>weightIJ</th>\n",
              "      <th>NIJ</th>\n",
              "    </tr>\n",
              "  </thead>\n",
              "  <tbody>\n",
              "    <tr>\n",
              "      <th>count</th>\n",
              "      <td>4746.000000</td>\n",
              "      <td>4746.000000</td>\n",
              "      <td>4746.000000</td>\n",
              "      <td>4746.000000</td>\n",
              "      <td>4746.000000</td>\n",
              "      <td>4746.000000</td>\n",
              "      <td>4746.000000</td>\n",
              "      <td>4746.000000</td>\n",
              "      <td>4746.000000</td>\n",
              "      <td>4746.000000</td>\n",
              "      <td>4746.000000</td>\n",
              "      <td>4746.000000</td>\n",
              "      <td>4746.000000</td>\n",
              "      <td>4746.000000</td>\n",
              "      <td>4746.000000</td>\n",
              "      <td>4746.000000</td>\n",
              "      <td>4746.000000</td>\n",
              "      <td>4746.000000</td>\n",
              "      <td>4746.000000</td>\n",
              "      <td>4746.000000</td>\n",
              "    </tr>\n",
              "    <tr>\n",
              "      <th>mean</th>\n",
              "      <td>2009.875685</td>\n",
              "      <td>6.449431</td>\n",
              "      <td>15.884956</td>\n",
              "      <td>2015.419722</td>\n",
              "      <td>6.787611</td>\n",
              "      <td>16.113780</td>\n",
              "      <td>2029.969448</td>\n",
              "      <td>2036.607880</td>\n",
              "      <td>183.162663</td>\n",
              "      <td>689.451960</td>\n",
              "      <td>43.479140</td>\n",
              "      <td>0.438896</td>\n",
              "      <td>0.439949</td>\n",
              "      <td>74.372946</td>\n",
              "      <td>74.368310</td>\n",
              "      <td>49.947745</td>\n",
              "      <td>96.081753</td>\n",
              "      <td>1521.886641</td>\n",
              "      <td>1.000000</td>\n",
              "      <td>867.148546</td>\n",
              "    </tr>\n",
              "    <tr>\n",
              "      <th>std</th>\n",
              "      <td>3.519168</td>\n",
              "      <td>3.444223</td>\n",
              "      <td>8.879182</td>\n",
              "      <td>1.745680</td>\n",
              "      <td>3.119466</td>\n",
              "      <td>9.341665</td>\n",
              "      <td>7793.300833</td>\n",
              "      <td>1336.119914</td>\n",
              "      <td>374.034481</td>\n",
              "      <td>3355.302483</td>\n",
              "      <td>297.395507</td>\n",
              "      <td>5.327440</td>\n",
              "      <td>17.832244</td>\n",
              "      <td>246.407233</td>\n",
              "      <td>560.782479</td>\n",
              "      <td>215.554281</td>\n",
              "      <td>545.025818</td>\n",
              "      <td>6099.009235</td>\n",
              "      <td>0.325763</td>\n",
              "      <td>325.933076</td>\n",
              "    </tr>\n",
              "    <tr>\n",
              "      <th>min</th>\n",
              "      <td>2002.000000</td>\n",
              "      <td>1.000000</td>\n",
              "      <td>1.000000</td>\n",
              "      <td>2012.000000</td>\n",
              "      <td>1.000000</td>\n",
              "      <td>1.000000</td>\n",
              "      <td>50.000000</td>\n",
              "      <td>1.000000</td>\n",
              "      <td>1.000000</td>\n",
              "      <td>1.000000</td>\n",
              "      <td>0.000000</td>\n",
              "      <td>0.000000</td>\n",
              "      <td>0.000000</td>\n",
              "      <td>1.000000</td>\n",
              "      <td>0.000000</td>\n",
              "      <td>0.000000</td>\n",
              "      <td>0.000000</td>\n",
              "      <td>0.000000</td>\n",
              "      <td>0.411985</td>\n",
              "      <td>297.000000</td>\n",
              "    </tr>\n",
              "    <tr>\n",
              "      <th>25%</th>\n",
              "      <td>2007.000000</td>\n",
              "      <td>3.000000</td>\n",
              "      <td>8.000000</td>\n",
              "      <td>2014.000000</td>\n",
              "      <td>4.000000</td>\n",
              "      <td>8.000000</td>\n",
              "      <td>95.000000</td>\n",
              "      <td>835.250000</td>\n",
              "      <td>24.000000</td>\n",
              "      <td>29.000000</td>\n",
              "      <td>1.000000</td>\n",
              "      <td>0.000000</td>\n",
              "      <td>0.000000</td>\n",
              "      <td>4.000000</td>\n",
              "      <td>0.000000</td>\n",
              "      <td>0.000000</td>\n",
              "      <td>1.000000</td>\n",
              "      <td>61.000000</td>\n",
              "      <td>0.831954</td>\n",
              "      <td>664.000000</td>\n",
              "    </tr>\n",
              "    <tr>\n",
              "      <th>50%</th>\n",
              "      <td>2009.000000</td>\n",
              "      <td>7.000000</td>\n",
              "      <td>16.000000</td>\n",
              "      <td>2016.000000</td>\n",
              "      <td>7.000000</td>\n",
              "      <td>16.000000</td>\n",
              "      <td>218.000000</td>\n",
              "      <td>2035.500000</td>\n",
              "      <td>53.000000</td>\n",
              "      <td>68.000000</td>\n",
              "      <td>4.000000</td>\n",
              "      <td>0.000000</td>\n",
              "      <td>0.000000</td>\n",
              "      <td>14.000000</td>\n",
              "      <td>1.000000</td>\n",
              "      <td>4.000000</td>\n",
              "      <td>5.000000</td>\n",
              "      <td>151.000000</td>\n",
              "      <td>0.997535</td>\n",
              "      <td>917.000000</td>\n",
              "    </tr>\n",
              "    <tr>\n",
              "      <th>75%</th>\n",
              "      <td>2013.000000</td>\n",
              "      <td>9.000000</td>\n",
              "      <td>24.000000</td>\n",
              "      <td>2017.000000</td>\n",
              "      <td>9.000000</td>\n",
              "      <td>25.000000</td>\n",
              "      <td>757.750000</td>\n",
              "      <td>3146.500000</td>\n",
              "      <td>154.000000</td>\n",
              "      <td>219.750000</td>\n",
              "      <td>14.000000</td>\n",
              "      <td>0.000000</td>\n",
              "      <td>0.000000</td>\n",
              "      <td>46.000000</td>\n",
              "      <td>8.000000</td>\n",
              "      <td>19.000000</td>\n",
              "      <td>22.000000</td>\n",
              "      <td>563.750000</td>\n",
              "      <td>1.057149</td>\n",
              "      <td>994.000000</td>\n",
              "    </tr>\n",
              "    <tr>\n",
              "      <th>max</th>\n",
              "      <td>2017.000000</td>\n",
              "      <td>12.000000</td>\n",
              "      <td>31.000000</td>\n",
              "      <td>2017.000000</td>\n",
              "      <td>12.000000</td>\n",
              "      <td>31.000000</td>\n",
              "      <td>153193.000000</td>\n",
              "      <td>5349.000000</td>\n",
              "      <td>3843.000000</td>\n",
              "      <td>94142.000000</td>\n",
              "      <td>13394.000000</td>\n",
              "      <td>185.000000</td>\n",
              "      <td>949.000000</td>\n",
              "      <td>6041.000000</td>\n",
              "      <td>24392.000000</td>\n",
              "      <td>4788.000000</td>\n",
              "      <td>12350.000000</td>\n",
              "      <td>115547.000000</td>\n",
              "      <td>1.865008</td>\n",
              "      <td>1596.000000</td>\n",
              "    </tr>\n",
              "  </tbody>\n",
              "</table>\n",
              "</div>\n",
              "      <button class=\"colab-df-convert\" onclick=\"convertToInteractive('df-b11a0eac-eb04-44e4-91f0-621222e1ab64')\"\n",
              "              title=\"Convert this dataframe to an interactive table.\"\n",
              "              style=\"display:none;\">\n",
              "        \n",
              "  <svg xmlns=\"http://www.w3.org/2000/svg\" height=\"24px\"viewBox=\"0 0 24 24\"\n",
              "       width=\"24px\">\n",
              "    <path d=\"M0 0h24v24H0V0z\" fill=\"none\"/>\n",
              "    <path d=\"M18.56 5.44l.94 2.06.94-2.06 2.06-.94-2.06-.94-.94-2.06-.94 2.06-2.06.94zm-11 1L8.5 8.5l.94-2.06 2.06-.94-2.06-.94L8.5 2.5l-.94 2.06-2.06.94zm10 10l.94 2.06.94-2.06 2.06-.94-2.06-.94-.94-2.06-.94 2.06-2.06.94z\"/><path d=\"M17.41 7.96l-1.37-1.37c-.4-.4-.92-.59-1.43-.59-.52 0-1.04.2-1.43.59L10.3 9.45l-7.72 7.72c-.78.78-.78 2.05 0 2.83L4 21.41c.39.39.9.59 1.41.59.51 0 1.02-.2 1.41-.59l7.78-7.78 2.81-2.81c.8-.78.8-2.07 0-2.86zM5.41 20L4 18.59l7.72-7.72 1.47 1.35L5.41 20z\"/>\n",
              "  </svg>\n",
              "      </button>\n",
              "      \n",
              "  <style>\n",
              "    .colab-df-container {\n",
              "      display:flex;\n",
              "      flex-wrap:wrap;\n",
              "      gap: 12px;\n",
              "    }\n",
              "\n",
              "    .colab-df-convert {\n",
              "      background-color: #E8F0FE;\n",
              "      border: none;\n",
              "      border-radius: 50%;\n",
              "      cursor: pointer;\n",
              "      display: none;\n",
              "      fill: #1967D2;\n",
              "      height: 32px;\n",
              "      padding: 0 0 0 0;\n",
              "      width: 32px;\n",
              "    }\n",
              "\n",
              "    .colab-df-convert:hover {\n",
              "      background-color: #E2EBFA;\n",
              "      box-shadow: 0px 1px 2px rgba(60, 64, 67, 0.3), 0px 1px 3px 1px rgba(60, 64, 67, 0.15);\n",
              "      fill: #174EA6;\n",
              "    }\n",
              "\n",
              "    [theme=dark] .colab-df-convert {\n",
              "      background-color: #3B4455;\n",
              "      fill: #D2E3FC;\n",
              "    }\n",
              "\n",
              "    [theme=dark] .colab-df-convert:hover {\n",
              "      background-color: #434B5C;\n",
              "      box-shadow: 0px 1px 3px 1px rgba(0, 0, 0, 0.15);\n",
              "      filter: drop-shadow(0px 1px 2px rgba(0, 0, 0, 0.3));\n",
              "      fill: #FFFFFF;\n",
              "    }\n",
              "  </style>\n",
              "\n",
              "      <script>\n",
              "        const buttonEl =\n",
              "          document.querySelector('#df-b11a0eac-eb04-44e4-91f0-621222e1ab64 button.colab-df-convert');\n",
              "        buttonEl.style.display =\n",
              "          google.colab.kernel.accessAllowed ? 'block' : 'none';\n",
              "\n",
              "        async function convertToInteractive(key) {\n",
              "          const element = document.querySelector('#df-b11a0eac-eb04-44e4-91f0-621222e1ab64');\n",
              "          const dataTable =\n",
              "            await google.colab.kernel.invokeFunction('convertToInteractive',\n",
              "                                                     [key], {});\n",
              "          if (!dataTable) return;\n",
              "\n",
              "          const docLinkHtml = 'Like what you see? Visit the ' +\n",
              "            '<a target=\"_blank\" href=https://colab.research.google.com/notebooks/data_table.ipynb>data table notebook</a>'\n",
              "            + ' to learn more about interactive tables.';\n",
              "          element.innerHTML = '';\n",
              "          dataTable['output_type'] = 'display_data';\n",
              "          await google.colab.output.renderOutput(dataTable, element);\n",
              "          const docLink = document.createElement('div');\n",
              "          docLink.innerHTML = docLinkHtml;\n",
              "          element.appendChild(docLink);\n",
              "        }\n",
              "      </script>\n",
              "    </div>\n",
              "  </div>\n",
              "  "
            ]
          },
          "metadata": {},
          "execution_count": 42
        }
      ]
    },
    {
      "cell_type": "markdown",
      "source": [
        "Agora, para fazer uma análise geral de importância das features, vamos preparar os dados e usar a random forest. "
      ],
      "metadata": {
        "id": "QYMJu_KYusY9"
      }
    },
    {
      "cell_type": "code",
      "source": [
        "from sklearn.ensemble import RandomForestClassifier\n",
        "import matplotlib.pyplot as plt\n",
        "from sklearn.model_selection import train_test_split\n",
        "from sklearn.preprocessing import OneHotEncoder\n",
        "\n",
        "onehot_encoder = OneHotEncoder(sparse=False)\n",
        "\n",
        "# create a list of the categorical columns you want to encode\n",
        "cat_columns = ['C_man', 'C_api']\n",
        "\n",
        "# fit and transform the categorical columns using the OneHotEncoder\n",
        "cat_encoded = onehot_encoder.fit_transform(df[cat_columns])\n",
        "\n",
        "# construct the names of the encoded categories\n",
        "cat_names = []\n",
        "for i, column in enumerate(cat_columns):\n",
        "    for category in onehot_encoder.categories_[i]:\n",
        "        cat_names.append(f'{column}_{category}')\n",
        "\n",
        "# create a new dataframe using the encoded columns and the original columns from df\n",
        "df_encoded = pd.concat([df.drop(cat_columns, axis=1), pd.DataFrame(cat_encoded, columns=cat_names)], axis=1)\n",
        "X, y = df_encoded.drop(['gender'], axis=1) , df['gender']\n",
        "\n",
        "# create a Random Forest classifier\n",
        "rf = RandomForestClassifier()\n",
        "\n",
        "X_train, X_test, y_train, y_test = train_test_split(X, y, test_size=0.3, stratify=y, random_state=10)\n",
        "\n",
        "# train the model on the training set\n",
        "rf.fit(X_train, y_train)\n",
        "\n",
        "# get feature importance\n",
        "importance = rf.feature_importances_\n",
        "\n",
        "# visualize feature importance\n",
        "plt.bar(range(X.shape[1]), importance)\n",
        "plt.xticks(range(X.shape[1]), X.columns, rotation=90)\n",
        "plt.show()"
      ],
      "metadata": {
        "colab": {
          "base_uri": "https://localhost:8080/",
          "height": 579
        },
        "id": "Iec7a7zRvI_h",
        "outputId": "b1f366e2-68b4-4656-d7ae-1fb74c69b84e"
      },
      "execution_count": null,
      "outputs": [
        {
          "output_type": "stream",
          "name": "stderr",
          "text": [
            "/usr/local/lib/python3.10/dist-packages/sklearn/preprocessing/_encoders.py:868: FutureWarning: `sparse` was renamed to `sparse_output` in version 1.2 and will be removed in 1.4. `sparse_output` is ignored unless you leave `sparse` to its default value.\n",
            "  warnings.warn(\n"
          ]
        },
        {
          "output_type": "display_data",
          "data": {
            "text/plain": [
              "<Figure size 640x480 with 1 Axes>"
            ],
            "image/png": "[encoded data removed]"
          },
          "metadata": {}
        }
      ]
    },
    {
      "cell_type": "markdown",
      "source": [
        "Podemos ver que a feature mais importante é a classificação que os pesquisadores que criaram o dataset deram pra cada instância, que está representada pela coluna \"C_man\".<br> O segundo atributo mais importante é o gênero declarado pelo próprio usuário, represntado pela coluna \"C_api\". <br> A coluna \"C_man\" não será usada pelos nossos modelos, já que ela representa um gabarito e não um dado dos encontrado no problema.<br>\n",
        "Para entender mais sobre as outras features, vamos plotar novamente o gráfico de importância retirando essas duas features"
      ],
      "metadata": {
        "id": "R8GGzlQ41T4-"
      }
    },
    {
      "cell_type": "code",
      "source": [
        "from sklearn.ensemble import RandomForestClassifier\n",
        "import matplotlib.pyplot as plt\n",
        "from sklearn.model_selection import train_test_split\n",
        "\n",
        "X, y = df.drop(['gender','C_api','C_man'], axis=1) , df['gender']\n",
        "\n",
        "# create a Random Forest classifier\n",
        "rf = RandomForestClassifier()\n",
        "\n",
        "X_train, X_test, y_train, y_test = train_test_split(X, y, test_size=0.3, stratify=y, random_state=10)\n",
        "\n",
        "# train the model on the training set\n",
        "rf.fit(X_train, y_train)\n",
        "\n",
        "# get feature importance\n",
        "importance = rf.feature_importances_\n",
        "\n",
        "# visualize feature importance\n",
        "plt.bar(range(X.shape[1]), importance)\n",
        "plt.xticks(range(X.shape[1]), X.columns, rotation=90)\n",
        "plt.show()\n",
        "\n",
        "# find the index of 'pagesWomen' column in the X DataFrame\n",
        "idx = X.columns.get_loc('pagesWomen')\n",
        "\n",
        "# print the feature importance of 'pagesWomen'\n",
        "print(f\"Importance of 'pagesWomen': {importance[idx]}\")"
      ],
      "metadata": {
        "colab": {
          "base_uri": "https://localhost:8080/",
          "height": 539
        },
        "id": "5MPZu3xz1RbX",
        "outputId": "641e7355-6cc3-4a35-bba2-cb908b9a65b2"
      },
      "execution_count": null,
      "outputs": [
        {
          "output_type": "display_data",
          "data": {
            "text/plain": [
              "<Figure size 640x480 with 1 Axes>"
            ],
            "image/png": "[encoded data removed]"
          },
          "metadata": {}
        },
        {
          "output_type": "stream",
          "name": "stdout",
          "text": [
            "Importance of 'pagesWomen': 0.008026097594868577\n"
          ]
        }
      ]
    },
    {
      "cell_type": "markdown",
      "source": [
        "Podemos ver que as features mais importantes são relacionadas a frequência de atividade do editor. \"NDays\", \"NPages\", \"NActDays\", \"ns_user\", \"ns_content\" foram as features mais importantes. <br> A feature relacionada quantas páginas editadas relacionadas a conteúdo feminino teve a pior importância. <br> Como issso não é esperado, vamos usar essas variáveis de forma balanceada como citamos anteriormente nesta sessão e ver se temos alguma melhora."
      ],
      "metadata": {
        "id": "_ULOym9h2odB"
      }
    },
    {
      "cell_type": "code",
      "source": [
        "from sklearn.ensemble import RandomForestClassifier\n",
        "import matplotlib.pyplot as plt\n",
        "from sklearn.model_selection import train_test_split\n",
        "\n",
        "X, y = df.drop(['gender','C_api','C_man'], axis=1) , df['gender']\n",
        "\n",
        "X['pagesWomen'] = X['pagesWomen'] / X['NEds']\n",
        "\n",
        "\n",
        "# create a Random Forest classifier\n",
        "rf = RandomForestClassifier()\n",
        "\n",
        "X_train, X_test, y_train, y_test = train_test_split(X, y, test_size=0.3, stratify=y, random_state=10)\n",
        "\n",
        "# train the model on the training set\n",
        "rf.fit(X_train, y_train)\n",
        "\n",
        "# get feature importance\n",
        "importance = rf.feature_importances_\n",
        "\n",
        "# visualize feature importance\n",
        "plt.bar(range(X.shape[1]), importance)\n",
        "plt.xticks(range(X.shape[1]), X.columns, rotation=90)\n",
        "plt.show()\n",
        "\n",
        "# find the index of 'pagesWomen' column in the X DataFrame\n",
        "idx = X.columns.get_loc('pagesWomen')\n",
        "\n",
        "# print the feature importance of 'pagesWomen'\n",
        "print(f\"Importance of 'pagesWomen': {importance[idx]}\")"
      ],
      "metadata": {
        "colab": {
          "base_uri": "https://localhost:8080/",
          "height": 539
        },
        "id": "NMIQ0jjQ3ZgN",
        "outputId": "330a6033-beed-48f4-fef5-b7fd7311c6fa"
      },
      "execution_count": null,
      "outputs": [
        {
          "output_type": "display_data",
          "data": {
            "text/plain": [
              "<Figure size 640x480 with 1 Axes>"
            ],
            "image/png": "[encoded data removed]"
          },
          "metadata": {}
        },
        {
          "output_type": "stream",
          "name": "stdout",
          "text": [
            "Importance of 'pagesWomen': 0.00857624167747862\n"
          ]
        }
      ]
    },
    {
      "cell_type": "markdown",
      "source": [
        "Podemos ver que apesar de pequena, a importância da feature \"pagesWomen\" melhorou de .80% para .86% quando utilizamos ela balanceada com o número de edições total do usuário. Isso sinaliza que as features que apresentam a quantidade absoluta de um determinado tipo de atividade pode ser melhorada pela divisão do total de atividades do usuário.<br>Além, podemos perceber que ainda precisamos tratar várias features, como as de relacionadas data para que apresentem um único valor quantitativo ao invés de dia mês e ano separados. <br>\n",
        "Também vale destacar que a base de dados não apresenta valores nulos, mas apresenta alguns valores com a classificação \"unknown\". Esses valores não devem ser usadas no treinamento de um modelo de classificação, já que a classificar algo como desconhecido não é o nosso objetivo, e sim classificar entre gênero masculino ou feminino."
      ],
      "metadata": {
        "id": "txi7x9Nu5dhY"
      }
    },
    {
      "cell_type": "markdown",
      "metadata": {
        "id": "FZS53LmKHz6i"
      },
      "source": [
        "# Pré-Processamento dos Dados"
      ]
    },
    {
      "cell_type": "markdown",
      "metadata": {
        "id": "KLUweP0fhKbT"
      },
      "source": [
        "Primeiro trazemos os dados em um dataframe, e usamos head() e info() para ter uma ver como os dados se apresentam."
      ]
    },
    {
      "cell_type": "code",
      "execution_count": null,
      "metadata": {
        "colab": {
          "base_uri": "https://localhost:8080/",
          "height": 236
        },
        "id": "PBK8vvvQH6pl",
        "outputId": "bfa05f8d-a107-4ed9-b4b9-b331daf3fbf0"
      },
      "outputs": [
        {
          "output_type": "execute_result",
          "data": {
            "text/plain": [
              "   gender    C_api  C_man  E_NEds  E_Bpag        firstDay         lastDay  \\\n",
              "0       1     male      1       2       2  20170527205915  20170721044501   \n",
              "1       0  unknown      3       3       1  20110301072441  20170731213735   \n",
              "2       1     male      1       0       2  20060907204302  20140911191722   \n",
              "3       1     male      1       1       2  20121003144916  20121208180528   \n",
              "4       0  unknown      3       1       1  20070311125035  20141106121057   \n",
              "\n",
              "   NEds  NDays  NActDays  ...  NPcreated  pagesWomen  wikiprojWomen  ns_user  \\\n",
              "0   543     56        43  ...          4           0              0       91   \n",
              "1  2764   2345       514  ...          7           0              0      100   \n",
              "2    57   2927        25  ...          0           0              0        3   \n",
              "3   104     67         5  ...          2           0              0       20   \n",
              "4   184   2798        27  ...          0           0              0       26   \n",
              "\n",
              "   ns_wikipedia  ns_talk  ns_userTalk  ns_content  weightIJ  NIJ  \n",
              "0            28        6           76         324  0.915024  978  \n",
              "1           249      183          646        1526  0.661673  477  \n",
              "2             0        1            3          49  0.800528  664  \n",
              "3             1        2            2          78  1.027717  841  \n",
              "4            10        5           24         112  0.997535  994  \n",
              "\n",
              "[5 rows x 21 columns]"
            ],
            "text/html": [
              "\n",
              "  <div id=\"df-e191c002-f5a7-4deb-8289-b487a10c0fed\">\n",
              "    <div class=\"colab-df-container\">\n",
              "      <div>\n",
              "<style scoped>\n",
              "    .dataframe tbody tr th:only-of-type {\n",
              "        vertical-align: middle;\n",
              "    }\n",
              "\n",
              "    .dataframe tbody tr th {\n",
              "        vertical-align: top;\n",
              "    }\n",
              "\n",
              "    .dataframe thead th {\n",
              "        text-align: right;\n",
              "    }\n",
              "</style>\n",
              "<table border=\"1\" class=\"dataframe\">\n",
              "  <thead>\n",
              "    <tr style=\"text-align: right;\">\n",
              "      <th></th>\n",
              "      <th>gender</th>\n",
              "      <th>C_api</th>\n",
              "      <th>C_man</th>\n",
              "      <th>E_NEds</th>\n",
              "      <th>E_Bpag</th>\n",
              "      <th>firstDay</th>\n",
              "      <th>lastDay</th>\n",
              "      <th>NEds</th>\n",
              "      <th>NDays</th>\n",
              "      <th>NActDays</th>\n",
              "      <th>...</th>\n",
              "      <th>NPcreated</th>\n",
              "      <th>pagesWomen</th>\n",
              "      <th>wikiprojWomen</th>\n",
              "      <th>ns_user</th>\n",
              "      <th>ns_wikipedia</th>\n",
              "      <th>ns_talk</th>\n",
              "      <th>ns_userTalk</th>\n",
              "      <th>ns_content</th>\n",
              "      <th>weightIJ</th>\n",
              "      <th>NIJ</th>\n",
              "    </tr>\n",
              "  </thead>\n",
              "  <tbody>\n",
              "    <tr>\n",
              "      <th>0</th>\n",
              "      <td>1</td>\n",
              "      <td>male</td>\n",
              "      <td>1</td>\n",
              "      <td>2</td>\n",
              "      <td>2</td>\n",
              "      <td>20170527205915</td>\n",
              "      <td>20170721044501</td>\n",
              "      <td>543</td>\n",
              "      <td>56</td>\n",
              "      <td>43</td>\n",
              "      <td>...</td>\n",
              "      <td>4</td>\n",
              "      <td>0</td>\n",
              "      <td>0</td>\n",
              "      <td>91</td>\n",
              "      <td>28</td>\n",
              "      <td>6</td>\n",
              "      <td>76</td>\n",
              "      <td>324</td>\n",
              "      <td>0.915024</td>\n",
              "      <td>978</td>\n",
              "    </tr>\n",
              "    <tr>\n",
              "      <th>1</th>\n",
              "      <td>0</td>\n",
              "      <td>unknown</td>\n",
              "      <td>3</td>\n",
              "      <td>3</td>\n",
              "      <td>1</td>\n",
              "      <td>20110301072441</td>\n",
              "      <td>20170731213735</td>\n",
              "      <td>2764</td>\n",
              "      <td>2345</td>\n",
              "      <td>514</td>\n",
              "      <td>...</td>\n",
              "      <td>7</td>\n",
              "      <td>0</td>\n",
              "      <td>0</td>\n",
              "      <td>100</td>\n",
              "      <td>249</td>\n",
              "      <td>183</td>\n",
              "      <td>646</td>\n",
              "      <td>1526</td>\n",
              "      <td>0.661673</td>\n",
              "      <td>477</td>\n",
              "    </tr>\n",
              "    <tr>\n",
              "      <th>2</th>\n",
              "      <td>1</td>\n",
              "      <td>male</td>\n",
              "      <td>1</td>\n",
              "      <td>0</td>\n",
              "      <td>2</td>\n",
              "      <td>20060907204302</td>\n",
              "      <td>20140911191722</td>\n",
              "      <td>57</td>\n",
              "      <td>2927</td>\n",
              "      <td>25</td>\n",
              "      <td>...</td>\n",
              "      <td>0</td>\n",
              "      <td>0</td>\n",
              "      <td>0</td>\n",
              "      <td>3</td>\n",
              "      <td>0</td>\n",
              "      <td>1</td>\n",
              "      <td>3</td>\n",
              "      <td>49</td>\n",
              "      <td>0.800528</td>\n",
              "      <td>664</td>\n",
              "    </tr>\n",
              "    <tr>\n",
              "      <th>3</th>\n",
              "      <td>1</td>\n",
              "      <td>male</td>\n",
              "      <td>1</td>\n",
              "      <td>1</td>\n",
              "      <td>2</td>\n",
              "      <td>20121003144916</td>\n",
              "      <td>20121208180528</td>\n",
              "      <td>104</td>\n",
              "      <td>67</td>\n",
              "      <td>5</td>\n",
              "      <td>...</td>\n",
              "      <td>2</td>\n",
              "      <td>0</td>\n",
              "      <td>0</td>\n",
              "      <td>20</td>\n",
              "      <td>1</td>\n",
              "      <td>2</td>\n",
              "      <td>2</td>\n",
              "      <td>78</td>\n",
              "      <td>1.027717</td>\n",
              "      <td>841</td>\n",
              "    </tr>\n",
              "    <tr>\n",
              "      <th>4</th>\n",
              "      <td>0</td>\n",
              "      <td>unknown</td>\n",
              "      <td>3</td>\n",
              "      <td>1</td>\n",
              "      <td>1</td>\n",
              "      <td>20070311125035</td>\n",
              "      <td>20141106121057</td>\n",
              "      <td>184</td>\n",
              "      <td>2798</td>\n",
              "      <td>27</td>\n",
              "      <td>...</td>\n",
              "      <td>0</td>\n",
              "      <td>0</td>\n",
              "      <td>0</td>\n",
              "      <td>26</td>\n",
              "      <td>10</td>\n",
              "      <td>5</td>\n",
              "      <td>24</td>\n",
              "      <td>112</td>\n",
              "      <td>0.997535</td>\n",
              "      <td>994</td>\n",
              "    </tr>\n",
              "  </tbody>\n",
              "</table>\n",
              "<p>5 rows × 21 columns</p>\n",
              "</div>\n",
              "      <button class=\"colab-df-convert\" onclick=\"convertToInteractive('df-e191c002-f5a7-4deb-8289-b487a10c0fed')\"\n",
              "              title=\"Convert this dataframe to an interactive table.\"\n",
              "              style=\"display:none;\">\n",
              "        \n",
              "  <svg xmlns=\"http://www.w3.org/2000/svg\" height=\"24px\"viewBox=\"0 0 24 24\"\n",
              "       width=\"24px\">\n",
              "    <path d=\"M0 0h24v24H0V0z\" fill=\"none\"/>\n",
              "    <path d=\"M18.56 5.44l.94 2.06.94-2.06 2.06-.94-2.06-.94-.94-2.06-.94 2.06-2.06.94zm-11 1L8.5 8.5l.94-2.06 2.06-.94-2.06-.94L8.5 2.5l-.94 2.06-2.06.94zm10 10l.94 2.06.94-2.06 2.06-.94-2.06-.94-.94-2.06-.94 2.06-2.06.94z\"/><path d=\"M17.41 7.96l-1.37-1.37c-.4-.4-.92-.59-1.43-.59-.52 0-1.04.2-1.43.59L10.3 9.45l-7.72 7.72c-.78.78-.78 2.05 0 2.83L4 21.41c.39.39.9.59 1.41.59.51 0 1.02-.2 1.41-.59l7.78-7.78 2.81-2.81c.8-.78.8-2.07 0-2.86zM5.41 20L4 18.59l7.72-7.72 1.47 1.35L5.41 20z\"/>\n",
              "  </svg>\n",
              "      </button>\n",
              "      \n",
              "  <style>\n",
              "    .colab-df-container {\n",
              "      display:flex;\n",
              "      flex-wrap:wrap;\n",
              "      gap: 12px;\n",
              "    }\n",
              "\n",
              "    .colab-df-convert {\n",
              "      background-color: #E8F0FE;\n",
              "      border: none;\n",
              "      border-radius: 50%;\n",
              "      cursor: pointer;\n",
              "      display: none;\n",
              "      fill: #1967D2;\n",
              "      height: 32px;\n",
              "      padding: 0 0 0 0;\n",
              "      width: 32px;\n",
              "    }\n",
              "\n",
              "    .colab-df-convert:hover {\n",
              "      background-color: #E2EBFA;\n",
              "      box-shadow: 0px 1px 2px rgba(60, 64, 67, 0.3), 0px 1px 3px 1px rgba(60, 64, 67, 0.15);\n",
              "      fill: #174EA6;\n",
              "    }\n",
              "\n",
              "    [theme=dark] .colab-df-convert {\n",
              "      background-color: #3B4455;\n",
              "      fill: #D2E3FC;\n",
              "    }\n",
              "\n",
              "    [theme=dark] .colab-df-convert:hover {\n",
              "      background-color: #434B5C;\n",
              "      box-shadow: 0px 1px 3px 1px rgba(0, 0, 0, 0.15);\n",
              "      filter: drop-shadow(0px 1px 2px rgba(0, 0, 0, 0.3));\n",
              "      fill: #FFFFFF;\n",
              "    }\n",
              "  </style>\n",
              "\n",
              "      <script>\n",
              "        const buttonEl =\n",
              "          document.querySelector('#df-e191c002-f5a7-4deb-8289-b487a10c0fed button.colab-df-convert');\n",
              "        buttonEl.style.display =\n",
              "          google.colab.kernel.accessAllowed ? 'block' : 'none';\n",
              "\n",
              "        async function convertToInteractive(key) {\n",
              "          const element = document.querySelector('#df-e191c002-f5a7-4deb-8289-b487a10c0fed');\n",
              "          const dataTable =\n",
              "            await google.colab.kernel.invokeFunction('convertToInteractive',\n",
              "                                                     [key], {});\n",
              "          if (!dataTable) return;\n",
              "\n",
              "          const docLinkHtml = 'Like what you see? Visit the ' +\n",
              "            '<a target=\"_blank\" href=https://colab.research.google.com/notebooks/data_table.ipynb>data table notebook</a>'\n",
              "            + ' to learn more about interactive tables.';\n",
              "          element.innerHTML = '';\n",
              "          dataTable['output_type'] = 'display_data';\n",
              "          await google.colab.output.renderOutput(dataTable, element);\n",
              "          const docLink = document.createElement('div');\n",
              "          docLink.innerHTML = docLinkHtml;\n",
              "          element.appendChild(docLink);\n",
              "        }\n",
              "      </script>\n",
              "    </div>\n",
              "  </div>\n",
              "  "
            ]
          },
          "metadata": {},
          "execution_count": 1
        }
      ],
      "source": [
        "import pandas as pd\n",
        "df = pd.read_csv('https://raw.githubusercontent.com/jfmvs/AM-Projeto-1/main/data.csv')\n",
        "df.head()"
      ]
    },
    {
      "cell_type": "code",
      "execution_count": null,
      "metadata": {
        "colab": {
          "base_uri": "https://localhost:8080/"
        },
        "id": "zs_0NMO_rE9W",
        "outputId": "2746bdbb-5800-41c0-8982-9a7047dc0eaa"
      },
      "outputs": [
        {
          "output_type": "stream",
          "name": "stdout",
          "text": [
            "<class 'pandas.core.frame.DataFrame'>\n",
            "RangeIndex: 4746 entries, 0 to 4745\n",
            "Data columns (total 21 columns):\n",
            " #   Column         Non-Null Count  Dtype  \n",
            "---  ------         --------------  -----  \n",
            " 0   gender         4746 non-null   int64  \n",
            " 1   C_api          4746 non-null   object \n",
            " 2   C_man          4746 non-null   int64  \n",
            " 3   E_NEds         4746 non-null   int64  \n",
            " 4   E_Bpag         4746 non-null   int64  \n",
            " 5   firstDay       4746 non-null   int64  \n",
            " 6   lastDay        4746 non-null   int64  \n",
            " 7   NEds           4746 non-null   int64  \n",
            " 8   NDays          4746 non-null   int64  \n",
            " 9   NActDays       4746 non-null   int64  \n",
            " 10  NPages         4746 non-null   int64  \n",
            " 11  NPcreated      4746 non-null   int64  \n",
            " 12  pagesWomen     4746 non-null   int64  \n",
            " 13  wikiprojWomen  4746 non-null   int64  \n",
            " 14  ns_user        4746 non-null   int64  \n",
            " 15  ns_wikipedia   4746 non-null   int64  \n",
            " 16  ns_talk        4746 non-null   int64  \n",
            " 17  ns_userTalk    4746 non-null   int64  \n",
            " 18  ns_content     4746 non-null   int64  \n",
            " 19  weightIJ       4746 non-null   float64\n",
            " 20  NIJ            4746 non-null   int64  \n",
            "dtypes: float64(1), int64(19), object(1)\n",
            "memory usage: 778.8+ KB\n"
          ]
        }
      ],
      "source": [
        "df.info()"
      ]
    },
    {
      "cell_type": "markdown",
      "metadata": {
        "id": "JJJrIoZaeSsc"
      },
      "source": [
        "Usando o a função describe, podemos ver como os dados numéricos estão distribuidos.\n",
        "Vamos destacar alguns pontos:\n",
        "\n",
        "\n",
        "*   Temos uma grande variação no NEds, que representa o número de edições feitas pelo usuário. O número varia desde 50 até mais de 100.000. Com isso temos vários outros atributos importantes relacionadas a ele como pagesWomen, que é número de edições em uma página sobre uma mulher, também variando bastante.\n",
        "*   Consideramos que estes atributos estão muito relacionados, por exemplo: um usuário com o atributo pagesWomen=10 pode ser considerado muito se seu NEds=100, mas pode ser pouco se seu NEds for 2.000.\n",
        "*   Com isso, optamos por usar esses atributos em forma de uma razão sobre o NEds.\n",
        "\n"
      ]
    },
    {
      "cell_type": "code",
      "execution_count": null,
      "metadata": {
        "colab": {
          "base_uri": "https://localhost:8080/",
          "height": 676
        },
        "id": "ntb1QxeNIN0-",
        "outputId": "12c4161a-2741-43d7-80d8-8da1267ad41c"
      },
      "outputs": [
        {
          "output_type": "execute_result",
          "data": {
            "text/plain": [
              "                count              mean            std               min  \\\n",
              "gender        4746.00              0.74           0.59              0.00   \n",
              "C_man         4746.00              2.08           0.96              1.00   \n",
              "E_NEds        4746.00              1.48           1.10              0.00   \n",
              "E_Bpag        4746.00              1.65           1.08              0.00   \n",
              "firstDay      4746.00 20099417813055.11 35163369148.62 20020114163735.00   \n",
              "lastDay       4746.00 20154892225918.93 17481035176.20 20120103173838.00   \n",
              "NEds          4746.00           2029.97        7793.30             50.00   \n",
              "NDays         4746.00           2036.61        1336.12              1.00   \n",
              "NActDays      4746.00            183.16         374.03              1.00   \n",
              "NPages        4746.00            689.45        3355.30              1.00   \n",
              "NPcreated     4746.00             43.48         297.40              0.00   \n",
              "pagesWomen    4746.00              0.44           5.33              0.00   \n",
              "wikiprojWomen 4746.00              0.44          17.83              0.00   \n",
              "ns_user       4746.00             74.37         246.41              1.00   \n",
              "ns_wikipedia  4746.00             74.37         560.78              0.00   \n",
              "ns_talk       4746.00             49.95         215.55              0.00   \n",
              "ns_userTalk   4746.00             96.08         545.03              0.00   \n",
              "ns_content    4746.00           1521.89        6099.01              0.00   \n",
              "weightIJ      4746.00              1.00           0.33              0.41   \n",
              "NIJ           4746.00            867.15         325.93            297.00   \n",
              "\n",
              "                            25%               50%               75%  \\\n",
              "gender                     0.00              1.00              1.00   \n",
              "C_man                      1.00              3.00              3.00   \n",
              "E_NEds                     1.00              1.00              2.00   \n",
              "E_Bpag                     1.00              2.00              3.00   \n",
              "firstDay      20070421145894.00 20091209092717.00 20130404647226.50   \n",
              "lastDay       20140702404393.00 20160721153408.50 20170726826821.75   \n",
              "NEds                      95.00            218.00            757.75   \n",
              "NDays                    835.25           2035.50           3146.50   \n",
              "NActDays                  24.00             53.00            154.00   \n",
              "NPages                    29.00             68.00            219.75   \n",
              "NPcreated                  1.00              4.00             14.00   \n",
              "pagesWomen                 0.00              0.00              0.00   \n",
              "wikiprojWomen              0.00              0.00              0.00   \n",
              "ns_user                    4.00             14.00             46.00   \n",
              "ns_wikipedia               0.00              1.00              8.00   \n",
              "ns_talk                    0.00              4.00             19.00   \n",
              "ns_userTalk                1.00              5.00             22.00   \n",
              "ns_content                61.00            151.00            563.75   \n",
              "weightIJ                   0.83              1.00              1.06   \n",
              "NIJ                      664.00            917.00            994.00   \n",
              "\n",
              "                            max  \n",
              "gender                     2.00  \n",
              "C_man                      3.00  \n",
              "E_NEds                     3.00  \n",
              "E_Bpag                     3.00  \n",
              "firstDay      20170929215032.00  \n",
              "lastDay       20171002030328.00  \n",
              "NEds                  153193.00  \n",
              "NDays                   5349.00  \n",
              "NActDays                3843.00  \n",
              "NPages                 94142.00  \n",
              "NPcreated              13394.00  \n",
              "pagesWomen               185.00  \n",
              "wikiprojWomen            949.00  \n",
              "ns_user                 6041.00  \n",
              "ns_wikipedia           24392.00  \n",
              "ns_talk                 4788.00  \n",
              "ns_userTalk            12350.00  \n",
              "ns_content            115547.00  \n",
              "weightIJ                   1.87  \n",
              "NIJ                     1596.00  "
            ],
            "text/html": [
              "\n",
              "  <div id=\"df-0a987fe1-c2ac-4f67-b88e-b66a424ddeed\">\n",
              "    <div class=\"colab-df-container\">\n",
              "      <div>\n",
              "<style scoped>\n",
              "    .dataframe tbody tr th:only-of-type {\n",
              "        vertical-align: middle;\n",
              "    }\n",
              "\n",
              "    .dataframe tbody tr th {\n",
              "        vertical-align: top;\n",
              "    }\n",
              "\n",
              "    .dataframe thead th {\n",
              "        text-align: right;\n",
              "    }\n",
              "</style>\n",
              "<table border=\"1\" class=\"dataframe\">\n",
              "  <thead>\n",
              "    <tr style=\"text-align: right;\">\n",
              "      <th></th>\n",
              "      <th>count</th>\n",
              "      <th>mean</th>\n",
              "      <th>std</th>\n",
              "      <th>min</th>\n",
              "      <th>25%</th>\n",
              "      <th>50%</th>\n",
              "      <th>75%</th>\n",
              "      <th>max</th>\n",
              "    </tr>\n",
              "  </thead>\n",
              "  <tbody>\n",
              "    <tr>\n",
              "      <th>gender</th>\n",
              "      <td>4746.00</td>\n",
              "      <td>0.74</td>\n",
              "      <td>0.59</td>\n",
              "      <td>0.00</td>\n",
              "      <td>0.00</td>\n",
              "      <td>1.00</td>\n",
              "      <td>1.00</td>\n",
              "      <td>2.00</td>\n",
              "    </tr>\n",
              "    <tr>\n",
              "      <th>C_man</th>\n",
              "      <td>4746.00</td>\n",
              "      <td>2.08</td>\n",
              "      <td>0.96</td>\n",
              "      <td>1.00</td>\n",
              "      <td>1.00</td>\n",
              "      <td>3.00</td>\n",
              "      <td>3.00</td>\n",
              "      <td>3.00</td>\n",
              "    </tr>\n",
              "    <tr>\n",
              "      <th>E_NEds</th>\n",
              "      <td>4746.00</td>\n",
              "      <td>1.48</td>\n",
              "      <td>1.10</td>\n",
              "      <td>0.00</td>\n",
              "      <td>1.00</td>\n",
              "      <td>1.00</td>\n",
              "      <td>2.00</td>\n",
              "      <td>3.00</td>\n",
              "    </tr>\n",
              "    <tr>\n",
              "      <th>E_Bpag</th>\n",
              "      <td>4746.00</td>\n",
              "      <td>1.65</td>\n",
              "      <td>1.08</td>\n",
              "      <td>0.00</td>\n",
              "      <td>1.00</td>\n",
              "      <td>2.00</td>\n",
              "      <td>3.00</td>\n",
              "      <td>3.00</td>\n",
              "    </tr>\n",
              "    <tr>\n",
              "      <th>firstDay</th>\n",
              "      <td>4746.00</td>\n",
              "      <td>20099417813055.11</td>\n",
              "      <td>35163369148.62</td>\n",
              "      <td>20020114163735.00</td>\n",
              "      <td>20070421145894.00</td>\n",
              "      <td>20091209092717.00</td>\n",
              "      <td>20130404647226.50</td>\n",
              "      <td>20170929215032.00</td>\n",
              "    </tr>\n",
              "    <tr>\n",
              "      <th>lastDay</th>\n",
              "      <td>4746.00</td>\n",
              "      <td>20154892225918.93</td>\n",
              "      <td>17481035176.20</td>\n",
              "      <td>20120103173838.00</td>\n",
              "      <td>20140702404393.00</td>\n",
              "      <td>20160721153408.50</td>\n",
              "      <td>20170726826821.75</td>\n",
              "      <td>20171002030328.00</td>\n",
              "    </tr>\n",
              "    <tr>\n",
              "      <th>NEds</th>\n",
              "      <td>4746.00</td>\n",
              "      <td>2029.97</td>\n",
              "      <td>7793.30</td>\n",
              "      <td>50.00</td>\n",
              "      <td>95.00</td>\n",
              "      <td>218.00</td>\n",
              "      <td>757.75</td>\n",
              "      <td>153193.00</td>\n",
              "    </tr>\n",
              "    <tr>\n",
              "      <th>NDays</th>\n",
              "      <td>4746.00</td>\n",
              "      <td>2036.61</td>\n",
              "      <td>1336.12</td>\n",
              "      <td>1.00</td>\n",
              "      <td>835.25</td>\n",
              "      <td>2035.50</td>\n",
              "      <td>3146.50</td>\n",
              "      <td>5349.00</td>\n",
              "    </tr>\n",
              "    <tr>\n",
              "      <th>NActDays</th>\n",
              "      <td>4746.00</td>\n",
              "      <td>183.16</td>\n",
              "      <td>374.03</td>\n",
              "      <td>1.00</td>\n",
              "      <td>24.00</td>\n",
              "      <td>53.00</td>\n",
              "      <td>154.00</td>\n",
              "      <td>3843.00</td>\n",
              "    </tr>\n",
              "    <tr>\n",
              "      <th>NPages</th>\n",
              "      <td>4746.00</td>\n",
              "      <td>689.45</td>\n",
              "      <td>3355.30</td>\n",
              "      <td>1.00</td>\n",
              "      <td>29.00</td>\n",
              "      <td>68.00</td>\n",
              "      <td>219.75</td>\n",
              "      <td>94142.00</td>\n",
              "    </tr>\n",
              "    <tr>\n",
              "      <th>NPcreated</th>\n",
              "      <td>4746.00</td>\n",
              "      <td>43.48</td>\n",
              "      <td>297.40</td>\n",
              "      <td>0.00</td>\n",
              "      <td>1.00</td>\n",
              "      <td>4.00</td>\n",
              "      <td>14.00</td>\n",
              "      <td>13394.00</td>\n",
              "    </tr>\n",
              "    <tr>\n",
              "      <th>pagesWomen</th>\n",
              "      <td>4746.00</td>\n",
              "      <td>0.44</td>\n",
              "      <td>5.33</td>\n",
              "      <td>0.00</td>\n",
              "      <td>0.00</td>\n",
              "      <td>0.00</td>\n",
              "      <td>0.00</td>\n",
              "      <td>185.00</td>\n",
              "    </tr>\n",
              "    <tr>\n",
              "      <th>wikiprojWomen</th>\n",
              "      <td>4746.00</td>\n",
              "      <td>0.44</td>\n",
              "      <td>17.83</td>\n",
              "      <td>0.00</td>\n",
              "      <td>0.00</td>\n",
              "      <td>0.00</td>\n",
              "      <td>0.00</td>\n",
              "      <td>949.00</td>\n",
              "    </tr>\n",
              "    <tr>\n",
              "      <th>ns_user</th>\n",
              "      <td>4746.00</td>\n",
              "      <td>74.37</td>\n",
              "      <td>246.41</td>\n",
              "      <td>1.00</td>\n",
              "      <td>4.00</td>\n",
              "      <td>14.00</td>\n",
              "      <td>46.00</td>\n",
              "      <td>6041.00</td>\n",
              "    </tr>\n",
              "    <tr>\n",
              "      <th>ns_wikipedia</th>\n",
              "      <td>4746.00</td>\n",
              "      <td>74.37</td>\n",
              "      <td>560.78</td>\n",
              "      <td>0.00</td>\n",
              "      <td>0.00</td>\n",
              "      <td>1.00</td>\n",
              "      <td>8.00</td>\n",
              "      <td>24392.00</td>\n",
              "    </tr>\n",
              "    <tr>\n",
              "      <th>ns_talk</th>\n",
              "      <td>4746.00</td>\n",
              "      <td>49.95</td>\n",
              "      <td>215.55</td>\n",
              "      <td>0.00</td>\n",
              "      <td>0.00</td>\n",
              "      <td>4.00</td>\n",
              "      <td>19.00</td>\n",
              "      <td>4788.00</td>\n",
              "    </tr>\n",
              "    <tr>\n",
              "      <th>ns_userTalk</th>\n",
              "      <td>4746.00</td>\n",
              "      <td>96.08</td>\n",
              "      <td>545.03</td>\n",
              "      <td>0.00</td>\n",
              "      <td>1.00</td>\n",
              "      <td>5.00</td>\n",
              "      <td>22.00</td>\n",
              "      <td>12350.00</td>\n",
              "    </tr>\n",
              "    <tr>\n",
              "      <th>ns_content</th>\n",
              "      <td>4746.00</td>\n",
              "      <td>1521.89</td>\n",
              "      <td>6099.01</td>\n",
              "      <td>0.00</td>\n",
              "      <td>61.00</td>\n",
              "      <td>151.00</td>\n",
              "      <td>563.75</td>\n",
              "      <td>115547.00</td>\n",
              "    </tr>\n",
              "    <tr>\n",
              "      <th>weightIJ</th>\n",
              "      <td>4746.00</td>\n",
              "      <td>1.00</td>\n",
              "      <td>0.33</td>\n",
              "      <td>0.41</td>\n",
              "      <td>0.83</td>\n",
              "      <td>1.00</td>\n",
              "      <td>1.06</td>\n",
              "      <td>1.87</td>\n",
              "    </tr>\n",
              "    <tr>\n",
              "      <th>NIJ</th>\n",
              "      <td>4746.00</td>\n",
              "      <td>867.15</td>\n",
              "      <td>325.93</td>\n",
              "      <td>297.00</td>\n",
              "      <td>664.00</td>\n",
              "      <td>917.00</td>\n",
              "      <td>994.00</td>\n",
              "      <td>1596.00</td>\n",
              "    </tr>\n",
              "  </tbody>\n",
              "</table>\n",
              "</div>\n",
              "      <button class=\"colab-df-convert\" onclick=\"convertToInteractive('df-0a987fe1-c2ac-4f67-b88e-b66a424ddeed')\"\n",
              "              title=\"Convert this dataframe to an interactive table.\"\n",
              "              style=\"display:none;\">\n",
              "        \n",
              "  <svg xmlns=\"http://www.w3.org/2000/svg\" height=\"24px\"viewBox=\"0 0 24 24\"\n",
              "       width=\"24px\">\n",
              "    <path d=\"M0 0h24v24H0V0z\" fill=\"none\"/>\n",
              "    <path d=\"M18.56 5.44l.94 2.06.94-2.06 2.06-.94-2.06-.94-.94-2.06-.94 2.06-2.06.94zm-11 1L8.5 8.5l.94-2.06 2.06-.94-2.06-.94L8.5 2.5l-.94 2.06-2.06.94zm10 10l.94 2.06.94-2.06 2.06-.94-2.06-.94-.94-2.06-.94 2.06-2.06.94z\"/><path d=\"M17.41 7.96l-1.37-1.37c-.4-.4-.92-.59-1.43-.59-.52 0-1.04.2-1.43.59L10.3 9.45l-7.72 7.72c-.78.78-.78 2.05 0 2.83L4 21.41c.39.39.9.59 1.41.59.51 0 1.02-.2 1.41-.59l7.78-7.78 2.81-2.81c.8-.78.8-2.07 0-2.86zM5.41 20L4 18.59l7.72-7.72 1.47 1.35L5.41 20z\"/>\n",
              "  </svg>\n",
              "      </button>\n",
              "      \n",
              "  <style>\n",
              "    .colab-df-container {\n",
              "      display:flex;\n",
              "      flex-wrap:wrap;\n",
              "      gap: 12px;\n",
              "    }\n",
              "\n",
              "    .colab-df-convert {\n",
              "      background-color: #E8F0FE;\n",
              "      border: none;\n",
              "      border-radius: 50%;\n",
              "      cursor: pointer;\n",
              "      display: none;\n",
              "      fill: #1967D2;\n",
              "      height: 32px;\n",
              "      padding: 0 0 0 0;\n",
              "      width: 32px;\n",
              "    }\n",
              "\n",
              "    .colab-df-convert:hover {\n",
              "      background-color: #E2EBFA;\n",
              "      box-shadow: 0px 1px 2px rgba(60, 64, 67, 0.3), 0px 1px 3px 1px rgba(60, 64, 67, 0.15);\n",
              "      fill: #174EA6;\n",
              "    }\n",
              "\n",
              "    [theme=dark] .colab-df-convert {\n",
              "      background-color: #3B4455;\n",
              "      fill: #D2E3FC;\n",
              "    }\n",
              "\n",
              "    [theme=dark] .colab-df-convert:hover {\n",
              "      background-color: #434B5C;\n",
              "      box-shadow: 0px 1px 3px 1px rgba(0, 0, 0, 0.15);\n",
              "      filter: drop-shadow(0px 1px 2px rgba(0, 0, 0, 0.3));\n",
              "      fill: #FFFFFF;\n",
              "    }\n",
              "  </style>\n",
              "\n",
              "      <script>\n",
              "        const buttonEl =\n",
              "          document.querySelector('#df-0a987fe1-c2ac-4f67-b88e-b66a424ddeed button.colab-df-convert');\n",
              "        buttonEl.style.display =\n",
              "          google.colab.kernel.accessAllowed ? 'block' : 'none';\n",
              "\n",
              "        async function convertToInteractive(key) {\n",
              "          const element = document.querySelector('#df-0a987fe1-c2ac-4f67-b88e-b66a424ddeed');\n",
              "          const dataTable =\n",
              "            await google.colab.kernel.invokeFunction('convertToInteractive',\n",
              "                                                     [key], {});\n",
              "          if (!dataTable) return;\n",
              "\n",
              "          const docLinkHtml = 'Like what you see? Visit the ' +\n",
              "            '<a target=\"_blank\" href=https://colab.research.google.com/notebooks/data_table.ipynb>data table notebook</a>'\n",
              "            + ' to learn more about interactive tables.';\n",
              "          element.innerHTML = '';\n",
              "          dataTable['output_type'] = 'display_data';\n",
              "          await google.colab.output.renderOutput(dataTable, element);\n",
              "          const docLink = document.createElement('div');\n",
              "          docLink.innerHTML = docLinkHtml;\n",
              "          element.appendChild(docLink);\n",
              "        }\n",
              "      </script>\n",
              "    </div>\n",
              "  </div>\n",
              "  "
            ]
          },
          "metadata": {},
          "execution_count": 3
        }
      ],
      "source": [
        "pd.options.display.float_format = '{:.2f}'.format\n",
        "df.describe().T"
      ]
    },
    {
      "cell_type": "code",
      "execution_count": null,
      "metadata": {
        "id": "BfYV1ttkrr8X"
      },
      "outputs": [],
      "source": [
        "# estamos passando essas variaveis de um numero para porcentagem\n",
        "df['pagesWomen'] =   df['pagesWomen'] / df['NEds']\n",
        "df['wikiprojWomen'] =   df['wikiprojWomen'] / df['NEds']\n",
        "df['ns_user'] =   df['ns_user'] / df['NEds']\n",
        "df['ns_wikipedia'] =   df['ns_wikipedia'] / df['NEds']\n",
        "df['ns_talk'] =   df['ns_talk'] / df['NEds']\n",
        "df['ns_userTalk'] =   df['ns_userTalk'] / df['NEds']\n",
        "df['ns_content'] =   df['ns_content'] / df['NEds']"
      ]
    },
    {
      "cell_type": "markdown",
      "metadata": {
        "id": "fuOk3wx5r1G4"
      },
      "source": [
        "A mesma ideia foi considerada para gerar novas features considerando o total de dias entre sua primeira e última edição. <p>\n",
        "Vamos usar a relação do número de dias ativos e também o número de edições por dia como novas features. "
      ]
    },
    {
      "cell_type": "code",
      "execution_count": null,
      "metadata": {
        "id": "GwmOgZQusW0d"
      },
      "outputs": [],
      "source": [
        "df['NEds/NDays'] = df['NEds']/df['NDays']\n",
        "df['NActDays/NDays'] = df['NActDays']/df['NDays']"
      ]
    },
    {
      "cell_type": "markdown",
      "metadata": {
        "id": "21eHAKmyrt-b"
      },
      "source": [
        "Agora vamos observar os valores únicos:"
      ]
    },
    {
      "cell_type": "code",
      "execution_count": null,
      "metadata": {
        "colab": {
          "base_uri": "https://localhost:8080/"
        },
        "id": "2xWtd7ncIb6H",
        "outputId": "102a21bb-afc6-4c62-bd3f-1c2c6a28bb9b"
      },
      "outputs": [
        {
          "output_type": "execute_result",
          "data": {
            "text/plain": [
              "gender               3\n",
              "C_api                3\n",
              "C_man                3\n",
              "E_NEds               4\n",
              "E_Bpag               4\n",
              "firstDay          4746\n",
              "lastDay           4746\n",
              "NEds              1685\n",
              "NDays             2855\n",
              "NActDays           792\n",
              "NPages            1050\n",
              "NPcreated          335\n",
              "pagesWomen         254\n",
              "wikiprojWomen       56\n",
              "ns_user           3448\n",
              "ns_wikipedia      2143\n",
              "ns_talk           2554\n",
              "ns_userTalk       2740\n",
              "ns_content        3848\n",
              "weightIJ            16\n",
              "NIJ                 16\n",
              "NEds/NDays        4682\n",
              "NActDays/NDays    4505\n",
              "dtype: int64"
            ]
          },
          "metadata": {},
          "execution_count": 6
        }
      ],
      "source": [
        "df.nunique()"
      ]
    },
    {
      "cell_type": "markdown",
      "metadata": {
        "id": "V2J1wj_spDs0"
      },
      "source": [
        "NIJ e weightIJ são relativos ao Stratum que combina E_NEds e E_Bpag, por isso temos 16 valores para cada, já que 4x4=16. Como essas informações são a respeito do Stratum, que já é uma informação presente em E_NEds e E_Bpag, vamos remover essas colunas"
      ]
    },
    {
      "cell_type": "code",
      "execution_count": null,
      "metadata": {
        "id": "ST9H0TpPI_et"
      },
      "outputs": [],
      "source": [
        "df = df.drop(['C_man','NIJ','weightIJ'],axis=1)"
      ]
    },
    {
      "cell_type": "markdown",
      "metadata": {
        "id": "_MKVI1XekQSZ"
      },
      "source": [
        "Outra questão importante foi com relação as datas de primeira postagem e última postagem. As datas se apresentam nos dados com uma precisão até o segundo. Como não queremos descartar esses dados de cara, mas também não queremos colocar informações que podem irrelevantes para os modelos, optamos por representar essas datas como: (ano) + ((mês - 1)/12). Assim, temos por exemplo a representação de julho de 2011 como 2011.5 ."
      ]
    },
    {
      "cell_type": "code",
      "execution_count": null,
      "metadata": {
        "id": "BxpDorLpaLrK"
      },
      "outputs": [],
      "source": [
        "df['firstDay'] = df['firstDay'].astype(str)\n",
        "firstMonth = df['firstDay'].str.slice(4, 6).astype(int)\n",
        "firstYear = df['firstDay'].str.slice(0, 4).astype(int)\n",
        "df['firstYear'] = firstYear + (firstMonth - 1) /12\n",
        "\n",
        "df['lastDay'] = df['lastDay'].astype(str)\n",
        "lastMonth = df['lastDay'].str.slice(4, 6).astype(int)\n",
        "lastYear = df['lastDay'].str.slice(0, 4).astype(int)\n",
        "df['lastYear'] = lastYear + (lastMonth - 1) /12\n",
        "df = df.drop(['firstDay','lastDay'],axis=1)"
      ]
    },
    {
      "cell_type": "markdown",
      "metadata": {
        "id": "X8vX8TRYs7dt"
      },
      "source": [
        "Vamos agora, definir as variavéis que são categóricas. Para fim de clareza, vamos substituir os valores de 0, 1 e 2 na na categoria para 'unknown', 'male' e 'female'."
      ]
    },
    {
      "cell_type": "code",
      "execution_count": null,
      "metadata": {
        "colab": {
          "base_uri": "https://localhost:8080/"
        },
        "id": "Wc-GTum5IFuq",
        "outputId": "d2d16251-24cd-44d2-f5ee-3f39f8bbbd10"
      },
      "outputs": [
        {
          "output_type": "stream",
          "name": "stdout",
          "text": [
            "<class 'pandas.core.frame.DataFrame'>\n",
            "RangeIndex: 4746 entries, 0 to 4745\n",
            "Data columns (total 20 columns):\n",
            " #   Column          Non-Null Count  Dtype   \n",
            "---  ------          --------------  -----   \n",
            " 0   gender          4746 non-null   category\n",
            " 1   C_api           4746 non-null   category\n",
            " 2   E_NEds          4746 non-null   category\n",
            " 3   E_Bpag          4746 non-null   category\n",
            " 4   NEds            4746 non-null   int64   \n",
            " 5   NDays           4746 non-null   int64   \n",
            " 6   NActDays        4746 non-null   int64   \n",
            " 7   NPages          4746 non-null   int64   \n",
            " 8   NPcreated       4746 non-null   int64   \n",
            " 9   pagesWomen      4746 non-null   float64 \n",
            " 10  wikiprojWomen   4746 non-null   float64 \n",
            " 11  ns_user         4746 non-null   float64 \n",
            " 12  ns_wikipedia    4746 non-null   float64 \n",
            " 13  ns_talk         4746 non-null   float64 \n",
            " 14  ns_userTalk     4746 non-null   float64 \n",
            " 15  ns_content      4746 non-null   float64 \n",
            " 16  NEds/NDays      4746 non-null   float64 \n",
            " 17  NActDays/NDays  4746 non-null   float64 \n",
            " 18  firstYear       4746 non-null   float64 \n",
            " 19  lastYear        4746 non-null   float64 \n",
            "dtypes: category(4), float64(11), int64(5)\n",
            "memory usage: 612.6 KB\n"
          ]
        }
      ],
      "source": [
        "\n",
        "df['gender'] = df['gender'].replace({0: 'unknown', 1: 'male', 2: 'female'})\n",
        "df['gender'] = df['gender'].astype('category')\n",
        "df['C_api'] =   df['C_api'].astype('category')\n",
        "df['E_NEds'] =   df['E_NEds'].astype('category')\n",
        "df['E_Bpag'] = df['E_Bpag'].astype('category')\n",
        "\n",
        "\n",
        "\n",
        "df.info()"
      ]
    },
    {
      "cell_type": "markdown",
      "metadata": {
        "id": "M_aUPdnzZ0x_"
      },
      "source": [
        "Como temos valores desconhecidos com a classificação desconhecida na base de dados, vamos ignora-los num primeiro momento de treinamento do modelo."
      ]
    },
    {
      "cell_type": "code",
      "execution_count": null,
      "metadata": {
        "id": "saCti-JHZt9y"
      },
      "outputs": [],
      "source": [
        "df = df.drop(df[df['gender'] == 'unknown'].index)"
      ]
    },
    {
      "cell_type": "markdown",
      "metadata": {
        "id": "zE_3-3EwHutH"
      },
      "source": [
        "É importante pensarmos também na possível utilização dessas linhas com a categoria 'unkown' já que eram boa parte do conjunto de dados. Poderíamos testar já na parte de modelagem a substituição desse valor pela média, mediana ou até criar um modelo simples para preencher esse dado que pode ser considerado 'NaN'."
      ]
    },
    {
      "cell_type": "code",
      "execution_count": null,
      "metadata": {
        "colab": {
          "base_uri": "https://localhost:8080/"
        },
        "id": "AmFSAV4jypJW",
        "outputId": "26ab593d-551c-4f8e-df33-7056d4add364"
      },
      "outputs": [
        {
          "output_type": "execute_result",
          "data": {
            "text/plain": [
              "(3145, 20)"
            ]
          },
          "metadata": {},
          "execution_count": 11
        }
      ],
      "source": [
        "df.shape"
      ]
    },
    {
      "cell_type": "markdown",
      "metadata": {
        "id": "IYLibs7d0fYF"
      },
      "source": [
        "Também é importante checar se temos valores nulos, faltando ou duplicado, verificamos que não temos probelmas quanto a isso."
      ]
    },
    {
      "cell_type": "code",
      "execution_count": null,
      "metadata": {
        "colab": {
          "base_uri": "https://localhost:8080/"
        },
        "id": "qDJeihZoKKPK",
        "outputId": "f2dc7246-6444-4b25-e6f9-059b208c2899"
      },
      "outputs": [
        {
          "output_type": "stream",
          "name": "stdout",
          "text": [
            "Null: \n",
            " gender            0\n",
            "C_api             0\n",
            "E_NEds            0\n",
            "E_Bpag            0\n",
            "NEds              0\n",
            "NDays             0\n",
            "NActDays          0\n",
            "NPages            0\n",
            "NPcreated         0\n",
            "pagesWomen        0\n",
            "wikiprojWomen     0\n",
            "ns_user           0\n",
            "ns_wikipedia      0\n",
            "ns_talk           0\n",
            "ns_userTalk       0\n",
            "ns_content        0\n",
            "NEds/NDays        0\n",
            "NActDays/NDays    0\n",
            "firstYear         0\n",
            "lastYear          0\n",
            "dtype: int64\n",
            "Missing values: 0\n"
          ]
        }
      ],
      "source": [
        "print('Null:','\\n',df.isnull().sum())\n",
        "print('Missing values:',df.isna().values.sum())"
      ]
    },
    {
      "cell_type": "code",
      "execution_count": null,
      "metadata": {
        "colab": {
          "base_uri": "https://localhost:8080/"
        },
        "id": "0zMXNR-VKcxl",
        "outputId": "b121760a-135c-467b-ae6a-3e323f3687b7"
      },
      "outputs": [
        {
          "output_type": "execute_result",
          "data": {
            "text/plain": [
              "0"
            ]
          },
          "metadata": {},
          "execution_count": 13
        }
      ],
      "source": [
        "df.duplicated().sum()"
      ]
    },
    {
      "cell_type": "markdown",
      "metadata": {
        "id": "8HsIzVEZ0qoZ"
      },
      "source": [
        "Por fim temos nossos dados preparados para os modelos:"
      ]
    },
    {
      "cell_type": "code",
      "execution_count": null,
      "metadata": {
        "colab": {
          "base_uri": "https://localhost:8080/",
          "height": 206
        },
        "id": "9xB0U4yXup2c",
        "outputId": "ccc89edf-abef-4539-f321-5fd949334fc2"
      },
      "outputs": [
        {
          "output_type": "execute_result",
          "data": {
            "text/plain": [
              "  gender    C_api E_NEds E_Bpag  NEds  NDays  NActDays  NPages  NPcreated  \\\n",
              "0   male     male      2      2   543     56        43     204          4   \n",
              "2   male     male      0      2    57   2927        25      25          0   \n",
              "3   male     male      1      2   104     67         5      66          2   \n",
              "5   male     male      3      1  1887   4130       197     510         62   \n",
              "7   male  unknown      3      3  5833   3209       566     376        108   \n",
              "\n",
              "   pagesWomen  wikiprojWomen  ns_user  ns_wikipedia  ns_talk  ns_userTalk  \\\n",
              "0        0.00           0.00     0.17          0.05     0.01         0.14   \n",
              "2        0.00           0.00     0.05          0.00     0.02         0.05   \n",
              "3        0.00           0.00     0.19          0.01     0.02         0.02   \n",
              "5        0.00           0.00     0.00          0.00     0.02         0.01   \n",
              "7        0.00           0.00     0.03          0.00     0.00         0.03   \n",
              "\n",
              "   ns_content  NEds/NDays  NActDays/NDays  firstYear  lastYear  \n",
              "0        0.60        9.70            0.77    2017.33   2017.50  \n",
              "2        0.86        0.02            0.01    2006.67   2014.67  \n",
              "3        0.75        1.55            0.07    2012.75   2012.92  \n",
              "5        0.88        0.46            0.05    2006.33   2017.67  \n",
              "7        0.81        1.82            0.18    2008.83   2017.58  "
            ],
            "text/html": [
              "\n",
              "  <div id=\"df-1fbdb04c-c1ea-4113-919a-8495b7678342\">\n",
              "    <div class=\"colab-df-container\">\n",
              "      <div>\n",
              "<style scoped>\n",
              "    .dataframe tbody tr th:only-of-type {\n",
              "        vertical-align: middle;\n",
              "    }\n",
              "\n",
              "    .dataframe tbody tr th {\n",
              "        vertical-align: top;\n",
              "    }\n",
              "\n",
              "    .dataframe thead th {\n",
              "        text-align: right;\n",
              "    }\n",
              "</style>\n",
              "<table border=\"1\" class=\"dataframe\">\n",
              "  <thead>\n",
              "    <tr style=\"text-align: right;\">\n",
              "      <th></th>\n",
              "      <th>gender</th>\n",
              "      <th>C_api</th>\n",
              "      <th>E_NEds</th>\n",
              "      <th>E_Bpag</th>\n",
              "      <th>NEds</th>\n",
              "      <th>NDays</th>\n",
              "      <th>NActDays</th>\n",
              "      <th>NPages</th>\n",
              "      <th>NPcreated</th>\n",
              "      <th>pagesWomen</th>\n",
              "      <th>wikiprojWomen</th>\n",
              "      <th>ns_user</th>\n",
              "      <th>ns_wikipedia</th>\n",
              "      <th>ns_talk</th>\n",
              "      <th>ns_userTalk</th>\n",
              "      <th>ns_content</th>\n",
              "      <th>NEds/NDays</th>\n",
              "      <th>NActDays/NDays</th>\n",
              "      <th>firstYear</th>\n",
              "      <th>lastYear</th>\n",
              "    </tr>\n",
              "  </thead>\n",
              "  <tbody>\n",
              "    <tr>\n",
              "      <th>0</th>\n",
              "      <td>male</td>\n",
              "      <td>male</td>\n",
              "      <td>2</td>\n",
              "      <td>2</td>\n",
              "      <td>543</td>\n",
              "      <td>56</td>\n",
              "      <td>43</td>\n",
              "      <td>204</td>\n",
              "      <td>4</td>\n",
              "      <td>0.00</td>\n",
              "      <td>0.00</td>\n",
              "      <td>0.17</td>\n",
              "      <td>0.05</td>\n",
              "      <td>0.01</td>\n",
              "      <td>0.14</td>\n",
              "      <td>0.60</td>\n",
              "      <td>9.70</td>\n",
              "      <td>0.77</td>\n",
              "      <td>2017.33</td>\n",
              "      <td>2017.50</td>\n",
              "    </tr>\n",
              "    <tr>\n",
              "      <th>2</th>\n",
              "      <td>male</td>\n",
              "      <td>male</td>\n",
              "      <td>0</td>\n",
              "      <td>2</td>\n",
              "      <td>57</td>\n",
              "      <td>2927</td>\n",
              "      <td>25</td>\n",
              "      <td>25</td>\n",
              "      <td>0</td>\n",
              "      <td>0.00</td>\n",
              "      <td>0.00</td>\n",
              "      <td>0.05</td>\n",
              "      <td>0.00</td>\n",
              "      <td>0.02</td>\n",
              "      <td>0.05</td>\n",
              "      <td>0.86</td>\n",
              "      <td>0.02</td>\n",
              "      <td>0.01</td>\n",
              "      <td>2006.67</td>\n",
              "      <td>2014.67</td>\n",
              "    </tr>\n",
              "    <tr>\n",
              "      <th>3</th>\n",
              "      <td>male</td>\n",
              "      <td>male</td>\n",
              "      <td>1</td>\n",
              "      <td>2</td>\n",
              "      <td>104</td>\n",
              "      <td>67</td>\n",
              "      <td>5</td>\n",
              "      <td>66</td>\n",
              "      <td>2</td>\n",
              "      <td>0.00</td>\n",
              "      <td>0.00</td>\n",
              "      <td>0.19</td>\n",
              "      <td>0.01</td>\n",
              "      <td>0.02</td>\n",
              "      <td>0.02</td>\n",
              "      <td>0.75</td>\n",
              "      <td>1.55</td>\n",
              "      <td>0.07</td>\n",
              "      <td>2012.75</td>\n",
              "      <td>2012.92</td>\n",
              "    </tr>\n",
              "    <tr>\n",
              "      <th>5</th>\n",
              "      <td>male</td>\n",
              "      <td>male</td>\n",
              "      <td>3</td>\n",
              "      <td>1</td>\n",
              "      <td>1887</td>\n",
              "      <td>4130</td>\n",
              "      <td>197</td>\n",
              "      <td>510</td>\n",
              "      <td>62</td>\n",
              "      <td>0.00</td>\n",
              "      <td>0.00</td>\n",
              "      <td>0.00</td>\n",
              "      <td>0.00</td>\n",
              "      <td>0.02</td>\n",
              "      <td>0.01</td>\n",
              "      <td>0.88</td>\n",
              "      <td>0.46</td>\n",
              "      <td>0.05</td>\n",
              "      <td>2006.33</td>\n",
              "      <td>2017.67</td>\n",
              "    </tr>\n",
              "    <tr>\n",
              "      <th>7</th>\n",
              "      <td>male</td>\n",
              "      <td>unknown</td>\n",
              "      <td>3</td>\n",
              "      <td>3</td>\n",
              "      <td>5833</td>\n",
              "      <td>3209</td>\n",
              "      <td>566</td>\n",
              "      <td>376</td>\n",
              "      <td>108</td>\n",
              "      <td>0.00</td>\n",
              "      <td>0.00</td>\n",
              "      <td>0.03</td>\n",
              "      <td>0.00</td>\n",
              "      <td>0.00</td>\n",
              "      <td>0.03</td>\n",
              "      <td>0.81</td>\n",
              "      <td>1.82</td>\n",
              "      <td>0.18</td>\n",
              "      <td>2008.83</td>\n",
              "      <td>2017.58</td>\n",
              "    </tr>\n",
              "  </tbody>\n",
              "</table>\n",
              "</div>\n",
              "      <button class=\"colab-df-convert\" onclick=\"convertToInteractive('df-1fbdb04c-c1ea-4113-919a-8495b7678342')\"\n",
              "              title=\"Convert this dataframe to an interactive table.\"\n",
              "              style=\"display:none;\">\n",
              "        \n",
              "  <svg xmlns=\"http://www.w3.org/2000/svg\" height=\"24px\"viewBox=\"0 0 24 24\"\n",
              "       width=\"24px\">\n",
              "    <path d=\"M0 0h24v24H0V0z\" fill=\"none\"/>\n",
              "    <path d=\"M18.56 5.44l.94 2.06.94-2.06 2.06-.94-2.06-.94-.94-2.06-.94 2.06-2.06.94zm-11 1L8.5 8.5l.94-2.06 2.06-.94-2.06-.94L8.5 2.5l-.94 2.06-2.06.94zm10 10l.94 2.06.94-2.06 2.06-.94-2.06-.94-.94-2.06-.94 2.06-2.06.94z\"/><path d=\"M17.41 7.96l-1.37-1.37c-.4-.4-.92-.59-1.43-.59-.52 0-1.04.2-1.43.59L10.3 9.45l-7.72 7.72c-.78.78-.78 2.05 0 2.83L4 21.41c.39.39.9.59 1.41.59.51 0 1.02-.2 1.41-.59l7.78-7.78 2.81-2.81c.8-.78.8-2.07 0-2.86zM5.41 20L4 18.59l7.72-7.72 1.47 1.35L5.41 20z\"/>\n",
              "  </svg>\n",
              "      </button>\n",
              "      \n",
              "  <style>\n",
              "    .colab-df-container {\n",
              "      display:flex;\n",
              "      flex-wrap:wrap;\n",
              "      gap: 12px;\n",
              "    }\n",
              "\n",
              "    .colab-df-convert {\n",
              "      background-color: #E8F0FE;\n",
              "      border: none;\n",
              "      border-radius: 50%;\n",
              "      cursor: pointer;\n",
              "      display: none;\n",
              "      fill: #1967D2;\n",
              "      height: 32px;\n",
              "      padding: 0 0 0 0;\n",
              "      width: 32px;\n",
              "    }\n",
              "\n",
              "    .colab-df-convert:hover {\n",
              "      background-color: #E2EBFA;\n",
              "      box-shadow: 0px 1px 2px rgba(60, 64, 67, 0.3), 0px 1px 3px 1px rgba(60, 64, 67, 0.15);\n",
              "      fill: #174EA6;\n",
              "    }\n",
              "\n",
              "    [theme=dark] .colab-df-convert {\n",
              "      background-color: #3B4455;\n",
              "      fill: #D2E3FC;\n",
              "    }\n",
              "\n",
              "    [theme=dark] .colab-df-convert:hover {\n",
              "      background-color: #434B5C;\n",
              "      box-shadow: 0px 1px 3px 1px rgba(0, 0, 0, 0.15);\n",
              "      filter: drop-shadow(0px 1px 2px rgba(0, 0, 0, 0.3));\n",
              "      fill: #FFFFFF;\n",
              "    }\n",
              "  </style>\n",
              "\n",
              "      <script>\n",
              "        const buttonEl =\n",
              "          document.querySelector('#df-1fbdb04c-c1ea-4113-919a-8495b7678342 button.colab-df-convert');\n",
              "        buttonEl.style.display =\n",
              "          google.colab.kernel.accessAllowed ? 'block' : 'none';\n",
              "\n",
              "        async function convertToInteractive(key) {\n",
              "          const element = document.querySelector('#df-1fbdb04c-c1ea-4113-919a-8495b7678342');\n",
              "          const dataTable =\n",
              "            await google.colab.kernel.invokeFunction('convertToInteractive',\n",
              "                                                     [key], {});\n",
              "          if (!dataTable) return;\n",
              "\n",
              "          const docLinkHtml = 'Like what you see? Visit the ' +\n",
              "            '<a target=\"_blank\" href=https://colab.research.google.com/notebooks/data_table.ipynb>data table notebook</a>'\n",
              "            + ' to learn more about interactive tables.';\n",
              "          element.innerHTML = '';\n",
              "          dataTable['output_type'] = 'display_data';\n",
              "          await google.colab.output.renderOutput(dataTable, element);\n",
              "          const docLink = document.createElement('div');\n",
              "          docLink.innerHTML = docLinkHtml;\n",
              "          element.appendChild(docLink);\n",
              "        }\n",
              "      </script>\n",
              "    </div>\n",
              "  </div>\n",
              "  "
            ]
          },
          "metadata": {},
          "execution_count": 14
        }
      ],
      "source": [
        "df.head()"
      ]
    },
    {
      "cell_type": "code",
      "execution_count": null,
      "metadata": {
        "colab": {
          "base_uri": "https://localhost:8080/"
        },
        "id": "UFHULTxX0viW",
        "outputId": "1e58b0ba-1c9f-4a42-c6dc-2dcb2c634584"
      },
      "outputs": [
        {
          "output_type": "stream",
          "name": "stdout",
          "text": [
            "<class 'pandas.core.frame.DataFrame'>\n",
            "Int64Index: 3145 entries, 0 to 4745\n",
            "Data columns (total 20 columns):\n",
            " #   Column          Non-Null Count  Dtype   \n",
            "---  ------          --------------  -----   \n",
            " 0   gender          3145 non-null   category\n",
            " 1   C_api           3145 non-null   category\n",
            " 2   E_NEds          3145 non-null   category\n",
            " 3   E_Bpag          3145 non-null   category\n",
            " 4   NEds            3145 non-null   int64   \n",
            " 5   NDays           3145 non-null   int64   \n",
            " 6   NActDays        3145 non-null   int64   \n",
            " 7   NPages          3145 non-null   int64   \n",
            " 8   NPcreated       3145 non-null   int64   \n",
            " 9   pagesWomen      3145 non-null   float64 \n",
            " 10  wikiprojWomen   3145 non-null   float64 \n",
            " 11  ns_user         3145 non-null   float64 \n",
            " 12  ns_wikipedia    3145 non-null   float64 \n",
            " 13  ns_talk         3145 non-null   float64 \n",
            " 14  ns_userTalk     3145 non-null   float64 \n",
            " 15  ns_content      3145 non-null   float64 \n",
            " 16  NEds/NDays      3145 non-null   float64 \n",
            " 17  NActDays/NDays  3145 non-null   float64 \n",
            " 18  firstYear       3145 non-null   float64 \n",
            " 19  lastYear        3145 non-null   float64 \n",
            "dtypes: category(4), float64(11), int64(5)\n",
            "memory usage: 430.6 KB\n"
          ]
        }
      ],
      "source": [
        "df.info()"
      ]
    },
    {
      "cell_type": "markdown",
      "metadata": {
        "id": "GjARfU_L03YY"
      },
      "source": [
        "Para fazer a divisão de dados para treino, teste e validação, precisamos levar usaremos um split estratificado pelo gênero, o que é muito importante neste caso pois os dados estão desbalanceados, com muitos mais ocorrências de 'male'."
      ]
    },
    {
      "cell_type": "code",
      "execution_count": null,
      "metadata": {
        "id": "bIc7Mr5ZMs8E"
      },
      "outputs": [],
      "source": [
        "from sklearn.model_selection import train_test_split\n",
        "train_df, test_df = train_test_split(df, test_size=0.3, random_state=8, stratify=df['gender'])\n",
        "#train_df, valid_df = train_test_split(train_df, test_size=0.2, random_state=8, stratify=train_df['gender'])\n",
        "\n",
        "X_train, y_train = train_df.drop(['gender'],axis=1), train_df['gender']\n",
        "X_test, y_test = test_df.drop(['gender'],axis=1), test_df['gender']\n",
        "#X_valid, y_valid = valid_df.drop(['gender'],axis=1), valid_df['gender']"
      ]
    },
    {
      "cell_type": "code",
      "execution_count": null,
      "metadata": {
        "colab": {
          "base_uri": "https://localhost:8080/"
        },
        "id": "CCX_PXLKN1ST",
        "outputId": "624b109c-f642-4a14-803c-fa25c7970f00"
      },
      "outputs": [
        {
          "output_type": "stream",
          "name": "stdout",
          "text": [
            "(2201, 19)\n",
            "(944, 19)\n"
          ]
        }
      ],
      "source": [
        "print(X_train.shape)\n",
        "print(X_test.shape)\n",
        "#print(X_valid.shape)"
      ]
    },
    {
      "cell_type": "markdown",
      "metadata": {
        "id": "HJo1O1DJ1pMh"
      },
      "source": [
        "Para alguns modelos, é necessário fazer o uso do OneHotEnconder para se obter valores númericos."
      ]
    },
    {
      "cell_type": "code",
      "execution_count": null,
      "metadata": {
        "id": "OGgMQ7IuNQnt"
      },
      "outputs": [],
      "source": [
        "from sklearn.preprocessing import OneHotEncoder\n",
        "from sklearn.compose import make_column_transformer\n",
        "onehot = make_column_transformer((OneHotEncoder(handle_unknown='ignore'),['C_api','E_NEds','E_Bpag']),remainder='passthrough')\n",
        "X_train_oh = onehot.fit_transform(X_train)\n",
        "X_train_oh = pd.DataFrame(X_train_oh,columns=onehot.get_feature_names_out())"
      ]
    },
    {
      "cell_type": "code",
      "execution_count": null,
      "metadata": {
        "colab": {
          "base_uri": "https://localhost:8080/"
        },
        "id": "L6oaPZwXSOWI",
        "outputId": "67bdf942-fbe2-48dd-e232-9206229d7828"
      },
      "outputs": [
        {
          "output_type": "stream",
          "name": "stdout",
          "text": [
            "<class 'pandas.core.frame.DataFrame'>\n",
            "RangeIndex: 2201 entries, 0 to 2200\n",
            "Data columns (total 27 columns):\n",
            " #   Column                        Non-Null Count  Dtype  \n",
            "---  ------                        --------------  -----  \n",
            " 0   onehotencoder__C_api_female   2201 non-null   float64\n",
            " 1   onehotencoder__C_api_male     2201 non-null   float64\n",
            " 2   onehotencoder__C_api_unknown  2201 non-null   float64\n",
            " 3   onehotencoder__E_NEds_0       2201 non-null   float64\n",
            " 4   onehotencoder__E_NEds_1       2201 non-null   float64\n",
            " 5   onehotencoder__E_NEds_2       2201 non-null   float64\n",
            " 6   onehotencoder__E_NEds_3       2201 non-null   float64\n",
            " 7   onehotencoder__E_Bpag_0       2201 non-null   float64\n",
            " 8   onehotencoder__E_Bpag_1       2201 non-null   float64\n",
            " 9   onehotencoder__E_Bpag_2       2201 non-null   float64\n",
            " 10  onehotencoder__E_Bpag_3       2201 non-null   float64\n",
            " 11  remainder__NEds               2201 non-null   float64\n",
            " 12  remainder__NDays              2201 non-null   float64\n",
            " 13  remainder__NActDays           2201 non-null   float64\n",
            " 14  remainder__NPages             2201 non-null   float64\n",
            " 15  remainder__NPcreated          2201 non-null   float64\n",
            " 16  remainder__pagesWomen         2201 non-null   float64\n",
            " 17  remainder__wikiprojWomen      2201 non-null   float64\n",
            " 18  remainder__ns_user            2201 non-null   float64\n",
            " 19  remainder__ns_wikipedia       2201 non-null   float64\n",
            " 20  remainder__ns_talk            2201 non-null   float64\n",
            " 21  remainder__ns_userTalk        2201 non-null   float64\n",
            " 22  remainder__ns_content         2201 non-null   float64\n",
            " 23  remainder__NEds/NDays         2201 non-null   float64\n",
            " 24  remainder__NActDays/NDays     2201 non-null   float64\n",
            " 25  remainder__firstYear          2201 non-null   float64\n",
            " 26  remainder__lastYear           2201 non-null   float64\n",
            "dtypes: float64(27)\n",
            "memory usage: 464.4 KB\n"
          ]
        }
      ],
      "source": [
        "X_train_oh.info()"
      ]
    },
    {
      "cell_type": "code",
      "execution_count": null,
      "metadata": {
        "colab": {
          "base_uri": "https://localhost:8080/",
          "height": 300
        },
        "id": "3uZOVt9jNuAh",
        "outputId": "1d738df1-a178-416d-ac80-5d98c07357a5"
      },
      "outputs": [
        {
          "output_type": "execute_result",
          "data": {
            "text/plain": [
              "   onehotencoder__C_api_female  onehotencoder__C_api_male  \\\n",
              "0                         0.00                       1.00   \n",
              "1                         0.00                       0.00   \n",
              "2                         0.00                       0.00   \n",
              "3                         0.00                       1.00   \n",
              "4                         0.00                       1.00   \n",
              "\n",
              "   onehotencoder__C_api_unknown  onehotencoder__E_NEds_0  \\\n",
              "0                          0.00                     0.00   \n",
              "1                          1.00                     0.00   \n",
              "2                          1.00                     1.00   \n",
              "3                          0.00                     0.00   \n",
              "4                          0.00                     0.00   \n",
              "\n",
              "   onehotencoder__E_NEds_1  onehotencoder__E_NEds_2  onehotencoder__E_NEds_3  \\\n",
              "0                     0.00                     0.00                     1.00   \n",
              "1                     0.00                     0.00                     1.00   \n",
              "2                     0.00                     0.00                     0.00   \n",
              "3                     1.00                     0.00                     0.00   \n",
              "4                     0.00                     0.00                     1.00   \n",
              "\n",
              "   onehotencoder__E_Bpag_0  onehotencoder__E_Bpag_1  onehotencoder__E_Bpag_2  \\\n",
              "0                     0.00                     0.00                     0.00   \n",
              "1                     0.00                     1.00                     0.00   \n",
              "2                     1.00                     0.00                     0.00   \n",
              "3                     0.00                     1.00                     0.00   \n",
              "4                     0.00                     1.00                     0.00   \n",
              "\n",
              "   ...  remainder__wikiprojWomen  remainder__ns_user  remainder__ns_wikipedia  \\\n",
              "0  ...                      0.00                0.08                     0.00   \n",
              "1  ...                      0.00                0.03                     0.24   \n",
              "2  ...                      0.00                0.26                     0.00   \n",
              "3  ...                      0.00                0.98                     0.00   \n",
              "4  ...                      0.00                0.01                     0.00   \n",
              "\n",
              "   remainder__ns_talk  remainder__ns_userTalk  remainder__ns_content  \\\n",
              "0                0.05                    0.02                   0.78   \n",
              "1                0.01                    0.02                   0.51   \n",
              "2                0.00                    0.00                   0.74   \n",
              "3                0.00                    0.00                   0.00   \n",
              "4                0.01                    0.03                   0.90   \n",
              "\n",
              "   remainder__NEds/NDays  remainder__NActDays/NDays  remainder__firstYear  \\\n",
              "0                   0.80                       0.19               2012.42   \n",
              "1                   2.38                       0.26               2009.83   \n",
              "2                   1.24                       0.15               2015.33   \n",
              "3                   0.06                       0.01               2011.00   \n",
              "4                   2.20                       0.37               2012.83   \n",
              "\n",
              "   remainder__lastYear  \n",
              "0              2017.58  \n",
              "1              2017.67  \n",
              "2              2015.50  \n",
              "3              2015.75  \n",
              "4              2017.67  \n",
              "\n",
              "[5 rows x 27 columns]"
            ],
            "text/html": [
              "\n",
              "  <div id=\"df-db0b4215-0410-4f0f-8226-06edb31ff38d\">\n",
              "    <div class=\"colab-df-container\">\n",
              "      <div>\n",
              "<style scoped>\n",
              "    .dataframe tbody tr th:only-of-type {\n",
              "        vertical-align: middle;\n",
              "    }\n",
              "\n",
              "    .dataframe tbody tr th {\n",
              "        vertical-align: top;\n",
              "    }\n",
              "\n",
              "    .dataframe thead th {\n",
              "        text-align: right;\n",
              "    }\n",
              "</style>\n",
              "<table border=\"1\" class=\"dataframe\">\n",
              "  <thead>\n",
              "    <tr style=\"text-align: right;\">\n",
              "      <th></th>\n",
              "      <th>onehotencoder__C_api_female</th>\n",
              "      <th>onehotencoder__C_api_male</th>\n",
              "      <th>onehotencoder__C_api_unknown</th>\n",
              "      <th>onehotencoder__E_NEds_0</th>\n",
              "      <th>onehotencoder__E_NEds_1</th>\n",
              "      <th>onehotencoder__E_NEds_2</th>\n",
              "      <th>onehotencoder__E_NEds_3</th>\n",
              "      <th>onehotencoder__E_Bpag_0</th>\n",
              "      <th>onehotencoder__E_Bpag_1</th>\n",
              "      <th>onehotencoder__E_Bpag_2</th>\n",
              "      <th>...</th>\n",
              "      <th>remainder__wikiprojWomen</th>\n",
              "      <th>remainder__ns_user</th>\n",
              "      <th>remainder__ns_wikipedia</th>\n",
              "      <th>remainder__ns_talk</th>\n",
              "      <th>remainder__ns_userTalk</th>\n",
              "      <th>remainder__ns_content</th>\n",
              "      <th>remainder__NEds/NDays</th>\n",
              "      <th>remainder__NActDays/NDays</th>\n",
              "      <th>remainder__firstYear</th>\n",
              "      <th>remainder__lastYear</th>\n",
              "    </tr>\n",
              "  </thead>\n",
              "  <tbody>\n",
              "    <tr>\n",
              "      <th>0</th>\n",
              "      <td>0.00</td>\n",
              "      <td>1.00</td>\n",
              "      <td>0.00</td>\n",
              "      <td>0.00</td>\n",
              "      <td>0.00</td>\n",
              "      <td>0.00</td>\n",
              "      <td>1.00</td>\n",
              "      <td>0.00</td>\n",
              "      <td>0.00</td>\n",
              "      <td>0.00</td>\n",
              "      <td>...</td>\n",
              "      <td>0.00</td>\n",
              "      <td>0.08</td>\n",
              "      <td>0.00</td>\n",
              "      <td>0.05</td>\n",
              "      <td>0.02</td>\n",
              "      <td>0.78</td>\n",
              "      <td>0.80</td>\n",
              "      <td>0.19</td>\n",
              "      <td>2012.42</td>\n",
              "      <td>2017.58</td>\n",
              "    </tr>\n",
              "    <tr>\n",
              "      <th>1</th>\n",
              "      <td>0.00</td>\n",
              "      <td>0.00</td>\n",
              "      <td>1.00</td>\n",
              "      <td>0.00</td>\n",
              "      <td>0.00</td>\n",
              "      <td>0.00</td>\n",
              "      <td>1.00</td>\n",
              "      <td>0.00</td>\n",
              "      <td>1.00</td>\n",
              "      <td>0.00</td>\n",
              "      <td>...</td>\n",
              "      <td>0.00</td>\n",
              "      <td>0.03</td>\n",
              "      <td>0.24</td>\n",
              "      <td>0.01</td>\n",
              "      <td>0.02</td>\n",
              "      <td>0.51</td>\n",
              "      <td>2.38</td>\n",
              "      <td>0.26</td>\n",
              "      <td>2009.83</td>\n",
              "      <td>2017.67</td>\n",
              "    </tr>\n",
              "    <tr>\n",
              "      <th>2</th>\n",
              "      <td>0.00</td>\n",
              "      <td>0.00</td>\n",
              "      <td>1.00</td>\n",
              "      <td>1.00</td>\n",
              "      <td>0.00</td>\n",
              "      <td>0.00</td>\n",
              "      <td>0.00</td>\n",
              "      <td>1.00</td>\n",
              "      <td>0.00</td>\n",
              "      <td>0.00</td>\n",
              "      <td>...</td>\n",
              "      <td>0.00</td>\n",
              "      <td>0.26</td>\n",
              "      <td>0.00</td>\n",
              "      <td>0.00</td>\n",
              "      <td>0.00</td>\n",
              "      <td>0.74</td>\n",
              "      <td>1.24</td>\n",
              "      <td>0.15</td>\n",
              "      <td>2015.33</td>\n",
              "      <td>2015.50</td>\n",
              "    </tr>\n",
              "    <tr>\n",
              "      <th>3</th>\n",
              "      <td>0.00</td>\n",
              "      <td>1.00</td>\n",
              "      <td>0.00</td>\n",
              "      <td>0.00</td>\n",
              "      <td>1.00</td>\n",
              "      <td>0.00</td>\n",
              "      <td>0.00</td>\n",
              "      <td>0.00</td>\n",
              "      <td>1.00</td>\n",
              "      <td>0.00</td>\n",
              "      <td>...</td>\n",
              "      <td>0.00</td>\n",
              "      <td>0.98</td>\n",
              "      <td>0.00</td>\n",
              "      <td>0.00</td>\n",
              "      <td>0.00</td>\n",
              "      <td>0.00</td>\n",
              "      <td>0.06</td>\n",
              "      <td>0.01</td>\n",
              "      <td>2011.00</td>\n",
              "      <td>2015.75</td>\n",
              "    </tr>\n",
              "    <tr>\n",
              "      <th>4</th>\n",
              "      <td>0.00</td>\n",
              "      <td>1.00</td>\n",
              "      <td>0.00</td>\n",
              "      <td>0.00</td>\n",
              "      <td>0.00</td>\n",
              "      <td>0.00</td>\n",
              "      <td>1.00</td>\n",
              "      <td>0.00</td>\n",
              "      <td>1.00</td>\n",
              "      <td>0.00</td>\n",
              "      <td>...</td>\n",
              "      <td>0.00</td>\n",
              "      <td>0.01</td>\n",
              "      <td>0.00</td>\n",
              "      <td>0.01</td>\n",
              "      <td>0.03</td>\n",
              "      <td>0.90</td>\n",
              "      <td>2.20</td>\n",
              "      <td>0.37</td>\n",
              "      <td>2012.83</td>\n",
              "      <td>2017.67</td>\n",
              "    </tr>\n",
              "  </tbody>\n",
              "</table>\n",
              "<p>5 rows × 27 columns</p>\n",
              "</div>\n",
              "      <button class=\"colab-df-convert\" onclick=\"convertToInteractive('df-db0b4215-0410-4f0f-8226-06edb31ff38d')\"\n",
              "              title=\"Convert this dataframe to an interactive table.\"\n",
              "              style=\"display:none;\">\n",
              "        \n",
              "  <svg xmlns=\"http://www.w3.org/2000/svg\" height=\"24px\"viewBox=\"0 0 24 24\"\n",
              "       width=\"24px\">\n",
              "    <path d=\"M0 0h24v24H0V0z\" fill=\"none\"/>\n",
              "    <path d=\"M18.56 5.44l.94 2.06.94-2.06 2.06-.94-2.06-.94-.94-2.06-.94 2.06-2.06.94zm-11 1L8.5 8.5l.94-2.06 2.06-.94-2.06-.94L8.5 2.5l-.94 2.06-2.06.94zm10 10l.94 2.06.94-2.06 2.06-.94-2.06-.94-.94-2.06-.94 2.06-2.06.94z\"/><path d=\"M17.41 7.96l-1.37-1.37c-.4-.4-.92-.59-1.43-.59-.52 0-1.04.2-1.43.59L10.3 9.45l-7.72 7.72c-.78.78-.78 2.05 0 2.83L4 21.41c.39.39.9.59 1.41.59.51 0 1.02-.2 1.41-.59l7.78-7.78 2.81-2.81c.8-.78.8-2.07 0-2.86zM5.41 20L4 18.59l7.72-7.72 1.47 1.35L5.41 20z\"/>\n",
              "  </svg>\n",
              "      </button>\n",
              "      \n",
              "  <style>\n",
              "    .colab-df-container {\n",
              "      display:flex;\n",
              "      flex-wrap:wrap;\n",
              "      gap: 12px;\n",
              "    }\n",
              "\n",
              "    .colab-df-convert {\n",
              "      background-color: #E8F0FE;\n",
              "      border: none;\n",
              "      border-radius: 50%;\n",
              "      cursor: pointer;\n",
              "      display: none;\n",
              "      fill: #1967D2;\n",
              "      height: 32px;\n",
              "      padding: 0 0 0 0;\n",
              "      width: 32px;\n",
              "    }\n",
              "\n",
              "    .colab-df-convert:hover {\n",
              "      background-color: #E2EBFA;\n",
              "      box-shadow: 0px 1px 2px rgba(60, 64, 67, 0.3), 0px 1px 3px 1px rgba(60, 64, 67, 0.15);\n",
              "      fill: #174EA6;\n",
              "    }\n",
              "\n",
              "    [theme=dark] .colab-df-convert {\n",
              "      background-color: #3B4455;\n",
              "      fill: #D2E3FC;\n",
              "    }\n",
              "\n",
              "    [theme=dark] .colab-df-convert:hover {\n",
              "      background-color: #434B5C;\n",
              "      box-shadow: 0px 1px 3px 1px rgba(0, 0, 0, 0.15);\n",
              "      filter: drop-shadow(0px 1px 2px rgba(0, 0, 0, 0.3));\n",
              "      fill: #FFFFFF;\n",
              "    }\n",
              "  </style>\n",
              "\n",
              "      <script>\n",
              "        const buttonEl =\n",
              "          document.querySelector('#df-db0b4215-0410-4f0f-8226-06edb31ff38d button.colab-df-convert');\n",
              "        buttonEl.style.display =\n",
              "          google.colab.kernel.accessAllowed ? 'block' : 'none';\n",
              "\n",
              "        async function convertToInteractive(key) {\n",
              "          const element = document.querySelector('#df-db0b4215-0410-4f0f-8226-06edb31ff38d');\n",
              "          const dataTable =\n",
              "            await google.colab.kernel.invokeFunction('convertToInteractive',\n",
              "                                                     [key], {});\n",
              "          if (!dataTable) return;\n",
              "\n",
              "          const docLinkHtml = 'Like what you see? Visit the ' +\n",
              "            '<a target=\"_blank\" href=https://colab.research.google.com/notebooks/data_table.ipynb>data table notebook</a>'\n",
              "            + ' to learn more about interactive tables.';\n",
              "          element.innerHTML = '';\n",
              "          dataTable['output_type'] = 'display_data';\n",
              "          await google.colab.output.renderOutput(dataTable, element);\n",
              "          const docLink = document.createElement('div');\n",
              "          docLink.innerHTML = docLinkHtml;\n",
              "          element.appendChild(docLink);\n",
              "        }\n",
              "      </script>\n",
              "    </div>\n",
              "  </div>\n",
              "  "
            ]
          },
          "metadata": {},
          "execution_count": 20
        }
      ],
      "source": [
        "X_train_oh.head()"
      ]
    },
    {
      "cell_type": "markdown",
      "metadata": {
        "id": "dAkfQUrGIqzH"
      },
      "source": [
        "Por fim normalizando as features para que fiquem na mesma escala:"
      ]
    },
    {
      "cell_type": "code",
      "execution_count": null,
      "metadata": {
        "id": "-9jSW_jcV0lr"
      },
      "outputs": [],
      "source": [
        "from sklearn.preprocessing import MinMaxScaler\n",
        "scaler = MinMaxScaler()\n",
        "scaler.fit(X_train_oh)\n",
        "X_train_oh = pd.DataFrame(scaler.transform(X_train_oh),columns = X_train_oh .columns)"
      ]
    },
    {
      "cell_type": "code",
      "execution_count": null,
      "metadata": {
        "colab": {
          "base_uri": "https://localhost:8080/"
        },
        "id": "Ne2IxsApyFgG",
        "outputId": "ab78443e-5d4c-45a6-d3be-b1b7d2fed83b"
      },
      "outputs": [
        {
          "output_type": "stream",
          "name": "stdout",
          "text": [
            "<class 'pandas.core.frame.DataFrame'>\n",
            "Int64Index: 2201 entries, 3874 to 1248\n",
            "Data columns (total 19 columns):\n",
            " #   Column          Non-Null Count  Dtype   \n",
            "---  ------          --------------  -----   \n",
            " 0   C_api           2201 non-null   category\n",
            " 1   E_NEds          2201 non-null   category\n",
            " 2   E_Bpag          2201 non-null   category\n",
            " 3   NEds            2201 non-null   int64   \n",
            " 4   NDays           2201 non-null   int64   \n",
            " 5   NActDays        2201 non-null   int64   \n",
            " 6   NPages          2201 non-null   int64   \n",
            " 7   NPcreated       2201 non-null   int64   \n",
            " 8   pagesWomen      2201 non-null   float64 \n",
            " 9   wikiprojWomen   2201 non-null   float64 \n",
            " 10  ns_user         2201 non-null   float64 \n",
            " 11  ns_wikipedia    2201 non-null   float64 \n",
            " 12  ns_talk         2201 non-null   float64 \n",
            " 13  ns_userTalk     2201 non-null   float64 \n",
            " 14  ns_content      2201 non-null   float64 \n",
            " 15  NEds/NDays      2201 non-null   float64 \n",
            " 16  NActDays/NDays  2201 non-null   float64 \n",
            " 17  firstYear       2201 non-null   float64 \n",
            " 18  lastYear        2201 non-null   float64 \n",
            "dtypes: category(3), float64(11), int64(5)\n",
            "memory usage: 299.3 KB\n"
          ]
        }
      ],
      "source": [
        "X_train.info()"
      ]
    },
    {
      "cell_type": "code",
      "execution_count": null,
      "metadata": {
        "id": "XipWUixnhSxZ"
      },
      "outputs": [],
      "source": [
        "train_temp = X_train[['C_api','E_NEds','E_Bpag']]\n",
        "X_train = X_train.drop(['C_api','E_NEds','E_Bpag'],axis=1)\n",
        "scaler_n = MinMaxScaler()\n",
        "scaler_n.fit(X_train)\n",
        "X_train = pd.DataFrame(scaler_n.transform(X_train),columns = X_train .columns)\n",
        "X_train = pd.concat([X_train,train_temp],axis=1)"
      ]
    },
    {
      "cell_type": "markdown",
      "metadata": {
        "id": "Qc_6sjibiOb-"
      },
      "source": [
        "## Aplicando os transformadores treinados apenas com o conjunto de trainemento nos de  validação e teste"
      ]
    },
    {
      "cell_type": "code",
      "execution_count": null,
      "metadata": {
        "id": "2enb1bDWiQyp"
      },
      "outputs": [],
      "source": [
        "X_test1 = pd.DataFrame(onehot.transform(X_test),columns=onehot.get_feature_names_out())\n",
        "#X_valid1 = pd.DataFrame(onehot.transform(X_valid),columns=onehot.get_feature_names_out())"
      ]
    },
    {
      "cell_type": "code",
      "execution_count": null,
      "metadata": {
        "id": "mo-k0eOGiuoN"
      },
      "outputs": [],
      "source": [
        "X_test1 = pd.DataFrame(scaler.transform(X_test1),columns = X_test1.columns)\n",
        "#X_valid1 = pd.DataFrame(scaler.transform(X_valid1),columns = X_valid1.columns)                    "
      ]
    },
    {
      "cell_type": "markdown",
      "metadata": {
        "id": "yPuSevBS3mGX"
      },
      "source": [
        "Para concluir, gostariamos de salientar que o processo de treinamento de modelos de machine learning é um ciclico e requer muita experimentação. Decisões feitas nessa etapa podem ser revisitadas a partir dos resultados obtidos nas próximas etapas, em busca de um melhor modelo.<p>\n",
        "Algumas alterações como as transformações feitas quanto ao número de edições em certos contextos de seu valor absoluto para porcentagem, serão testadas para atestar se elas melhoram ou não os modelos."
      ]
    },
    {
      "cell_type": "markdown",
      "metadata": {
        "id": "-1rC1Hrbf948"
      },
      "source": [
        "# Modelagem"
      ]
    },
    {
      "cell_type": "markdown",
      "source": [
        "Para buscar os melhores parâmetros usamos as ferramentas GridSearch e RandomSearch, criamos o dicionário com os possíveis parâmetros e nos foram retornados os melhores. Entretanto, após rodar com o scoring padrão dessas ferramentas percebemos que a acurácia não é a melhor métrica para avaliação, rodamos duas vezes então, a primeira com a acurácia e depois com a métrica ROC-AUC.\n",
        "\t\n",
        "Entendendo melhor as duas métricas:\n",
        "\n",
        "Acurácia: Calcula o total de predições corretas em relação ao total de predições. Útil em conjuntos de dados balanceados mas pode ser falha em conjuntos não balanceados uma vez que o modelo prevendo a classe majoritária terá um alto valor.\n",
        "\n",
        "ROC-AUC: Mede a capacidade do modelo de distinguir entre duas classes, tem como base a taxa de verdadeiros positivos em relação à taxa de falsos positivos. Eficaz em dados não balanceados.\n",
        "\n",
        "Como o nosso dataset tem em foco a discrepância entre editores homens e mulheres na Wikipedia, se encaixa como desbalanceado.\n"
      ],
      "metadata": {
        "id": "k7DDrGbeaSZ1"
      }
    },
    {
      "cell_type": "markdown",
      "source": [
        "## Busca com ROC-AUC"
      ],
      "metadata": {
        "id": "4TVkB6W3ITkI"
      }
    },
    {
      "cell_type": "markdown",
      "metadata": {
        "id": "KZ_w-ecyFDpm"
      },
      "source": [
        "### kNN"
      ]
    },
    {
      "cell_type": "markdown",
      "metadata": {
        "id": "0uqFfSUui8e-"
      },
      "source": [
        "Variando vários parâmetros do kNN :\n",
        "\n",
        "N_neighbors: Quantidade de vizinhos mais próximos que serão considerados para o cálculo, escolhemos o intervalo de 1~30 vizinhos.\n",
        "\n",
        "Weights: Determina como os vizinhos mais próximos serão ponderados, tem dois valores ‘uniform’ e ‘distance’ que servem para conjuntos de dados mais balanceados e não, respectivamente. Interessante para o nosso caso.\n",
        "\n",
        "Algorithm: Estratégia utilizada para calcular os vizinhos mais próximos, podendo levar a um modelo mais eficiente.\n",
        "\n",
        "Metric: Método de cálculo da distância entre as amostras, afeta significativamente o desempenho do modelo.\n"
      ]
    },
    {
      "cell_type": "code",
      "execution_count": null,
      "metadata": {
        "colab": {
          "base_uri": "https://localhost:8080/"
        },
        "id": "AkQglqC7f_up",
        "outputId": "ff2c8646-81c6-42fd-ab90-1363ac21a944"
      },
      "outputs": [
        {
          "output_type": "stream",
          "name": "stdout",
          "text": [
            "Melhores parâmetros: {'algorithm': 'auto', 'metric': 'manhattan', 'n_neighbors': 30, 'weights': 'distance'}\n",
            "Melhor pontuação: 0.9281898940345368\n"
          ]
        }
      ],
      "source": [
        "import numpy as np\n",
        "import matplotlib.pyplot as plt\n",
        "from sklearn.model_selection import GridSearchCV\n",
        "from sklearn.neighbors import KNeighborsClassifier\n",
        "\n",
        "# Definindo os valores para os parâmetros que queremos testar\n",
        "k_range = list(range(1, 31))\n",
        "\n",
        "# Criando um dicionário com as opções de parâmetros\n",
        "param_grid = {'n_neighbors' : k_range, 'weights': ['uniform', 'distance'],\n",
        "              'algorithm':['auto', 'ball_tree', 'kd_tree', 'brute'],\n",
        "              'metric':['minkowski','chebyshev','manhattan','euclidean',]}\n",
        "\n",
        "# Criando o objeto GridSearchCV\n",
        "knn = KNeighborsClassifier()\n",
        "grid = GridSearchCV(knn, param_grid, cv=10, scoring='roc_auc')\n",
        "\n",
        "# Ajustando o modelo com os dados de treino\n",
        "grid.fit(X_train_oh, y_train)\n",
        "\n",
        "# Imprimindo os melhores parâmetros e a melhor pontuação\n",
        "print(\"Melhores parâmetros:\", grid.best_params_)\n",
        "print(\"Melhor pontuação:\", grid.best_score_)"
      ]
    },
    {
      "cell_type": "markdown",
      "metadata": {
        "id": "kxcjrflNeW5_"
      },
      "source": [
        "Aqui podemos ver que o 'mahalanobis' não é compatível com o algoritmo 'kd_tree'"
      ]
    },
    {
      "cell_type": "code",
      "execution_count": null,
      "metadata": {
        "colab": {
          "base_uri": "https://localhost:8080/"
        },
        "id": "aOeUTPalB9QT",
        "outputId": "11e1c4d9-3f98-4e01-85cd-1a5484bc9fe4"
      },
      "outputs": [
        {
          "output_type": "execute_result",
          "data": {
            "text/plain": [
              "['chebyshev',\n",
              " 'cityblock',\n",
              " 'euclidean',\n",
              " 'infinity',\n",
              " 'l1',\n",
              " 'l2',\n",
              " 'manhattan',\n",
              " 'minkowski',\n",
              " 'p']"
            ]
          },
          "metadata": {},
          "execution_count": 27
        }
      ],
      "source": [
        "import sklearn.neighbors\n",
        "sorted(sklearn.neighbors.VALID_METRICS['kd_tree'])"
      ]
    },
    {
      "cell_type": "markdown",
      "metadata": {
        "id": "35Vx0Vm0ENK-"
      },
      "source": [
        "Rodando o Gridsearch agora com parâmetros específicos para a métrica 'mahalanobis', tirando o algoritmo 'kd_tree' por não serem compatíveis"
      ]
    },
    {
      "cell_type": "code",
      "execution_count": null,
      "metadata": {
        "colab": {
          "base_uri": "https://localhost:8080/"
        },
        "id": "yDNwcxzm-rkI",
        "outputId": "c2f86fec-126b-4cb5-e671-a3b9791ac4b5"
      },
      "outputs": [
        {
          "output_type": "stream",
          "name": "stdout",
          "text": [
            "Melhores parâmetros: {'algorithm': 'auto', 'metric': 'mahalanobis', 'metric_params': {'VI': array([[ 5.45550811e-02, -2.98848774e-02, -2.41999706e-02,\n",
            "         7.35058500e-03, -6.01837104e-04, -3.94818281e-03,\n",
            "        -2.80056508e-03,  3.06667934e-03, -4.19294222e-04,\n",
            "        -1.35829152e-03, -1.28909360e-03,  1.43815900e-04,\n",
            "        -7.86309532e-03, -3.44351623e-04,  1.35444556e-04,\n",
            "        -2.31455129e-05,  2.46293586e-04,  1.31584913e-03,\n",
            "         3.55830998e-03,  5.12350664e-04, -4.07676900e-04,\n",
            "         1.24323475e-03, -3.02535300e-03, -1.90282688e-05,\n",
            "         5.42389437e-04,  6.92075971e-03, -1.16141684e-03],\n",
            "       [-2.98848774e-02,  2.48726498e-01, -2.18371388e-01,\n",
            "        -4.08419677e-02,  1.93199772e-03,  2.05868946e-03,\n",
            "         3.68512805e-02,  2.99008936e-03, -5.91159680e-03,\n",
            "        -1.17051259e-02,  1.46266334e-02,  3.36764601e-03,\n",
            "         6.81318445e-03,  9.05665973e-03,  1.87675020e-03,\n",
            "         1.39434960e-03, -2.63584216e-04, -6.98561262e-04,\n",
            "        -1.04422007e-02,  1.04569205e-03, -1.51786253e-03,\n",
            "         6.72671583e-04,  3.98981074e-03,  8.39483682e-04,\n",
            "         6.39350210e-03, -2.67964457e-04,  1.66462139e-02],\n",
            "       [-2.41999706e-02, -2.18371388e-01,  2.43041591e-01,\n",
            "         3.34913827e-02, -1.33016061e-03,  1.88949336e-03,\n",
            "        -3.40507154e-02, -6.05676870e-03,  6.33089102e-03,\n",
            "         1.30634174e-02, -1.33375398e-02, -3.51146191e-03,\n",
            "         1.04991087e-03, -8.71230811e-03, -2.01219476e-03,\n",
            "        -1.37120408e-03,  1.72906306e-05, -6.17287865e-04,\n",
            "         6.88389068e-03, -1.55804271e-03,  1.92553943e-03,\n",
            "        -1.91590633e-03, -9.64457740e-04, -8.20455413e-04,\n",
            "        -6.93589154e-03, -6.65279525e-03, -1.54847971e-02],\n",
            "       [ 7.35058500e-03, -4.08419677e-02,  3.34913827e-02,\n",
            "         1.86924748e-01, -6.13233200e-02, -6.79864432e-02,\n",
            "        -5.71447513e-02,  6.68324601e-03,  1.49416174e-02,\n",
            "        -4.19910228e-04, -2.12049532e-02, -3.73801030e-03,\n",
            "        -2.63819089e-02, -1.15177469e-02, -2.04540301e-03,\n",
            "        -1.70607709e-03, -3.93866827e-04,  7.69512942e-04,\n",
            "         2.02081051e-02, -6.31147549e-04,  9.20912544e-04,\n",
            "         3.10672492e-03, -1.67959407e-02, -1.14807037e-03,\n",
            "        -8.68165326e-03,  1.56115842e-02, -2.46463214e-02],\n",
            "       [-6.01837104e-04,  1.93199772e-03, -1.33016061e-03,\n",
            "        -6.13233200e-02,  1.85332169e-01, -6.71211612e-02,\n",
            "        -5.64174544e-02,  8.51770957e-03,  8.02901209e-03,\n",
            "        -6.30214411e-03, -1.02445775e-02, -3.56478005e-03,\n",
            "        -6.07198568e-03, -1.00898725e-02, -1.95179441e-03,\n",
            "        -1.60100982e-03,  4.79073656e-04, -7.72986855e-05,\n",
            "         6.10643439e-03, -4.94582086e-04,  2.06623864e-03,\n",
            "        -8.29156778e-04, -3.84313837e-03, -1.47564950e-03,\n",
            "        -1.46736538e-02,  4.07483414e-03, -4.42725930e-03],\n",
            "       [-3.94818281e-03,  2.05868946e-03,  1.88949336e-03,\n",
            "        -6.79864432e-02, -6.71211612e-02,  1.98125365e-01,\n",
            "        -6.25475277e-02, -9.52672612e-03, -1.29266643e-02,\n",
            "         1.14470197e-02,  1.10063707e-02, -3.42719432e-03,\n",
            "         7.85490994e-03, -7.04074982e-03, -1.92684271e-03,\n",
            "        -1.42243579e-03, -3.59308132e-05, -4.20532428e-04,\n",
            "        -7.10434618e-03, -6.24914987e-04, -1.07943644e-04,\n",
            "        -1.82032032e-03,  8.65806111e-03, -2.30444196e-03,\n",
            "        -1.32876099e-02, -8.15652080e-03, -2.21426202e-03],\n",
            "       [-2.80056508e-03,  3.68512805e-02, -3.40507154e-02,\n",
            "        -5.71447513e-02, -5.64174544e-02, -6.25475277e-02,\n",
            "         1.76579967e-01, -5.67422945e-03, -1.00439652e-02,\n",
            "        -4.72496540e-03,  2.04431600e-02,  1.07299847e-02,\n",
            "         2.45989846e-02,  2.86483692e-02,  5.92404013e-03,\n",
            "         4.72952270e-03, -4.92760159e-05, -2.71681829e-04,\n",
            "        -1.92101933e-02,  1.75064462e-03, -2.87920754e-03,\n",
            "        -4.57247823e-04,  1.19810179e-02,  4.92816182e-03,\n",
            "         3.66429169e-02, -1.15298976e-02,  3.12878427e-02],\n",
            "       [ 3.06667934e-03,  2.99008936e-03, -6.05676870e-03,\n",
            "         6.68324601e-03,  8.51770957e-03, -9.52672612e-03,\n",
            "        -5.67422945e-03,  1.28197684e-01, -3.66498468e-02,\n",
            "        -4.26669858e-02, -4.84106185e-02, -4.56544588e-04,\n",
            "        -8.57125165e-03, -2.26847959e-03,  9.04209221e-05,\n",
            "        -5.08430227e-04, -1.70541036e-04,  2.03888622e-04,\n",
            "        -7.24247085e-03, -9.90531069e-04, -1.19761131e-03,\n",
            "        -1.89655326e-03,  1.01008432e-02,  1.09909910e-03,\n",
            "         1.07384132e-03,  8.00660544e-03, -1.31027585e-05],\n",
            "       [-4.19294222e-04, -5.91159680e-03,  6.33089102e-03,\n",
            "         1.49416174e-02,  8.02901209e-03, -1.29266643e-02,\n",
            "        -1.00439652e-02, -3.66498468e-02,  1.83719467e-01,\n",
            "        -6.86771904e-02, -7.79221968e-02, -1.41134030e-03,\n",
            "        -4.33970485e-03, -3.34832119e-03, -8.90811586e-04,\n",
            "        -9.24724506e-04,  1.56910017e-04,  4.67880626e-04,\n",
            "        -5.20754801e-03, -4.99359046e-04, -6.48873735e-04,\n",
            "        -2.23394494e-03,  1.00432927e-02, -6.32522101e-04,\n",
            "        -3.11905898e-03,  4.92563566e-03,  2.35797574e-03],\n",
            "       [-1.35829152e-03, -1.17051259e-02,  1.30634174e-02,\n",
            "        -4.19910228e-04, -6.30214411e-03,  1.14470197e-02,\n",
            "        -4.72496540e-03, -4.26669858e-02, -6.86771904e-02,\n",
            "         2.02529803e-01, -9.07153933e-02, -8.63358004e-04,\n",
            "         2.37420047e-03, -1.22433833e-03, -4.93431845e-04,\n",
            "        -2.92484328e-04, -5.17238722e-06, -2.42668454e-04,\n",
            "        -5.45115321e-04,  7.46243355e-04,  7.96616429e-04,\n",
            "         6.92784324e-04, -1.72282258e-03, -9.70550030e-04,\n",
            "        -3.46113449e-03, -2.34452680e-03, -3.89163532e-04],\n",
            "       [-1.28909360e-03,  1.46266334e-02, -1.33375398e-02,\n",
            "        -2.12049532e-02, -1.02445775e-02,  1.10063707e-02,\n",
            "         2.04431600e-02, -4.84106185e-02, -7.79221968e-02,\n",
            "        -9.07153933e-02,  2.17518442e-01,  2.73124289e-03,\n",
            "         1.05367560e-02,  6.84113911e-03,  1.29382251e-03,\n",
            "         1.72563906e-03,  1.88034065e-05, -4.29100794e-04,\n",
            "         1.29951342e-02,  7.43646761e-04,  1.04986862e-03,\n",
            "         3.43771387e-03, -1.84213134e-02,  5.03973027e-04,\n",
            "         5.50635216e-03, -1.05877143e-02, -1.95570945e-03],\n",
            "       [ 1.43815900e-04,  3.36764601e-03, -3.51146191e-03,\n",
            "        -3.73801030e-03, -3.56478005e-03, -3.42719432e-03,\n",
            "         1.07299847e-02, -4.56544588e-04, -1.41134030e-03,\n",
            "        -8.63358004e-04,  2.73124289e-03,  4.07080459e-03,\n",
            "         2.74345190e-03,  5.06598110e-03,  2.25798129e-03,\n",
            "         1.35568296e-03,  2.64489012e-05, -8.32009166e-06,\n",
            "        -1.50821004e-03,  2.01067765e-04, -2.78559422e-04,\n",
            "         3.24404187e-05,  8.60372984e-04,  1.48798974e-03,\n",
            "         5.59058783e-03, -1.42314981e-03,  3.13036679e-03],\n",
            "       [-7.86309532e-03,  6.81318445e-03,  1.04991087e-03,\n",
            "        -2.63819089e-02, -6.07198568e-03,  7.85490994e-03,\n",
            "         2.45989846e-02, -8.57125165e-03, -4.33970485e-03,\n",
            "         2.37420047e-03,  1.05367560e-02,  2.74345190e-03,\n",
            "         6.14859314e-02,  8.79107244e-03,  1.71284558e-03,\n",
            "         1.63504440e-03,  1.11854960e-04, -3.64464244e-04,\n",
            "        -1.31404569e-02,  7.73578102e-04,  3.11624085e-03,\n",
            "        -1.40492963e-03,  1.16633324e-02, -1.37573015e-03,\n",
            "        -1.02803766e-02, -4.75756589e-02,  2.57454154e-02],\n",
            "       [-3.44351623e-04,  9.05665973e-03, -8.71230811e-03,\n",
            "        -1.15177469e-02, -1.00898725e-02, -7.04074982e-03,\n",
            "         2.86483692e-02, -2.26847959e-03, -3.34832119e-03,\n",
            "        -1.22433833e-03,  6.84113911e-03,  5.06598110e-03,\n",
            "         8.79107244e-03,  1.22650712e-02,  2.91368905e-03,\n",
            "         2.36642291e-03,  3.18844441e-05, -4.81430873e-05,\n",
            "        -4.22106598e-03,  4.72234795e-04, -5.53751065e-04,\n",
            "        -1.61586237e-04,  2.70480731e-03,  1.69516529e-03,\n",
            "         1.20959935e-02, -5.02441949e-03,  8.73387086e-03],\n",
            "       [ 1.35444556e-04,  1.87675020e-03, -2.01219476e-03,\n",
            "        -2.04540301e-03, -1.95179441e-03, -1.92684271e-03,\n",
            "         5.92404013e-03,  9.04209221e-05, -8.90811586e-04,\n",
            "        -4.93431845e-04,  1.29382251e-03,  2.25798129e-03,\n",
            "         1.71284558e-03,  2.91368905e-03,  2.19406951e-03,\n",
            "         8.28084431e-04,  1.59841979e-05, -6.76275354e-06,\n",
            "        -8.84260851e-04,  1.49667962e-04, -1.67780965e-04,\n",
            "         4.91596266e-05,  4.93496341e-04,  9.26657083e-04,\n",
            "         3.06779514e-03, -9.29377630e-04,  1.84057460e-03],\n",
            "       [-2.31455129e-05,  1.39434960e-03, -1.37120408e-03,\n",
            "        -1.70607709e-03, -1.60100982e-03, -1.42243579e-03,\n",
            "         4.72952270e-03, -5.08430227e-04, -9.24724506e-04,\n",
            "        -2.92484328e-04,  1.72563906e-03,  1.35568296e-03,\n",
            "         1.63504440e-03,  2.36642291e-03,  8.28084431e-04,\n",
            "         1.89391979e-03,  7.24165581e-06, -4.49604544e-06,\n",
            "        -6.73522344e-04,  5.17474428e-05, -1.50732583e-04,\n",
            "        -5.54979351e-05,  5.81640727e-04,  4.41886878e-04,\n",
            "         2.25773263e-03, -1.02882007e-03,  1.36911228e-03],\n",
            "       [ 2.46293586e-04, -2.63584216e-04,  1.72906306e-05,\n",
            "        -3.93866827e-04,  4.79073656e-04, -3.59308132e-05,\n",
            "        -4.92760159e-05, -1.70541036e-04,  1.56910017e-04,\n",
            "        -5.17238722e-06,  1.88034065e-05,  2.64489012e-05,\n",
            "         1.11854960e-04,  3.18844441e-05,  1.59841979e-05,\n",
            "         7.24165581e-06,  1.68409960e-03,  7.94849939e-05,\n",
            "        -8.74851907e-05,  1.09896845e-04,  3.31217235e-05,\n",
            "        -2.57187409e-05,  1.15669919e-05, -4.21643798e-06,\n",
            "        -8.35790925e-05,  7.04506742e-05,  4.77625209e-04],\n",
            "       [ 1.31584913e-03, -6.98561262e-04, -6.17287865e-04,\n",
            "         7.69512942e-04, -7.72986855e-05, -4.20532428e-04,\n",
            "        -2.71681829e-04,  2.03888622e-04,  4.67880626e-04,\n",
            "        -2.42668454e-04, -4.29100794e-04, -8.32009166e-06,\n",
            "        -3.64464244e-04, -4.81430873e-05, -6.76275354e-06,\n",
            "        -4.49604544e-06,  7.94849939e-05,  1.27648660e-03,\n",
            "         2.38288218e-04, -2.09972523e-05, -6.19805024e-05,\n",
            "         1.19947590e-04, -4.12011191e-04, -4.21360905e-06,\n",
            "         5.63087862e-05,  4.79725884e-04,  3.74722860e-04],\n",
            "       [ 3.55830998e-03, -1.04422007e-02,  6.88389068e-03,\n",
            "         2.02081051e-02,  6.10643439e-03, -7.10434618e-03,\n",
            "        -1.92101933e-02, -7.24247085e-03, -5.20754801e-03,\n",
            "        -5.45115321e-04,  1.29951342e-02, -1.50821004e-03,\n",
            "        -1.31404569e-02, -4.22106598e-03, -8.84260851e-04,\n",
            "        -6.73522344e-04, -8.74851907e-05,  2.38288218e-04,\n",
            "         3.62023369e-02, -2.88860986e-04, -1.37286564e-03,\n",
            "         1.29832683e-03, -3.31812164e-02, -2.35825915e-04,\n",
            "        -5.91993180e-04,  9.57410867e-03, -7.32442109e-03],\n",
            "       [ 5.12350664e-04,  1.04569205e-03, -1.55804271e-03,\n",
            "        -6.31147549e-04, -4.94582086e-04, -6.24914987e-04,\n",
            "         1.75064462e-03, -9.90531069e-04, -4.99359046e-04,\n",
            "         7.46243355e-04,  7.43646761e-04,  2.01067765e-04,\n",
            "         7.73578102e-04,  4.72234795e-04,  1.49667962e-04,\n",
            "         5.17474428e-05,  1.09896845e-04, -2.09972523e-05,\n",
            "        -2.88860986e-04,  5.12634795e-03,  1.82659510e-04,\n",
            "         1.65274559e-03, -4.61332815e-03,  1.21865773e-06,\n",
            "         2.37611667e-04, -4.95441331e-04,  6.11302113e-04],\n",
            "       [-4.07676900e-04, -1.51786253e-03,  1.92553943e-03,\n",
            "         9.20912544e-04,  2.06623864e-03, -1.07943644e-04,\n",
            "        -2.87920754e-03, -1.19761131e-03, -6.48873735e-04,\n",
            "         7.96616429e-04,  1.04986862e-03, -2.78559422e-04,\n",
            "         3.11624085e-03, -5.53751065e-04, -1.67780965e-04,\n",
            "        -1.50732583e-04,  3.31217235e-05, -6.19805024e-05,\n",
            "        -1.37286564e-03,  1.82659510e-04,  8.30960951e-03,\n",
            "         8.63626985e-04, -4.09296974e-03, -3.30489914e-04,\n",
            "        -1.85728157e-03, -3.22283064e-03, -8.59681576e-04],\n",
            "       [ 1.24323475e-03,  6.72671583e-04, -1.91590633e-03,\n",
            "         3.10672492e-03, -8.29156778e-04, -1.82032032e-03,\n",
            "        -4.57247823e-04, -1.89655326e-03, -2.23394494e-03,\n",
            "         6.92784324e-04,  3.43771387e-03,  3.24404187e-05,\n",
            "        -1.40492963e-03, -1.61586237e-04,  4.91596266e-05,\n",
            "        -5.54979351e-05, -2.57187409e-05,  1.19947590e-04,\n",
            "         1.29832683e-03,  1.65274559e-03,  8.63626985e-04,\n",
            "         8.99165334e-03, -8.83258846e-03, -8.50579662e-05,\n",
            "        -3.47120454e-04,  5.70237862e-04, -2.02869470e-03],\n",
            "       [-3.02535300e-03,  3.98981074e-03, -9.64457740e-04,\n",
            "        -1.67959407e-02, -3.84313837e-03,  8.65806111e-03,\n",
            "         1.19810179e-02,  1.01008432e-02,  1.00432927e-02,\n",
            "        -1.72282258e-03, -1.84213134e-02,  8.60372984e-04,\n",
            "         1.16633324e-02,  2.70480731e-03,  4.93496341e-04,\n",
            "         5.81640727e-04,  1.15669919e-05, -4.12011191e-04,\n",
            "        -3.31812164e-02, -4.61332815e-03, -4.09296974e-03,\n",
            "        -8.83258846e-03,  5.45540021e-02,  2.89441000e-04,\n",
            "        -3.72974416e-04, -8.22066580e-03,  7.25306379e-03],\n",
            "       [-1.90282688e-05,  8.39483682e-04, -8.20455413e-04,\n",
            "        -1.14807037e-03, -1.47564950e-03, -2.30444196e-03,\n",
            "         4.92816182e-03,  1.09909910e-03, -6.32522101e-04,\n",
            "        -9.70550030e-04,  5.03973027e-04,  1.48798974e-03,\n",
            "        -1.37573015e-03,  1.69516529e-03,  9.26657083e-04,\n",
            "         4.41886878e-04, -4.21643798e-06, -4.21360905e-06,\n",
            "        -2.35825915e-04,  1.21865773e-06, -3.30489914e-04,\n",
            "        -8.50579662e-05,  2.89441000e-04,  2.44607738e-03,\n",
            "         5.79675056e-03,  1.55073935e-03,  7.31286274e-04],\n",
            "       [ 5.42389437e-04,  6.39350210e-03, -6.93589154e-03,\n",
            "        -8.68165326e-03, -1.46736538e-02, -1.32876099e-02,\n",
            "         3.66429169e-02,  1.07384132e-03, -3.11905898e-03,\n",
            "        -3.46113449e-03,  5.50635216e-03,  5.59058783e-03,\n",
            "        -1.02803766e-02,  1.20959935e-02,  3.06779514e-03,\n",
            "         2.25773263e-03, -8.35790925e-05,  5.63087862e-05,\n",
            "        -5.91993180e-04,  2.37611667e-04, -1.85728157e-03,\n",
            "        -3.47120454e-04, -3.72974416e-04,  5.79675056e-03,\n",
            "         3.72411987e-02,  1.16556378e-02,  5.65295840e-03],\n",
            "       [ 6.92075971e-03, -2.67964457e-04, -6.65279525e-03,\n",
            "         1.56115842e-02,  4.07483414e-03, -8.15652080e-03,\n",
            "        -1.15298976e-02,  8.00660544e-03,  4.92563566e-03,\n",
            "        -2.34452680e-03, -1.05877143e-02, -1.42314981e-03,\n",
            "        -4.75756589e-02, -5.02441949e-03, -9.29377630e-04,\n",
            "        -1.02882007e-03,  7.04506742e-05,  4.79725884e-04,\n",
            "         9.57410867e-03, -4.95441331e-04, -3.22283064e-03,\n",
            "         5.70237862e-04, -8.22066580e-03,  1.55073935e-03,\n",
            "         1.16556378e-02,  4.88659861e-02,  1.07073705e-02],\n",
            "       [-1.16141684e-03,  1.66462139e-02, -1.54847971e-02,\n",
            "        -2.46463214e-02, -4.42725930e-03, -2.21426202e-03,\n",
            "         3.12878427e-02, -1.31027585e-05,  2.35797574e-03,\n",
            "        -3.89163532e-04, -1.95570945e-03,  3.13036679e-03,\n",
            "         2.57454154e-02,  8.73387086e-03,  1.84057460e-03,\n",
            "         1.36911228e-03,  4.77625209e-04,  3.74722860e-04,\n",
            "        -7.32442109e-03,  6.11302113e-04, -8.59681576e-04,\n",
            "        -2.02869470e-03,  7.25306379e-03,  7.31286274e-04,\n",
            "         5.65295840e-03,  1.07073705e-02,  9.52230402e-02]])}, 'n_neighbors': 29, 'weights': 'distance'}\n",
            "Melhor pontuação: 0.927890306122449\n"
          ]
        }
      ],
      "source": [
        "from sklearn.covariance import LedoitWolf\n",
        "cov = LedoitWolf().fit(X_train_oh).covariance_\n",
        "param_grid_2 = {'n_neighbors' : k_range, 'weights': ['uniform', 'distance'],\n",
        "              'algorithm':['auto', 'ball_tree', 'brute'],\n",
        "              'metric':['mahalanobis'], 'metric_params': [{'VI': cov}]}\n",
        "\n",
        "\n",
        "\n",
        "knn_2 = KNeighborsClassifier()\n",
        "grid_2 = GridSearchCV(knn_2, param_grid_2, cv=10, scoring='roc_auc')\n",
        "\n",
        "# Ajustando o modelo com os dados de treino\n",
        "grid_2.fit(X_train_oh, y_train)\n",
        "\n",
        "# Imprimindo os melhores parâmetros e a melhor pontuação\n",
        "print(\"Melhores parâmetros:\", grid_2.best_params_)\n",
        "print(\"Melhor pontuação:\", grid_2.best_score_)"
      ]
    },
    {
      "cell_type": "markdown",
      "metadata": {
        "id": "hwBNeNfFFLUs"
      },
      "source": [
        "### Decision Tree"
      ]
    },
    {
      "cell_type": "code",
      "execution_count": null,
      "metadata": {
        "colab": {
          "base_uri": "https://localhost:8080/"
        },
        "id": "xvCBWphQFgaN",
        "outputId": "9799520f-eae7-43f8-b4d1-c0bbe65f8911"
      },
      "outputs": [
        {
          "output_type": "stream",
          "name": "stdout",
          "text": [
            "Melhores parâmetros:  {'criterion': 'gini', 'max_depth': 5, 'min_impurity_decrease': 0.0, 'min_samples_leaf': 25, 'random_state': 10, 'splitter': 'random'}\n",
            "Melhor acurácia:  0.9430069924123495\n"
          ]
        }
      ],
      "source": [
        "from sklearn.tree import DecisionTreeClassifier\n",
        "from sklearn.model_selection import GridSearchCV\n",
        "import matplotlib.pyplot as plt\n",
        "import seaborn as sns\n",
        "import numpy as np\n",
        "\n",
        "# Define os parâmetros a serem testados\n",
        "param_grid = {'max_depth': np.arange(1, 11, 2),\n",
        "              'min_samples_leaf': np.arange(5, 51,5),\n",
        "              'criterion': ['gini', 'entropy','log_loss'],\n",
        "              'splitter': ['best','random'],\n",
        "              'min_impurity_decrease': [0.0, 0.1, 0.2, 0.3],\n",
        "              'random_state':[10]}\n",
        "\n",
        "# Cria o modelo de árvore de decisão\n",
        "tree_model = DecisionTreeClassifier()\n",
        "\n",
        "# Realiza a busca de parâmetros usando a técnica de validação cruzada\n",
        "grid_search = GridSearchCV(tree_model, param_grid, cv=10,scoring='roc_auc')\n",
        "grid_search.fit(X_train_oh, y_train)\n",
        "\n",
        "# Imprime os melhores parâmetros encontrados\n",
        "print(\"Melhores parâmetros: \", grid_search.best_params_)\n",
        "print(\"Melhor acurácia: \", grid_search.best_score_)\n",
        "\n"
      ]
    },
    {
      "cell_type": "markdown",
      "metadata": {
        "id": "LyBNoKpABXYo"
      },
      "source": [
        "Vamos refinar a busca em torno do melhor 'min_sample_leaf', 'max_depth' e 'min_impurity_decrease':"
      ]
    },
    {
      "cell_type": "code",
      "execution_count": null,
      "metadata": {
        "colab": {
          "base_uri": "https://localhost:8080/"
        },
        "id": "dhD9HbjhBU-T",
        "outputId": "a5cf84d0-1988-4cb8-bb54-c983746731a4"
      },
      "outputs": [
        {
          "output_type": "stream",
          "name": "stdout",
          "text": [
            "Melhores parâmetros:  {'criterion': 'gini', 'max_depth': 7, 'min_impurity_decrease': 0.0, 'min_samples_leaf': 25, 'random_state': 10}\n",
            "Melhor acurácia:  0.9411893118785978\n"
          ]
        }
      ],
      "source": [
        "from sklearn.tree import DecisionTreeClassifier\n",
        "from sklearn.model_selection import GridSearchCV\n",
        "import matplotlib.pyplot as plt\n",
        "import seaborn as sns\n",
        "import numpy as np\n",
        "\n",
        "# Define os parâmetros a serem testados\n",
        "param_grid = {'max_depth': np.arange(5, 9),\n",
        "              'min_samples_leaf': np.arange(22, 29),\n",
        "              'criterion': ['gini'],\n",
        "              'min_impurity_decrease': [0.0, 0.025, 0.05, 0.075],\n",
        "              'random_state':[10]}\n",
        "\n",
        "# Cria o modelo de árvore de decisão\n",
        "tree_model = DecisionTreeClassifier()\n",
        "\n",
        "# Realiza a busca de parâmetros usando a técnica de validação cruzada\n",
        "grid_search = GridSearchCV(tree_model, param_grid, cv=10,scoring='roc_auc')\n",
        "grid_search.fit(X_train_oh, y_train)\n",
        "\n",
        "# Imprime os melhores parâmetros encontrados\n",
        "print(\"Melhores parâmetros: \", grid_search.best_params_)\n",
        "print(\"Melhor acurácia: \", grid_search.best_score_)\n",
        "\n"
      ]
    },
    {
      "cell_type": "markdown",
      "metadata": {
        "id": "utQwj0crEYRi"
      },
      "source": [
        "Tivemos os mesmos resultados para acurácia, logo podemos concluir que estamos próximos do limite do que o algoritmo pode nos dar. Abaixo podemos ver a árvore gerada."
      ]
    },
    {
      "cell_type": "code",
      "execution_count": null,
      "metadata": {
        "colab": {
          "base_uri": "https://localhost:8080/",
          "height": 653
        },
        "id": "e1M17NeB29Zz",
        "outputId": "f4f454cb-c6ce-482a-80d8-bb748619c62c"
      },
      "outputs": [
        {
          "output_type": "display_data",
          "data": {
            "text/plain": [
              "<Figure size 1500x800 with 1 Axes>"
            ],
            "image/png": "[encoded data removed]"
          },
          "metadata": {}
        }
      ],
      "source": [
        "from sklearn.tree import export_graphviz\n",
        "from sklearn import tree\n",
        "import graphviz\n",
        "\n",
        "best_tree = grid_search.best_estimator_\n",
        "\n",
        "plt.figure(figsize=(15, 8))\n",
        "tree.plot_tree(best_tree, filled=True, feature_names=X_train_oh.columns)\n",
        "plt.show()\n"
      ]
    },
    {
      "cell_type": "markdown",
      "metadata": {
        "id": "N_f97XS1E9rO"
      },
      "source": [
        "Observando a árvore, podemos perceber quais foram os atributos mais significativos na classificação. O primeiro é se C_api_female (se o usuário se identificou como mulher), depois o C_api_unknown (se não se classificou) e em terceiro lugar NDays (número de dias ativo como editor)."
      ]
    },
    {
      "cell_type": "markdown",
      "metadata": {
        "id": "vqiFzBikFPp5"
      },
      "source": [
        "### SVM"
      ]
    },
    {
      "cell_type": "code",
      "execution_count": null,
      "metadata": {
        "colab": {
          "base_uri": "https://localhost:8080/"
        },
        "id": "blkBpvyxHkig",
        "outputId": "8d40f6cf-746b-4078-cff9-928f0692feb4"
      },
      "outputs": [
        {
          "output_type": "stream",
          "name": "stdout",
          "text": [
            "Melhores parâmetros: {'C': 100, 'gamma': 'auto', 'kernel': 'rbf', 'random_state': 10}\n",
            "Melhor acurácia:  0.9337839612768185\n"
          ]
        }
      ],
      "source": [
        "from sklearn.svm import SVC\n",
        "\n",
        "param_grid = {'C': [0.01, 0.1, 1, 10, 100],\n",
        "              'kernel': ['linear', 'poly', 'rbf', 'sigmoid'],\n",
        "              'gamma': ['scale', 'auto'],\n",
        "              'random_state':[10]}\n",
        "\n",
        "# criando o modelo SVM\n",
        "svm = SVC()\n",
        "\n",
        "# criando um objeto GridSearchCV para buscar os melhores parâmetros\n",
        "grid_search = GridSearchCV(svm, param_grid, cv=10, n_jobs=-1,scoring='roc_auc')\n",
        "\n",
        "# treinando o modelo com a busca de parâmetros\n",
        "grid_search.fit(X_train_oh, y_train)\n",
        "\n",
        "    \n",
        "# extraindo os melhores parâmetros encontrados pela busca\n",
        "best_params = grid_search.best_params_\n",
        "print(f'Melhores parâmetros: {best_params}')\n",
        "print(\"Melhor acurácia: \", grid_search.best_score_)"
      ]
    },
    {
      "cell_type": "markdown",
      "metadata": {
        "id": "RlBBWuLjHqa9"
      },
      "source": [
        "Vamos variar os parâmetros de 'C' em torno do melhor obitido para tentar encontrar um melhor valor."
      ]
    },
    {
      "cell_type": "code",
      "execution_count": null,
      "metadata": {
        "colab": {
          "base_uri": "https://localhost:8080/"
        },
        "id": "BadKF_EgHpQI",
        "outputId": "77e6e8a7-4786-424b-ed85-c69f43eaeffb"
      },
      "outputs": [
        {
          "output_type": "stream",
          "name": "stdout",
          "text": [
            "Melhores parâmetros: {'C': 1.5000000000000009, 'gamma': 'scale', 'kernel': 'poly', 'random_state': 10}\n",
            "Melhor acurácia:  0.9003306645735216\n"
          ]
        }
      ],
      "source": [
        "from sklearn.svm import SVC\n",
        "\n",
        "param_grid = {'C': np.arange(.5, 1.51, 0.05),\n",
        "              'kernel': ['poly'],\n",
        "              'gamma': ['scale'],\n",
        "              'random_state':[10]}\n",
        "\n",
        "# criando o modelo SVM\n",
        "svm = SVC()\n",
        "\n",
        "# criando um objeto GridSearchCV para buscar os melhores parâmetros\n",
        "grid_search = GridSearchCV(svm, param_grid, cv=10, n_jobs=-1,scoring='roc_auc')\n",
        "\n",
        "# treinando o modelo com a busca de parâmetros\n",
        "grid_search.fit(X_train_oh, y_train)\n",
        "    \n",
        "# extraindo os melhores parâmetros encontrados pela busca\n",
        "best_params = grid_search.best_params_\n",
        "print(f'Melhores parâmetros: {best_params}')\n",
        "print(\"Melhor acurácia: \", grid_search.best_score_)"
      ]
    },
    {
      "cell_type": "markdown",
      "metadata": {
        "id": "0_AQMcjsIBvb"
      },
      "source": [
        "Obtivemos uma leve melhora na acurácia, o que mostra que já estamos perto do limite do que esse algoritmo pode nos dar de modelo."
      ]
    },
    {
      "cell_type": "markdown",
      "metadata": {
        "id": "MGAQJ_z5FRqZ"
      },
      "source": [
        "### Random Forest"
      ]
    },
    {
      "cell_type": "markdown",
      "metadata": {
        "id": "w0UY28oEI-Da"
      },
      "source": [
        "O método da Random Forest, por gerar diversas árvores precisa de mais tempo para seu treino, por isso utilizamos o Random Search no lugar do Grid Search para acelerar nossas buscas por melhores parâmetros."
      ]
    },
    {
      "cell_type": "code",
      "execution_count": null,
      "metadata": {
        "colab": {
          "base_uri": "https://localhost:8080/"
        },
        "id": "ZDvCJDHvIXGA",
        "outputId": "ff92b197-2009-40bf-d30d-48346ecf2775"
      },
      "outputs": [
        {
          "output_type": "stream",
          "name": "stdout",
          "text": [
            "Melhores parâmetros: {'random_state': 10, 'n_estimators': 50, 'min_samples_leaf': 5, 'min_impurity_decrease': 0.0, 'max_features': 0.3, 'max_depth': 3, 'bootstrap': True}\n",
            "Acurácia: 0.9504305991627419\n"
          ]
        }
      ],
      "source": [
        "from sklearn.ensemble import RandomForestClassifier\n",
        "from sklearn.model_selection import RandomizedSearchCV\n",
        "\n",
        "param_grid = {\n",
        "    'n_estimators': [50, 100, 150, 200],\n",
        "    'max_depth': np.arange(1, 11, 2),\n",
        "    'min_impurity_decrease': [0.0, 0.1, 0.2, 0.3],\n",
        "    'min_samples_leaf': np.arange(5, 51,5),\n",
        "    'max_features': [.1, .3, .5, .7, .9],\n",
        "    'bootstrap': [True, False],\n",
        "    'random_state':[10]\n",
        "}\n",
        "\n",
        "# Cria o modelo de classificação\n",
        "rfc = RandomForestClassifier()\n",
        "\n",
        "# Realiza a busca de parâmetros com cross validation\n",
        "grid_search = RandomizedSearchCV(estimator=rfc, param_distributions=param_grid,  n_iter=100, cv=10,scoring='roc_auc')\n",
        "grid_search.fit(X_train_oh, y_train)\n",
        "\n",
        "# Exibe o melhor conjunto de parâmetros e a acurácia correspondente\n",
        "print(f\"Melhores parâmetros: {grid_search.best_params_}\")\n",
        "print(f\"Acurácia: {grid_search.best_score_}\")"
      ]
    },
    {
      "cell_type": "markdown",
      "metadata": {
        "id": "mTBGpY6NSHsn"
      },
      "source": [
        "Assim como fizemos nos outros métodos, vamos variar alguns parâmetros me busca de melhores resultados."
      ]
    },
    {
      "cell_type": "code",
      "execution_count": null,
      "metadata": {
        "colab": {
          "base_uri": "https://localhost:8080/"
        },
        "id": "yZfI3MDlMtA-",
        "outputId": "96a018c1-0441-4e37-983d-a52161799170"
      },
      "outputs": [
        {
          "output_type": "stream",
          "name": "stdout",
          "text": [
            "Melhores parâmetros: {'random_state': 10, 'n_estimators': 200, 'min_samples_leaf': 10, 'min_impurity_decrease': 0.0, 'max_features': 0.6, 'max_depth': 6, 'bootstrap': False}\n",
            "Acurácia: 0.9506139128728414\n"
          ]
        }
      ],
      "source": [
        "from sklearn.ensemble import RandomForestClassifier\n",
        "from sklearn.model_selection import RandomizedSearchCV\n",
        "\n",
        "param_grid = {\n",
        "    'n_estimators': [50, 100, 150, 200],\n",
        "    'max_depth': np.arange(5, 10, 1),\n",
        "    'min_impurity_decrease': [0.0],\n",
        "    'min_samples_leaf': np.arange(10, 30,2),\n",
        "    'max_features': [.6, .7, .8],\n",
        "    'bootstrap': [True, False],\n",
        "    'random_state':[10]\n",
        "}\n",
        "\n",
        "\n",
        "# Cria o modelo de classificação\n",
        "rfc = RandomForestClassifier()\n",
        "\n",
        "# Realiza a busca de parâmetros com cross validation\n",
        "grid_search = RandomizedSearchCV(estimator=rfc, param_distributions=param_grid,  n_iter=30, cv=10,scoring='roc_auc')\n",
        "grid_search.fit(X_train_oh, y_train)\n",
        "\n",
        "# Exibe o melhor conjunto de parâmetros e a acurácia correspondente\n",
        "print(f\"Melhores parâmetros: {grid_search.best_params_}\")\n",
        "print(f\"Acurácia: {grid_search.best_score_}\")"
      ]
    },
    {
      "cell_type": "markdown",
      "metadata": {
        "id": "ABxxwVgAFGgg"
      },
      "source": [
        "### LVQ"
      ]
    },
    {
      "cell_type": "code",
      "execution_count": null,
      "metadata": {
        "colab": {
          "base_uri": "https://localhost:8080/"
        },
        "id": "_p5EBx1bkJda",
        "outputId": "706e7fa3-e831-4278-c2e0-580aef7c77b3"
      },
      "outputs": [
        {
          "output_type": "stream",
          "name": "stdout",
          "text": [
            "Looking in indexes: https://pypi.org/simple, https://us-python.pkg.dev/colab-wheels/public/simple/\n",
            "Collecting sklearn_lvq\n",
            "  Downloading sklearn_lvq-1.1.1-py3-none-any.whl (38 kB)\n",
            "Requirement already satisfied: numpy>=1.9.1 in /usr/local/lib/python3.10/dist-packages (from sklearn_lvq) (1.22.4)\n",
            "Requirement already satisfied: scikit-learn>=0.17 in /usr/local/lib/python3.10/dist-packages (from sklearn_lvq) (1.2.2)\n",
            "Requirement already satisfied: scipy>=1.3.2 in /usr/local/lib/python3.10/dist-packages (from scikit-learn>=0.17->sklearn_lvq) (1.10.1)\n",
            "Requirement already satisfied: joblib>=1.1.1 in /usr/local/lib/python3.10/dist-packages (from scikit-learn>=0.17->sklearn_lvq) (1.2.0)\n",
            "Requirement already satisfied: threadpoolctl>=2.0.0 in /usr/local/lib/python3.10/dist-packages (from scikit-learn>=0.17->sklearn_lvq) (3.1.0)\n",
            "Installing collected packages: sklearn_lvq\n",
            "Successfully installed sklearn_lvq-1.1.1\n"
          ]
        }
      ],
      "source": [
        "pip install sklearn_lvq"
      ]
    },
    {
      "cell_type": "markdown",
      "metadata": {
        "id": "sTrC90SajNk1"
      },
      "source": [
        "Variando alguns parâmetros do LVQ como:\n",
        "\n",
        " max_iter: Número máximo de iterações para o modelo convergir e não ficar treinando infinitamente.\n",
        "\n",
        " prototyper_per_class: Número de protótipos criados para cada classe, exemplos de treinamentos aleatórios que representam cada classe.\n",
        "\n",
        " beta: Fator de redução da taxa de aprendizado a cada iteração.\n"
      ]
    },
    {
      "cell_type": "code",
      "execution_count": null,
      "metadata": {
        "colab": {
          "base_uri": "https://localhost:8080/"
        },
        "id": "0qkIQTIYjqUp",
        "outputId": "51fe0e93-9d09-4794-a5c9-b90c24f6d66e"
      },
      "outputs": [
        {
          "output_type": "stream",
          "name": "stdout",
          "text": [
            "Melhores parâmetros: {'beta': 5, 'max_iter': 1000, 'prototypes_per_class': 2}\n",
            "Melhor pontuação: 0.8892885138670852\n"
          ]
        }
      ],
      "source": [
        "from sklearn_lvq import GlvqModel\n",
        "\n",
        "# Definindo os parâmetros a serem testados\n",
        "param_grid = {\n",
        "    'max_iter':[200,400,1000,2500],\n",
        "    'prototypes_per_class': [1, 2, 3],\n",
        "    'beta': [1, 2, 5]\n",
        "}\n",
        "\n",
        "# Criando o modelo GLVQ\n",
        "model = GlvqModel()\n",
        "\n",
        "# Criando o objeto de busca de parâmetros com validação cruzada\n",
        "grid_search = GridSearchCV(model, param_grid=param_grid, cv=10,scoring='roc_auc')\n",
        "\n",
        "# Realizando a busca de parâmetros com validação cruzada\n",
        "grid_search.fit(X_train_oh, y_train)\n",
        "\n",
        "# Imprimindo os melhores parâmetros encontrados\n",
        "print(\"Melhores parâmetros:\", grid_search.best_params_)\n",
        "print(\"Melhor pontuação:\", grid_search.best_score_)\n"
      ]
    },
    {
      "cell_type": "markdown",
      "metadata": {
        "id": "7omMxG2ejzi_"
      },
      "source": [
        "Usando o label encoder nas classes para usar outra ferramenta do LVQ"
      ]
    },
    {
      "cell_type": "code",
      "execution_count": null,
      "metadata": {
        "id": "stY7xqT8Oi_i"
      },
      "outputs": [],
      "source": [
        "from sklearn.preprocessing import LabelEncoder\n",
        "\n",
        "le = LabelEncoder()\n",
        "y_trainle = le.fit_transform(y_train)\n",
        "y_testle = le.transform(y_test)"
      ]
    },
    {
      "cell_type": "code",
      "execution_count": null,
      "metadata": {
        "colab": {
          "base_uri": "https://localhost:8080/"
        },
        "id": "JPMuALa7O5-i",
        "outputId": "fd615bfb-cc95-485e-f2ce-454b2d0cf979"
      },
      "outputs": [
        {
          "output_type": "stream",
          "name": "stdout",
          "text": [
            "Número de ocorrências de 0: 247\n",
            "Número de ocorrências de 1: 1954\n"
          ]
        }
      ],
      "source": [
        "counts = np.bincount(y_trainle)\n",
        "num_zeros = counts[0]\n",
        "num_ones = counts[1]\n",
        "\n",
        "print(f\"Número de ocorrências de 0: {num_zeros}\")\n",
        "print(f\"Número de ocorrências de 1: {num_ones}\")"
      ]
    },
    {
      "cell_type": "markdown",
      "metadata": {
        "id": "WJeWLGN8PQL4"
      },
      "source": [
        "Dando mais ênfase no erro de predição em que classifica mulher como homem, já que temos muito mais homens em nosso dataset:"
      ]
    },
    {
      "cell_type": "code",
      "execution_count": null,
      "metadata": {
        "colab": {
          "base_uri": "https://localhost:8080/"
        },
        "id": "B0KVhSCrFBBW",
        "outputId": "d2fb1ec2-c013-489f-9fff-bb67dad39853"
      },
      "outputs": [
        {
          "output_type": "stream",
          "name": "stdout",
          "text": [
            "Melhores parâmetros: {'beta': 5, 'c': [[0, 1, 1], [1, 0, 1]], 'max_iter': 200, 'prototypes_per_class': 3}\n",
            "Melhor pontuação: 0.8962003270538986\n"
          ]
        }
      ],
      "source": [
        "from sklearn_lvq import GlvqModel\n",
        "\n",
        "# Definindo os parâmetros a serem testados\n",
        "param_grid = {\n",
        "    'max_iter':[200,400],\n",
        "    'prototypes_per_class': [1, 2,3],\n",
        "    'beta': [1, 2, 5],\n",
        "    'c': [[[0,1, 2], [1,0, 1]],[[0,1,1],[1,0,1]]]\n",
        "}\n",
        "\n",
        "# Criando o modelo GLVQ\n",
        "model2 = GlvqModel()\n",
        "\n",
        "# Criando o objeto de busca de parâmetros com validação cruzada\n",
        "grid_search2 = GridSearchCV(model2, param_grid=param_grid, cv=10,scoring='roc_auc')\n",
        "\n",
        "# Realizando a busca de parâmetros com validação cruzada\n",
        "grid_search2.fit(X_train_oh, y_trainle)\n",
        "\n",
        "# Imprimindo os melhores parâmetros encontrados\n",
        "print(\"Melhores parâmetros:\", grid_search2.best_params_)\n",
        "print(\"Melhor pontuação:\", grid_search2.best_score_)\n"
      ]
    },
    {
      "cell_type": "markdown",
      "metadata": {
        "id": "8WPMgCJaiYvq"
      },
      "source": [
        "Dando mais peso a esse erro foi visto como melhor."
      ]
    },
    {
      "cell_type": "markdown",
      "metadata": {
        "id": "3VgcX4G6FUA-"
      },
      "source": [
        "### MLP"
      ]
    },
    {
      "cell_type": "markdown",
      "source": [
        "Variando o número de camadas ocultas, número de cneurônias em cada camada, função de ativação em cada camada oculta, complexidade da rede neural, taxa de aprendizado inicial, número máximo de iterações e se a taxa de aprendizado será constante ou adaptativa. "
      ],
      "metadata": {
        "id": "QkLoLNhWM_Bg"
      }
    },
    {
      "cell_type": "code",
      "execution_count": null,
      "metadata": {
        "colab": {
          "base_uri": "https://localhost:8080/"
        },
        "id": "0cXvM4NdTfjS",
        "outputId": "bb38c95a-7298-482f-e098-ca7723a1ef17"
      },
      "outputs": [
        {
          "output_type": "stream",
          "name": "stderr",
          "text": [
            "/usr/local/lib/python3.10/dist-packages/sklearn/neural_network/_multilayer_perceptron.py:686: ConvergenceWarning: Stochastic Optimizer: Maximum iterations (600) reached and the optimization hasn't converged yet.\n",
            "  warnings.warn(\n"
          ]
        },
        {
          "output_type": "stream",
          "name": "stdout",
          "text": [
            "Melhores parâmetros: {'max_iter': 600, 'learning_rate_init': 0.001, 'learning_rate': 'adaptive', 'hidden_layer_sizes': (50, 50), 'alpha': 0.01, 'activation': 'tanh'}\n",
            "Melhor pontuação: 0.9501906331763476\n"
          ]
        }
      ],
      "source": [
        "from sklearn.neural_network import MLPClassifier\n",
        "from sklearn.model_selection import RandomizedSearchCV\n",
        "\n",
        "params = {\n",
        "    'hidden_layer_sizes': [(20,), (50,50), (100,)],\n",
        "    'activation': ['identity','logistic', 'tanh', 'relu'],\n",
        "    'alpha': [0.0001, 0.001, 0.01],\n",
        "    'learning_rate_init': [0.001, 0.01, 0.1],\n",
        "    'max_iter': [600,1000], # Não converge com o padrão 200\n",
        "    'learning_rate': ['constant', 'adaptive']\n",
        "    }\n",
        "\n",
        "mlp = MLPClassifier()\n",
        "rf_random = RandomizedSearchCV(estimator = mlp, param_distributions = params, n_iter = 40, cv = 10,scoring='roc_auc')\n",
        "\n",
        "\n",
        "rf_random.fit(X_train_oh, y_train)\n",
        "print(\"Melhores parâmetros:\", rf_random.best_params_)\n",
        "print(\"Melhor pontuação:\", rf_random.best_score_)"
      ]
    },
    {
      "cell_type": "markdown",
      "metadata": {
        "id": "dNSiKebYcFZH"
      },
      "source": [
        "Rodando agora de forma mais robusta com mais camadas e com um teto maior de iterações fixo"
      ]
    },
    {
      "cell_type": "code",
      "execution_count": null,
      "metadata": {
        "colab": {
          "base_uri": "https://localhost:8080/"
        },
        "id": "UFvd8LMYXFAW",
        "outputId": "79ad2783-a6cb-48ee-be9a-65bec30bf655"
      },
      "outputs": [
        {
          "output_type": "stream",
          "name": "stdout",
          "text": [
            "Fitting 10 folds for each of 24 candidates, totalling 240 fits\n",
            "[CV 1/10; 1/24] START activation=tanh, alpha=0.0001, hidden_layer_sizes=(50, 50), learning_rate=constant, learning_rate_init=0.001, max_iter=1000\n"
          ]
        },
        {
          "output_type": "stream",
          "name": "stderr",
          "text": [
            "/usr/local/lib/python3.10/dist-packages/sklearn/model_selection/_search.py:305: UserWarning: The total space of parameters 24 is smaller than n_iter=40. Running 24 iterations. For exhaustive searches, use GridSearchCV.\n",
            "  warnings.warn(\n"
          ]
        },
        {
          "output_type": "stream",
          "name": "stdout",
          "text": [
            "[CV 1/10; 1/24] END activation=tanh, alpha=0.0001, hidden_layer_sizes=(50, 50), learning_rate=constant, learning_rate_init=0.001, max_iter=1000;, score=0.958 total time=   3.3s\n",
            "[CV 2/10; 1/24] START activation=tanh, alpha=0.0001, hidden_layer_sizes=(50, 50), learning_rate=constant, learning_rate_init=0.001, max_iter=1000\n",
            "[CV 2/10; 1/24] END activation=tanh, alpha=0.0001, hidden_layer_sizes=(50, 50), learning_rate=constant, learning_rate_init=0.001, max_iter=1000;, score=0.974 total time=   3.0s\n",
            "[CV 3/10; 1/24] START activation=tanh, alpha=0.0001, hidden_layer_sizes=(50, 50), learning_rate=constant, learning_rate_init=0.001, max_iter=1000\n",
            "[CV 3/10; 1/24] END activation=tanh, alpha=0.0001, hidden_layer_sizes=(50, 50), learning_rate=constant, learning_rate_init=0.001, max_iter=1000;, score=0.932 total time=   3.2s\n",
            "[CV 4/10; 1/24] START activation=tanh, alpha=0.0001, hidden_layer_sizes=(50, 50), learning_rate=constant, learning_rate_init=0.001, max_iter=1000\n",
            "[CV 4/10; 1/24] END activation=tanh, alpha=0.0001, hidden_layer_sizes=(50, 50), learning_rate=constant, learning_rate_init=0.001, max_iter=1000;, score=0.957 total time=   4.4s\n",
            "[CV 5/10; 1/24] START activation=tanh, alpha=0.0001, hidden_layer_sizes=(50, 50), learning_rate=constant, learning_rate_init=0.001, max_iter=1000\n",
            "[CV 5/10; 1/24] END activation=tanh, alpha=0.0001, hidden_layer_sizes=(50, 50), learning_rate=constant, learning_rate_init=0.001, max_iter=1000;, score=0.950 total time=   5.8s\n",
            "[CV 6/10; 1/24] START activation=tanh, alpha=0.0001, hidden_layer_sizes=(50, 50), learning_rate=constant, learning_rate_init=0.001, max_iter=1000\n",
            "[CV 6/10; 1/24] END activation=tanh, alpha=0.0001, hidden_layer_sizes=(50, 50), learning_rate=constant, learning_rate_init=0.001, max_iter=1000;, score=0.926 total time=   4.3s\n",
            "[CV 7/10; 1/24] START activation=tanh, alpha=0.0001, hidden_layer_sizes=(50, 50), learning_rate=constant, learning_rate_init=0.001, max_iter=1000\n",
            "[CV 7/10; 1/24] END activation=tanh, alpha=0.0001, hidden_layer_sizes=(50, 50), learning_rate=constant, learning_rate_init=0.001, max_iter=1000;, score=0.935 total time=   4.6s\n",
            "[CV 8/10; 1/24] START activation=tanh, alpha=0.0001, hidden_layer_sizes=(50, 50), learning_rate=constant, learning_rate_init=0.001, max_iter=1000\n",
            "[CV 8/10; 1/24] END activation=tanh, alpha=0.0001, hidden_layer_sizes=(50, 50), learning_rate=constant, learning_rate_init=0.001, max_iter=1000;, score=0.958 total time=   3.8s\n",
            "[CV 9/10; 1/24] START activation=tanh, alpha=0.0001, hidden_layer_sizes=(50, 50), learning_rate=constant, learning_rate_init=0.001, max_iter=1000\n",
            "[CV 9/10; 1/24] END activation=tanh, alpha=0.0001, hidden_layer_sizes=(50, 50), learning_rate=constant, learning_rate_init=0.001, max_iter=1000;, score=0.942 total time=   5.1s\n",
            "[CV 10/10; 1/24] START activation=tanh, alpha=0.0001, hidden_layer_sizes=(50, 50), learning_rate=constant, learning_rate_init=0.001, max_iter=1000\n",
            "[CV 10/10; 1/24] END activation=tanh, alpha=0.0001, hidden_layer_sizes=(50, 50), learning_rate=constant, learning_rate_init=0.001, max_iter=1000;, score=0.943 total time=   6.1s\n",
            "[CV 1/10; 2/24] START activation=tanh, alpha=0.0001, hidden_layer_sizes=(50, 50), learning_rate=constant, learning_rate_init=0.01, max_iter=1000\n",
            "[CV 1/10; 2/24] END activation=tanh, alpha=0.0001, hidden_layer_sizes=(50, 50), learning_rate=constant, learning_rate_init=0.01, max_iter=1000;, score=0.910 total time=   6.0s\n",
            "[CV 2/10; 2/24] START activation=tanh, alpha=0.0001, hidden_layer_sizes=(50, 50), learning_rate=constant, learning_rate_init=0.01, max_iter=1000\n",
            "[CV 2/10; 2/24] END activation=tanh, alpha=0.0001, hidden_layer_sizes=(50, 50), learning_rate=constant, learning_rate_init=0.01, max_iter=1000;, score=0.950 total time=   7.5s\n",
            "[CV 3/10; 2/24] START activation=tanh, alpha=0.0001, hidden_layer_sizes=(50, 50), learning_rate=constant, learning_rate_init=0.01, max_iter=1000\n",
            "[CV 3/10; 2/24] END activation=tanh, alpha=0.0001, hidden_layer_sizes=(50, 50), learning_rate=constant, learning_rate_init=0.01, max_iter=1000;, score=0.926 total time=   4.4s\n",
            "[CV 4/10; 2/24] START activation=tanh, alpha=0.0001, hidden_layer_sizes=(50, 50), learning_rate=constant, learning_rate_init=0.01, max_iter=1000\n",
            "[CV 4/10; 2/24] END activation=tanh, alpha=0.0001, hidden_layer_sizes=(50, 50), learning_rate=constant, learning_rate_init=0.01, max_iter=1000;, score=0.932 total time=   8.8s\n",
            "[CV 5/10; 2/24] START activation=tanh, alpha=0.0001, hidden_layer_sizes=(50, 50), learning_rate=constant, learning_rate_init=0.01, max_iter=1000\n",
            "[CV 5/10; 2/24] END activation=tanh, alpha=0.0001, hidden_layer_sizes=(50, 50), learning_rate=constant, learning_rate_init=0.01, max_iter=1000;, score=0.951 total time=   6.0s\n",
            "[CV 6/10; 2/24] START activation=tanh, alpha=0.0001, hidden_layer_sizes=(50, 50), learning_rate=constant, learning_rate_init=0.01, max_iter=1000\n",
            "[CV 6/10; 2/24] END activation=tanh, alpha=0.0001, hidden_layer_sizes=(50, 50), learning_rate=constant, learning_rate_init=0.01, max_iter=1000;, score=0.898 total time=   7.8s\n",
            "[CV 7/10; 2/24] START activation=tanh, alpha=0.0001, hidden_layer_sizes=(50, 50), learning_rate=constant, learning_rate_init=0.01, max_iter=1000\n",
            "[CV 7/10; 2/24] END activation=tanh, alpha=0.0001, hidden_layer_sizes=(50, 50), learning_rate=constant, learning_rate_init=0.01, max_iter=1000;, score=0.934 total time=   5.5s\n",
            "[CV 8/10; 2/24] START activation=tanh, alpha=0.0001, hidden_layer_sizes=(50, 50), learning_rate=constant, learning_rate_init=0.01, max_iter=1000\n",
            "[CV 8/10; 2/24] END activation=tanh, alpha=0.0001, hidden_layer_sizes=(50, 50), learning_rate=constant, learning_rate_init=0.01, max_iter=1000;, score=0.943 total time=   0.9s\n",
            "[CV 9/10; 2/24] START activation=tanh, alpha=0.0001, hidden_layer_sizes=(50, 50), learning_rate=constant, learning_rate_init=0.01, max_iter=1000\n",
            "[CV 9/10; 2/24] END activation=tanh, alpha=0.0001, hidden_layer_sizes=(50, 50), learning_rate=constant, learning_rate_init=0.01, max_iter=1000;, score=0.930 total time=   6.6s\n",
            "[CV 10/10; 2/24] START activation=tanh, alpha=0.0001, hidden_layer_sizes=(50, 50), learning_rate=constant, learning_rate_init=0.01, max_iter=1000\n",
            "[CV 10/10; 2/24] END activation=tanh, alpha=0.0001, hidden_layer_sizes=(50, 50), learning_rate=constant, learning_rate_init=0.01, max_iter=1000;, score=0.935 total time=   4.5s\n",
            "[CV 1/10; 3/24] START activation=tanh, alpha=0.0001, hidden_layer_sizes=(50, 50), learning_rate=constant, learning_rate_init=0.1, max_iter=1000\n",
            "[CV 1/10; 3/24] END activation=tanh, alpha=0.0001, hidden_layer_sizes=(50, 50), learning_rate=constant, learning_rate_init=0.1, max_iter=1000;, score=0.498 total time=   0.4s\n",
            "[CV 2/10; 3/24] START activation=tanh, alpha=0.0001, hidden_layer_sizes=(50, 50), learning_rate=constant, learning_rate_init=0.1, max_iter=1000\n",
            "[CV 2/10; 3/24] END activation=tanh, alpha=0.0001, hidden_layer_sizes=(50, 50), learning_rate=constant, learning_rate_init=0.1, max_iter=1000;, score=0.967 total time=   0.6s\n",
            "[CV 3/10; 3/24] START activation=tanh, alpha=0.0001, hidden_layer_sizes=(50, 50), learning_rate=constant, learning_rate_init=0.1, max_iter=1000\n",
            "[CV 3/10; 3/24] END activation=tanh, alpha=0.0001, hidden_layer_sizes=(50, 50), learning_rate=constant, learning_rate_init=0.1, max_iter=1000;, score=0.926 total time=   0.8s\n",
            "[CV 4/10; 3/24] START activation=tanh, alpha=0.0001, hidden_layer_sizes=(50, 50), learning_rate=constant, learning_rate_init=0.1, max_iter=1000\n",
            "[CV 4/10; 3/24] END activation=tanh, alpha=0.0001, hidden_layer_sizes=(50, 50), learning_rate=constant, learning_rate_init=0.1, max_iter=1000;, score=0.942 total time=   0.7s\n",
            "[CV 5/10; 3/24] START activation=tanh, alpha=0.0001, hidden_layer_sizes=(50, 50), learning_rate=constant, learning_rate_init=0.1, max_iter=1000\n",
            "[CV 5/10; 3/24] END activation=tanh, alpha=0.0001, hidden_layer_sizes=(50, 50), learning_rate=constant, learning_rate_init=0.1, max_iter=1000;, score=0.956 total time=   0.6s\n",
            "[CV 6/10; 3/24] START activation=tanh, alpha=0.0001, hidden_layer_sizes=(50, 50), learning_rate=constant, learning_rate_init=0.1, max_iter=1000\n",
            "[CV 6/10; 3/24] END activation=tanh, alpha=0.0001, hidden_layer_sizes=(50, 50), learning_rate=constant, learning_rate_init=0.1, max_iter=1000;, score=0.926 total time=   0.8s\n",
            "[CV 7/10; 3/24] START activation=tanh, alpha=0.0001, hidden_layer_sizes=(50, 50), learning_rate=constant, learning_rate_init=0.1, max_iter=1000\n",
            "[CV 7/10; 3/24] END activation=tanh, alpha=0.0001, hidden_layer_sizes=(50, 50), learning_rate=constant, learning_rate_init=0.1, max_iter=1000;, score=0.929 total time=   1.6s\n",
            "[CV 8/10; 3/24] START activation=tanh, alpha=0.0001, hidden_layer_sizes=(50, 50), learning_rate=constant, learning_rate_init=0.1, max_iter=1000\n",
            "[CV 8/10; 3/24] END activation=tanh, alpha=0.0001, hidden_layer_sizes=(50, 50), learning_rate=constant, learning_rate_init=0.1, max_iter=1000;, score=0.953 total time=   1.5s\n",
            "[CV 9/10; 3/24] START activation=tanh, alpha=0.0001, hidden_layer_sizes=(50, 50), learning_rate=constant, learning_rate_init=0.1, max_iter=1000\n",
            "[CV 9/10; 3/24] END activation=tanh, alpha=0.0001, hidden_layer_sizes=(50, 50), learning_rate=constant, learning_rate_init=0.1, max_iter=1000;, score=0.945 total time=   1.1s\n",
            "[CV 10/10; 3/24] START activation=tanh, alpha=0.0001, hidden_layer_sizes=(50, 50), learning_rate=constant, learning_rate_init=0.1, max_iter=1000\n",
            "[CV 10/10; 3/24] END activation=tanh, alpha=0.0001, hidden_layer_sizes=(50, 50), learning_rate=constant, learning_rate_init=0.1, max_iter=1000;, score=0.943 total time=   0.5s\n",
            "[CV 1/10; 4/24] START activation=tanh, alpha=0.0001, hidden_layer_sizes=(50, 50), learning_rate=adaptive, learning_rate_init=0.001, max_iter=1000\n",
            "[CV 1/10; 4/24] END activation=tanh, alpha=0.0001, hidden_layer_sizes=(50, 50), learning_rate=adaptive, learning_rate_init=0.001, max_iter=1000;, score=0.962 total time=   2.3s\n",
            "[CV 2/10; 4/24] START activation=tanh, alpha=0.0001, hidden_layer_sizes=(50, 50), learning_rate=adaptive, learning_rate_init=0.001, max_iter=1000\n",
            "[CV 2/10; 4/24] END activation=tanh, alpha=0.0001, hidden_layer_sizes=(50, 50), learning_rate=adaptive, learning_rate_init=0.001, max_iter=1000;, score=0.972 total time=   1.4s\n",
            "[CV 3/10; 4/24] START activation=tanh, alpha=0.0001, hidden_layer_sizes=(50, 50), learning_rate=adaptive, learning_rate_init=0.001, max_iter=1000\n",
            "[CV 3/10; 4/24] END activation=tanh, alpha=0.0001, hidden_layer_sizes=(50, 50), learning_rate=adaptive, learning_rate_init=0.001, max_iter=1000;, score=0.935 total time=   1.5s\n",
            "[CV 4/10; 4/24] START activation=tanh, alpha=0.0001, hidden_layer_sizes=(50, 50), learning_rate=adaptive, learning_rate_init=0.001, max_iter=1000\n",
            "[CV 4/10; 4/24] END activation=tanh, alpha=0.0001, hidden_layer_sizes=(50, 50), learning_rate=adaptive, learning_rate_init=0.001, max_iter=1000;, score=0.957 total time=   2.6s\n",
            "[CV 5/10; 4/24] START activation=tanh, alpha=0.0001, hidden_layer_sizes=(50, 50), learning_rate=adaptive, learning_rate_init=0.001, max_iter=1000\n",
            "[CV 5/10; 4/24] END activation=tanh, alpha=0.0001, hidden_layer_sizes=(50, 50), learning_rate=adaptive, learning_rate_init=0.001, max_iter=1000;, score=0.955 total time=   4.5s\n",
            "[CV 6/10; 4/24] START activation=tanh, alpha=0.0001, hidden_layer_sizes=(50, 50), learning_rate=adaptive, learning_rate_init=0.001, max_iter=1000\n",
            "[CV 6/10; 4/24] END activation=tanh, alpha=0.0001, hidden_layer_sizes=(50, 50), learning_rate=adaptive, learning_rate_init=0.001, max_iter=1000;, score=0.921 total time=   5.2s\n",
            "[CV 7/10; 4/24] START activation=tanh, alpha=0.0001, hidden_layer_sizes=(50, 50), learning_rate=adaptive, learning_rate_init=0.001, max_iter=1000\n",
            "[CV 7/10; 4/24] END activation=tanh, alpha=0.0001, hidden_layer_sizes=(50, 50), learning_rate=adaptive, learning_rate_init=0.001, max_iter=1000;, score=0.935 total time=   4.1s\n",
            "[CV 8/10; 4/24] START activation=tanh, alpha=0.0001, hidden_layer_sizes=(50, 50), learning_rate=adaptive, learning_rate_init=0.001, max_iter=1000\n",
            "[CV 8/10; 4/24] END activation=tanh, alpha=0.0001, hidden_layer_sizes=(50, 50), learning_rate=adaptive, learning_rate_init=0.001, max_iter=1000;, score=0.955 total time=   6.1s\n",
            "[CV 9/10; 4/24] START activation=tanh, alpha=0.0001, hidden_layer_sizes=(50, 50), learning_rate=adaptive, learning_rate_init=0.001, max_iter=1000\n",
            "[CV 9/10; 4/24] END activation=tanh, alpha=0.0001, hidden_layer_sizes=(50, 50), learning_rate=adaptive, learning_rate_init=0.001, max_iter=1000;, score=0.940 total time=   4.9s\n",
            "[CV 10/10; 4/24] START activation=tanh, alpha=0.0001, hidden_layer_sizes=(50, 50), learning_rate=adaptive, learning_rate_init=0.001, max_iter=1000\n",
            "[CV 10/10; 4/24] END activation=tanh, alpha=0.0001, hidden_layer_sizes=(50, 50), learning_rate=adaptive, learning_rate_init=0.001, max_iter=1000;, score=0.945 total time=   4.4s\n",
            "[CV 1/10; 5/24] START activation=tanh, alpha=0.0001, hidden_layer_sizes=(50, 50), learning_rate=adaptive, learning_rate_init=0.01, max_iter=1000\n",
            "[CV 1/10; 5/24] END activation=tanh, alpha=0.0001, hidden_layer_sizes=(50, 50), learning_rate=adaptive, learning_rate_init=0.01, max_iter=1000;, score=0.917 total time=   5.7s\n",
            "[CV 2/10; 5/24] START activation=tanh, alpha=0.0001, hidden_layer_sizes=(50, 50), learning_rate=adaptive, learning_rate_init=0.01, max_iter=1000\n",
            "[CV 2/10; 5/24] END activation=tanh, alpha=0.0001, hidden_layer_sizes=(50, 50), learning_rate=adaptive, learning_rate_init=0.01, max_iter=1000;, score=0.964 total time=   4.9s\n",
            "[CV 3/10; 5/24] START activation=tanh, alpha=0.0001, hidden_layer_sizes=(50, 50), learning_rate=adaptive, learning_rate_init=0.01, max_iter=1000\n",
            "[CV 3/10; 5/24] END activation=tanh, alpha=0.0001, hidden_layer_sizes=(50, 50), learning_rate=adaptive, learning_rate_init=0.01, max_iter=1000;, score=0.925 total time=   5.3s\n",
            "[CV 4/10; 5/24] START activation=tanh, alpha=0.0001, hidden_layer_sizes=(50, 50), learning_rate=adaptive, learning_rate_init=0.01, max_iter=1000\n",
            "[CV 4/10; 5/24] END activation=tanh, alpha=0.0001, hidden_layer_sizes=(50, 50), learning_rate=adaptive, learning_rate_init=0.01, max_iter=1000;, score=0.954 total time=   6.3s\n",
            "[CV 5/10; 5/24] START activation=tanh, alpha=0.0001, hidden_layer_sizes=(50, 50), learning_rate=adaptive, learning_rate_init=0.01, max_iter=1000\n",
            "[CV 5/10; 5/24] END activation=tanh, alpha=0.0001, hidden_layer_sizes=(50, 50), learning_rate=adaptive, learning_rate_init=0.01, max_iter=1000;, score=0.949 total time=   7.9s\n",
            "[CV 6/10; 5/24] START activation=tanh, alpha=0.0001, hidden_layer_sizes=(50, 50), learning_rate=adaptive, learning_rate_init=0.01, max_iter=1000\n",
            "[CV 6/10; 5/24] END activation=tanh, alpha=0.0001, hidden_layer_sizes=(50, 50), learning_rate=adaptive, learning_rate_init=0.01, max_iter=1000;, score=0.869 total time=   4.8s\n",
            "[CV 7/10; 5/24] START activation=tanh, alpha=0.0001, hidden_layer_sizes=(50, 50), learning_rate=adaptive, learning_rate_init=0.01, max_iter=1000\n",
            "[CV 7/10; 5/24] END activation=tanh, alpha=0.0001, hidden_layer_sizes=(50, 50), learning_rate=adaptive, learning_rate_init=0.01, max_iter=1000;, score=0.939 total time=   4.4s\n",
            "[CV 8/10; 5/24] START activation=tanh, alpha=0.0001, hidden_layer_sizes=(50, 50), learning_rate=adaptive, learning_rate_init=0.01, max_iter=1000\n",
            "[CV 8/10; 5/24] END activation=tanh, alpha=0.0001, hidden_layer_sizes=(50, 50), learning_rate=adaptive, learning_rate_init=0.01, max_iter=1000;, score=0.940 total time=   6.2s\n",
            "[CV 9/10; 5/24] START activation=tanh, alpha=0.0001, hidden_layer_sizes=(50, 50), learning_rate=adaptive, learning_rate_init=0.01, max_iter=1000\n",
            "[CV 9/10; 5/24] END activation=tanh, alpha=0.0001, hidden_layer_sizes=(50, 50), learning_rate=adaptive, learning_rate_init=0.01, max_iter=1000;, score=0.933 total time=   4.6s\n",
            "[CV 10/10; 5/24] START activation=tanh, alpha=0.0001, hidden_layer_sizes=(50, 50), learning_rate=adaptive, learning_rate_init=0.01, max_iter=1000\n",
            "[CV 10/10; 5/24] END activation=tanh, alpha=0.0001, hidden_layer_sizes=(50, 50), learning_rate=adaptive, learning_rate_init=0.01, max_iter=1000;, score=0.895 total time=   8.1s\n",
            "[CV 1/10; 6/24] START activation=tanh, alpha=0.0001, hidden_layer_sizes=(50, 50), learning_rate=adaptive, learning_rate_init=0.1, max_iter=1000\n",
            "[CV 1/10; 6/24] END activation=tanh, alpha=0.0001, hidden_layer_sizes=(50, 50), learning_rate=adaptive, learning_rate_init=0.1, max_iter=1000;, score=0.961 total time=   0.9s\n",
            "[CV 2/10; 6/24] START activation=tanh, alpha=0.0001, hidden_layer_sizes=(50, 50), learning_rate=adaptive, learning_rate_init=0.1, max_iter=1000\n",
            "[CV 2/10; 6/24] END activation=tanh, alpha=0.0001, hidden_layer_sizes=(50, 50), learning_rate=adaptive, learning_rate_init=0.1, max_iter=1000;, score=0.973 total time=   0.7s\n",
            "[CV 3/10; 6/24] START activation=tanh, alpha=0.0001, hidden_layer_sizes=(50, 50), learning_rate=adaptive, learning_rate_init=0.1, max_iter=1000\n",
            "[CV 3/10; 6/24] END activation=tanh, alpha=0.0001, hidden_layer_sizes=(50, 50), learning_rate=adaptive, learning_rate_init=0.1, max_iter=1000;, score=0.909 total time=   1.1s\n",
            "[CV 4/10; 6/24] START activation=tanh, alpha=0.0001, hidden_layer_sizes=(50, 50), learning_rate=adaptive, learning_rate_init=0.1, max_iter=1000\n",
            "[CV 4/10; 6/24] END activation=tanh, alpha=0.0001, hidden_layer_sizes=(50, 50), learning_rate=adaptive, learning_rate_init=0.1, max_iter=1000;, score=0.943 total time=   0.8s\n",
            "[CV 5/10; 6/24] START activation=tanh, alpha=0.0001, hidden_layer_sizes=(50, 50), learning_rate=adaptive, learning_rate_init=0.1, max_iter=1000\n",
            "[CV 5/10; 6/24] END activation=tanh, alpha=0.0001, hidden_layer_sizes=(50, 50), learning_rate=adaptive, learning_rate_init=0.1, max_iter=1000;, score=0.950 total time=   0.4s\n",
            "[CV 6/10; 6/24] START activation=tanh, alpha=0.0001, hidden_layer_sizes=(50, 50), learning_rate=adaptive, learning_rate_init=0.1, max_iter=1000\n",
            "[CV 6/10; 6/24] END activation=tanh, alpha=0.0001, hidden_layer_sizes=(50, 50), learning_rate=adaptive, learning_rate_init=0.1, max_iter=1000;, score=0.925 total time=   0.7s\n",
            "[CV 7/10; 6/24] START activation=tanh, alpha=0.0001, hidden_layer_sizes=(50, 50), learning_rate=adaptive, learning_rate_init=0.1, max_iter=1000\n",
            "[CV 7/10; 6/24] END activation=tanh, alpha=0.0001, hidden_layer_sizes=(50, 50), learning_rate=adaptive, learning_rate_init=0.1, max_iter=1000;, score=0.939 total time=   1.0s\n",
            "[CV 8/10; 6/24] START activation=tanh, alpha=0.0001, hidden_layer_sizes=(50, 50), learning_rate=adaptive, learning_rate_init=0.1, max_iter=1000\n",
            "[CV 8/10; 6/24] END activation=tanh, alpha=0.0001, hidden_layer_sizes=(50, 50), learning_rate=adaptive, learning_rate_init=0.1, max_iter=1000;, score=0.937 total time=   0.8s\n",
            "[CV 9/10; 6/24] START activation=tanh, alpha=0.0001, hidden_layer_sizes=(50, 50), learning_rate=adaptive, learning_rate_init=0.1, max_iter=1000\n",
            "[CV 9/10; 6/24] END activation=tanh, alpha=0.0001, hidden_layer_sizes=(50, 50), learning_rate=adaptive, learning_rate_init=0.1, max_iter=1000;, score=0.942 total time=   0.7s\n",
            "[CV 10/10; 6/24] START activation=tanh, alpha=0.0001, hidden_layer_sizes=(50, 50), learning_rate=adaptive, learning_rate_init=0.1, max_iter=1000\n",
            "[CV 10/10; 6/24] END activation=tanh, alpha=0.0001, hidden_layer_sizes=(50, 50), learning_rate=adaptive, learning_rate_init=0.1, max_iter=1000;, score=0.940 total time=   1.1s\n",
            "[CV 1/10; 7/24] START activation=tanh, alpha=0.0001, hidden_layer_sizes=(20, 80, 20), learning_rate=constant, learning_rate_init=0.001, max_iter=1000\n",
            "[CV 1/10; 7/24] END activation=tanh, alpha=0.0001, hidden_layer_sizes=(20, 80, 20), learning_rate=constant, learning_rate_init=0.001, max_iter=1000;, score=0.948 total time=   6.1s\n",
            "[CV 2/10; 7/24] START activation=tanh, alpha=0.0001, hidden_layer_sizes=(20, 80, 20), learning_rate=constant, learning_rate_init=0.001, max_iter=1000\n",
            "[CV 2/10; 7/24] END activation=tanh, alpha=0.0001, hidden_layer_sizes=(20, 80, 20), learning_rate=constant, learning_rate_init=0.001, max_iter=1000;, score=0.973 total time=   3.7s\n",
            "[CV 3/10; 7/24] START activation=tanh, alpha=0.0001, hidden_layer_sizes=(20, 80, 20), learning_rate=constant, learning_rate_init=0.001, max_iter=1000\n",
            "[CV 3/10; 7/24] END activation=tanh, alpha=0.0001, hidden_layer_sizes=(20, 80, 20), learning_rate=constant, learning_rate_init=0.001, max_iter=1000;, score=0.934 total time=   4.8s\n",
            "[CV 4/10; 7/24] START activation=tanh, alpha=0.0001, hidden_layer_sizes=(20, 80, 20), learning_rate=constant, learning_rate_init=0.001, max_iter=1000\n",
            "[CV 4/10; 7/24] END activation=tanh, alpha=0.0001, hidden_layer_sizes=(20, 80, 20), learning_rate=constant, learning_rate_init=0.001, max_iter=1000;, score=0.955 total time=   7.1s\n",
            "[CV 5/10; 7/24] START activation=tanh, alpha=0.0001, hidden_layer_sizes=(20, 80, 20), learning_rate=constant, learning_rate_init=0.001, max_iter=1000\n",
            "[CV 5/10; 7/24] END activation=tanh, alpha=0.0001, hidden_layer_sizes=(20, 80, 20), learning_rate=constant, learning_rate_init=0.001, max_iter=1000;, score=0.963 total time=   3.8s\n",
            "[CV 6/10; 7/24] START activation=tanh, alpha=0.0001, hidden_layer_sizes=(20, 80, 20), learning_rate=constant, learning_rate_init=0.001, max_iter=1000\n",
            "[CV 6/10; 7/24] END activation=tanh, alpha=0.0001, hidden_layer_sizes=(20, 80, 20), learning_rate=constant, learning_rate_init=0.001, max_iter=1000;, score=0.927 total time=   1.4s\n",
            "[CV 7/10; 7/24] START activation=tanh, alpha=0.0001, hidden_layer_sizes=(20, 80, 20), learning_rate=constant, learning_rate_init=0.001, max_iter=1000\n",
            "[CV 7/10; 7/24] END activation=tanh, alpha=0.0001, hidden_layer_sizes=(20, 80, 20), learning_rate=constant, learning_rate_init=0.001, max_iter=1000;, score=0.936 total time=   7.6s\n",
            "[CV 8/10; 7/24] START activation=tanh, alpha=0.0001, hidden_layer_sizes=(20, 80, 20), learning_rate=constant, learning_rate_init=0.001, max_iter=1000\n",
            "[CV 8/10; 7/24] END activation=tanh, alpha=0.0001, hidden_layer_sizes=(20, 80, 20), learning_rate=constant, learning_rate_init=0.001, max_iter=1000;, score=0.960 total time=   2.6s\n",
            "[CV 9/10; 7/24] START activation=tanh, alpha=0.0001, hidden_layer_sizes=(20, 80, 20), learning_rate=constant, learning_rate_init=0.001, max_iter=1000\n",
            "[CV 9/10; 7/24] END activation=tanh, alpha=0.0001, hidden_layer_sizes=(20, 80, 20), learning_rate=constant, learning_rate_init=0.001, max_iter=1000;, score=0.943 total time=   2.1s\n",
            "[CV 10/10; 7/24] START activation=tanh, alpha=0.0001, hidden_layer_sizes=(20, 80, 20), learning_rate=constant, learning_rate_init=0.001, max_iter=1000\n",
            "[CV 10/10; 7/24] END activation=tanh, alpha=0.0001, hidden_layer_sizes=(20, 80, 20), learning_rate=constant, learning_rate_init=0.001, max_iter=1000;, score=0.946 total time=   6.8s\n",
            "[CV 1/10; 8/24] START activation=tanh, alpha=0.0001, hidden_layer_sizes=(20, 80, 20), learning_rate=constant, learning_rate_init=0.01, max_iter=1000\n",
            "[CV 1/10; 8/24] END activation=tanh, alpha=0.0001, hidden_layer_sizes=(20, 80, 20), learning_rate=constant, learning_rate_init=0.01, max_iter=1000;, score=0.899 total time=   4.6s\n",
            "[CV 2/10; 8/24] START activation=tanh, alpha=0.0001, hidden_layer_sizes=(20, 80, 20), learning_rate=constant, learning_rate_init=0.01, max_iter=1000\n",
            "[CV 2/10; 8/24] END activation=tanh, alpha=0.0001, hidden_layer_sizes=(20, 80, 20), learning_rate=constant, learning_rate_init=0.01, max_iter=1000;, score=0.955 total time=   3.2s\n",
            "[CV 3/10; 8/24] START activation=tanh, alpha=0.0001, hidden_layer_sizes=(20, 80, 20), learning_rate=constant, learning_rate_init=0.01, max_iter=1000\n",
            "[CV 3/10; 8/24] END activation=tanh, alpha=0.0001, hidden_layer_sizes=(20, 80, 20), learning_rate=constant, learning_rate_init=0.01, max_iter=1000;, score=0.939 total time=   5.8s\n",
            "[CV 4/10; 8/24] START activation=tanh, alpha=0.0001, hidden_layer_sizes=(20, 80, 20), learning_rate=constant, learning_rate_init=0.01, max_iter=1000\n",
            "[CV 4/10; 8/24] END activation=tanh, alpha=0.0001, hidden_layer_sizes=(20, 80, 20), learning_rate=constant, learning_rate_init=0.01, max_iter=1000;, score=0.933 total time=   3.6s\n",
            "[CV 5/10; 8/24] START activation=tanh, alpha=0.0001, hidden_layer_sizes=(20, 80, 20), learning_rate=constant, learning_rate_init=0.01, max_iter=1000\n",
            "[CV 5/10; 8/24] END activation=tanh, alpha=0.0001, hidden_layer_sizes=(20, 80, 20), learning_rate=constant, learning_rate_init=0.01, max_iter=1000;, score=0.948 total time=   3.0s\n",
            "[CV 6/10; 8/24] START activation=tanh, alpha=0.0001, hidden_layer_sizes=(20, 80, 20), learning_rate=constant, learning_rate_init=0.01, max_iter=1000\n",
            "[CV 6/10; 8/24] END activation=tanh, alpha=0.0001, hidden_layer_sizes=(20, 80, 20), learning_rate=constant, learning_rate_init=0.01, max_iter=1000;, score=0.898 total time=   6.3s\n",
            "[CV 7/10; 8/24] START activation=tanh, alpha=0.0001, hidden_layer_sizes=(20, 80, 20), learning_rate=constant, learning_rate_init=0.01, max_iter=1000\n",
            "[CV 7/10; 8/24] END activation=tanh, alpha=0.0001, hidden_layer_sizes=(20, 80, 20), learning_rate=constant, learning_rate_init=0.01, max_iter=1000;, score=0.915 total time=   4.6s\n",
            "[CV 8/10; 8/24] START activation=tanh, alpha=0.0001, hidden_layer_sizes=(20, 80, 20), learning_rate=constant, learning_rate_init=0.01, max_iter=1000\n",
            "[CV 8/10; 8/24] END activation=tanh, alpha=0.0001, hidden_layer_sizes=(20, 80, 20), learning_rate=constant, learning_rate_init=0.01, max_iter=1000;, score=0.952 total time=   3.9s\n",
            "[CV 9/10; 8/24] START activation=tanh, alpha=0.0001, hidden_layer_sizes=(20, 80, 20), learning_rate=constant, learning_rate_init=0.01, max_iter=1000\n",
            "[CV 9/10; 8/24] END activation=tanh, alpha=0.0001, hidden_layer_sizes=(20, 80, 20), learning_rate=constant, learning_rate_init=0.01, max_iter=1000;, score=0.934 total time=   4.4s\n",
            "[CV 10/10; 8/24] START activation=tanh, alpha=0.0001, hidden_layer_sizes=(20, 80, 20), learning_rate=constant, learning_rate_init=0.01, max_iter=1000\n",
            "[CV 10/10; 8/24] END activation=tanh, alpha=0.0001, hidden_layer_sizes=(20, 80, 20), learning_rate=constant, learning_rate_init=0.01, max_iter=1000;, score=0.930 total time=   2.3s\n",
            "[CV 1/10; 9/24] START activation=tanh, alpha=0.0001, hidden_layer_sizes=(20, 80, 20), learning_rate=constant, learning_rate_init=0.1, max_iter=1000\n",
            "[CV 1/10; 9/24] END activation=tanh, alpha=0.0001, hidden_layer_sizes=(20, 80, 20), learning_rate=constant, learning_rate_init=0.1, max_iter=1000;, score=0.930 total time=   0.8s\n",
            "[CV 2/10; 9/24] START activation=tanh, alpha=0.0001, hidden_layer_sizes=(20, 80, 20), learning_rate=constant, learning_rate_init=0.1, max_iter=1000\n",
            "[CV 2/10; 9/24] END activation=tanh, alpha=0.0001, hidden_layer_sizes=(20, 80, 20), learning_rate=constant, learning_rate_init=0.1, max_iter=1000;, score=0.455 total time=   0.7s\n",
            "[CV 3/10; 9/24] START activation=tanh, alpha=0.0001, hidden_layer_sizes=(20, 80, 20), learning_rate=constant, learning_rate_init=0.1, max_iter=1000\n",
            "[CV 3/10; 9/24] END activation=tanh, alpha=0.0001, hidden_layer_sizes=(20, 80, 20), learning_rate=constant, learning_rate_init=0.1, max_iter=1000;, score=0.771 total time=   0.5s\n",
            "[CV 4/10; 9/24] START activation=tanh, alpha=0.0001, hidden_layer_sizes=(20, 80, 20), learning_rate=constant, learning_rate_init=0.1, max_iter=1000\n",
            "[CV 4/10; 9/24] END activation=tanh, alpha=0.0001, hidden_layer_sizes=(20, 80, 20), learning_rate=constant, learning_rate_init=0.1, max_iter=1000;, score=0.792 total time=   0.6s\n",
            "[CV 5/10; 9/24] START activation=tanh, alpha=0.0001, hidden_layer_sizes=(20, 80, 20), learning_rate=constant, learning_rate_init=0.1, max_iter=1000\n",
            "[CV 5/10; 9/24] END activation=tanh, alpha=0.0001, hidden_layer_sizes=(20, 80, 20), learning_rate=constant, learning_rate_init=0.1, max_iter=1000;, score=0.611 total time=   0.5s\n",
            "[CV 6/10; 9/24] START activation=tanh, alpha=0.0001, hidden_layer_sizes=(20, 80, 20), learning_rate=constant, learning_rate_init=0.1, max_iter=1000\n",
            "[CV 6/10; 9/24] END activation=tanh, alpha=0.0001, hidden_layer_sizes=(20, 80, 20), learning_rate=constant, learning_rate_init=0.1, max_iter=1000;, score=0.500 total time=   0.8s\n",
            "[CV 7/10; 9/24] START activation=tanh, alpha=0.0001, hidden_layer_sizes=(20, 80, 20), learning_rate=constant, learning_rate_init=0.1, max_iter=1000\n",
            "[CV 7/10; 9/24] END activation=tanh, alpha=0.0001, hidden_layer_sizes=(20, 80, 20), learning_rate=constant, learning_rate_init=0.1, max_iter=1000;, score=0.627 total time=   0.7s\n",
            "[CV 8/10; 9/24] START activation=tanh, alpha=0.0001, hidden_layer_sizes=(20, 80, 20), learning_rate=constant, learning_rate_init=0.1, max_iter=1000\n",
            "[CV 8/10; 9/24] END activation=tanh, alpha=0.0001, hidden_layer_sizes=(20, 80, 20), learning_rate=constant, learning_rate_init=0.1, max_iter=1000;, score=0.193 total time=   0.6s\n",
            "[CV 9/10; 9/24] START activation=tanh, alpha=0.0001, hidden_layer_sizes=(20, 80, 20), learning_rate=constant, learning_rate_init=0.1, max_iter=1000\n",
            "[CV 9/10; 9/24] END activation=tanh, alpha=0.0001, hidden_layer_sizes=(20, 80, 20), learning_rate=constant, learning_rate_init=0.1, max_iter=1000;, score=0.928 total time=   0.7s\n",
            "[CV 10/10; 9/24] START activation=tanh, alpha=0.0001, hidden_layer_sizes=(20, 80, 20), learning_rate=constant, learning_rate_init=0.1, max_iter=1000\n",
            "[CV 10/10; 9/24] END activation=tanh, alpha=0.0001, hidden_layer_sizes=(20, 80, 20), learning_rate=constant, learning_rate_init=0.1, max_iter=1000;, score=0.500 total time=   0.6s\n",
            "[CV 1/10; 10/24] START activation=tanh, alpha=0.0001, hidden_layer_sizes=(20, 80, 20), learning_rate=adaptive, learning_rate_init=0.001, max_iter=1000\n",
            "[CV 1/10; 10/24] END activation=tanh, alpha=0.0001, hidden_layer_sizes=(20, 80, 20), learning_rate=adaptive, learning_rate_init=0.001, max_iter=1000;, score=0.954 total time=   6.6s\n",
            "[CV 2/10; 10/24] START activation=tanh, alpha=0.0001, hidden_layer_sizes=(20, 80, 20), learning_rate=adaptive, learning_rate_init=0.001, max_iter=1000\n",
            "[CV 2/10; 10/24] END activation=tanh, alpha=0.0001, hidden_layer_sizes=(20, 80, 20), learning_rate=adaptive, learning_rate_init=0.001, max_iter=1000;, score=0.973 total time=   3.6s\n",
            "[CV 3/10; 10/24] START activation=tanh, alpha=0.0001, hidden_layer_sizes=(20, 80, 20), learning_rate=adaptive, learning_rate_init=0.001, max_iter=1000\n",
            "[CV 3/10; 10/24] END activation=tanh, alpha=0.0001, hidden_layer_sizes=(20, 80, 20), learning_rate=adaptive, learning_rate_init=0.001, max_iter=1000;, score=0.934 total time=  23.1s\n",
            "[CV 4/10; 10/24] START activation=tanh, alpha=0.0001, hidden_layer_sizes=(20, 80, 20), learning_rate=adaptive, learning_rate_init=0.001, max_iter=1000\n",
            "[CV 4/10; 10/24] END activation=tanh, alpha=0.0001, hidden_layer_sizes=(20, 80, 20), learning_rate=adaptive, learning_rate_init=0.001, max_iter=1000;, score=0.955 total time=   2.4s\n",
            "[CV 5/10; 10/24] START activation=tanh, alpha=0.0001, hidden_layer_sizes=(20, 80, 20), learning_rate=adaptive, learning_rate_init=0.001, max_iter=1000\n",
            "[CV 5/10; 10/24] END activation=tanh, alpha=0.0001, hidden_layer_sizes=(20, 80, 20), learning_rate=adaptive, learning_rate_init=0.001, max_iter=1000;, score=0.962 total time=   3.5s\n",
            "[CV 6/10; 10/24] START activation=tanh, alpha=0.0001, hidden_layer_sizes=(20, 80, 20), learning_rate=adaptive, learning_rate_init=0.001, max_iter=1000\n",
            "[CV 6/10; 10/24] END activation=tanh, alpha=0.0001, hidden_layer_sizes=(20, 80, 20), learning_rate=adaptive, learning_rate_init=0.001, max_iter=1000;, score=0.925 total time=   1.8s\n",
            "[CV 7/10; 10/24] START activation=tanh, alpha=0.0001, hidden_layer_sizes=(20, 80, 20), learning_rate=adaptive, learning_rate_init=0.001, max_iter=1000\n",
            "[CV 7/10; 10/24] END activation=tanh, alpha=0.0001, hidden_layer_sizes=(20, 80, 20), learning_rate=adaptive, learning_rate_init=0.001, max_iter=1000;, score=0.932 total time=   4.2s\n",
            "[CV 8/10; 10/24] START activation=tanh, alpha=0.0001, hidden_layer_sizes=(20, 80, 20), learning_rate=adaptive, learning_rate_init=0.001, max_iter=1000\n",
            "[CV 8/10; 10/24] END activation=tanh, alpha=0.0001, hidden_layer_sizes=(20, 80, 20), learning_rate=adaptive, learning_rate_init=0.001, max_iter=1000;, score=0.958 total time=   1.5s\n",
            "[CV 9/10; 10/24] START activation=tanh, alpha=0.0001, hidden_layer_sizes=(20, 80, 20), learning_rate=adaptive, learning_rate_init=0.001, max_iter=1000\n",
            "[CV 9/10; 10/24] END activation=tanh, alpha=0.0001, hidden_layer_sizes=(20, 80, 20), learning_rate=adaptive, learning_rate_init=0.001, max_iter=1000;, score=0.941 total time=   2.2s\n",
            "[CV 10/10; 10/24] START activation=tanh, alpha=0.0001, hidden_layer_sizes=(20, 80, 20), learning_rate=adaptive, learning_rate_init=0.001, max_iter=1000\n",
            "[CV 10/10; 10/24] END activation=tanh, alpha=0.0001, hidden_layer_sizes=(20, 80, 20), learning_rate=adaptive, learning_rate_init=0.001, max_iter=1000;, score=0.947 total time=   2.3s\n",
            "[CV 1/10; 11/24] START activation=tanh, alpha=0.0001, hidden_layer_sizes=(20, 80, 20), learning_rate=adaptive, learning_rate_init=0.01, max_iter=1000\n",
            "[CV 1/10; 11/24] END activation=tanh, alpha=0.0001, hidden_layer_sizes=(20, 80, 20), learning_rate=adaptive, learning_rate_init=0.01, max_iter=1000;, score=0.942 total time=   2.2s\n",
            "[CV 2/10; 11/24] START activation=tanh, alpha=0.0001, hidden_layer_sizes=(20, 80, 20), learning_rate=adaptive, learning_rate_init=0.01, max_iter=1000\n",
            "[CV 2/10; 11/24] END activation=tanh, alpha=0.0001, hidden_layer_sizes=(20, 80, 20), learning_rate=adaptive, learning_rate_init=0.01, max_iter=1000;, score=0.970 total time=   6.0s\n",
            "[CV 3/10; 11/24] START activation=tanh, alpha=0.0001, hidden_layer_sizes=(20, 80, 20), learning_rate=adaptive, learning_rate_init=0.01, max_iter=1000\n",
            "[CV 3/10; 11/24] END activation=tanh, alpha=0.0001, hidden_layer_sizes=(20, 80, 20), learning_rate=adaptive, learning_rate_init=0.01, max_iter=1000;, score=0.919 total time=   2.6s\n",
            "[CV 4/10; 11/24] START activation=tanh, alpha=0.0001, hidden_layer_sizes=(20, 80, 20), learning_rate=adaptive, learning_rate_init=0.01, max_iter=1000\n",
            "[CV 4/10; 11/24] END activation=tanh, alpha=0.0001, hidden_layer_sizes=(20, 80, 20), learning_rate=adaptive, learning_rate_init=0.01, max_iter=1000;, score=0.943 total time=   3.2s\n",
            "[CV 5/10; 11/24] START activation=tanh, alpha=0.0001, hidden_layer_sizes=(20, 80, 20), learning_rate=adaptive, learning_rate_init=0.01, max_iter=1000\n",
            "[CV 5/10; 11/24] END activation=tanh, alpha=0.0001, hidden_layer_sizes=(20, 80, 20), learning_rate=adaptive, learning_rate_init=0.01, max_iter=1000;, score=0.942 total time=   3.3s\n",
            "[CV 6/10; 11/24] START activation=tanh, alpha=0.0001, hidden_layer_sizes=(20, 80, 20), learning_rate=adaptive, learning_rate_init=0.01, max_iter=1000\n",
            "[CV 6/10; 11/24] END activation=tanh, alpha=0.0001, hidden_layer_sizes=(20, 80, 20), learning_rate=adaptive, learning_rate_init=0.01, max_iter=1000;, score=0.897 total time=   3.8s\n",
            "[CV 7/10; 11/24] START activation=tanh, alpha=0.0001, hidden_layer_sizes=(20, 80, 20), learning_rate=adaptive, learning_rate_init=0.01, max_iter=1000\n",
            "[CV 7/10; 11/24] END activation=tanh, alpha=0.0001, hidden_layer_sizes=(20, 80, 20), learning_rate=adaptive, learning_rate_init=0.01, max_iter=1000;, score=0.941 total time=   3.9s\n",
            "[CV 8/10; 11/24] START activation=tanh, alpha=0.0001, hidden_layer_sizes=(20, 80, 20), learning_rate=adaptive, learning_rate_init=0.01, max_iter=1000\n",
            "[CV 8/10; 11/24] END activation=tanh, alpha=0.0001, hidden_layer_sizes=(20, 80, 20), learning_rate=adaptive, learning_rate_init=0.01, max_iter=1000;, score=0.950 total time=   3.9s\n",
            "[CV 9/10; 11/24] START activation=tanh, alpha=0.0001, hidden_layer_sizes=(20, 80, 20), learning_rate=adaptive, learning_rate_init=0.01, max_iter=1000\n",
            "[CV 9/10; 11/24] END activation=tanh, alpha=0.0001, hidden_layer_sizes=(20, 80, 20), learning_rate=adaptive, learning_rate_init=0.01, max_iter=1000;, score=0.941 total time=   0.6s\n",
            "[CV 10/10; 11/24] START activation=tanh, alpha=0.0001, hidden_layer_sizes=(20, 80, 20), learning_rate=adaptive, learning_rate_init=0.01, max_iter=1000\n",
            "[CV 10/10; 11/24] END activation=tanh, alpha=0.0001, hidden_layer_sizes=(20, 80, 20), learning_rate=adaptive, learning_rate_init=0.01, max_iter=1000;, score=0.927 total time=   5.1s\n",
            "[CV 1/10; 12/24] START activation=tanh, alpha=0.0001, hidden_layer_sizes=(20, 80, 20), learning_rate=adaptive, learning_rate_init=0.1, max_iter=1000\n",
            "[CV 1/10; 12/24] END activation=tanh, alpha=0.0001, hidden_layer_sizes=(20, 80, 20), learning_rate=adaptive, learning_rate_init=0.1, max_iter=1000;, score=0.389 total time=   0.5s\n",
            "[CV 2/10; 12/24] START activation=tanh, alpha=0.0001, hidden_layer_sizes=(20, 80, 20), learning_rate=adaptive, learning_rate_init=0.1, max_iter=1000\n",
            "[CV 2/10; 12/24] END activation=tanh, alpha=0.0001, hidden_layer_sizes=(20, 80, 20), learning_rate=adaptive, learning_rate_init=0.1, max_iter=1000;, score=0.500 total time=   0.7s\n",
            "[CV 3/10; 12/24] START activation=tanh, alpha=0.0001, hidden_layer_sizes=(20, 80, 20), learning_rate=adaptive, learning_rate_init=0.1, max_iter=1000\n",
            "[CV 3/10; 12/24] END activation=tanh, alpha=0.0001, hidden_layer_sizes=(20, 80, 20), learning_rate=adaptive, learning_rate_init=0.1, max_iter=1000;, score=0.926 total time=   0.8s\n",
            "[CV 4/10; 12/24] START activation=tanh, alpha=0.0001, hidden_layer_sizes=(20, 80, 20), learning_rate=adaptive, learning_rate_init=0.1, max_iter=1000\n",
            "[CV 4/10; 12/24] END activation=tanh, alpha=0.0001, hidden_layer_sizes=(20, 80, 20), learning_rate=adaptive, learning_rate_init=0.1, max_iter=1000;, score=0.474 total time=   0.5s\n",
            "[CV 5/10; 12/24] START activation=tanh, alpha=0.0001, hidden_layer_sizes=(20, 80, 20), learning_rate=adaptive, learning_rate_init=0.1, max_iter=1000\n",
            "[CV 5/10; 12/24] END activation=tanh, alpha=0.0001, hidden_layer_sizes=(20, 80, 20), learning_rate=adaptive, learning_rate_init=0.1, max_iter=1000;, score=0.957 total time=   0.5s\n",
            "[CV 6/10; 12/24] START activation=tanh, alpha=0.0001, hidden_layer_sizes=(20, 80, 20), learning_rate=adaptive, learning_rate_init=0.1, max_iter=1000\n",
            "[CV 6/10; 12/24] END activation=tanh, alpha=0.0001, hidden_layer_sizes=(20, 80, 20), learning_rate=adaptive, learning_rate_init=0.1, max_iter=1000;, score=0.783 total time=   0.7s\n",
            "[CV 7/10; 12/24] START activation=tanh, alpha=0.0001, hidden_layer_sizes=(20, 80, 20), learning_rate=adaptive, learning_rate_init=0.1, max_iter=1000\n",
            "[CV 7/10; 12/24] END activation=tanh, alpha=0.0001, hidden_layer_sizes=(20, 80, 20), learning_rate=adaptive, learning_rate_init=0.1, max_iter=1000;, score=0.936 total time=   0.6s\n",
            "[CV 8/10; 12/24] START activation=tanh, alpha=0.0001, hidden_layer_sizes=(20, 80, 20), learning_rate=adaptive, learning_rate_init=0.1, max_iter=1000\n",
            "[CV 8/10; 12/24] END activation=tanh, alpha=0.0001, hidden_layer_sizes=(20, 80, 20), learning_rate=adaptive, learning_rate_init=0.1, max_iter=1000;, score=0.500 total time=   0.8s\n",
            "[CV 9/10; 12/24] START activation=tanh, alpha=0.0001, hidden_layer_sizes=(20, 80, 20), learning_rate=adaptive, learning_rate_init=0.1, max_iter=1000\n",
            "[CV 9/10; 12/24] END activation=tanh, alpha=0.0001, hidden_layer_sizes=(20, 80, 20), learning_rate=adaptive, learning_rate_init=0.1, max_iter=1000;, score=0.946 total time=   0.6s\n",
            "[CV 10/10; 12/24] START activation=tanh, alpha=0.0001, hidden_layer_sizes=(20, 80, 20), learning_rate=adaptive, learning_rate_init=0.1, max_iter=1000\n",
            "[CV 10/10; 12/24] END activation=tanh, alpha=0.0001, hidden_layer_sizes=(20, 80, 20), learning_rate=adaptive, learning_rate_init=0.1, max_iter=1000;, score=0.933 total time=   0.8s\n",
            "[CV 1/10; 13/24] START activation=tanh, alpha=0.001, hidden_layer_sizes=(50, 50), learning_rate=constant, learning_rate_init=0.001, max_iter=1000\n",
            "[CV 1/10; 13/24] END activation=tanh, alpha=0.001, hidden_layer_sizes=(50, 50), learning_rate=constant, learning_rate_init=0.001, max_iter=1000;, score=0.959 total time=   5.6s\n",
            "[CV 2/10; 13/24] START activation=tanh, alpha=0.001, hidden_layer_sizes=(50, 50), learning_rate=constant, learning_rate_init=0.001, max_iter=1000\n",
            "[CV 2/10; 13/24] END activation=tanh, alpha=0.001, hidden_layer_sizes=(50, 50), learning_rate=constant, learning_rate_init=0.001, max_iter=1000;, score=0.972 total time=   1.3s\n",
            "[CV 3/10; 13/24] START activation=tanh, alpha=0.001, hidden_layer_sizes=(50, 50), learning_rate=constant, learning_rate_init=0.001, max_iter=1000\n",
            "[CV 3/10; 13/24] END activation=tanh, alpha=0.001, hidden_layer_sizes=(50, 50), learning_rate=constant, learning_rate_init=0.001, max_iter=1000;, score=0.933 total time=   2.8s\n",
            "[CV 4/10; 13/24] START activation=tanh, alpha=0.001, hidden_layer_sizes=(50, 50), learning_rate=constant, learning_rate_init=0.001, max_iter=1000\n",
            "[CV 4/10; 13/24] END activation=tanh, alpha=0.001, hidden_layer_sizes=(50, 50), learning_rate=constant, learning_rate_init=0.001, max_iter=1000;, score=0.956 total time=   2.0s\n",
            "[CV 5/10; 13/24] START activation=tanh, alpha=0.001, hidden_layer_sizes=(50, 50), learning_rate=constant, learning_rate_init=0.001, max_iter=1000\n",
            "[CV 5/10; 13/24] END activation=tanh, alpha=0.001, hidden_layer_sizes=(50, 50), learning_rate=constant, learning_rate_init=0.001, max_iter=1000;, score=0.959 total time=   2.5s\n",
            "[CV 6/10; 13/24] START activation=tanh, alpha=0.001, hidden_layer_sizes=(50, 50), learning_rate=constant, learning_rate_init=0.001, max_iter=1000\n",
            "[CV 6/10; 13/24] END activation=tanh, alpha=0.001, hidden_layer_sizes=(50, 50), learning_rate=constant, learning_rate_init=0.001, max_iter=1000;, score=0.924 total time=   6.3s\n",
            "[CV 7/10; 13/24] START activation=tanh, alpha=0.001, hidden_layer_sizes=(50, 50), learning_rate=constant, learning_rate_init=0.001, max_iter=1000\n",
            "[CV 7/10; 13/24] END activation=tanh, alpha=0.001, hidden_layer_sizes=(50, 50), learning_rate=constant, learning_rate_init=0.001, max_iter=1000;, score=0.932 total time=   1.7s\n",
            "[CV 8/10; 13/24] START activation=tanh, alpha=0.001, hidden_layer_sizes=(50, 50), learning_rate=constant, learning_rate_init=0.001, max_iter=1000\n",
            "[CV 8/10; 13/24] END activation=tanh, alpha=0.001, hidden_layer_sizes=(50, 50), learning_rate=constant, learning_rate_init=0.001, max_iter=1000;, score=0.954 total time=   5.2s\n",
            "[CV 9/10; 13/24] START activation=tanh, alpha=0.001, hidden_layer_sizes=(50, 50), learning_rate=constant, learning_rate_init=0.001, max_iter=1000\n",
            "[CV 9/10; 13/24] END activation=tanh, alpha=0.001, hidden_layer_sizes=(50, 50), learning_rate=constant, learning_rate_init=0.001, max_iter=1000;, score=0.943 total time=   3.7s\n",
            "[CV 10/10; 13/24] START activation=tanh, alpha=0.001, hidden_layer_sizes=(50, 50), learning_rate=constant, learning_rate_init=0.001, max_iter=1000\n",
            "[CV 10/10; 13/24] END activation=tanh, alpha=0.001, hidden_layer_sizes=(50, 50), learning_rate=constant, learning_rate_init=0.001, max_iter=1000;, score=0.951 total time=   3.1s\n",
            "[CV 1/10; 14/24] START activation=tanh, alpha=0.001, hidden_layer_sizes=(50, 50), learning_rate=constant, learning_rate_init=0.01, max_iter=1000\n",
            "[CV 1/10; 14/24] END activation=tanh, alpha=0.001, hidden_layer_sizes=(50, 50), learning_rate=constant, learning_rate_init=0.01, max_iter=1000;, score=0.928 total time=   5.4s\n",
            "[CV 2/10; 14/24] START activation=tanh, alpha=0.001, hidden_layer_sizes=(50, 50), learning_rate=constant, learning_rate_init=0.01, max_iter=1000\n",
            "[CV 2/10; 14/24] END activation=tanh, alpha=0.001, hidden_layer_sizes=(50, 50), learning_rate=constant, learning_rate_init=0.01, max_iter=1000;, score=0.963 total time=   7.2s\n",
            "[CV 3/10; 14/24] START activation=tanh, alpha=0.001, hidden_layer_sizes=(50, 50), learning_rate=constant, learning_rate_init=0.01, max_iter=1000\n",
            "[CV 3/10; 14/24] END activation=tanh, alpha=0.001, hidden_layer_sizes=(50, 50), learning_rate=constant, learning_rate_init=0.01, max_iter=1000;, score=0.934 total time=   1.1s\n",
            "[CV 4/10; 14/24] START activation=tanh, alpha=0.001, hidden_layer_sizes=(50, 50), learning_rate=constant, learning_rate_init=0.01, max_iter=1000\n",
            "[CV 4/10; 14/24] END activation=tanh, alpha=0.001, hidden_layer_sizes=(50, 50), learning_rate=constant, learning_rate_init=0.01, max_iter=1000;, score=0.953 total time=   4.6s\n",
            "[CV 5/10; 14/24] START activation=tanh, alpha=0.001, hidden_layer_sizes=(50, 50), learning_rate=constant, learning_rate_init=0.01, max_iter=1000\n",
            "[CV 5/10; 14/24] END activation=tanh, alpha=0.001, hidden_layer_sizes=(50, 50), learning_rate=constant, learning_rate_init=0.01, max_iter=1000;, score=0.955 total time=   7.2s\n",
            "[CV 6/10; 14/24] START activation=tanh, alpha=0.001, hidden_layer_sizes=(50, 50), learning_rate=constant, learning_rate_init=0.01, max_iter=1000\n",
            "[CV 6/10; 14/24] END activation=tanh, alpha=0.001, hidden_layer_sizes=(50, 50), learning_rate=constant, learning_rate_init=0.01, max_iter=1000;, score=0.886 total time=   4.3s\n",
            "[CV 7/10; 14/24] START activation=tanh, alpha=0.001, hidden_layer_sizes=(50, 50), learning_rate=constant, learning_rate_init=0.01, max_iter=1000\n",
            "[CV 7/10; 14/24] END activation=tanh, alpha=0.001, hidden_layer_sizes=(50, 50), learning_rate=constant, learning_rate_init=0.01, max_iter=1000;, score=0.928 total time=   5.7s\n",
            "[CV 8/10; 14/24] START activation=tanh, alpha=0.001, hidden_layer_sizes=(50, 50), learning_rate=constant, learning_rate_init=0.01, max_iter=1000\n",
            "[CV 8/10; 14/24] END activation=tanh, alpha=0.001, hidden_layer_sizes=(50, 50), learning_rate=constant, learning_rate_init=0.01, max_iter=1000;, score=0.949 total time=   2.7s\n",
            "[CV 9/10; 14/24] START activation=tanh, alpha=0.001, hidden_layer_sizes=(50, 50), learning_rate=constant, learning_rate_init=0.01, max_iter=1000\n",
            "[CV 9/10; 14/24] END activation=tanh, alpha=0.001, hidden_layer_sizes=(50, 50), learning_rate=constant, learning_rate_init=0.01, max_iter=1000;, score=0.922 total time=   5.4s\n",
            "[CV 10/10; 14/24] START activation=tanh, alpha=0.001, hidden_layer_sizes=(50, 50), learning_rate=constant, learning_rate_init=0.01, max_iter=1000\n",
            "[CV 10/10; 14/24] END activation=tanh, alpha=0.001, hidden_layer_sizes=(50, 50), learning_rate=constant, learning_rate_init=0.01, max_iter=1000;, score=0.932 total time=   5.1s\n",
            "[CV 1/10; 15/24] START activation=tanh, alpha=0.001, hidden_layer_sizes=(50, 50), learning_rate=constant, learning_rate_init=0.1, max_iter=1000\n",
            "[CV 1/10; 15/24] END activation=tanh, alpha=0.001, hidden_layer_sizes=(50, 50), learning_rate=constant, learning_rate_init=0.1, max_iter=1000;, score=0.957 total time=   1.4s\n",
            "[CV 2/10; 15/24] START activation=tanh, alpha=0.001, hidden_layer_sizes=(50, 50), learning_rate=constant, learning_rate_init=0.1, max_iter=1000\n",
            "[CV 2/10; 15/24] END activation=tanh, alpha=0.001, hidden_layer_sizes=(50, 50), learning_rate=constant, learning_rate_init=0.1, max_iter=1000;, score=0.972 total time=   1.3s\n",
            "[CV 3/10; 15/24] START activation=tanh, alpha=0.001, hidden_layer_sizes=(50, 50), learning_rate=constant, learning_rate_init=0.1, max_iter=1000\n",
            "[CV 3/10; 15/24] END activation=tanh, alpha=0.001, hidden_layer_sizes=(50, 50), learning_rate=constant, learning_rate_init=0.1, max_iter=1000;, score=0.902 total time=   0.6s\n",
            "[CV 4/10; 15/24] START activation=tanh, alpha=0.001, hidden_layer_sizes=(50, 50), learning_rate=constant, learning_rate_init=0.1, max_iter=1000\n",
            "[CV 4/10; 15/24] END activation=tanh, alpha=0.001, hidden_layer_sizes=(50, 50), learning_rate=constant, learning_rate_init=0.1, max_iter=1000;, score=0.941 total time=   0.6s\n",
            "[CV 5/10; 15/24] START activation=tanh, alpha=0.001, hidden_layer_sizes=(50, 50), learning_rate=constant, learning_rate_init=0.1, max_iter=1000\n",
            "[CV 5/10; 15/24] END activation=tanh, alpha=0.001, hidden_layer_sizes=(50, 50), learning_rate=constant, learning_rate_init=0.1, max_iter=1000;, score=0.959 total time=   0.8s\n",
            "[CV 6/10; 15/24] START activation=tanh, alpha=0.001, hidden_layer_sizes=(50, 50), learning_rate=constant, learning_rate_init=0.1, max_iter=1000\n",
            "[CV 6/10; 15/24] END activation=tanh, alpha=0.001, hidden_layer_sizes=(50, 50), learning_rate=constant, learning_rate_init=0.1, max_iter=1000;, score=0.912 total time=   1.0s\n",
            "[CV 7/10; 15/24] START activation=tanh, alpha=0.001, hidden_layer_sizes=(50, 50), learning_rate=constant, learning_rate_init=0.1, max_iter=1000\n",
            "[CV 7/10; 15/24] END activation=tanh, alpha=0.001, hidden_layer_sizes=(50, 50), learning_rate=constant, learning_rate_init=0.1, max_iter=1000;, score=0.932 total time=   1.1s\n",
            "[CV 8/10; 15/24] START activation=tanh, alpha=0.001, hidden_layer_sizes=(50, 50), learning_rate=constant, learning_rate_init=0.1, max_iter=1000\n",
            "[CV 8/10; 15/24] END activation=tanh, alpha=0.001, hidden_layer_sizes=(50, 50), learning_rate=constant, learning_rate_init=0.1, max_iter=1000;, score=0.962 total time=   0.6s\n",
            "[CV 9/10; 15/24] START activation=tanh, alpha=0.001, hidden_layer_sizes=(50, 50), learning_rate=constant, learning_rate_init=0.1, max_iter=1000\n",
            "[CV 9/10; 15/24] END activation=tanh, alpha=0.001, hidden_layer_sizes=(50, 50), learning_rate=constant, learning_rate_init=0.1, max_iter=1000;, score=0.947 total time=   0.7s\n",
            "[CV 10/10; 15/24] START activation=tanh, alpha=0.001, hidden_layer_sizes=(50, 50), learning_rate=constant, learning_rate_init=0.1, max_iter=1000\n",
            "[CV 10/10; 15/24] END activation=tanh, alpha=0.001, hidden_layer_sizes=(50, 50), learning_rate=constant, learning_rate_init=0.1, max_iter=1000;, score=0.950 total time=   0.8s\n",
            "[CV 1/10; 16/24] START activation=tanh, alpha=0.001, hidden_layer_sizes=(50, 50), learning_rate=adaptive, learning_rate_init=0.001, max_iter=1000\n",
            "[CV 1/10; 16/24] END activation=tanh, alpha=0.001, hidden_layer_sizes=(50, 50), learning_rate=adaptive, learning_rate_init=0.001, max_iter=1000;, score=0.958 total time=   1.3s\n",
            "[CV 2/10; 16/24] START activation=tanh, alpha=0.001, hidden_layer_sizes=(50, 50), learning_rate=adaptive, learning_rate_init=0.001, max_iter=1000\n",
            "[CV 2/10; 16/24] END activation=tanh, alpha=0.001, hidden_layer_sizes=(50, 50), learning_rate=adaptive, learning_rate_init=0.001, max_iter=1000;, score=0.974 total time=   3.7s\n",
            "[CV 3/10; 16/24] START activation=tanh, alpha=0.001, hidden_layer_sizes=(50, 50), learning_rate=adaptive, learning_rate_init=0.001, max_iter=1000\n",
            "[CV 3/10; 16/24] END activation=tanh, alpha=0.001, hidden_layer_sizes=(50, 50), learning_rate=adaptive, learning_rate_init=0.001, max_iter=1000;, score=0.934 total time=   2.1s\n",
            "[CV 4/10; 16/24] START activation=tanh, alpha=0.001, hidden_layer_sizes=(50, 50), learning_rate=adaptive, learning_rate_init=0.001, max_iter=1000\n",
            "[CV 4/10; 16/24] END activation=tanh, alpha=0.001, hidden_layer_sizes=(50, 50), learning_rate=adaptive, learning_rate_init=0.001, max_iter=1000;, score=0.956 total time=   2.1s\n",
            "[CV 5/10; 16/24] START activation=tanh, alpha=0.001, hidden_layer_sizes=(50, 50), learning_rate=adaptive, learning_rate_init=0.001, max_iter=1000\n",
            "[CV 5/10; 16/24] END activation=tanh, alpha=0.001, hidden_layer_sizes=(50, 50), learning_rate=adaptive, learning_rate_init=0.001, max_iter=1000;, score=0.953 total time=   4.2s\n",
            "[CV 6/10; 16/24] START activation=tanh, alpha=0.001, hidden_layer_sizes=(50, 50), learning_rate=adaptive, learning_rate_init=0.001, max_iter=1000\n",
            "[CV 6/10; 16/24] END activation=tanh, alpha=0.001, hidden_layer_sizes=(50, 50), learning_rate=adaptive, learning_rate_init=0.001, max_iter=1000;, score=0.918 total time=   6.4s\n",
            "[CV 7/10; 16/24] START activation=tanh, alpha=0.001, hidden_layer_sizes=(50, 50), learning_rate=adaptive, learning_rate_init=0.001, max_iter=1000\n",
            "[CV 7/10; 16/24] END activation=tanh, alpha=0.001, hidden_layer_sizes=(50, 50), learning_rate=adaptive, learning_rate_init=0.001, max_iter=1000;, score=0.932 total time=   2.7s\n",
            "[CV 8/10; 16/24] START activation=tanh, alpha=0.001, hidden_layer_sizes=(50, 50), learning_rate=adaptive, learning_rate_init=0.001, max_iter=1000\n",
            "[CV 8/10; 16/24] END activation=tanh, alpha=0.001, hidden_layer_sizes=(50, 50), learning_rate=adaptive, learning_rate_init=0.001, max_iter=1000;, score=0.956 total time=   3.6s\n",
            "[CV 9/10; 16/24] START activation=tanh, alpha=0.001, hidden_layer_sizes=(50, 50), learning_rate=adaptive, learning_rate_init=0.001, max_iter=1000\n",
            "[CV 9/10; 16/24] END activation=tanh, alpha=0.001, hidden_layer_sizes=(50, 50), learning_rate=adaptive, learning_rate_init=0.001, max_iter=1000;, score=0.943 total time=   4.0s\n",
            "[CV 10/10; 16/24] START activation=tanh, alpha=0.001, hidden_layer_sizes=(50, 50), learning_rate=adaptive, learning_rate_init=0.001, max_iter=1000\n",
            "[CV 10/10; 16/24] END activation=tanh, alpha=0.001, hidden_layer_sizes=(50, 50), learning_rate=adaptive, learning_rate_init=0.001, max_iter=1000;, score=0.943 total time=   7.8s\n",
            "[CV 1/10; 17/24] START activation=tanh, alpha=0.001, hidden_layer_sizes=(50, 50), learning_rate=adaptive, learning_rate_init=0.01, max_iter=1000\n",
            "[CV 1/10; 17/24] END activation=tanh, alpha=0.001, hidden_layer_sizes=(50, 50), learning_rate=adaptive, learning_rate_init=0.01, max_iter=1000;, score=0.907 total time=   5.7s\n",
            "[CV 2/10; 17/24] START activation=tanh, alpha=0.001, hidden_layer_sizes=(50, 50), learning_rate=adaptive, learning_rate_init=0.01, max_iter=1000\n",
            "[CV 2/10; 17/24] END activation=tanh, alpha=0.001, hidden_layer_sizes=(50, 50), learning_rate=adaptive, learning_rate_init=0.01, max_iter=1000;, score=0.974 total time=   7.5s\n",
            "[CV 3/10; 17/24] START activation=tanh, alpha=0.001, hidden_layer_sizes=(50, 50), learning_rate=adaptive, learning_rate_init=0.01, max_iter=1000\n",
            "[CV 3/10; 17/24] END activation=tanh, alpha=0.001, hidden_layer_sizes=(50, 50), learning_rate=adaptive, learning_rate_init=0.01, max_iter=1000;, score=0.913 total time=   5.5s\n",
            "[CV 4/10; 17/24] START activation=tanh, alpha=0.001, hidden_layer_sizes=(50, 50), learning_rate=adaptive, learning_rate_init=0.01, max_iter=1000\n",
            "[CV 4/10; 17/24] END activation=tanh, alpha=0.001, hidden_layer_sizes=(50, 50), learning_rate=adaptive, learning_rate_init=0.01, max_iter=1000;, score=0.960 total time=   6.7s\n",
            "[CV 5/10; 17/24] START activation=tanh, alpha=0.001, hidden_layer_sizes=(50, 50), learning_rate=adaptive, learning_rate_init=0.01, max_iter=1000\n",
            "[CV 5/10; 17/24] END activation=tanh, alpha=0.001, hidden_layer_sizes=(50, 50), learning_rate=adaptive, learning_rate_init=0.01, max_iter=1000;, score=0.932 total time=   5.9s\n",
            "[CV 6/10; 17/24] START activation=tanh, alpha=0.001, hidden_layer_sizes=(50, 50), learning_rate=adaptive, learning_rate_init=0.01, max_iter=1000\n",
            "[CV 6/10; 17/24] END activation=tanh, alpha=0.001, hidden_layer_sizes=(50, 50), learning_rate=adaptive, learning_rate_init=0.01, max_iter=1000;, score=0.896 total time=   5.0s\n",
            "[CV 7/10; 17/24] START activation=tanh, alpha=0.001, hidden_layer_sizes=(50, 50), learning_rate=adaptive, learning_rate_init=0.01, max_iter=1000\n",
            "[CV 7/10; 17/24] END activation=tanh, alpha=0.001, hidden_layer_sizes=(50, 50), learning_rate=adaptive, learning_rate_init=0.01, max_iter=1000;, score=0.943 total time=   4.8s\n",
            "[CV 8/10; 17/24] START activation=tanh, alpha=0.001, hidden_layer_sizes=(50, 50), learning_rate=adaptive, learning_rate_init=0.01, max_iter=1000\n",
            "[CV 8/10; 17/24] END activation=tanh, alpha=0.001, hidden_layer_sizes=(50, 50), learning_rate=adaptive, learning_rate_init=0.01, max_iter=1000;, score=0.943 total time=   4.0s\n",
            "[CV 9/10; 17/24] START activation=tanh, alpha=0.001, hidden_layer_sizes=(50, 50), learning_rate=adaptive, learning_rate_init=0.01, max_iter=1000\n",
            "[CV 9/10; 17/24] END activation=tanh, alpha=0.001, hidden_layer_sizes=(50, 50), learning_rate=adaptive, learning_rate_init=0.01, max_iter=1000;, score=0.943 total time=   6.2s\n",
            "[CV 10/10; 17/24] START activation=tanh, alpha=0.001, hidden_layer_sizes=(50, 50), learning_rate=adaptive, learning_rate_init=0.01, max_iter=1000\n",
            "[CV 10/10; 17/24] END activation=tanh, alpha=0.001, hidden_layer_sizes=(50, 50), learning_rate=adaptive, learning_rate_init=0.01, max_iter=1000;, score=0.925 total time=   4.5s\n",
            "[CV 1/10; 18/24] START activation=tanh, alpha=0.001, hidden_layer_sizes=(50, 50), learning_rate=adaptive, learning_rate_init=0.1, max_iter=1000\n",
            "[CV 1/10; 18/24] END activation=tanh, alpha=0.001, hidden_layer_sizes=(50, 50), learning_rate=adaptive, learning_rate_init=0.1, max_iter=1000;, score=0.958 total time=   0.7s\n",
            "[CV 2/10; 18/24] START activation=tanh, alpha=0.001, hidden_layer_sizes=(50, 50), learning_rate=adaptive, learning_rate_init=0.1, max_iter=1000\n",
            "[CV 2/10; 18/24] END activation=tanh, alpha=0.001, hidden_layer_sizes=(50, 50), learning_rate=adaptive, learning_rate_init=0.1, max_iter=1000;, score=0.973 total time=   0.6s\n",
            "[CV 3/10; 18/24] START activation=tanh, alpha=0.001, hidden_layer_sizes=(50, 50), learning_rate=adaptive, learning_rate_init=0.1, max_iter=1000\n",
            "[CV 3/10; 18/24] END activation=tanh, alpha=0.001, hidden_layer_sizes=(50, 50), learning_rate=adaptive, learning_rate_init=0.1, max_iter=1000;, score=0.927 total time=   0.7s\n",
            "[CV 4/10; 18/24] START activation=tanh, alpha=0.001, hidden_layer_sizes=(50, 50), learning_rate=adaptive, learning_rate_init=0.1, max_iter=1000\n",
            "[CV 4/10; 18/24] END activation=tanh, alpha=0.001, hidden_layer_sizes=(50, 50), learning_rate=adaptive, learning_rate_init=0.1, max_iter=1000;, score=0.940 total time=   1.5s\n",
            "[CV 5/10; 18/24] START activation=tanh, alpha=0.001, hidden_layer_sizes=(50, 50), learning_rate=adaptive, learning_rate_init=0.1, max_iter=1000\n",
            "[CV 5/10; 18/24] END activation=tanh, alpha=0.001, hidden_layer_sizes=(50, 50), learning_rate=adaptive, learning_rate_init=0.1, max_iter=1000;, score=0.935 total time=   1.6s\n",
            "[CV 6/10; 18/24] START activation=tanh, alpha=0.001, hidden_layer_sizes=(50, 50), learning_rate=adaptive, learning_rate_init=0.1, max_iter=1000\n",
            "[CV 6/10; 18/24] END activation=tanh, alpha=0.001, hidden_layer_sizes=(50, 50), learning_rate=adaptive, learning_rate_init=0.1, max_iter=1000;, score=0.899 total time=   1.3s\n",
            "[CV 7/10; 18/24] START activation=tanh, alpha=0.001, hidden_layer_sizes=(50, 50), learning_rate=adaptive, learning_rate_init=0.1, max_iter=1000\n",
            "[CV 7/10; 18/24] END activation=tanh, alpha=0.001, hidden_layer_sizes=(50, 50), learning_rate=adaptive, learning_rate_init=0.1, max_iter=1000;, score=0.937 total time=   0.5s\n",
            "[CV 8/10; 18/24] START activation=tanh, alpha=0.001, hidden_layer_sizes=(50, 50), learning_rate=adaptive, learning_rate_init=0.1, max_iter=1000\n",
            "[CV 8/10; 18/24] END activation=tanh, alpha=0.001, hidden_layer_sizes=(50, 50), learning_rate=adaptive, learning_rate_init=0.1, max_iter=1000;, score=0.947 total time=   0.6s\n",
            "[CV 9/10; 18/24] START activation=tanh, alpha=0.001, hidden_layer_sizes=(50, 50), learning_rate=adaptive, learning_rate_init=0.1, max_iter=1000\n",
            "[CV 9/10; 18/24] END activation=tanh, alpha=0.001, hidden_layer_sizes=(50, 50), learning_rate=adaptive, learning_rate_init=0.1, max_iter=1000;, score=0.948 total time=   0.8s\n",
            "[CV 10/10; 18/24] START activation=tanh, alpha=0.001, hidden_layer_sizes=(50, 50), learning_rate=adaptive, learning_rate_init=0.1, max_iter=1000\n",
            "[CV 10/10; 18/24] END activation=tanh, alpha=0.001, hidden_layer_sizes=(50, 50), learning_rate=adaptive, learning_rate_init=0.1, max_iter=1000;, score=0.944 total time=   0.4s\n",
            "[CV 1/10; 19/24] START activation=tanh, alpha=0.001, hidden_layer_sizes=(20, 80, 20), learning_rate=constant, learning_rate_init=0.001, max_iter=1000\n",
            "[CV 1/10; 19/24] END activation=tanh, alpha=0.001, hidden_layer_sizes=(20, 80, 20), learning_rate=constant, learning_rate_init=0.001, max_iter=1000;, score=0.962 total time=   3.0s\n",
            "[CV 2/10; 19/24] START activation=tanh, alpha=0.001, hidden_layer_sizes=(20, 80, 20), learning_rate=constant, learning_rate_init=0.001, max_iter=1000\n",
            "[CV 2/10; 19/24] END activation=tanh, alpha=0.001, hidden_layer_sizes=(20, 80, 20), learning_rate=constant, learning_rate_init=0.001, max_iter=1000;, score=0.974 total time=   7.0s\n",
            "[CV 3/10; 19/24] START activation=tanh, alpha=0.001, hidden_layer_sizes=(20, 80, 20), learning_rate=constant, learning_rate_init=0.001, max_iter=1000\n",
            "[CV 3/10; 19/24] END activation=tanh, alpha=0.001, hidden_layer_sizes=(20, 80, 20), learning_rate=constant, learning_rate_init=0.001, max_iter=1000;, score=0.936 total time=   3.7s\n",
            "[CV 4/10; 19/24] START activation=tanh, alpha=0.001, hidden_layer_sizes=(20, 80, 20), learning_rate=constant, learning_rate_init=0.001, max_iter=1000\n",
            "[CV 4/10; 19/24] END activation=tanh, alpha=0.001, hidden_layer_sizes=(20, 80, 20), learning_rate=constant, learning_rate_init=0.001, max_iter=1000;, score=0.956 total time=   3.5s\n",
            "[CV 5/10; 19/24] START activation=tanh, alpha=0.001, hidden_layer_sizes=(20, 80, 20), learning_rate=constant, learning_rate_init=0.001, max_iter=1000\n",
            "[CV 5/10; 19/24] END activation=tanh, alpha=0.001, hidden_layer_sizes=(20, 80, 20), learning_rate=constant, learning_rate_init=0.001, max_iter=1000;, score=0.955 total time=   7.3s\n",
            "[CV 6/10; 19/24] START activation=tanh, alpha=0.001, hidden_layer_sizes=(20, 80, 20), learning_rate=constant, learning_rate_init=0.001, max_iter=1000\n",
            "[CV 6/10; 19/24] END activation=tanh, alpha=0.001, hidden_layer_sizes=(20, 80, 20), learning_rate=constant, learning_rate_init=0.001, max_iter=1000;, score=0.926 total time=   4.5s\n",
            "[CV 7/10; 19/24] START activation=tanh, alpha=0.001, hidden_layer_sizes=(20, 80, 20), learning_rate=constant, learning_rate_init=0.001, max_iter=1000\n",
            "[CV 7/10; 19/24] END activation=tanh, alpha=0.001, hidden_layer_sizes=(20, 80, 20), learning_rate=constant, learning_rate_init=0.001, max_iter=1000;, score=0.932 total time=   2.0s\n",
            "[CV 8/10; 19/24] START activation=tanh, alpha=0.001, hidden_layer_sizes=(20, 80, 20), learning_rate=constant, learning_rate_init=0.001, max_iter=1000\n",
            "[CV 8/10; 19/24] END activation=tanh, alpha=0.001, hidden_layer_sizes=(20, 80, 20), learning_rate=constant, learning_rate_init=0.001, max_iter=1000;, score=0.958 total time=   2.5s\n",
            "[CV 9/10; 19/24] START activation=tanh, alpha=0.001, hidden_layer_sizes=(20, 80, 20), learning_rate=constant, learning_rate_init=0.001, max_iter=1000\n",
            "[CV 9/10; 19/24] END activation=tanh, alpha=0.001, hidden_layer_sizes=(20, 80, 20), learning_rate=constant, learning_rate_init=0.001, max_iter=1000;, score=0.942 total time=   6.1s\n",
            "[CV 10/10; 19/24] START activation=tanh, alpha=0.001, hidden_layer_sizes=(20, 80, 20), learning_rate=constant, learning_rate_init=0.001, max_iter=1000\n",
            "[CV 10/10; 19/24] END activation=tanh, alpha=0.001, hidden_layer_sizes=(20, 80, 20), learning_rate=constant, learning_rate_init=0.001, max_iter=1000;, score=0.944 total time=   4.0s\n",
            "[CV 1/10; 20/24] START activation=tanh, alpha=0.001, hidden_layer_sizes=(20, 80, 20), learning_rate=constant, learning_rate_init=0.01, max_iter=1000\n",
            "[CV 1/10; 20/24] END activation=tanh, alpha=0.001, hidden_layer_sizes=(20, 80, 20), learning_rate=constant, learning_rate_init=0.01, max_iter=1000;, score=0.938 total time=   1.7s\n",
            "[CV 2/10; 20/24] START activation=tanh, alpha=0.001, hidden_layer_sizes=(20, 80, 20), learning_rate=constant, learning_rate_init=0.01, max_iter=1000\n",
            "[CV 2/10; 20/24] END activation=tanh, alpha=0.001, hidden_layer_sizes=(20, 80, 20), learning_rate=constant, learning_rate_init=0.01, max_iter=1000;, score=0.969 total time=   5.6s\n",
            "[CV 3/10; 20/24] START activation=tanh, alpha=0.001, hidden_layer_sizes=(20, 80, 20), learning_rate=constant, learning_rate_init=0.01, max_iter=1000\n",
            "[CV 3/10; 20/24] END activation=tanh, alpha=0.001, hidden_layer_sizes=(20, 80, 20), learning_rate=constant, learning_rate_init=0.01, max_iter=1000;, score=0.941 total time=   4.6s\n",
            "[CV 4/10; 20/24] START activation=tanh, alpha=0.001, hidden_layer_sizes=(20, 80, 20), learning_rate=constant, learning_rate_init=0.01, max_iter=1000\n",
            "[CV 4/10; 20/24] END activation=tanh, alpha=0.001, hidden_layer_sizes=(20, 80, 20), learning_rate=constant, learning_rate_init=0.01, max_iter=1000;, score=0.944 total time=   1.0s\n",
            "[CV 5/10; 20/24] START activation=tanh, alpha=0.001, hidden_layer_sizes=(20, 80, 20), learning_rate=constant, learning_rate_init=0.01, max_iter=1000\n",
            "[CV 5/10; 20/24] END activation=tanh, alpha=0.001, hidden_layer_sizes=(20, 80, 20), learning_rate=constant, learning_rate_init=0.01, max_iter=1000;, score=0.959 total time=   2.9s\n",
            "[CV 6/10; 20/24] START activation=tanh, alpha=0.001, hidden_layer_sizes=(20, 80, 20), learning_rate=constant, learning_rate_init=0.01, max_iter=1000\n",
            "[CV 6/10; 20/24] END activation=tanh, alpha=0.001, hidden_layer_sizes=(20, 80, 20), learning_rate=constant, learning_rate_init=0.01, max_iter=1000;, score=0.901 total time=   5.4s\n",
            "[CV 7/10; 20/24] START activation=tanh, alpha=0.001, hidden_layer_sizes=(20, 80, 20), learning_rate=constant, learning_rate_init=0.01, max_iter=1000\n",
            "[CV 7/10; 20/24] END activation=tanh, alpha=0.001, hidden_layer_sizes=(20, 80, 20), learning_rate=constant, learning_rate_init=0.01, max_iter=1000;, score=0.926 total time=   4.0s\n",
            "[CV 8/10; 20/24] START activation=tanh, alpha=0.001, hidden_layer_sizes=(20, 80, 20), learning_rate=constant, learning_rate_init=0.01, max_iter=1000\n",
            "[CV 8/10; 20/24] END activation=tanh, alpha=0.001, hidden_layer_sizes=(20, 80, 20), learning_rate=constant, learning_rate_init=0.01, max_iter=1000;, score=0.941 total time=   2.5s\n",
            "[CV 9/10; 20/24] START activation=tanh, alpha=0.001, hidden_layer_sizes=(20, 80, 20), learning_rate=constant, learning_rate_init=0.01, max_iter=1000\n",
            "[CV 9/10; 20/24] END activation=tanh, alpha=0.001, hidden_layer_sizes=(20, 80, 20), learning_rate=constant, learning_rate_init=0.01, max_iter=1000;, score=0.933 total time=   5.4s\n",
            "[CV 10/10; 20/24] START activation=tanh, alpha=0.001, hidden_layer_sizes=(20, 80, 20), learning_rate=constant, learning_rate_init=0.01, max_iter=1000\n",
            "[CV 10/10; 20/24] END activation=tanh, alpha=0.001, hidden_layer_sizes=(20, 80, 20), learning_rate=constant, learning_rate_init=0.01, max_iter=1000;, score=0.922 total time=   4.3s\n",
            "[CV 1/10; 21/24] START activation=tanh, alpha=0.001, hidden_layer_sizes=(20, 80, 20), learning_rate=constant, learning_rate_init=0.1, max_iter=1000\n",
            "[CV 1/10; 21/24] END activation=tanh, alpha=0.001, hidden_layer_sizes=(20, 80, 20), learning_rate=constant, learning_rate_init=0.1, max_iter=1000;, score=0.699 total time=   0.4s\n",
            "[CV 2/10; 21/24] START activation=tanh, alpha=0.001, hidden_layer_sizes=(20, 80, 20), learning_rate=constant, learning_rate_init=0.1, max_iter=1000\n",
            "[CV 2/10; 21/24] END activation=tanh, alpha=0.001, hidden_layer_sizes=(20, 80, 20), learning_rate=constant, learning_rate_init=0.1, max_iter=1000;, score=0.837 total time=   0.6s\n",
            "[CV 3/10; 21/24] START activation=tanh, alpha=0.001, hidden_layer_sizes=(20, 80, 20), learning_rate=constant, learning_rate_init=0.1, max_iter=1000\n",
            "[CV 3/10; 21/24] END activation=tanh, alpha=0.001, hidden_layer_sizes=(20, 80, 20), learning_rate=constant, learning_rate_init=0.1, max_iter=1000;, score=0.925 total time=   0.5s\n",
            "[CV 4/10; 21/24] START activation=tanh, alpha=0.001, hidden_layer_sizes=(20, 80, 20), learning_rate=constant, learning_rate_init=0.1, max_iter=1000\n",
            "[CV 4/10; 21/24] END activation=tanh, alpha=0.001, hidden_layer_sizes=(20, 80, 20), learning_rate=constant, learning_rate_init=0.1, max_iter=1000;, score=0.412 total time=   0.5s\n",
            "[CV 5/10; 21/24] START activation=tanh, alpha=0.001, hidden_layer_sizes=(20, 80, 20), learning_rate=constant, learning_rate_init=0.1, max_iter=1000\n",
            "[CV 5/10; 21/24] END activation=tanh, alpha=0.001, hidden_layer_sizes=(20, 80, 20), learning_rate=constant, learning_rate_init=0.1, max_iter=1000;, score=0.947 total time=   0.8s\n",
            "[CV 6/10; 21/24] START activation=tanh, alpha=0.001, hidden_layer_sizes=(20, 80, 20), learning_rate=constant, learning_rate_init=0.1, max_iter=1000\n",
            "[CV 6/10; 21/24] END activation=tanh, alpha=0.001, hidden_layer_sizes=(20, 80, 20), learning_rate=constant, learning_rate_init=0.1, max_iter=1000;, score=0.799 total time=   0.4s\n",
            "[CV 7/10; 21/24] START activation=tanh, alpha=0.001, hidden_layer_sizes=(20, 80, 20), learning_rate=constant, learning_rate_init=0.1, max_iter=1000\n",
            "[CV 7/10; 21/24] END activation=tanh, alpha=0.001, hidden_layer_sizes=(20, 80, 20), learning_rate=constant, learning_rate_init=0.1, max_iter=1000;, score=0.926 total time=   0.6s\n",
            "[CV 8/10; 21/24] START activation=tanh, alpha=0.001, hidden_layer_sizes=(20, 80, 20), learning_rate=constant, learning_rate_init=0.1, max_iter=1000\n",
            "[CV 8/10; 21/24] END activation=tanh, alpha=0.001, hidden_layer_sizes=(20, 80, 20), learning_rate=constant, learning_rate_init=0.1, max_iter=1000;, score=0.659 total time=   2.1s\n",
            "[CV 9/10; 21/24] START activation=tanh, alpha=0.001, hidden_layer_sizes=(20, 80, 20), learning_rate=constant, learning_rate_init=0.1, max_iter=1000\n",
            "[CV 9/10; 21/24] END activation=tanh, alpha=0.001, hidden_layer_sizes=(20, 80, 20), learning_rate=constant, learning_rate_init=0.1, max_iter=1000;, score=0.546 total time=   4.5s\n",
            "[CV 10/10; 21/24] START activation=tanh, alpha=0.001, hidden_layer_sizes=(20, 80, 20), learning_rate=constant, learning_rate_init=0.1, max_iter=1000\n",
            "[CV 10/10; 21/24] END activation=tanh, alpha=0.001, hidden_layer_sizes=(20, 80, 20), learning_rate=constant, learning_rate_init=0.1, max_iter=1000;, score=0.928 total time=   2.0s\n",
            "[CV 1/10; 22/24] START activation=tanh, alpha=0.001, hidden_layer_sizes=(20, 80, 20), learning_rate=adaptive, learning_rate_init=0.001, max_iter=1000\n",
            "[CV 1/10; 22/24] END activation=tanh, alpha=0.001, hidden_layer_sizes=(20, 80, 20), learning_rate=adaptive, learning_rate_init=0.001, max_iter=1000;, score=0.963 total time=   6.2s\n",
            "[CV 2/10; 22/24] START activation=tanh, alpha=0.001, hidden_layer_sizes=(20, 80, 20), learning_rate=adaptive, learning_rate_init=0.001, max_iter=1000\n",
            "[CV 2/10; 22/24] END activation=tanh, alpha=0.001, hidden_layer_sizes=(20, 80, 20), learning_rate=adaptive, learning_rate_init=0.001, max_iter=1000;, score=0.971 total time=   3.0s\n",
            "[CV 3/10; 22/24] START activation=tanh, alpha=0.001, hidden_layer_sizes=(20, 80, 20), learning_rate=adaptive, learning_rate_init=0.001, max_iter=1000\n",
            "[CV 3/10; 22/24] END activation=tanh, alpha=0.001, hidden_layer_sizes=(20, 80, 20), learning_rate=adaptive, learning_rate_init=0.001, max_iter=1000;, score=0.929 total time=   5.3s\n",
            "[CV 4/10; 22/24] START activation=tanh, alpha=0.001, hidden_layer_sizes=(20, 80, 20), learning_rate=adaptive, learning_rate_init=0.001, max_iter=1000\n",
            "[CV 4/10; 22/24] END activation=tanh, alpha=0.001, hidden_layer_sizes=(20, 80, 20), learning_rate=adaptive, learning_rate_init=0.001, max_iter=1000;, score=0.959 total time=   3.1s\n",
            "[CV 5/10; 22/24] START activation=tanh, alpha=0.001, hidden_layer_sizes=(20, 80, 20), learning_rate=adaptive, learning_rate_init=0.001, max_iter=1000\n",
            "[CV 5/10; 22/24] END activation=tanh, alpha=0.001, hidden_layer_sizes=(20, 80, 20), learning_rate=adaptive, learning_rate_init=0.001, max_iter=1000;, score=0.960 total time=   1.9s\n",
            "[CV 6/10; 22/24] START activation=tanh, alpha=0.001, hidden_layer_sizes=(20, 80, 20), learning_rate=adaptive, learning_rate_init=0.001, max_iter=1000\n",
            "[CV 6/10; 22/24] END activation=tanh, alpha=0.001, hidden_layer_sizes=(20, 80, 20), learning_rate=adaptive, learning_rate_init=0.001, max_iter=1000;, score=0.928 total time=   1.6s\n",
            "[CV 7/10; 22/24] START activation=tanh, alpha=0.001, hidden_layer_sizes=(20, 80, 20), learning_rate=adaptive, learning_rate_init=0.001, max_iter=1000\n",
            "[CV 7/10; 22/24] END activation=tanh, alpha=0.001, hidden_layer_sizes=(20, 80, 20), learning_rate=adaptive, learning_rate_init=0.001, max_iter=1000;, score=0.934 total time=   4.0s\n",
            "[CV 8/10; 22/24] START activation=tanh, alpha=0.001, hidden_layer_sizes=(20, 80, 20), learning_rate=adaptive, learning_rate_init=0.001, max_iter=1000\n",
            "[CV 8/10; 22/24] END activation=tanh, alpha=0.001, hidden_layer_sizes=(20, 80, 20), learning_rate=adaptive, learning_rate_init=0.001, max_iter=1000;, score=0.957 total time=   2.9s\n",
            "[CV 9/10; 22/24] START activation=tanh, alpha=0.001, hidden_layer_sizes=(20, 80, 20), learning_rate=adaptive, learning_rate_init=0.001, max_iter=1000\n",
            "[CV 9/10; 22/24] END activation=tanh, alpha=0.001, hidden_layer_sizes=(20, 80, 20), learning_rate=adaptive, learning_rate_init=0.001, max_iter=1000;, score=0.937 total time=   6.1s\n",
            "[CV 10/10; 22/24] START activation=tanh, alpha=0.001, hidden_layer_sizes=(20, 80, 20), learning_rate=adaptive, learning_rate_init=0.001, max_iter=1000\n",
            "[CV 10/10; 22/24] END activation=tanh, alpha=0.001, hidden_layer_sizes=(20, 80, 20), learning_rate=adaptive, learning_rate_init=0.001, max_iter=1000;, score=0.944 total time=   5.6s\n",
            "[CV 1/10; 23/24] START activation=tanh, alpha=0.001, hidden_layer_sizes=(20, 80, 20), learning_rate=adaptive, learning_rate_init=0.01, max_iter=1000\n",
            "[CV 1/10; 23/24] END activation=tanh, alpha=0.001, hidden_layer_sizes=(20, 80, 20), learning_rate=adaptive, learning_rate_init=0.01, max_iter=1000;, score=0.919 total time=   4.5s\n",
            "[CV 2/10; 23/24] START activation=tanh, alpha=0.001, hidden_layer_sizes=(20, 80, 20), learning_rate=adaptive, learning_rate_init=0.01, max_iter=1000\n",
            "[CV 2/10; 23/24] END activation=tanh, alpha=0.001, hidden_layer_sizes=(20, 80, 20), learning_rate=adaptive, learning_rate_init=0.01, max_iter=1000;, score=0.958 total time=   3.0s\n",
            "[CV 3/10; 23/24] START activation=tanh, alpha=0.001, hidden_layer_sizes=(20, 80, 20), learning_rate=adaptive, learning_rate_init=0.01, max_iter=1000\n",
            "[CV 3/10; 23/24] END activation=tanh, alpha=0.001, hidden_layer_sizes=(20, 80, 20), learning_rate=adaptive, learning_rate_init=0.01, max_iter=1000;, score=0.941 total time=   6.2s\n",
            "[CV 4/10; 23/24] START activation=tanh, alpha=0.001, hidden_layer_sizes=(20, 80, 20), learning_rate=adaptive, learning_rate_init=0.01, max_iter=1000\n",
            "[CV 4/10; 23/24] END activation=tanh, alpha=0.001, hidden_layer_sizes=(20, 80, 20), learning_rate=adaptive, learning_rate_init=0.01, max_iter=1000;, score=0.931 total time=   6.7s\n",
            "[CV 5/10; 23/24] START activation=tanh, alpha=0.001, hidden_layer_sizes=(20, 80, 20), learning_rate=adaptive, learning_rate_init=0.01, max_iter=1000\n",
            "[CV 5/10; 23/24] END activation=tanh, alpha=0.001, hidden_layer_sizes=(20, 80, 20), learning_rate=adaptive, learning_rate_init=0.01, max_iter=1000;, score=0.930 total time=   7.8s\n",
            "[CV 6/10; 23/24] START activation=tanh, alpha=0.001, hidden_layer_sizes=(20, 80, 20), learning_rate=adaptive, learning_rate_init=0.01, max_iter=1000\n",
            "[CV 6/10; 23/24] END activation=tanh, alpha=0.001, hidden_layer_sizes=(20, 80, 20), learning_rate=adaptive, learning_rate_init=0.01, max_iter=1000;, score=0.910 total time=   4.1s\n",
            "[CV 7/10; 23/24] START activation=tanh, alpha=0.001, hidden_layer_sizes=(20, 80, 20), learning_rate=adaptive, learning_rate_init=0.01, max_iter=1000\n",
            "[CV 7/10; 23/24] END activation=tanh, alpha=0.001, hidden_layer_sizes=(20, 80, 20), learning_rate=adaptive, learning_rate_init=0.01, max_iter=1000;, score=0.941 total time=   3.8s\n",
            "[CV 8/10; 23/24] START activation=tanh, alpha=0.001, hidden_layer_sizes=(20, 80, 20), learning_rate=adaptive, learning_rate_init=0.01, max_iter=1000\n",
            "[CV 8/10; 23/24] END activation=tanh, alpha=0.001, hidden_layer_sizes=(20, 80, 20), learning_rate=adaptive, learning_rate_init=0.01, max_iter=1000;, score=0.961 total time=   4.1s\n",
            "[CV 9/10; 23/24] START activation=tanh, alpha=0.001, hidden_layer_sizes=(20, 80, 20), learning_rate=adaptive, learning_rate_init=0.01, max_iter=1000\n",
            "[CV 9/10; 23/24] END activation=tanh, alpha=0.001, hidden_layer_sizes=(20, 80, 20), learning_rate=adaptive, learning_rate_init=0.01, max_iter=1000;, score=0.931 total time=   4.8s\n",
            "[CV 10/10; 23/24] START activation=tanh, alpha=0.001, hidden_layer_sizes=(20, 80, 20), learning_rate=adaptive, learning_rate_init=0.01, max_iter=1000\n",
            "[CV 10/10; 23/24] END activation=tanh, alpha=0.001, hidden_layer_sizes=(20, 80, 20), learning_rate=adaptive, learning_rate_init=0.01, max_iter=1000;, score=0.942 total time=   7.1s\n",
            "[CV 1/10; 24/24] START activation=tanh, alpha=0.001, hidden_layer_sizes=(20, 80, 20), learning_rate=adaptive, learning_rate_init=0.1, max_iter=1000\n",
            "[CV 1/10; 24/24] END activation=tanh, alpha=0.001, hidden_layer_sizes=(20, 80, 20), learning_rate=adaptive, learning_rate_init=0.1, max_iter=1000;, score=0.661 total time=   0.5s\n",
            "[CV 2/10; 24/24] START activation=tanh, alpha=0.001, hidden_layer_sizes=(20, 80, 20), learning_rate=adaptive, learning_rate_init=0.1, max_iter=1000\n",
            "[CV 2/10; 24/24] END activation=tanh, alpha=0.001, hidden_layer_sizes=(20, 80, 20), learning_rate=adaptive, learning_rate_init=0.1, max_iter=1000;, score=0.974 total time=   0.6s\n",
            "[CV 3/10; 24/24] START activation=tanh, alpha=0.001, hidden_layer_sizes=(20, 80, 20), learning_rate=adaptive, learning_rate_init=0.1, max_iter=1000\n",
            "[CV 3/10; 24/24] END activation=tanh, alpha=0.001, hidden_layer_sizes=(20, 80, 20), learning_rate=adaptive, learning_rate_init=0.1, max_iter=1000;, score=0.669 total time=   0.7s\n",
            "[CV 4/10; 24/24] START activation=tanh, alpha=0.001, hidden_layer_sizes=(20, 80, 20), learning_rate=adaptive, learning_rate_init=0.1, max_iter=1000\n",
            "[CV 4/10; 24/24] END activation=tanh, alpha=0.001, hidden_layer_sizes=(20, 80, 20), learning_rate=adaptive, learning_rate_init=0.1, max_iter=1000;, score=0.950 total time=   0.8s\n",
            "[CV 5/10; 24/24] START activation=tanh, alpha=0.001, hidden_layer_sizes=(20, 80, 20), learning_rate=adaptive, learning_rate_init=0.1, max_iter=1000\n",
            "[CV 5/10; 24/24] END activation=tanh, alpha=0.001, hidden_layer_sizes=(20, 80, 20), learning_rate=adaptive, learning_rate_init=0.1, max_iter=1000;, score=0.766 total time=   1.0s\n",
            "[CV 6/10; 24/24] START activation=tanh, alpha=0.001, hidden_layer_sizes=(20, 80, 20), learning_rate=adaptive, learning_rate_init=0.1, max_iter=1000\n",
            "[CV 6/10; 24/24] END activation=tanh, alpha=0.001, hidden_layer_sizes=(20, 80, 20), learning_rate=adaptive, learning_rate_init=0.1, max_iter=1000;, score=0.747 total time=   0.4s\n",
            "[CV 7/10; 24/24] START activation=tanh, alpha=0.001, hidden_layer_sizes=(20, 80, 20), learning_rate=adaptive, learning_rate_init=0.1, max_iter=1000\n",
            "[CV 7/10; 24/24] END activation=tanh, alpha=0.001, hidden_layer_sizes=(20, 80, 20), learning_rate=adaptive, learning_rate_init=0.1, max_iter=1000;, score=0.925 total time=   0.4s\n",
            "[CV 8/10; 24/24] START activation=tanh, alpha=0.001, hidden_layer_sizes=(20, 80, 20), learning_rate=adaptive, learning_rate_init=0.1, max_iter=1000\n",
            "[CV 8/10; 24/24] END activation=tanh, alpha=0.001, hidden_layer_sizes=(20, 80, 20), learning_rate=adaptive, learning_rate_init=0.1, max_iter=1000;, score=0.461 total time=   0.5s\n",
            "[CV 9/10; 24/24] START activation=tanh, alpha=0.001, hidden_layer_sizes=(20, 80, 20), learning_rate=adaptive, learning_rate_init=0.1, max_iter=1000\n",
            "[CV 9/10; 24/24] END activation=tanh, alpha=0.001, hidden_layer_sizes=(20, 80, 20), learning_rate=adaptive, learning_rate_init=0.1, max_iter=1000;, score=0.054 total time=   0.6s\n",
            "[CV 10/10; 24/24] START activation=tanh, alpha=0.001, hidden_layer_sizes=(20, 80, 20), learning_rate=adaptive, learning_rate_init=0.1, max_iter=1000\n",
            "[CV 10/10; 24/24] END activation=tanh, alpha=0.001, hidden_layer_sizes=(20, 80, 20), learning_rate=adaptive, learning_rate_init=0.1, max_iter=1000;, score=0.889 total time=   0.7s\n",
            "Melhores parâmetros: {'max_iter': 1000, 'learning_rate_init': 0.001, 'learning_rate': 'constant', 'hidden_layer_sizes': (20, 80, 20), 'alpha': 0.0001, 'activation': 'tanh'}\n",
            "Melhor pontuação: 0.9485250130821561\n"
          ]
        }
      ],
      "source": [
        "from sklearn.neural_network import MLPClassifier\n",
        "from sklearn.model_selection import RandomizedSearchCV\n",
        "\n",
        "params2 = {\n",
        "    'hidden_layer_sizes': [(50,50), (20,80,20)],\n",
        "    'activation': ['tanh'],\n",
        "    'alpha': [0.0001, 0.001],\n",
        "    'learning_rate_init': [0.001, 0.01, 0.1],\n",
        "    'max_iter': [1000],\n",
        "    'learning_rate': ['constant', 'adaptive']\n",
        "    }\n",
        "\n",
        "mlp2 = MLPClassifier()\n",
        "rf_random2 = RandomizedSearchCV(estimator = mlp2, param_distributions = params2, n_iter = 40, cv = 10,verbose=10,scoring='roc_auc')\n",
        "\n",
        "\n",
        "rf_random2.fit(X_train_oh, y_train)\n",
        "print(\"Melhores parâmetros:\", rf_random2.best_params_)\n",
        "print(\"Melhor pontuação:\", rf_random2.best_score_)"
      ]
    },
    {
      "cell_type": "markdown",
      "source": [
        "### Como a estratégia de hard voting utiliza a votação majoritária dos classificadores base para tomar uma decisão final, só é adequada para classificadores que retornam uma classe, e não uma pontuação de probabilidade.\n",
        "\n",
        "###  Já a métrica roc_auc requer a pontuação de probabilidade para cada classe para calcular a área sob a curva ROC. Portanto, a estratégia de hard voting não é adequada para ser usada com a métrica roc_auc e não usaremos ela nos próximos dois modelos."
      ],
      "metadata": {
        "id": "bNBEwhnxJvHI"
      }
    },
    {
      "cell_type": "markdown",
      "metadata": {
        "id": "FlDvlrVWFWDL"
      },
      "source": [
        "### Comitê de redes neurais"
      ]
    },
    {
      "cell_type": "code",
      "execution_count": null,
      "metadata": {
        "colab": {
          "base_uri": "https://localhost:8080/"
        },
        "id": "S8DrlSgKZ90O",
        "outputId": "b0561181-2c67-4f7e-ebab-7054135bfa9e"
      },
      "outputs": [
        {
          "output_type": "stream",
          "name": "stdout",
          "text": [
            "Fitting 10 folds for each of 5 candidates, totalling 50 fits\n",
            "[CV 1/10] END mlp1__alpha=0.0001, mlp2__alpha=0.0001, mlp3__alpha=0.1, voting=soft;, score=0.961 total time=  10.0s\n",
            "[CV 2/10] END mlp1__alpha=0.0001, mlp2__alpha=0.0001, mlp3__alpha=0.1, voting=soft;, score=0.973 total time=  10.3s\n",
            "[CV 3/10] END mlp1__alpha=0.0001, mlp2__alpha=0.0001, mlp3__alpha=0.1, voting=soft;, score=0.932 total time=  12.0s\n",
            "[CV 4/10] END mlp1__alpha=0.0001, mlp2__alpha=0.0001, mlp3__alpha=0.1, voting=soft;, score=0.955 total time=   8.9s\n",
            "[CV 5/10] END mlp1__alpha=0.0001, mlp2__alpha=0.0001, mlp3__alpha=0.1, voting=soft;, score=0.957 total time=  10.6s\n",
            "[CV 6/10] END mlp1__alpha=0.0001, mlp2__alpha=0.0001, mlp3__alpha=0.1, voting=soft;, score=0.920 total time=   6.2s\n",
            "[CV 7/10] END mlp1__alpha=0.0001, mlp2__alpha=0.0001, mlp3__alpha=0.1, voting=soft;, score=0.931 total time=   8.6s\n",
            "[CV 8/10] END mlp1__alpha=0.0001, mlp2__alpha=0.0001, mlp3__alpha=0.1, voting=soft;, score=0.956 total time=  12.1s\n",
            "[CV 9/10] END mlp1__alpha=0.0001, mlp2__alpha=0.0001, mlp3__alpha=0.1, voting=soft;, score=0.942 total time=  11.3s\n",
            "[CV 10/10] END mlp1__alpha=0.0001, mlp2__alpha=0.0001, mlp3__alpha=0.1, voting=soft;, score=0.950 total time=   7.5s\n",
            "[CV 1/10] END mlp1__alpha=0.001, mlp2__alpha=0.1, mlp3__alpha=0.01, voting=soft;, score=0.963 total time=   8.0s\n",
            "[CV 2/10] END mlp1__alpha=0.001, mlp2__alpha=0.1, mlp3__alpha=0.01, voting=soft;, score=0.976 total time=   8.8s\n",
            "[CV 3/10] END mlp1__alpha=0.001, mlp2__alpha=0.1, mlp3__alpha=0.01, voting=soft;, score=0.930 total time=   9.0s\n",
            "[CV 4/10] END mlp1__alpha=0.001, mlp2__alpha=0.1, mlp3__alpha=0.01, voting=soft;, score=0.956 total time=   7.9s\n",
            "[CV 5/10] END mlp1__alpha=0.001, mlp2__alpha=0.1, mlp3__alpha=0.01, voting=soft;, score=0.960 total time=   8.4s\n",
            "[CV 6/10] END mlp1__alpha=0.001, mlp2__alpha=0.1, mlp3__alpha=0.01, voting=soft;, score=0.928 total time=   8.8s\n",
            "[CV 7/10] END mlp1__alpha=0.001, mlp2__alpha=0.1, mlp3__alpha=0.01, voting=soft;, score=0.931 total time=   8.9s\n",
            "[CV 8/10] END mlp1__alpha=0.001, mlp2__alpha=0.1, mlp3__alpha=0.01, voting=soft;, score=0.956 total time=   9.6s\n",
            "[CV 9/10] END mlp1__alpha=0.001, mlp2__alpha=0.1, mlp3__alpha=0.01, voting=soft;, score=0.944 total time=   7.6s\n",
            "[CV 10/10] END mlp1__alpha=0.001, mlp2__alpha=0.1, mlp3__alpha=0.01, voting=soft;, score=0.949 total time=   6.7s\n",
            "[CV 1/10] END mlp1__alpha=0.001, mlp2__alpha=0.001, mlp3__alpha=0.001, voting=soft;, score=0.963 total time=   8.0s\n",
            "[CV 2/10] END mlp1__alpha=0.001, mlp2__alpha=0.001, mlp3__alpha=0.001, voting=soft;, score=0.974 total time=   8.6s\n",
            "[CV 3/10] END mlp1__alpha=0.001, mlp2__alpha=0.001, mlp3__alpha=0.001, voting=soft;, score=0.933 total time=   6.7s\n",
            "[CV 4/10] END mlp1__alpha=0.001, mlp2__alpha=0.001, mlp3__alpha=0.001, voting=soft;, score=0.952 total time=  11.9s\n",
            "[CV 5/10] END mlp1__alpha=0.001, mlp2__alpha=0.001, mlp3__alpha=0.001, voting=soft;, score=0.954 total time=  11.9s\n",
            "[CV 6/10] END mlp1__alpha=0.001, mlp2__alpha=0.001, mlp3__alpha=0.001, voting=soft;, score=0.926 total time=  10.4s\n",
            "[CV 7/10] END mlp1__alpha=0.001, mlp2__alpha=0.001, mlp3__alpha=0.001, voting=soft;, score=0.934 total time=  10.7s\n",
            "[CV 8/10] END mlp1__alpha=0.001, mlp2__alpha=0.001, mlp3__alpha=0.001, voting=soft;, score=0.958 total time=   8.3s\n",
            "[CV 9/10] END mlp1__alpha=0.001, mlp2__alpha=0.001, mlp3__alpha=0.001, voting=soft;, score=0.944 total time=   6.5s\n",
            "[CV 10/10] END mlp1__alpha=0.001, mlp2__alpha=0.001, mlp3__alpha=0.001, voting=soft;, score=0.950 total time=  11.0s\n",
            "[CV 1/10] END mlp1__alpha=0.001, mlp2__alpha=0.01, mlp3__alpha=0.01, voting=soft;, score=0.963 total time=  19.1s\n",
            "[CV 2/10] END mlp1__alpha=0.001, mlp2__alpha=0.01, mlp3__alpha=0.01, voting=soft;, score=0.972 total time=   5.8s\n",
            "[CV 3/10] END mlp1__alpha=0.001, mlp2__alpha=0.01, mlp3__alpha=0.01, voting=soft;, score=0.932 total time=  22.3s\n",
            "[CV 4/10] END mlp1__alpha=0.001, mlp2__alpha=0.01, mlp3__alpha=0.01, voting=soft;, score=0.953 total time=  23.3s\n",
            "[CV 5/10] END mlp1__alpha=0.001, mlp2__alpha=0.01, mlp3__alpha=0.01, voting=soft;, score=0.959 total time=   5.1s\n",
            "[CV 6/10] END mlp1__alpha=0.001, mlp2__alpha=0.01, mlp3__alpha=0.01, voting=soft;, score=0.928 total time=  11.0s\n",
            "[CV 7/10] END mlp1__alpha=0.001, mlp2__alpha=0.01, mlp3__alpha=0.01, voting=soft;, score=0.934 total time=   5.6s\n",
            "[CV 8/10] END mlp1__alpha=0.001, mlp2__alpha=0.01, mlp3__alpha=0.01, voting=soft;, score=0.958 total time=  16.9s\n",
            "[CV 9/10] END mlp1__alpha=0.001, mlp2__alpha=0.01, mlp3__alpha=0.01, voting=soft;, score=0.939 total time=  29.0s\n",
            "[CV 10/10] END mlp1__alpha=0.001, mlp2__alpha=0.01, mlp3__alpha=0.01, voting=soft;, score=0.942 total time=  12.8s\n",
            "[CV 1/10] END mlp1__alpha=0.1, mlp2__alpha=0.001, mlp3__alpha=0.0001, voting=soft;, score=0.961 total time=   7.8s\n",
            "[CV 2/10] END mlp1__alpha=0.1, mlp2__alpha=0.001, mlp3__alpha=0.0001, voting=soft;, score=0.973 total time=   9.3s\n",
            "[CV 3/10] END mlp1__alpha=0.1, mlp2__alpha=0.001, mlp3__alpha=0.0001, voting=soft;, score=0.932 total time=  21.8s\n",
            "[CV 4/10] END mlp1__alpha=0.1, mlp2__alpha=0.001, mlp3__alpha=0.0001, voting=soft;, score=0.955 total time=   9.6s\n",
            "[CV 5/10] END mlp1__alpha=0.1, mlp2__alpha=0.001, mlp3__alpha=0.0001, voting=soft;, score=0.955 total time=  11.0s\n",
            "[CV 6/10] END mlp1__alpha=0.1, mlp2__alpha=0.001, mlp3__alpha=0.0001, voting=soft;, score=0.926 total time=  15.7s\n",
            "[CV 7/10] END mlp1__alpha=0.1, mlp2__alpha=0.001, mlp3__alpha=0.0001, voting=soft;, score=0.933 total time=  18.9s\n",
            "[CV 8/10] END mlp1__alpha=0.1, mlp2__alpha=0.001, mlp3__alpha=0.0001, voting=soft;, score=0.958 total time=  10.4s\n",
            "[CV 9/10] END mlp1__alpha=0.1, mlp2__alpha=0.001, mlp3__alpha=0.0001, voting=soft;, score=0.941 total time=  21.0s\n",
            "[CV 10/10] END mlp1__alpha=0.1, mlp2__alpha=0.001, mlp3__alpha=0.0001, voting=soft;, score=0.948 total time=  26.2s\n",
            "Melhores parâmetros: {'voting': 'soft', 'mlp3__alpha': 0.01, 'mlp2__alpha': 0.1, 'mlp1__alpha': 0.001}\n",
            "Melhor pontuação: 0.9491732469911041\n"
          ]
        }
      ],
      "source": [
        "from sklearn.ensemble import VotingClassifier\n",
        "\n",
        "mlp1 = MLPClassifier(max_iter=1000, learning_rate_init=0.001, learning_rate='constant', hidden_layer_sizes=(50, 50), alpha=0.01, activation='tanh')\n",
        "mlp2 = MLPClassifier(hidden_layer_sizes=(10),max_iter=1000,alpha=0.0001)\n",
        "mlp3 = MLPClassifier(activation='tanh', alpha=0.001, hidden_layer_sizes=(20, 80, 20),max_iter=1000, learning_rate='adaptive', learning_rate_init=0.001)\n",
        "\n",
        "# Definindo o Comitê de Redes Neurais\n",
        "estimators = [('mlp1', mlp1), ('mlp2', mlp2), ('mlp3', mlp3)]\n",
        "ensemble = VotingClassifier(estimators)\n",
        "\n",
        "# Definindo penalização para a função de custo e o tipo de predição adotado pelo modelo\n",
        "params = {\n",
        "    'mlp1__alpha': [0.0001, 0.001, 0.01, 0.1],\n",
        "    'mlp2__alpha': [0.0001, 0.001, 0.01, 0.1],\n",
        "    'mlp3__alpha': [0.0001, 0.001, 0.01, 0.1],\n",
        "    'voting': ['soft']\n",
        "}\n",
        "\n",
        "# Realizando a busca de hiperparâmetros com cross-validation\n",
        "rf_random2 = RandomizedSearchCV(estimator = ensemble, param_distributions = params, n_iter = 5, cv = 10,verbose=3,scoring='roc_auc')\n",
        "rf_random2.fit(X_train_oh, y_train)\n",
        "\n",
        "print(\"Melhores parâmetros:\", rf_random2.best_params_)\n",
        "print(\"Melhor pontuação:\", rf_random2.best_score_)"
      ]
    },
    {
      "cell_type": "markdown",
      "metadata": {
        "id": "ZJm-r18kkNge"
      },
      "source": [
        "Podemos ver que houve um caso que mesmo com 1000 iterações não convergiu, conseguiu melhorar de forma minúscula comparado ao MLP sozinho."
      ]
    },
    {
      "cell_type": "markdown",
      "metadata": {
        "id": "dlH_7yq6FZv6"
      },
      "source": [
        "### Comitê heterogêneo"
      ]
    },
    {
      "cell_type": "markdown",
      "metadata": {
        "id": "fZkRFguROvHW"
      },
      "source": [
        "Para gerar o comitê, vamos nos utilizar do nosso conhecimento prévio de na exploração dos melhores parâmetros para os diversos algoritmos."
      ]
    },
    {
      "cell_type": "code",
      "execution_count": null,
      "metadata": {
        "colab": {
          "base_uri": "https://localhost:8080/"
        },
        "id": "CD2XX-zKcc8D",
        "outputId": "91bbacb0-1788-4e67-f943-29806673faf3"
      },
      "outputs": [
        {
          "output_type": "stream",
          "name": "stdout",
          "text": [
            "Fitting 10 folds for each of 11 candidates, totalling 110 fits\n"
          ]
        },
        {
          "output_type": "stream",
          "name": "stderr",
          "text": [
            "/usr/local/lib/python3.10/dist-packages/sklearn/model_selection/_search.py:952: UserWarning: One or more of the test scores are non-finite: [nan nan nan nan nan nan nan nan nan nan nan]\n",
            "  warnings.warn(\n"
          ]
        },
        {
          "output_type": "stream",
          "name": "stdout",
          "text": [
            "Melhores parâmetros: {'voting': 'soft', 'weights': [1, 1, 1, 1]}\n",
            "Acurácia: nan\n"
          ]
        }
      ],
      "source": [
        "from sklearn.ensemble import VotingClassifier\n",
        "from sklearn.neural_network import MLPClassifier\n",
        "\n",
        "dtc = DecisionTreeClassifier(criterion='gini', max_depth=6, min_impurity_decrease=0.0, min_samples_leaf=25, random_state=10)\n",
        "knn = KNeighborsClassifier(algorithm='kd_tree', metric='chebyshev', n_neighbors=25, weights='distance')\n",
        "svm = SVC(C=0.7, gamma='scale', kernel='poly', random_state=10)\n",
        "mlp = MLPClassifier(max_iter=1000, learning_rate_init=0.001, learning_rate='constant', hidden_layer_sizes=(50, 50), alpha=0.01, activation='tanh')\n",
        "\n",
        "estimators = [('dtc', dtc), ('knn', knn), ('svm', svm), ('mlp', mlp)]\n",
        "voting_clf = VotingClassifier(estimators, voting='hard')\n",
        "\n",
        "params = {'voting': ['soft'],\n",
        "          'weights': [[1, 1, 1, 1], [2, 1, 1, 1], [1, 2, 1, 1], [1, 1, 2, 1], [1, 1, 1, 2],\n",
        "                      [2, 2, 1, 1], [2, 1, 2, 1], [2, 1, 1, 2], [1, 2, 2, 1], [1, 1, 2, 2], [1, 2, 1, 2]]}\n",
        "grid_search = GridSearchCV(voting_clf, params, cv=10, verbose=1, n_jobs=-1,scoring='roc_auc')\n",
        "grid_search.fit(X_train_oh, y_train)\n",
        "\n",
        "# Imprime os resultados\n",
        "print(f\"Melhores parâmetros: {grid_search.best_params_}\")\n",
        "print(f\"Acurácia: {grid_search.best_score_}\")"
      ]
    },
    {
      "cell_type": "markdown",
      "metadata": {
        "id": "3SXMx5U-bu9p"
      },
      "source": [
        "Podemos perceber que a acurácia foi similar da dos modelos separados. Isso indica que os modelos a combinação dos modelos não nos trouxe nenhuma informação nova quanto a classificação do probleam, ou seja os modelos são independentes um do outro e para um melhor sistema de Comitê talvez fosse melhor buscar novos tipos de algoritmo."
      ]
    },
    {
      "cell_type": "markdown",
      "source": [
        "# Avaliação"
      ],
      "metadata": {
        "id": "t9Hlv_ELI6iZ"
      }
    },
    {
      "cell_type": "markdown",
      "source": [
        "## Testes com search em acurácia"
      ],
      "metadata": {
        "id": "wGWsmVWxqqaa"
      }
    },
    {
      "cell_type": "code",
      "source": [
        "knn = KNeighborsClassifier(algorithm = 'kd_tree', metric = 'chebyshev', n_neighbors = 25, weights = 'distance')\n",
        "dt = DecisionTreeClassifier(criterion= 'gini', max_depth = 6, min_impurity_decrease = 0.0, min_samples_leaf = 25, random_state= 10)\n",
        "svm = SVC(C = 0.7000000000000002, gamma = 'scale', kernel = 'poly', random_state = 10)\n",
        "rf = RandomForestClassifier(random_state = 10, n_estimators = 50, min_samples_leaf = 18, min_impurity_decrease = 0.0, max_features = 0.6, max_depth = 9, bootstrap = True)\n",
        "lvq = GlvqModel(beta = 5, max_iter = 400, prototypes_per_class = 3)\n",
        "mlp = MLPClassifier(max_iter = 600, learning_rate_init = 0.1, learning_rate = 'constant', hidden_layer_sizes = (100,), alpha = 0.01, activation = 'logistic')\n",
        "com_mlp = VotingClassifier(estimators = [('mlp1', mlp1), ('mlp2', mlp2), ('mlp3', mlp3)], voting = 'soft')\n",
        "com_het = VotingClassifier(estimators, voting = 'hard', weights = [1, 2, 1, 1])\n",
        "\n",
        "\n",
        "knn.fit(X_train_oh,y_trainle)\n",
        "dt.fit(X_train_oh,y_trainle)\n",
        "svm.fit(X_train_oh,y_trainle)\n",
        "rf.fit(X_train_oh,y_trainle)\n",
        "lvq.fit(X_train_oh,y_trainle)\n",
        "mlp.fit(X_train_oh,y_trainle)\n",
        "com_mlp.fit(X_train_oh,y_trainle)\n",
        "com_het.fit(X_train_oh,y_trainle)\n",
        "\n",
        "knn_pred = knn.predict(X_test1)\n",
        "dt_pred = dt.predict(X_test1)\n",
        "svm_pred = svm.predict(X_test1)\n",
        "rf_pred = rf.predict(X_test1)\n",
        "lvq_pred = lvq.predict(X_test1)\n",
        "mlp_pred = mlp.predict(X_test1)\n",
        "com_mlp_pred = com_mlp.predict(X_test1)\n",
        "com_het_pred = com_het.predict(X_test1)"
      ],
      "metadata": {
        "id": "Na0I0aUtqtTr"
      },
      "execution_count": null,
      "outputs": []
    },
    {
      "cell_type": "code",
      "source": [
        "from sklearn.metrics import roc_auc_score, confusion_matrix, accuracy_score \n",
        "resultados_1 = []\n",
        "knn_acc = roc_auc_score(y_testle,knn_pred)\n",
        "resultados_1.append(knn_acc)\n",
        "matrix_knn = confusion_matrix(y_testle, knn_pred)\n",
        "print('Acurácia: ',accuracy_score(y_testle,knn_pred))\n",
        "print('ROC_AUC_SCORE: ',knn_acc)\n",
        "print(matrix_knn)"
      ],
      "metadata": {
        "colab": {
          "base_uri": "https://localhost:8080/"
        },
        "id": "tADac9GqE2Bv",
        "outputId": "a5d266a1-2e35-454d-8deb-3d4e487d3cc9"
      },
      "execution_count": null,
      "outputs": [
        {
          "output_type": "stream",
          "name": "stdout",
          "text": [
            "Acurácia:  0.9438559322033898\n",
            "ROC_AUC_SCORE:  0.7582406448417166\n",
            "[[ 55  51]\n",
            " [  2 836]]\n"
          ]
        }
      ]
    },
    {
      "cell_type": "code",
      "source": [
        "dt_acc = roc_auc_score(y_testle,dt_pred)\n",
        "resultados_1.append(dt_acc)\n",
        "matrix_dt = confusion_matrix(y_testle, dt_pred)\n",
        "print('Acurácia: ',accuracy_score(y_testle,dt_pred))\n",
        "print('ROC_AUC_SCORE: ',dt_acc)\n",
        "print(matrix_dt)"
      ],
      "metadata": {
        "colab": {
          "base_uri": "https://localhost:8080/"
        },
        "outputId": "43e9b27b-ce84-4a34-cc3f-ae2fa46d8ec1",
        "id": "ROXLrGZHdmBK"
      },
      "execution_count": null,
      "outputs": [
        {
          "output_type": "stream",
          "name": "stdout",
          "text": [
            "Acurácia:  0.940677966101695\n",
            "ROC_AUC_SCORE:  0.7688116359706398\n",
            "[[ 58  48]\n",
            " [  8 830]]\n"
          ]
        }
      ]
    },
    {
      "cell_type": "code",
      "source": [
        "svm_acc = roc_auc_score(y_testle,svm_pred)\n",
        "resultados_1.append(svm_acc)\n",
        "matrix_svm = confusion_matrix(y_testle, svm_pred)\n",
        "print('Acurácia: ',accuracy_score(y_testle,svm_pred))\n",
        "print('ROC_AUC_SCORE: ',svm_acc)\n",
        "print(matrix_svm)"
      ],
      "metadata": {
        "colab": {
          "base_uri": "https://localhost:8080/"
        },
        "outputId": "d884e425-faef-47e2-888c-3d845fa16655",
        "id": "o_bZ8t0fdmW8"
      },
      "execution_count": null,
      "outputs": [
        {
          "output_type": "stream",
          "name": "stdout",
          "text": [
            "Acurácia:  0.9438559322033898\n",
            "ROC_AUC_SCORE:  0.7582406448417166\n",
            "[[ 55  51]\n",
            " [  2 836]]\n"
          ]
        }
      ]
    },
    {
      "cell_type": "code",
      "source": [
        "rf_acc =  roc_auc_score(y_testle,rf_pred)\n",
        "resultados_1.append(rf_acc)\n",
        "matrix_rf = confusion_matrix(y_testle, rf_pred)\n",
        "print('Acurácia: ',accuracy_score(y_testle,rf_pred))\n",
        "print('ROC_AUC_SCORE: ',rf_acc)\n",
        "print(matrix_rf)"
      ],
      "metadata": {
        "colab": {
          "base_uri": "https://localhost:8080/"
        },
        "outputId": "a5b6b78c-839c-4114-9ee8-e51538681ea8",
        "id": "i9-cIrKQdmo8"
      },
      "execution_count": null,
      "outputs": [
        {
          "output_type": "stream",
          "name": "stdout",
          "text": [
            "Acurácia:  0.9385593220338984\n",
            "ROC_AUC_SCORE:  0.759377673706489\n",
            "[[ 56  50]\n",
            " [  8 830]]\n"
          ]
        }
      ]
    },
    {
      "cell_type": "code",
      "source": [
        "lvq_acc = roc_auc_score(y_testle,lvq_pred)\n",
        "resultados_1.append(lvq_acc)\n",
        "matrix_lvq = confusion_matrix(y_testle, lvq_pred)\n",
        "print('Acurácia: ',accuracy_score(y_testle,lvq_pred))\n",
        "print('ROC_AUC_SCORE: ',lvq_acc)\n",
        "print(matrix_lvq)"
      ],
      "metadata": {
        "colab": {
          "base_uri": "https://localhost:8080/"
        },
        "outputId": "6574fa62-506f-41a5-8163-90e97d26ca8a",
        "id": "JlVRjnyidm2B"
      },
      "execution_count": null,
      "outputs": [
        {
          "output_type": "stream",
          "name": "stdout",
          "text": [
            "Acurácia:  0.8877118644067796\n",
            "ROC_AUC_SCORE:  0.5\n",
            "[[  0 106]\n",
            " [  0 838]]\n"
          ]
        }
      ]
    },
    {
      "cell_type": "code",
      "source": [
        "mlp_acc = roc_auc_score(y_testle,mlp_pred)\n",
        "resultados_1.append(mlp_acc)\n",
        "matrix_mlp = confusion_matrix(y_testle, mlp_pred)\n",
        "print('Acurácia: ',accuracy_score(y_testle,mlp_pred))\n",
        "print('ROC_AUC_SCORE: ',mlp_acc)\n",
        "print(matrix_mlp)"
      ],
      "metadata": {
        "colab": {
          "base_uri": "https://localhost:8080/"
        },
        "outputId": "790fb374-52d9-4cdb-8d69-c5ccb9ce4e63",
        "id": "PwZO8ccTdm93"
      },
      "execution_count": null,
      "outputs": [
        {
          "output_type": "stream",
          "name": "stdout",
          "text": [
            "Acurácia:  0.9449152542372882\n",
            "ROC_AUC_SCORE:  0.7547169811320755\n",
            "[[ 54  52]\n",
            " [  0 838]]\n"
          ]
        }
      ]
    },
    {
      "cell_type": "code",
      "source": [
        "com_mlp_acc = roc_auc_score(y_testle,com_mlp_pred)\n",
        "resultados_1.append(com_mlp_acc)\n",
        "matrix_com_mlp = confusion_matrix(y_testle, com_mlp_pred)\n",
        "print('Acurácia: ',accuracy_score(y_testle,com_mlp_pred))\n",
        "print('ROC_AUC_SCORE: ',com_mlp_acc)\n",
        "print(matrix_com_mlp)"
      ],
      "metadata": {
        "colab": {
          "base_uri": "https://localhost:8080/"
        },
        "outputId": "e779aaac-748b-4398-e803-45c62a94b9e5",
        "id": "0KCZ1yv9ej4x"
      },
      "execution_count": null,
      "outputs": [
        {
          "output_type": "stream",
          "name": "stdout",
          "text": [
            "Acurácia:  0.9417372881355932\n",
            "ROC_AUC_SCORE:  0.7570473274192823\n",
            "[[ 55  51]\n",
            " [  4 834]]\n"
          ]
        }
      ]
    },
    {
      "cell_type": "code",
      "source": [
        "com_het_acc = roc_auc_score(y_testle,com_het_pred)\n",
        "resultados_1.append(com_het_acc)\n",
        "matrix_com_het = confusion_matrix(y_testle, com_het_pred)\n",
        "print('Acurácia: ',accuracy_score(y_testle,com_het_pred))\n",
        "print('ROC_AUC_SCORE: ',com_het_acc)\n",
        "print(matrix_com_het)"
      ],
      "metadata": {
        "colab": {
          "base_uri": "https://localhost:8080/"
        },
        "outputId": "b0a1c698-0c2d-41bc-8d91-bbd29425aa18",
        "id": "qnDbj-nQekAx"
      },
      "execution_count": null,
      "outputs": [
        {
          "output_type": "stream",
          "name": "stdout",
          "text": [
            "Acurácia:  0.9438559322033898\n",
            "ROC_AUC_SCORE:  0.7582406448417166\n",
            "[[ 55  51]\n",
            " [  2 836]]\n"
          ]
        }
      ]
    },
    {
      "cell_type": "markdown",
      "source": [
        "Desvio padrão dos resultados:"
      ],
      "metadata": {
        "id": "vJomuryqYO6q"
      }
    },
    {
      "cell_type": "code",
      "source": [
        "std_dev1 = np.std(resultados_1)\n",
        "print(std_dev1)"
      ],
      "metadata": {
        "colab": {
          "base_uri": "https://localhost:8080/"
        },
        "id": "FmXhJsy7W94e",
        "outputId": "5225cb87-0208-4672-af5b-14e009ca79f4"
      },
      "execution_count": null,
      "outputs": [
        {
          "output_type": "stream",
          "name": "stdout",
          "text": [
            "0.08582271988350305\n"
          ]
        }
      ]
    },
    {
      "cell_type": "markdown",
      "source": [
        "## Testes com search em ROC-AUC"
      ],
      "metadata": {
        "id": "j1IuKY8A7URG"
      }
    },
    {
      "cell_type": "code",
      "source": [
        "knn = KNeighborsClassifier(algorithm = 'auto', metric = 'manhattan', n_neighbors = 30, weights = 'distance')\n",
        "dt = DecisionTreeClassifier(criterion= 'gini', max_depth = 5, min_impurity_decrease = 0.0, min_samples_leaf = 25, random_state= 10,splitter='random')\n",
        "svm = SVC(C = 100, gamma = 'auto', kernel = 'rbf', random_state = 10)\n",
        "rf = RandomForestClassifier(random_state = 10, n_estimators = 200, min_samples_leaf = 10, min_impurity_decrease = 0.0, max_features = 0.6, max_depth = 6, bootstrap = False)\n",
        "lvq = GlvqModel(beta = 5,c = [[0, 1, 1], [1, 0, 1]], max_iter = 200, prototypes_per_class = 3)\n",
        "mlp = MLPClassifier(max_iter = 600, learning_rate_init = 0.001, learning_rate = 'adaptive', hidden_layer_sizes = (50,50), alpha = 0.01, activation = 'tanh')\n",
        "com_mlp = VotingClassifier(estimators = [('mlp1', mlp1), ('mlp2', mlp2), ('mlp3', mlp3)], voting = 'soft')\n",
        "com_het = VotingClassifier(estimators, voting = 'hard', weights = [1, 1, 1, 1])\n",
        "\n",
        "\n",
        "knn.fit(X_train_oh,y_trainle)\n",
        "dt.fit(X_train_oh,y_trainle)\n",
        "svm.fit(X_train_oh,y_trainle)\n",
        "rf.fit(X_train_oh,y_trainle)\n",
        "lvq.fit(X_train_oh,y_trainle)\n",
        "mlp.fit(X_train_oh,y_trainle)\n",
        "com_mlp.fit(X_train_oh,y_trainle)\n",
        "com_het.fit(X_train_oh,y_trainle)\n",
        "\n",
        "knn_pred = knn.predict(X_test1)\n",
        "dt_pred = dt.predict(X_test1)\n",
        "svm_pred = svm.predict(X_test1)\n",
        "rf_pred = rf.predict(X_test1)\n",
        "lvq_pred = lvq.predict(X_test1)\n",
        "mlp_pred = mlp.predict(X_test1)\n",
        "com_mlp_pred = com_mlp.predict(X_test1)\n",
        "com_het_pred = com_het.predict(X_test1)"
      ],
      "metadata": {
        "id": "Qwyz9Mlu7URL"
      },
      "execution_count": null,
      "outputs": []
    },
    {
      "cell_type": "code",
      "source": [
        "resultados_2 = []\n",
        "knn_acc =  roc_auc_score(y_testle,knn_pred)\n",
        "resultados_2.append(knn_acc)\n",
        "matrix_knn = confusion_matrix(y_testle, knn_pred)\n",
        "print('Acurácia: ',accuracy_score(y_testle,knn_pred))\n",
        "print('ROC_AUC_SCORE: ',knn_acc)\n",
        "print(matrix_knn)"
      ],
      "metadata": {
        "colab": {
          "base_uri": "https://localhost:8080/"
        },
        "outputId": "05458adb-7cf8-4659-99d6-dd5ea51087b3",
        "id": "aXUZsIrs7URL"
      },
      "execution_count": null,
      "outputs": [
        {
          "output_type": "stream",
          "name": "stdout",
          "text": [
            "Acurácia:  0.9322033898305084\n",
            "ROC_AUC_SCORE:  0.7063538523888864\n",
            "[[ 44  62]\n",
            " [  2 836]]\n"
          ]
        }
      ]
    },
    {
      "cell_type": "code",
      "source": [
        "dt_acc =  roc_auc_score(y_testle,dt_pred)\n",
        "resultados_2.append(dt_acc)\n",
        "matrix_dt = confusion_matrix(y_testle, dt_pred)\n",
        "print('Acurácia: ',accuracy_score(y_testle,dt_pred))\n",
        "print('ROC_AUC_SCORE: ',dt_acc)\n",
        "print(matrix_dt)"
      ],
      "metadata": {
        "colab": {
          "base_uri": "https://localhost:8080/"
        },
        "outputId": "7338545d-78e9-4bda-b0c2-18aa53a00514",
        "id": "gu5k-ql07URL"
      },
      "execution_count": null,
      "outputs": [
        {
          "output_type": "stream",
          "name": "stdout",
          "text": [
            "Acurácia:  0.9417372881355932\n",
            "ROC_AUC_SCORE:  0.7776489395235737\n",
            "[[ 60  46]\n",
            " [  9 829]]\n"
          ]
        }
      ]
    },
    {
      "cell_type": "code",
      "source": [
        "svm_acc =  roc_auc_score(y_testle,svm_pred)\n",
        "resultados_2.append(svm_acc)\n",
        "matrix_svm = confusion_matrix(y_testle, svm_pred)\n",
        "print('Acurácia: ',accuracy_score(y_testle,svm_pred))\n",
        "print('ROC_AUC_SCORE: ',svm_acc)\n",
        "print(matrix_svm)"
      ],
      "metadata": {
        "colab": {
          "base_uri": "https://localhost:8080/"
        },
        "outputId": "6654575b-6a09-4ac0-f5ea-370114f0c41b",
        "id": "9RUWoEqL7URL"
      },
      "execution_count": null,
      "outputs": [
        {
          "output_type": "stream",
          "name": "stdout",
          "text": [
            "Acurácia:  0.9438559322033898\n",
            "ROC_AUC_SCORE:  0.7582406448417166\n",
            "[[ 55  51]\n",
            " [  2 836]]\n"
          ]
        }
      ]
    },
    {
      "cell_type": "code",
      "source": [
        "rf_acc =  roc_auc_score(y_testle,rf_pred)\n",
        "resultados_2.append(rf_acc)\n",
        "matrix_rf = confusion_matrix(y_testle, rf_pred)\n",
        "print('Acurácia: ',accuracy_score(y_testle,rf_pred))\n",
        "print('ROC_AUC_SCORE: ',rf_acc)\n",
        "print(matrix_rf)"
      ],
      "metadata": {
        "colab": {
          "base_uri": "https://localhost:8080/"
        },
        "outputId": "e6f55944-05e8-40bc-8b55-8c1ce7f61cb5",
        "id": "cpvPEL6K7URM"
      },
      "execution_count": null,
      "outputs": [
        {
          "output_type": "stream",
          "name": "stdout",
          "text": [
            "Acurácia:  0.9417372881355932\n",
            "ROC_AUC_SCORE:  0.7611676498401406\n",
            "[[ 56  50]\n",
            " [  5 833]]\n"
          ]
        }
      ]
    },
    {
      "cell_type": "code",
      "source": [
        "lvq_acc =  roc_auc_score(y_testle,lvq_pred)\n",
        "resultados_2.append(lvq_acc)\n",
        "matrix_lvq = confusion_matrix(y_testle, lvq_pred)\n",
        "print('Acurácia: ',accuracy_score(y_testle,lvq_pred))\n",
        "print('ROC_AUC_SCORE: ',lvq_acc)\n",
        "print(matrix_lvq)"
      ],
      "metadata": {
        "colab": {
          "base_uri": "https://localhost:8080/"
        },
        "outputId": "481d1e03-ea51-4943-ed95-b7f64f567961",
        "id": "0N5RbtHg7URM"
      },
      "execution_count": null,
      "outputs": [
        {
          "output_type": "stream",
          "name": "stdout",
          "text": [
            "Acurácia:  0.8877118644067796\n",
            "ROC_AUC_SCORE:  0.5\n",
            "[[  0 106]\n",
            " [  0 838]]\n"
          ]
        }
      ]
    },
    {
      "cell_type": "code",
      "source": [
        "mlp_acc =  roc_auc_score(y_testle,mlp_pred)\n",
        "resultados_2.append(mlp_acc)\n",
        "matrix_mlp = confusion_matrix(y_testle, mlp_pred)\n",
        "print('Acurácia: ',accuracy_score(y_testle,mlp_pred))\n",
        "print('ROC_AUC_SCORE: ',mlp_acc)\n",
        "print(matrix_mlp)"
      ],
      "metadata": {
        "colab": {
          "base_uri": "https://localhost:8080/"
        },
        "outputId": "b3edee09-8733-45d2-9aff-8b5e66b5db28",
        "id": "OXTuWgeK7URM"
      },
      "execution_count": null,
      "outputs": [
        {
          "output_type": "stream",
          "name": "stdout",
          "text": [
            "Acurácia:  0.9417372881355932\n",
            "ROC_AUC_SCORE:  0.7570473274192823\n",
            "[[ 55  51]\n",
            " [  4 834]]\n"
          ]
        }
      ]
    },
    {
      "cell_type": "code",
      "source": [
        "com_mlp_acc =  roc_auc_score(y_testle,com_mlp_pred)\n",
        "resultados_2.append(com_mlp_acc)\n",
        "matrix_com_mlp = confusion_matrix(y_testle, com_mlp_pred)\n",
        "print('Acurácia: ',accuracy_score(y_testle,com_mlp_pred))\n",
        "print('ROC_AUC_SCORE: ',com_mlp_acc)\n",
        "print(matrix_com_mlp)"
      ],
      "metadata": {
        "colab": {
          "base_uri": "https://localhost:8080/"
        },
        "outputId": "05056aa7-0525-4731-c5f1-f060da524bb8",
        "id": "b6r1C0Ey7URM"
      },
      "execution_count": null,
      "outputs": [
        {
          "output_type": "stream",
          "name": "stdout",
          "text": [
            "Acurácia:  0.9417372881355932\n",
            "ROC_AUC_SCORE:  0.7611676498401406\n",
            "[[ 56  50]\n",
            " [  5 833]]\n"
          ]
        }
      ]
    },
    {
      "cell_type": "code",
      "source": [
        "com_het_acc =  roc_auc_score(y_testle,com_het_pred)\n",
        "resultados_2.append(com_het_acc)\n",
        "matrix_com_het = confusion_matrix(y_testle, com_het_pred)\n",
        "print('Acurácia: ',accuracy_score(y_testle,com_het_pred))\n",
        "print('ROC_AUC_SCORE: ',com_het_acc)\n",
        "print(matrix_com_het)"
      ],
      "metadata": {
        "colab": {
          "base_uri": "https://localhost:8080/"
        },
        "outputId": "4cbf3047-9afb-4db9-f832-9f8d9f971fb4",
        "id": "ynjdXqx27URM"
      },
      "execution_count": null,
      "outputs": [
        {
          "output_type": "stream",
          "name": "stdout",
          "text": [
            "Acurácia:  0.9438559322033898\n",
            "ROC_AUC_SCORE:  0.7582406448417166\n",
            "[[ 55  51]\n",
            " [  2 836]]\n"
          ]
        }
      ]
    },
    {
      "cell_type": "code",
      "source": [
        "std_dev2 = np.std(resultados_2)\n",
        "print(std_dev2)"
      ],
      "metadata": {
        "colab": {
          "base_uri": "https://localhost:8080/"
        },
        "outputId": "8856616b-56c1-450b-8138-712ef057f4a5",
        "id": "McBkoVEcXH-L"
      },
      "execution_count": null,
      "outputs": [
        {
          "output_type": "stream",
          "name": "stdout",
          "text": [
            "0.08627501876265457\n"
          ]
        }
      ]
    },
    {
      "cell_type": "markdown",
      "source": [
        "# Considerações finais"
      ],
      "metadata": {
        "id": "zeuXdz4mdC_L"
      }
    },
    {
      "cell_type": "markdown",
      "source": [
        "Podemos ver que todos os modelos tiveram resultados similares, menos o LVQ que classificou todos as amostras como homem (majoritário).\n",
        "\n",
        "A decision tree e o comitê heterogêneo tiveram os melhores resultados com acurácia alta e as maiores ROC_AUC.\n",
        "\n",
        "O LVQ no entanto classifica todos como homem, sendo 0.5 de ROC_AUC basicamente chutar se é homem ou mulher."
      ],
      "metadata": {
        "id": "01KNuaJDbo7X"
      }
    },
    {
      "cell_type": "markdown",
      "source": [
        "Concluindo o projeto com bons resultados de acurácia e ROC podemos assim avaliar se existe uma discrepância entre homens e mulheres na Wikipedia e trabalhar para alcançar um maior balanceamento."
      ],
      "metadata": {
        "id": "MJ7Qd_tkdM0H"
      }
    }
  ],
  "metadata": {
    "colab": {
      "collapsed_sections": [
        "FZS53LmKHz6i",
        "-1rC1Hrbf948",
        "KZ_w-ecyFDpm",
        "hwBNeNfFFLUs",
        "vqiFzBikFPp5",
        "MGAQJ_z5FRqZ",
        "ABxxwVgAFGgg",
        "3VgcX4G6FUA-",
        "FlDvlrVWFWDL",
        "dlH_7yq6FZv6",
        "t9Hlv_ELI6iZ",
        "wGWsmVWxqqaa",
        "j1IuKY8A7URG"
      ],
      "provenance": []
    },
    "kernelspec": {
      "display_name": "Python 3",
      "name": "python3"
    },
    "language_info": {
      "name": "python"
    }
  },
  "nbformat": 4,
  "nbformat_minor": 0
}