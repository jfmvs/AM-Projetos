{
  "nbformat": 4,
  "nbformat_minor": 0,
  "metadata": {
    "colab": {
      "provenance": [],
      "collapsed_sections": [
        "FZS53LmKHz6i"
      ]
    },
    "kernelspec": {
      "name": "python3",
      "display_name": "Python 3"
    },
    "language_info": {
      "name": "python"
    }
  },
  "cells": [
    {
      "cell_type": "markdown",
      "source": [
        "Grupo: <br>\n",
        "Carlos Roberto Cordeiro Pereira <br>\n",
        "João Felipe Morais Vasconcelos Sobral"
      ],
      "metadata": {
        "id": "ydc_-KvuKeRq"
      }
    },
    {
      "cell_type": "markdown",
      "source": [
        "# Pré-Processamento"
      ],
      "metadata": {
        "id": "FZS53LmKHz6i"
      }
    },
    {
      "cell_type": "markdown",
      "source": [
        "Primeiro trazemos os dados em um dataframe, e usamos head() e info() para ter uma ver como os dados se apresentam."
      ],
      "metadata": {
        "id": "KLUweP0fhKbT"
      }
    },
    {
      "cell_type": "code",
      "execution_count": null,
      "metadata": {
        "colab": {
          "base_uri": "https://localhost:8080/"
        },
        "id": "PBK8vvvQH6pl",
        "outputId": "19738f23-f683-45c4-f257-b4911f915232"
      },
      "outputs": [
        {
          "output_type": "execute_result",
          "data": {
            "text/plain": [
              "   gender    C_api  C_man  E_NEds  E_Bpag        firstDay         lastDay  \\\n",
              "0       1     male      1       2       2  20170527205915  20170721044501   \n",
              "1       0  unknown      3       3       1  20110301072441  20170731213735   \n",
              "2       1     male      1       0       2  20060907204302  20140911191722   \n",
              "3       1     male      1       1       2  20121003144916  20121208180528   \n",
              "4       0  unknown      3       1       1  20070311125035  20141106121057   \n",
              "\n",
              "   NEds  NDays  NActDays  ...  NPcreated  pagesWomen  wikiprojWomen  ns_user  \\\n",
              "0   543     56        43  ...          4           0              0       91   \n",
              "1  2764   2345       514  ...          7           0              0      100   \n",
              "2    57   2927        25  ...          0           0              0        3   \n",
              "3   104     67         5  ...          2           0              0       20   \n",
              "4   184   2798        27  ...          0           0              0       26   \n",
              "\n",
              "   ns_wikipedia  ns_talk  ns_userTalk  ns_content  weightIJ  NIJ  \n",
              "0            28        6           76         324  0.915024  978  \n",
              "1           249      183          646        1526  0.661673  477  \n",
              "2             0        1            3          49  0.800528  664  \n",
              "3             1        2            2          78  1.027717  841  \n",
              "4            10        5           24         112  0.997535  994  \n",
              "\n",
              "[5 rows x 21 columns]"
            ],
            "text/html": [
              "\n",
              "  <div id=\"df-513c580d-cf48-4212-9483-ba0163ef0172\">\n",
              "    <div class=\"colab-df-container\">\n",
              "      <div>\n",
              "<style scoped>\n",
              "    .dataframe tbody tr th:only-of-type {\n",
              "        vertical-align: middle;\n",
              "    }\n",
              "\n",
              "    .dataframe tbody tr th {\n",
              "        vertical-align: top;\n",
              "    }\n",
              "\n",
              "    .dataframe thead th {\n",
              "        text-align: right;\n",
              "    }\n",
              "</style>\n",
              "<table border=\"1\" class=\"dataframe\">\n",
              "  <thead>\n",
              "    <tr style=\"text-align: right;\">\n",
              "      <th></th>\n",
              "      <th>gender</th>\n",
              "      <th>C_api</th>\n",
              "      <th>C_man</th>\n",
              "      <th>E_NEds</th>\n",
              "      <th>E_Bpag</th>\n",
              "      <th>firstDay</th>\n",
              "      <th>lastDay</th>\n",
              "      <th>NEds</th>\n",
              "      <th>NDays</th>\n",
              "      <th>NActDays</th>\n",
              "      <th>...</th>\n",
              "      <th>NPcreated</th>\n",
              "      <th>pagesWomen</th>\n",
              "      <th>wikiprojWomen</th>\n",
              "      <th>ns_user</th>\n",
              "      <th>ns_wikipedia</th>\n",
              "      <th>ns_talk</th>\n",
              "      <th>ns_userTalk</th>\n",
              "      <th>ns_content</th>\n",
              "      <th>weightIJ</th>\n",
              "      <th>NIJ</th>\n",
              "    </tr>\n",
              "  </thead>\n",
              "  <tbody>\n",
              "    <tr>\n",
              "      <th>0</th>\n",
              "      <td>1</td>\n",
              "      <td>male</td>\n",
              "      <td>1</td>\n",
              "      <td>2</td>\n",
              "      <td>2</td>\n",
              "      <td>20170527205915</td>\n",
              "      <td>20170721044501</td>\n",
              "      <td>543</td>\n",
              "      <td>56</td>\n",
              "      <td>43</td>\n",
              "      <td>...</td>\n",
              "      <td>4</td>\n",
              "      <td>0</td>\n",
              "      <td>0</td>\n",
              "      <td>91</td>\n",
              "      <td>28</td>\n",
              "      <td>6</td>\n",
              "      <td>76</td>\n",
              "      <td>324</td>\n",
              "      <td>0.915024</td>\n",
              "      <td>978</td>\n",
              "    </tr>\n",
              "    <tr>\n",
              "      <th>1</th>\n",
              "      <td>0</td>\n",
              "      <td>unknown</td>\n",
              "      <td>3</td>\n",
              "      <td>3</td>\n",
              "      <td>1</td>\n",
              "      <td>20110301072441</td>\n",
              "      <td>20170731213735</td>\n",
              "      <td>2764</td>\n",
              "      <td>2345</td>\n",
              "      <td>514</td>\n",
              "      <td>...</td>\n",
              "      <td>7</td>\n",
              "      <td>0</td>\n",
              "      <td>0</td>\n",
              "      <td>100</td>\n",
              "      <td>249</td>\n",
              "      <td>183</td>\n",
              "      <td>646</td>\n",
              "      <td>1526</td>\n",
              "      <td>0.661673</td>\n",
              "      <td>477</td>\n",
              "    </tr>\n",
              "    <tr>\n",
              "      <th>2</th>\n",
              "      <td>1</td>\n",
              "      <td>male</td>\n",
              "      <td>1</td>\n",
              "      <td>0</td>\n",
              "      <td>2</td>\n",
              "      <td>20060907204302</td>\n",
              "      <td>20140911191722</td>\n",
              "      <td>57</td>\n",
              "      <td>2927</td>\n",
              "      <td>25</td>\n",
              "      <td>...</td>\n",
              "      <td>0</td>\n",
              "      <td>0</td>\n",
              "      <td>0</td>\n",
              "      <td>3</td>\n",
              "      <td>0</td>\n",
              "      <td>1</td>\n",
              "      <td>3</td>\n",
              "      <td>49</td>\n",
              "      <td>0.800528</td>\n",
              "      <td>664</td>\n",
              "    </tr>\n",
              "    <tr>\n",
              "      <th>3</th>\n",
              "      <td>1</td>\n",
              "      <td>male</td>\n",
              "      <td>1</td>\n",
              "      <td>1</td>\n",
              "      <td>2</td>\n",
              "      <td>20121003144916</td>\n",
              "      <td>20121208180528</td>\n",
              "      <td>104</td>\n",
              "      <td>67</td>\n",
              "      <td>5</td>\n",
              "      <td>...</td>\n",
              "      <td>2</td>\n",
              "      <td>0</td>\n",
              "      <td>0</td>\n",
              "      <td>20</td>\n",
              "      <td>1</td>\n",
              "      <td>2</td>\n",
              "      <td>2</td>\n",
              "      <td>78</td>\n",
              "      <td>1.027717</td>\n",
              "      <td>841</td>\n",
              "    </tr>\n",
              "    <tr>\n",
              "      <th>4</th>\n",
              "      <td>0</td>\n",
              "      <td>unknown</td>\n",
              "      <td>3</td>\n",
              "      <td>1</td>\n",
              "      <td>1</td>\n",
              "      <td>20070311125035</td>\n",
              "      <td>20141106121057</td>\n",
              "      <td>184</td>\n",
              "      <td>2798</td>\n",
              "      <td>27</td>\n",
              "      <td>...</td>\n",
              "      <td>0</td>\n",
              "      <td>0</td>\n",
              "      <td>0</td>\n",
              "      <td>26</td>\n",
              "      <td>10</td>\n",
              "      <td>5</td>\n",
              "      <td>24</td>\n",
              "      <td>112</td>\n",
              "      <td>0.997535</td>\n",
              "      <td>994</td>\n",
              "    </tr>\n",
              "  </tbody>\n",
              "</table>\n",
              "<p>5 rows × 21 columns</p>\n",
              "</div>\n",
              "      <button class=\"colab-df-convert\" onclick=\"convertToInteractive('df-513c580d-cf48-4212-9483-ba0163ef0172')\"\n",
              "              title=\"Convert this dataframe to an interactive table.\"\n",
              "              style=\"display:none;\">\n",
              "        \n",
              "  <svg xmlns=\"http://www.w3.org/2000/svg\" height=\"24px\"viewBox=\"0 0 24 24\"\n",
              "       width=\"24px\">\n",
              "    <path d=\"M0 0h24v24H0V0z\" fill=\"none\"/>\n",
              "    <path d=\"M18.56 5.44l.94 2.06.94-2.06 2.06-.94-2.06-.94-.94-2.06-.94 2.06-2.06.94zm-11 1L8.5 8.5l.94-2.06 2.06-.94-2.06-.94L8.5 2.5l-.94 2.06-2.06.94zm10 10l.94 2.06.94-2.06 2.06-.94-2.06-.94-.94-2.06-.94 2.06-2.06.94z\"/><path d=\"M17.41 7.96l-1.37-1.37c-.4-.4-.92-.59-1.43-.59-.52 0-1.04.2-1.43.59L10.3 9.45l-7.72 7.72c-.78.78-.78 2.05 0 2.83L4 21.41c.39.39.9.59 1.41.59.51 0 1.02-.2 1.41-.59l7.78-7.78 2.81-2.81c.8-.78.8-2.07 0-2.86zM5.41 20L4 18.59l7.72-7.72 1.47 1.35L5.41 20z\"/>\n",
              "  </svg>\n",
              "      </button>\n",
              "      \n",
              "  <style>\n",
              "    .colab-df-container {\n",
              "      display:flex;\n",
              "      flex-wrap:wrap;\n",
              "      gap: 12px;\n",
              "    }\n",
              "\n",
              "    .colab-df-convert {\n",
              "      background-color: #E8F0FE;\n",
              "      border: none;\n",
              "      border-radius: 50%;\n",
              "      cursor: pointer;\n",
              "      display: none;\n",
              "      fill: #1967D2;\n",
              "      height: 32px;\n",
              "      padding: 0 0 0 0;\n",
              "      width: 32px;\n",
              "    }\n",
              "\n",
              "    .colab-df-convert:hover {\n",
              "      background-color: #E2EBFA;\n",
              "      box-shadow: 0px 1px 2px rgba(60, 64, 67, 0.3), 0px 1px 3px 1px rgba(60, 64, 67, 0.15);\n",
              "      fill: #174EA6;\n",
              "    }\n",
              "\n",
              "    [theme=dark] .colab-df-convert {\n",
              "      background-color: #3B4455;\n",
              "      fill: #D2E3FC;\n",
              "    }\n",
              "\n",
              "    [theme=dark] .colab-df-convert:hover {\n",
              "      background-color: #434B5C;\n",
              "      box-shadow: 0px 1px 3px 1px rgba(0, 0, 0, 0.15);\n",
              "      filter: drop-shadow(0px 1px 2px rgba(0, 0, 0, 0.3));\n",
              "      fill: #FFFFFF;\n",
              "    }\n",
              "  </style>\n",
              "\n",
              "      <script>\n",
              "        const buttonEl =\n",
              "          document.querySelector('#df-513c580d-cf48-4212-9483-ba0163ef0172 button.colab-df-convert');\n",
              "        buttonEl.style.display =\n",
              "          google.colab.kernel.accessAllowed ? 'block' : 'none';\n",
              "\n",
              "        async function convertToInteractive(key) {\n",
              "          const element = document.querySelector('#df-513c580d-cf48-4212-9483-ba0163ef0172');\n",
              "          const dataTable =\n",
              "            await google.colab.kernel.invokeFunction('convertToInteractive',\n",
              "                                                     [key], {});\n",
              "          if (!dataTable) return;\n",
              "\n",
              "          const docLinkHtml = 'Like what you see? Visit the ' +\n",
              "            '<a target=\"_blank\" href=https://colab.research.google.com/notebooks/data_table.ipynb>data table notebook</a>'\n",
              "            + ' to learn more about interactive tables.';\n",
              "          element.innerHTML = '';\n",
              "          dataTable['output_type'] = 'display_data';\n",
              "          await google.colab.output.renderOutput(dataTable, element);\n",
              "          const docLink = document.createElement('div');\n",
              "          docLink.innerHTML = docLinkHtml;\n",
              "          element.appendChild(docLink);\n",
              "        }\n",
              "      </script>\n",
              "    </div>\n",
              "  </div>\n",
              "  "
            ]
          },
          "metadata": {},
          "execution_count": 1
        }
      ],
      "source": [
        "import pandas as pd\n",
        "df = pd.read_csv('https://raw.githubusercontent.com/jfmvs/AM-Projeto-1/main/data.csv')\n",
        "df.head()"
      ]
    },
    {
      "cell_type": "code",
      "source": [
        "df.info()"
      ],
      "metadata": {
        "colab": {
          "base_uri": "https://localhost:8080/"
        },
        "id": "zs_0NMO_rE9W",
        "outputId": "6b51d850-784a-43d1-fcb3-0587c7835dc2"
      },
      "execution_count": null,
      "outputs": [
        {
          "output_type": "stream",
          "name": "stdout",
          "text": [
            "<class 'pandas.core.frame.DataFrame'>\n",
            "RangeIndex: 4746 entries, 0 to 4745\n",
            "Data columns (total 21 columns):\n",
            " #   Column         Non-Null Count  Dtype  \n",
            "---  ------         --------------  -----  \n",
            " 0   gender         4746 non-null   int64  \n",
            " 1   C_api          4746 non-null   object \n",
            " 2   C_man          4746 non-null   int64  \n",
            " 3   E_NEds         4746 non-null   int64  \n",
            " 4   E_Bpag         4746 non-null   int64  \n",
            " 5   firstDay       4746 non-null   int64  \n",
            " 6   lastDay        4746 non-null   int64  \n",
            " 7   NEds           4746 non-null   int64  \n",
            " 8   NDays          4746 non-null   int64  \n",
            " 9   NActDays       4746 non-null   int64  \n",
            " 10  NPages         4746 non-null   int64  \n",
            " 11  NPcreated      4746 non-null   int64  \n",
            " 12  pagesWomen     4746 non-null   int64  \n",
            " 13  wikiprojWomen  4746 non-null   int64  \n",
            " 14  ns_user        4746 non-null   int64  \n",
            " 15  ns_wikipedia   4746 non-null   int64  \n",
            " 16  ns_talk        4746 non-null   int64  \n",
            " 17  ns_userTalk    4746 non-null   int64  \n",
            " 18  ns_content     4746 non-null   int64  \n",
            " 19  weightIJ       4746 non-null   float64\n",
            " 20  NIJ            4746 non-null   int64  \n",
            "dtypes: float64(1), int64(19), object(1)\n",
            "memory usage: 778.8+ KB\n"
          ]
        }
      ]
    },
    {
      "cell_type": "markdown",
      "source": [
        "Usando o a função describe, podemos ver como os dados numéricos estão distribuidos.\n",
        "Vamos destacar alguns pontos:\n",
        "\n",
        "\n",
        "*   Temos uma grande variação no NEds, que representa o número de edições feitas pelo usuário. O número varia desde 50 até mais de 100.000. Com isso temos vários outros atributos importantes relacionadas a ele como pagesWomen, que é número de edições em uma página sobre uma mulher, também variando bastante.\n",
        "*   Consideramos que estes atributos estão muito relacionados, por exemplo: um usuário com o atributo pagesWomen=10 pode ser considerado muito se seu NEds=100, mas pode ser pouco se seu NEds for 2.000.\n",
        "*   Com isso, optamos por usar esses atributos em forma de uma razão sobre o NEds.\n",
        "\n"
      ],
      "metadata": {
        "id": "JJJrIoZaeSsc"
      }
    },
    {
      "cell_type": "code",
      "source": [
        "pd.options.display.float_format = '{:.2f}'.format\n",
        "df.describe().T"
      ],
      "metadata": {
        "colab": {
          "base_uri": "https://localhost:8080/"
        },
        "id": "ntb1QxeNIN0-",
        "outputId": "455ba7c1-6ddf-4aa2-c8af-0ee8b2dbfebd"
      },
      "execution_count": null,
      "outputs": [
        {
          "output_type": "execute_result",
          "data": {
            "text/plain": [
              "                count              mean            std               min  \\\n",
              "gender        4746.00              0.74           0.59              0.00   \n",
              "C_man         4746.00              2.08           0.96              1.00   \n",
              "E_NEds        4746.00              1.48           1.10              0.00   \n",
              "E_Bpag        4746.00              1.65           1.08              0.00   \n",
              "firstDay      4746.00 20099417813055.11 35163369148.62 20020114163735.00   \n",
              "lastDay       4746.00 20154892225918.93 17481035176.20 20120103173838.00   \n",
              "NEds          4746.00           2029.97        7793.30             50.00   \n",
              "NDays         4746.00           2036.61        1336.12              1.00   \n",
              "NActDays      4746.00            183.16         374.03              1.00   \n",
              "NPages        4746.00            689.45        3355.30              1.00   \n",
              "NPcreated     4746.00             43.48         297.40              0.00   \n",
              "pagesWomen    4746.00              0.44           5.33              0.00   \n",
              "wikiprojWomen 4746.00              0.44          17.83              0.00   \n",
              "ns_user       4746.00             74.37         246.41              1.00   \n",
              "ns_wikipedia  4746.00             74.37         560.78              0.00   \n",
              "ns_talk       4746.00             49.95         215.55              0.00   \n",
              "ns_userTalk   4746.00             96.08         545.03              0.00   \n",
              "ns_content    4746.00           1521.89        6099.01              0.00   \n",
              "weightIJ      4746.00              1.00           0.33              0.41   \n",
              "NIJ           4746.00            867.15         325.93            297.00   \n",
              "\n",
              "                            25%               50%               75%  \\\n",
              "gender                     0.00              1.00              1.00   \n",
              "C_man                      1.00              3.00              3.00   \n",
              "E_NEds                     1.00              1.00              2.00   \n",
              "E_Bpag                     1.00              2.00              3.00   \n",
              "firstDay      20070421145894.00 20091209092717.00 20130404647226.50   \n",
              "lastDay       20140702404393.00 20160721153408.50 20170726826821.75   \n",
              "NEds                      95.00            218.00            757.75   \n",
              "NDays                    835.25           2035.50           3146.50   \n",
              "NActDays                  24.00             53.00            154.00   \n",
              "NPages                    29.00             68.00            219.75   \n",
              "NPcreated                  1.00              4.00             14.00   \n",
              "pagesWomen                 0.00              0.00              0.00   \n",
              "wikiprojWomen              0.00              0.00              0.00   \n",
              "ns_user                    4.00             14.00             46.00   \n",
              "ns_wikipedia               0.00              1.00              8.00   \n",
              "ns_talk                    0.00              4.00             19.00   \n",
              "ns_userTalk                1.00              5.00             22.00   \n",
              "ns_content                61.00            151.00            563.75   \n",
              "weightIJ                   0.83              1.00              1.06   \n",
              "NIJ                      664.00            917.00            994.00   \n",
              "\n",
              "                            max  \n",
              "gender                     2.00  \n",
              "C_man                      3.00  \n",
              "E_NEds                     3.00  \n",
              "E_Bpag                     3.00  \n",
              "firstDay      20170929215032.00  \n",
              "lastDay       20171002030328.00  \n",
              "NEds                  153193.00  \n",
              "NDays                   5349.00  \n",
              "NActDays                3843.00  \n",
              "NPages                 94142.00  \n",
              "NPcreated              13394.00  \n",
              "pagesWomen               185.00  \n",
              "wikiprojWomen            949.00  \n",
              "ns_user                 6041.00  \n",
              "ns_wikipedia           24392.00  \n",
              "ns_talk                 4788.00  \n",
              "ns_userTalk            12350.00  \n",
              "ns_content            115547.00  \n",
              "weightIJ                   1.87  \n",
              "NIJ                     1596.00  "
            ],
            "text/html": [
              "\n",
              "  <div id=\"df-ccaca949-46c9-4893-9842-716af54bdfc5\">\n",
              "    <div class=\"colab-df-container\">\n",
              "      <div>\n",
              "<style scoped>\n",
              "    .dataframe tbody tr th:only-of-type {\n",
              "        vertical-align: middle;\n",
              "    }\n",
              "\n",
              "    .dataframe tbody tr th {\n",
              "        vertical-align: top;\n",
              "    }\n",
              "\n",
              "    .dataframe thead th {\n",
              "        text-align: right;\n",
              "    }\n",
              "</style>\n",
              "<table border=\"1\" class=\"dataframe\">\n",
              "  <thead>\n",
              "    <tr style=\"text-align: right;\">\n",
              "      <th></th>\n",
              "      <th>count</th>\n",
              "      <th>mean</th>\n",
              "      <th>std</th>\n",
              "      <th>min</th>\n",
              "      <th>25%</th>\n",
              "      <th>50%</th>\n",
              "      <th>75%</th>\n",
              "      <th>max</th>\n",
              "    </tr>\n",
              "  </thead>\n",
              "  <tbody>\n",
              "    <tr>\n",
              "      <th>gender</th>\n",
              "      <td>4746.00</td>\n",
              "      <td>0.74</td>\n",
              "      <td>0.59</td>\n",
              "      <td>0.00</td>\n",
              "      <td>0.00</td>\n",
              "      <td>1.00</td>\n",
              "      <td>1.00</td>\n",
              "      <td>2.00</td>\n",
              "    </tr>\n",
              "    <tr>\n",
              "      <th>C_man</th>\n",
              "      <td>4746.00</td>\n",
              "      <td>2.08</td>\n",
              "      <td>0.96</td>\n",
              "      <td>1.00</td>\n",
              "      <td>1.00</td>\n",
              "      <td>3.00</td>\n",
              "      <td>3.00</td>\n",
              "      <td>3.00</td>\n",
              "    </tr>\n",
              "    <tr>\n",
              "      <th>E_NEds</th>\n",
              "      <td>4746.00</td>\n",
              "      <td>1.48</td>\n",
              "      <td>1.10</td>\n",
              "      <td>0.00</td>\n",
              "      <td>1.00</td>\n",
              "      <td>1.00</td>\n",
              "      <td>2.00</td>\n",
              "      <td>3.00</td>\n",
              "    </tr>\n",
              "    <tr>\n",
              "      <th>E_Bpag</th>\n",
              "      <td>4746.00</td>\n",
              "      <td>1.65</td>\n",
              "      <td>1.08</td>\n",
              "      <td>0.00</td>\n",
              "      <td>1.00</td>\n",
              "      <td>2.00</td>\n",
              "      <td>3.00</td>\n",
              "      <td>3.00</td>\n",
              "    </tr>\n",
              "    <tr>\n",
              "      <th>firstDay</th>\n",
              "      <td>4746.00</td>\n",
              "      <td>20099417813055.11</td>\n",
              "      <td>35163369148.62</td>\n",
              "      <td>20020114163735.00</td>\n",
              "      <td>20070421145894.00</td>\n",
              "      <td>20091209092717.00</td>\n",
              "      <td>20130404647226.50</td>\n",
              "      <td>20170929215032.00</td>\n",
              "    </tr>\n",
              "    <tr>\n",
              "      <th>lastDay</th>\n",
              "      <td>4746.00</td>\n",
              "      <td>20154892225918.93</td>\n",
              "      <td>17481035176.20</td>\n",
              "      <td>20120103173838.00</td>\n",
              "      <td>20140702404393.00</td>\n",
              "      <td>20160721153408.50</td>\n",
              "      <td>20170726826821.75</td>\n",
              "      <td>20171002030328.00</td>\n",
              "    </tr>\n",
              "    <tr>\n",
              "      <th>NEds</th>\n",
              "      <td>4746.00</td>\n",
              "      <td>2029.97</td>\n",
              "      <td>7793.30</td>\n",
              "      <td>50.00</td>\n",
              "      <td>95.00</td>\n",
              "      <td>218.00</td>\n",
              "      <td>757.75</td>\n",
              "      <td>153193.00</td>\n",
              "    </tr>\n",
              "    <tr>\n",
              "      <th>NDays</th>\n",
              "      <td>4746.00</td>\n",
              "      <td>2036.61</td>\n",
              "      <td>1336.12</td>\n",
              "      <td>1.00</td>\n",
              "      <td>835.25</td>\n",
              "      <td>2035.50</td>\n",
              "      <td>3146.50</td>\n",
              "      <td>5349.00</td>\n",
              "    </tr>\n",
              "    <tr>\n",
              "      <th>NActDays</th>\n",
              "      <td>4746.00</td>\n",
              "      <td>183.16</td>\n",
              "      <td>374.03</td>\n",
              "      <td>1.00</td>\n",
              "      <td>24.00</td>\n",
              "      <td>53.00</td>\n",
              "      <td>154.00</td>\n",
              "      <td>3843.00</td>\n",
              "    </tr>\n",
              "    <tr>\n",
              "      <th>NPages</th>\n",
              "      <td>4746.00</td>\n",
              "      <td>689.45</td>\n",
              "      <td>3355.30</td>\n",
              "      <td>1.00</td>\n",
              "      <td>29.00</td>\n",
              "      <td>68.00</td>\n",
              "      <td>219.75</td>\n",
              "      <td>94142.00</td>\n",
              "    </tr>\n",
              "    <tr>\n",
              "      <th>NPcreated</th>\n",
              "      <td>4746.00</td>\n",
              "      <td>43.48</td>\n",
              "      <td>297.40</td>\n",
              "      <td>0.00</td>\n",
              "      <td>1.00</td>\n",
              "      <td>4.00</td>\n",
              "      <td>14.00</td>\n",
              "      <td>13394.00</td>\n",
              "    </tr>\n",
              "    <tr>\n",
              "      <th>pagesWomen</th>\n",
              "      <td>4746.00</td>\n",
              "      <td>0.44</td>\n",
              "      <td>5.33</td>\n",
              "      <td>0.00</td>\n",
              "      <td>0.00</td>\n",
              "      <td>0.00</td>\n",
              "      <td>0.00</td>\n",
              "      <td>185.00</td>\n",
              "    </tr>\n",
              "    <tr>\n",
              "      <th>wikiprojWomen</th>\n",
              "      <td>4746.00</td>\n",
              "      <td>0.44</td>\n",
              "      <td>17.83</td>\n",
              "      <td>0.00</td>\n",
              "      <td>0.00</td>\n",
              "      <td>0.00</td>\n",
              "      <td>0.00</td>\n",
              "      <td>949.00</td>\n",
              "    </tr>\n",
              "    <tr>\n",
              "      <th>ns_user</th>\n",
              "      <td>4746.00</td>\n",
              "      <td>74.37</td>\n",
              "      <td>246.41</td>\n",
              "      <td>1.00</td>\n",
              "      <td>4.00</td>\n",
              "      <td>14.00</td>\n",
              "      <td>46.00</td>\n",
              "      <td>6041.00</td>\n",
              "    </tr>\n",
              "    <tr>\n",
              "      <th>ns_wikipedia</th>\n",
              "      <td>4746.00</td>\n",
              "      <td>74.37</td>\n",
              "      <td>560.78</td>\n",
              "      <td>0.00</td>\n",
              "      <td>0.00</td>\n",
              "      <td>1.00</td>\n",
              "      <td>8.00</td>\n",
              "      <td>24392.00</td>\n",
              "    </tr>\n",
              "    <tr>\n",
              "      <th>ns_talk</th>\n",
              "      <td>4746.00</td>\n",
              "      <td>49.95</td>\n",
              "      <td>215.55</td>\n",
              "      <td>0.00</td>\n",
              "      <td>0.00</td>\n",
              "      <td>4.00</td>\n",
              "      <td>19.00</td>\n",
              "      <td>4788.00</td>\n",
              "    </tr>\n",
              "    <tr>\n",
              "      <th>ns_userTalk</th>\n",
              "      <td>4746.00</td>\n",
              "      <td>96.08</td>\n",
              "      <td>545.03</td>\n",
              "      <td>0.00</td>\n",
              "      <td>1.00</td>\n",
              "      <td>5.00</td>\n",
              "      <td>22.00</td>\n",
              "      <td>12350.00</td>\n",
              "    </tr>\n",
              "    <tr>\n",
              "      <th>ns_content</th>\n",
              "      <td>4746.00</td>\n",
              "      <td>1521.89</td>\n",
              "      <td>6099.01</td>\n",
              "      <td>0.00</td>\n",
              "      <td>61.00</td>\n",
              "      <td>151.00</td>\n",
              "      <td>563.75</td>\n",
              "      <td>115547.00</td>\n",
              "    </tr>\n",
              "    <tr>\n",
              "      <th>weightIJ</th>\n",
              "      <td>4746.00</td>\n",
              "      <td>1.00</td>\n",
              "      <td>0.33</td>\n",
              "      <td>0.41</td>\n",
              "      <td>0.83</td>\n",
              "      <td>1.00</td>\n",
              "      <td>1.06</td>\n",
              "      <td>1.87</td>\n",
              "    </tr>\n",
              "    <tr>\n",
              "      <th>NIJ</th>\n",
              "      <td>4746.00</td>\n",
              "      <td>867.15</td>\n",
              "      <td>325.93</td>\n",
              "      <td>297.00</td>\n",
              "      <td>664.00</td>\n",
              "      <td>917.00</td>\n",
              "      <td>994.00</td>\n",
              "      <td>1596.00</td>\n",
              "    </tr>\n",
              "  </tbody>\n",
              "</table>\n",
              "</div>\n",
              "      <button class=\"colab-df-convert\" onclick=\"convertToInteractive('df-ccaca949-46c9-4893-9842-716af54bdfc5')\"\n",
              "              title=\"Convert this dataframe to an interactive table.\"\n",
              "              style=\"display:none;\">\n",
              "        \n",
              "  <svg xmlns=\"http://www.w3.org/2000/svg\" height=\"24px\"viewBox=\"0 0 24 24\"\n",
              "       width=\"24px\">\n",
              "    <path d=\"M0 0h24v24H0V0z\" fill=\"none\"/>\n",
              "    <path d=\"M18.56 5.44l.94 2.06.94-2.06 2.06-.94-2.06-.94-.94-2.06-.94 2.06-2.06.94zm-11 1L8.5 8.5l.94-2.06 2.06-.94-2.06-.94L8.5 2.5l-.94 2.06-2.06.94zm10 10l.94 2.06.94-2.06 2.06-.94-2.06-.94-.94-2.06-.94 2.06-2.06.94z\"/><path d=\"M17.41 7.96l-1.37-1.37c-.4-.4-.92-.59-1.43-.59-.52 0-1.04.2-1.43.59L10.3 9.45l-7.72 7.72c-.78.78-.78 2.05 0 2.83L4 21.41c.39.39.9.59 1.41.59.51 0 1.02-.2 1.41-.59l7.78-7.78 2.81-2.81c.8-.78.8-2.07 0-2.86zM5.41 20L4 18.59l7.72-7.72 1.47 1.35L5.41 20z\"/>\n",
              "  </svg>\n",
              "      </button>\n",
              "      \n",
              "  <style>\n",
              "    .colab-df-container {\n",
              "      display:flex;\n",
              "      flex-wrap:wrap;\n",
              "      gap: 12px;\n",
              "    }\n",
              "\n",
              "    .colab-df-convert {\n",
              "      background-color: #E8F0FE;\n",
              "      border: none;\n",
              "      border-radius: 50%;\n",
              "      cursor: pointer;\n",
              "      display: none;\n",
              "      fill: #1967D2;\n",
              "      height: 32px;\n",
              "      padding: 0 0 0 0;\n",
              "      width: 32px;\n",
              "    }\n",
              "\n",
              "    .colab-df-convert:hover {\n",
              "      background-color: #E2EBFA;\n",
              "      box-shadow: 0px 1px 2px rgba(60, 64, 67, 0.3), 0px 1px 3px 1px rgba(60, 64, 67, 0.15);\n",
              "      fill: #174EA6;\n",
              "    }\n",
              "\n",
              "    [theme=dark] .colab-df-convert {\n",
              "      background-color: #3B4455;\n",
              "      fill: #D2E3FC;\n",
              "    }\n",
              "\n",
              "    [theme=dark] .colab-df-convert:hover {\n",
              "      background-color: #434B5C;\n",
              "      box-shadow: 0px 1px 3px 1px rgba(0, 0, 0, 0.15);\n",
              "      filter: drop-shadow(0px 1px 2px rgba(0, 0, 0, 0.3));\n",
              "      fill: #FFFFFF;\n",
              "    }\n",
              "  </style>\n",
              "\n",
              "      <script>\n",
              "        const buttonEl =\n",
              "          document.querySelector('#df-ccaca949-46c9-4893-9842-716af54bdfc5 button.colab-df-convert');\n",
              "        buttonEl.style.display =\n",
              "          google.colab.kernel.accessAllowed ? 'block' : 'none';\n",
              "\n",
              "        async function convertToInteractive(key) {\n",
              "          const element = document.querySelector('#df-ccaca949-46c9-4893-9842-716af54bdfc5');\n",
              "          const dataTable =\n",
              "            await google.colab.kernel.invokeFunction('convertToInteractive',\n",
              "                                                     [key], {});\n",
              "          if (!dataTable) return;\n",
              "\n",
              "          const docLinkHtml = 'Like what you see? Visit the ' +\n",
              "            '<a target=\"_blank\" href=https://colab.research.google.com/notebooks/data_table.ipynb>data table notebook</a>'\n",
              "            + ' to learn more about interactive tables.';\n",
              "          element.innerHTML = '';\n",
              "          dataTable['output_type'] = 'display_data';\n",
              "          await google.colab.output.renderOutput(dataTable, element);\n",
              "          const docLink = document.createElement('div');\n",
              "          docLink.innerHTML = docLinkHtml;\n",
              "          element.appendChild(docLink);\n",
              "        }\n",
              "      </script>\n",
              "    </div>\n",
              "  </div>\n",
              "  "
            ]
          },
          "metadata": {},
          "execution_count": 3
        }
      ]
    },
    {
      "cell_type": "code",
      "source": [
        "# estamos passando essas variaveis de um numero para porcentagem\n",
        "df['pagesWomen'] =   df['pagesWomen'] / df['NEds']\n",
        "df['wikiprojWomen'] =   df['wikiprojWomen'] / df['NEds']\n",
        "df['ns_user'] =   df['ns_user'] / df['NEds']\n",
        "df['ns_wikipedia'] =   df['ns_wikipedia'] / df['NEds']\n",
        "df['ns_talk'] =   df['ns_talk'] / df['NEds']\n",
        "df['ns_userTalk'] =   df['ns_userTalk'] / df['NEds']\n",
        "df['ns_content'] =   df['ns_content'] / df['NEds']"
      ],
      "metadata": {
        "id": "BfYV1ttkrr8X"
      },
      "execution_count": null,
      "outputs": []
    },
    {
      "cell_type": "markdown",
      "source": [
        "A mesma ideia foi considerada para gerar novas features considerando o total de dias entre sua primeira e última edição. <p>\n",
        "Vamos usar a relação do número de dias ativos e também o número de edições por dia como novas features. "
      ],
      "metadata": {
        "id": "fuOk3wx5r1G4"
      }
    },
    {
      "cell_type": "code",
      "source": [
        "df['NEds/NDays'] = df['NEds']/df['NDays']\n",
        "df['NActDays/NDays'] = df['NActDays']/df['NDays']"
      ],
      "metadata": {
        "id": "GwmOgZQusW0d"
      },
      "execution_count": null,
      "outputs": []
    },
    {
      "cell_type": "markdown",
      "source": [
        "Agora vamos observar os valores únicos:"
      ],
      "metadata": {
        "id": "21eHAKmyrt-b"
      }
    },
    {
      "cell_type": "code",
      "source": [
        "df.nunique()"
      ],
      "metadata": {
        "colab": {
          "base_uri": "https://localhost:8080/"
        },
        "id": "2xWtd7ncIb6H",
        "outputId": "29a5483d-623d-427a-89d5-627dbf0a0725"
      },
      "execution_count": null,
      "outputs": [
        {
          "output_type": "execute_result",
          "data": {
            "text/plain": [
              "gender               3\n",
              "C_api                3\n",
              "C_man                3\n",
              "E_NEds               4\n",
              "E_Bpag               4\n",
              "firstDay          4746\n",
              "lastDay           4746\n",
              "NEds              1685\n",
              "NDays             2855\n",
              "NActDays           792\n",
              "NPages            1050\n",
              "NPcreated          335\n",
              "pagesWomen         254\n",
              "wikiprojWomen       56\n",
              "ns_user           3448\n",
              "ns_wikipedia      2143\n",
              "ns_talk           2554\n",
              "ns_userTalk       2740\n",
              "ns_content        3848\n",
              "weightIJ            16\n",
              "NIJ                 16\n",
              "NEds/NDays        4682\n",
              "NActDays/NDays    4505\n",
              "dtype: int64"
            ]
          },
          "metadata": {},
          "execution_count": 6
        }
      ]
    },
    {
      "cell_type": "markdown",
      "source": [
        "NIJ e weightIJ são relativos ao Stratum que combina E_NEds e E_Bpag, por isso temos 16 valores para cada, já que 4x4=16. Como essas informações são a respeito do Stratum, que já é uma informação presente em E_NEds e E_Bpag, vamos remover essas colunas"
      ],
      "metadata": {
        "id": "V2J1wj_spDs0"
      }
    },
    {
      "cell_type": "code",
      "source": [
        "df = df.drop(['C_man','NIJ','weightIJ'],axis=1)"
      ],
      "metadata": {
        "id": "ST9H0TpPI_et"
      },
      "execution_count": null,
      "outputs": []
    },
    {
      "cell_type": "markdown",
      "source": [
        "Outra questão importante foi com relação as datas de primeira postagem e última postagem. As datas se apresentam nos dados com uma precisão até o segundo. Como não queremos descartar esses dados de cara, mas também não queremos colocar informações que podem irrelevantes para os modelos, optamos por representar essas datas como: (ano) + ((mês - 1)/12). Assim, temos por exemplo a representação de julho de 2011 como 2011.5 ."
      ],
      "metadata": {
        "id": "_MKVI1XekQSZ"
      }
    },
    {
      "cell_type": "code",
      "source": [
        "df['firstDay'] = df['firstDay'].astype(str)\n",
        "firstMonth = df['firstDay'].str.slice(4, 6).astype(int)\n",
        "firstYear = df['firstDay'].str.slice(0, 4).astype(int)\n",
        "df['firstYear'] = firstYear + (firstMonth - 1) /12\n",
        "\n",
        "df['lastDay'] = df['lastDay'].astype(str)\n",
        "lastMonth = df['lastDay'].str.slice(4, 6).astype(int)\n",
        "lastYear = df['lastDay'].str.slice(0, 4).astype(int)\n",
        "df['lastYear'] = lastYear + (lastMonth - 1) /12\n",
        "df = df.drop(['firstDay','lastDay'],axis=1)"
      ],
      "metadata": {
        "id": "BxpDorLpaLrK"
      },
      "execution_count": null,
      "outputs": []
    },
    {
      "cell_type": "markdown",
      "source": [
        "Vamos agora, definir as variavéis que são categóricas. Para fim de clareza, vamos substituir os valores de 0, 1 e 2 na na categoria para 'unknown', 'male' e 'female'."
      ],
      "metadata": {
        "id": "X8vX8TRYs7dt"
      }
    },
    {
      "cell_type": "code",
      "source": [
        "\n",
        "df['gender'] = df['gender'].replace({0: 'unknown', 1: 'male', 2: 'female'})\n",
        "df['gender'] = df['gender'].astype('category')\n",
        "df['C_api'] =   df['C_api'].astype('category')\n",
        "df['E_NEds'] =   df['E_NEds'].astype('category')\n",
        "df['E_Bpag'] = df['E_Bpag'].astype('category')\n",
        "\n",
        "\n",
        "\n",
        "df.info()"
      ],
      "metadata": {
        "colab": {
          "base_uri": "https://localhost:8080/"
        },
        "id": "Wc-GTum5IFuq",
        "outputId": "38366bb1-62dc-4abe-b064-ce6a0172f43f"
      },
      "execution_count": null,
      "outputs": [
        {
          "output_type": "stream",
          "name": "stdout",
          "text": [
            "<class 'pandas.core.frame.DataFrame'>\n",
            "RangeIndex: 4746 entries, 0 to 4745\n",
            "Data columns (total 20 columns):\n",
            " #   Column          Non-Null Count  Dtype   \n",
            "---  ------          --------------  -----   \n",
            " 0   gender          4746 non-null   category\n",
            " 1   C_api           4746 non-null   category\n",
            " 2   E_NEds          4746 non-null   category\n",
            " 3   E_Bpag          4746 non-null   category\n",
            " 4   NEds            4746 non-null   int64   \n",
            " 5   NDays           4746 non-null   int64   \n",
            " 6   NActDays        4746 non-null   int64   \n",
            " 7   NPages          4746 non-null   int64   \n",
            " 8   NPcreated       4746 non-null   int64   \n",
            " 9   pagesWomen      4746 non-null   float64 \n",
            " 10  wikiprojWomen   4746 non-null   float64 \n",
            " 11  ns_user         4746 non-null   float64 \n",
            " 12  ns_wikipedia    4746 non-null   float64 \n",
            " 13  ns_talk         4746 non-null   float64 \n",
            " 14  ns_userTalk     4746 non-null   float64 \n",
            " 15  ns_content      4746 non-null   float64 \n",
            " 16  NEds/NDays      4746 non-null   float64 \n",
            " 17  NActDays/NDays  4746 non-null   float64 \n",
            " 18  firstYear       4746 non-null   float64 \n",
            " 19  lastYear        4746 non-null   float64 \n",
            "dtypes: category(4), float64(11), int64(5)\n",
            "memory usage: 612.6 KB\n"
          ]
        }
      ]
    },
    {
      "cell_type": "markdown",
      "source": [
        "Como temos valores desconhecidos com a classificação desconhecida na base de dados, vamos ignora-los num primeiro momento de treinamento do modelo."
      ],
      "metadata": {
        "id": "M_aUPdnzZ0x_"
      }
    },
    {
      "cell_type": "code",
      "source": [
        "df = df.drop(df[df['gender'] == 'unknown'].index)"
      ],
      "metadata": {
        "id": "saCti-JHZt9y"
      },
      "execution_count": null,
      "outputs": []
    },
    {
      "cell_type": "markdown",
      "source": [
        "É importante pensarmos também na possível utilização dessas linhas com a categoria 'unkown' já que eram boa parte do conjunto de dados. Poderíamos testar já na parte de modelagem a substituição desse valor pela média, mediana ou até criar um modelo simples para preencher esse dado que pode ser considerado 'NaN'."
      ],
      "metadata": {
        "id": "zE_3-3EwHutH"
      }
    },
    {
      "cell_type": "code",
      "source": [
        "df.shape"
      ],
      "metadata": {
        "colab": {
          "base_uri": "https://localhost:8080/"
        },
        "id": "AmFSAV4jypJW",
        "outputId": "211c21dd-3cc6-4b38-92ac-a29e1676276a"
      },
      "execution_count": null,
      "outputs": [
        {
          "output_type": "execute_result",
          "data": {
            "text/plain": [
              "(3145, 20)"
            ]
          },
          "metadata": {},
          "execution_count": 11
        }
      ]
    },
    {
      "cell_type": "markdown",
      "source": [
        "Também é importante checar se temos valores nulos, faltando ou duplicado, verificamos que não temos probelmas quanto a isso."
      ],
      "metadata": {
        "id": "IYLibs7d0fYF"
      }
    },
    {
      "cell_type": "code",
      "source": [
        "print('Null:','\\n',df.isnull().sum())\n",
        "print('Missing values:',df.isna().values.sum())"
      ],
      "metadata": {
        "colab": {
          "base_uri": "https://localhost:8080/"
        },
        "id": "qDJeihZoKKPK",
        "outputId": "9cdf5061-2849-4e00-a32c-ec4b08af0c34"
      },
      "execution_count": null,
      "outputs": [
        {
          "output_type": "stream",
          "name": "stdout",
          "text": [
            "Null: \n",
            " gender            0\n",
            "C_api             0\n",
            "E_NEds            0\n",
            "E_Bpag            0\n",
            "NEds              0\n",
            "NDays             0\n",
            "NActDays          0\n",
            "NPages            0\n",
            "NPcreated         0\n",
            "pagesWomen        0\n",
            "wikiprojWomen     0\n",
            "ns_user           0\n",
            "ns_wikipedia      0\n",
            "ns_talk           0\n",
            "ns_userTalk       0\n",
            "ns_content        0\n",
            "NEds/NDays        0\n",
            "NActDays/NDays    0\n",
            "firstYear         0\n",
            "lastYear          0\n",
            "dtype: int64\n",
            "Missing values: 0\n"
          ]
        }
      ]
    },
    {
      "cell_type": "code",
      "source": [
        "df.duplicated().sum()"
      ],
      "metadata": {
        "colab": {
          "base_uri": "https://localhost:8080/"
        },
        "id": "0zMXNR-VKcxl",
        "outputId": "8cd6bc64-8a3b-436a-8732-b20d3e77fc7f"
      },
      "execution_count": null,
      "outputs": [
        {
          "output_type": "execute_result",
          "data": {
            "text/plain": [
              "0"
            ]
          },
          "metadata": {},
          "execution_count": 13
        }
      ]
    },
    {
      "cell_type": "markdown",
      "source": [
        "Por fim temos nossos dados preparados para os modelos:"
      ],
      "metadata": {
        "id": "8HsIzVEZ0qoZ"
      }
    },
    {
      "cell_type": "code",
      "source": [
        "df.head()"
      ],
      "metadata": {
        "colab": {
          "base_uri": "https://localhost:8080/"
        },
        "id": "9xB0U4yXup2c",
        "outputId": "ac7f4a20-7def-4d44-f0b7-1ddf8b82b78f"
      },
      "execution_count": null,
      "outputs": [
        {
          "output_type": "execute_result",
          "data": {
            "text/plain": [
              "  gender    C_api E_NEds E_Bpag  NEds  NDays  NActDays  NPages  NPcreated  \\\n",
              "0   male     male      2      2   543     56        43     204          4   \n",
              "2   male     male      0      2    57   2927        25      25          0   \n",
              "3   male     male      1      2   104     67         5      66          2   \n",
              "5   male     male      3      1  1887   4130       197     510         62   \n",
              "7   male  unknown      3      3  5833   3209       566     376        108   \n",
              "\n",
              "   pagesWomen  wikiprojWomen  ns_user  ns_wikipedia  ns_talk  ns_userTalk  \\\n",
              "0        0.00           0.00     0.17          0.05     0.01         0.14   \n",
              "2        0.00           0.00     0.05          0.00     0.02         0.05   \n",
              "3        0.00           0.00     0.19          0.01     0.02         0.02   \n",
              "5        0.00           0.00     0.00          0.00     0.02         0.01   \n",
              "7        0.00           0.00     0.03          0.00     0.00         0.03   \n",
              "\n",
              "   ns_content  NEds/NDays  NActDays/NDays  firstYear  lastYear  \n",
              "0        0.60        9.70            0.77    2017.33   2017.50  \n",
              "2        0.86        0.02            0.01    2006.67   2014.67  \n",
              "3        0.75        1.55            0.07    2012.75   2012.92  \n",
              "5        0.88        0.46            0.05    2006.33   2017.67  \n",
              "7        0.81        1.82            0.18    2008.83   2017.58  "
            ],
            "text/html": [
              "\n",
              "  <div id=\"df-7191e8dd-eb73-4a9e-9cd3-9a2ae17cd974\">\n",
              "    <div class=\"colab-df-container\">\n",
              "      <div>\n",
              "<style scoped>\n",
              "    .dataframe tbody tr th:only-of-type {\n",
              "        vertical-align: middle;\n",
              "    }\n",
              "\n",
              "    .dataframe tbody tr th {\n",
              "        vertical-align: top;\n",
              "    }\n",
              "\n",
              "    .dataframe thead th {\n",
              "        text-align: right;\n",
              "    }\n",
              "</style>\n",
              "<table border=\"1\" class=\"dataframe\">\n",
              "  <thead>\n",
              "    <tr style=\"text-align: right;\">\n",
              "      <th></th>\n",
              "      <th>gender</th>\n",
              "      <th>C_api</th>\n",
              "      <th>E_NEds</th>\n",
              "      <th>E_Bpag</th>\n",
              "      <th>NEds</th>\n",
              "      <th>NDays</th>\n",
              "      <th>NActDays</th>\n",
              "      <th>NPages</th>\n",
              "      <th>NPcreated</th>\n",
              "      <th>pagesWomen</th>\n",
              "      <th>wikiprojWomen</th>\n",
              "      <th>ns_user</th>\n",
              "      <th>ns_wikipedia</th>\n",
              "      <th>ns_talk</th>\n",
              "      <th>ns_userTalk</th>\n",
              "      <th>ns_content</th>\n",
              "      <th>NEds/NDays</th>\n",
              "      <th>NActDays/NDays</th>\n",
              "      <th>firstYear</th>\n",
              "      <th>lastYear</th>\n",
              "    </tr>\n",
              "  </thead>\n",
              "  <tbody>\n",
              "    <tr>\n",
              "      <th>0</th>\n",
              "      <td>male</td>\n",
              "      <td>male</td>\n",
              "      <td>2</td>\n",
              "      <td>2</td>\n",
              "      <td>543</td>\n",
              "      <td>56</td>\n",
              "      <td>43</td>\n",
              "      <td>204</td>\n",
              "      <td>4</td>\n",
              "      <td>0.00</td>\n",
              "      <td>0.00</td>\n",
              "      <td>0.17</td>\n",
              "      <td>0.05</td>\n",
              "      <td>0.01</td>\n",
              "      <td>0.14</td>\n",
              "      <td>0.60</td>\n",
              "      <td>9.70</td>\n",
              "      <td>0.77</td>\n",
              "      <td>2017.33</td>\n",
              "      <td>2017.50</td>\n",
              "    </tr>\n",
              "    <tr>\n",
              "      <th>2</th>\n",
              "      <td>male</td>\n",
              "      <td>male</td>\n",
              "      <td>0</td>\n",
              "      <td>2</td>\n",
              "      <td>57</td>\n",
              "      <td>2927</td>\n",
              "      <td>25</td>\n",
              "      <td>25</td>\n",
              "      <td>0</td>\n",
              "      <td>0.00</td>\n",
              "      <td>0.00</td>\n",
              "      <td>0.05</td>\n",
              "      <td>0.00</td>\n",
              "      <td>0.02</td>\n",
              "      <td>0.05</td>\n",
              "      <td>0.86</td>\n",
              "      <td>0.02</td>\n",
              "      <td>0.01</td>\n",
              "      <td>2006.67</td>\n",
              "      <td>2014.67</td>\n",
              "    </tr>\n",
              "    <tr>\n",
              "      <th>3</th>\n",
              "      <td>male</td>\n",
              "      <td>male</td>\n",
              "      <td>1</td>\n",
              "      <td>2</td>\n",
              "      <td>104</td>\n",
              "      <td>67</td>\n",
              "      <td>5</td>\n",
              "      <td>66</td>\n",
              "      <td>2</td>\n",
              "      <td>0.00</td>\n",
              "      <td>0.00</td>\n",
              "      <td>0.19</td>\n",
              "      <td>0.01</td>\n",
              "      <td>0.02</td>\n",
              "      <td>0.02</td>\n",
              "      <td>0.75</td>\n",
              "      <td>1.55</td>\n",
              "      <td>0.07</td>\n",
              "      <td>2012.75</td>\n",
              "      <td>2012.92</td>\n",
              "    </tr>\n",
              "    <tr>\n",
              "      <th>5</th>\n",
              "      <td>male</td>\n",
              "      <td>male</td>\n",
              "      <td>3</td>\n",
              "      <td>1</td>\n",
              "      <td>1887</td>\n",
              "      <td>4130</td>\n",
              "      <td>197</td>\n",
              "      <td>510</td>\n",
              "      <td>62</td>\n",
              "      <td>0.00</td>\n",
              "      <td>0.00</td>\n",
              "      <td>0.00</td>\n",
              "      <td>0.00</td>\n",
              "      <td>0.02</td>\n",
              "      <td>0.01</td>\n",
              "      <td>0.88</td>\n",
              "      <td>0.46</td>\n",
              "      <td>0.05</td>\n",
              "      <td>2006.33</td>\n",
              "      <td>2017.67</td>\n",
              "    </tr>\n",
              "    <tr>\n",
              "      <th>7</th>\n",
              "      <td>male</td>\n",
              "      <td>unknown</td>\n",
              "      <td>3</td>\n",
              "      <td>3</td>\n",
              "      <td>5833</td>\n",
              "      <td>3209</td>\n",
              "      <td>566</td>\n",
              "      <td>376</td>\n",
              "      <td>108</td>\n",
              "      <td>0.00</td>\n",
              "      <td>0.00</td>\n",
              "      <td>0.03</td>\n",
              "      <td>0.00</td>\n",
              "      <td>0.00</td>\n",
              "      <td>0.03</td>\n",
              "      <td>0.81</td>\n",
              "      <td>1.82</td>\n",
              "      <td>0.18</td>\n",
              "      <td>2008.83</td>\n",
              "      <td>2017.58</td>\n",
              "    </tr>\n",
              "  </tbody>\n",
              "</table>\n",
              "</div>\n",
              "      <button class=\"colab-df-convert\" onclick=\"convertToInteractive('df-7191e8dd-eb73-4a9e-9cd3-9a2ae17cd974')\"\n",
              "              title=\"Convert this dataframe to an interactive table.\"\n",
              "              style=\"display:none;\">\n",
              "        \n",
              "  <svg xmlns=\"http://www.w3.org/2000/svg\" height=\"24px\"viewBox=\"0 0 24 24\"\n",
              "       width=\"24px\">\n",
              "    <path d=\"M0 0h24v24H0V0z\" fill=\"none\"/>\n",
              "    <path d=\"M18.56 5.44l.94 2.06.94-2.06 2.06-.94-2.06-.94-.94-2.06-.94 2.06-2.06.94zm-11 1L8.5 8.5l.94-2.06 2.06-.94-2.06-.94L8.5 2.5l-.94 2.06-2.06.94zm10 10l.94 2.06.94-2.06 2.06-.94-2.06-.94-.94-2.06-.94 2.06-2.06.94z\"/><path d=\"M17.41 7.96l-1.37-1.37c-.4-.4-.92-.59-1.43-.59-.52 0-1.04.2-1.43.59L10.3 9.45l-7.72 7.72c-.78.78-.78 2.05 0 2.83L4 21.41c.39.39.9.59 1.41.59.51 0 1.02-.2 1.41-.59l7.78-7.78 2.81-2.81c.8-.78.8-2.07 0-2.86zM5.41 20L4 18.59l7.72-7.72 1.47 1.35L5.41 20z\"/>\n",
              "  </svg>\n",
              "      </button>\n",
              "      \n",
              "  <style>\n",
              "    .colab-df-container {\n",
              "      display:flex;\n",
              "      flex-wrap:wrap;\n",
              "      gap: 12px;\n",
              "    }\n",
              "\n",
              "    .colab-df-convert {\n",
              "      background-color: #E8F0FE;\n",
              "      border: none;\n",
              "      border-radius: 50%;\n",
              "      cursor: pointer;\n",
              "      display: none;\n",
              "      fill: #1967D2;\n",
              "      height: 32px;\n",
              "      padding: 0 0 0 0;\n",
              "      width: 32px;\n",
              "    }\n",
              "\n",
              "    .colab-df-convert:hover {\n",
              "      background-color: #E2EBFA;\n",
              "      box-shadow: 0px 1px 2px rgba(60, 64, 67, 0.3), 0px 1px 3px 1px rgba(60, 64, 67, 0.15);\n",
              "      fill: #174EA6;\n",
              "    }\n",
              "\n",
              "    [theme=dark] .colab-df-convert {\n",
              "      background-color: #3B4455;\n",
              "      fill: #D2E3FC;\n",
              "    }\n",
              "\n",
              "    [theme=dark] .colab-df-convert:hover {\n",
              "      background-color: #434B5C;\n",
              "      box-shadow: 0px 1px 3px 1px rgba(0, 0, 0, 0.15);\n",
              "      filter: drop-shadow(0px 1px 2px rgba(0, 0, 0, 0.3));\n",
              "      fill: #FFFFFF;\n",
              "    }\n",
              "  </style>\n",
              "\n",
              "      <script>\n",
              "        const buttonEl =\n",
              "          document.querySelector('#df-7191e8dd-eb73-4a9e-9cd3-9a2ae17cd974 button.colab-df-convert');\n",
              "        buttonEl.style.display =\n",
              "          google.colab.kernel.accessAllowed ? 'block' : 'none';\n",
              "\n",
              "        async function convertToInteractive(key) {\n",
              "          const element = document.querySelector('#df-7191e8dd-eb73-4a9e-9cd3-9a2ae17cd974');\n",
              "          const dataTable =\n",
              "            await google.colab.kernel.invokeFunction('convertToInteractive',\n",
              "                                                     [key], {});\n",
              "          if (!dataTable) return;\n",
              "\n",
              "          const docLinkHtml = 'Like what you see? Visit the ' +\n",
              "            '<a target=\"_blank\" href=https://colab.research.google.com/notebooks/data_table.ipynb>data table notebook</a>'\n",
              "            + ' to learn more about interactive tables.';\n",
              "          element.innerHTML = '';\n",
              "          dataTable['output_type'] = 'display_data';\n",
              "          await google.colab.output.renderOutput(dataTable, element);\n",
              "          const docLink = document.createElement('div');\n",
              "          docLink.innerHTML = docLinkHtml;\n",
              "          element.appendChild(docLink);\n",
              "        }\n",
              "      </script>\n",
              "    </div>\n",
              "  </div>\n",
              "  "
            ]
          },
          "metadata": {},
          "execution_count": 14
        }
      ]
    },
    {
      "cell_type": "code",
      "source": [
        "df.info()"
      ],
      "metadata": {
        "colab": {
          "base_uri": "https://localhost:8080/"
        },
        "id": "UFHULTxX0viW",
        "outputId": "4c5e88b0-42bc-449d-8605-57ac0909a6d3"
      },
      "execution_count": null,
      "outputs": [
        {
          "output_type": "stream",
          "name": "stdout",
          "text": [
            "<class 'pandas.core.frame.DataFrame'>\n",
            "Int64Index: 3145 entries, 0 to 4745\n",
            "Data columns (total 20 columns):\n",
            " #   Column          Non-Null Count  Dtype   \n",
            "---  ------          --------------  -----   \n",
            " 0   gender          3145 non-null   category\n",
            " 1   C_api           3145 non-null   category\n",
            " 2   E_NEds          3145 non-null   category\n",
            " 3   E_Bpag          3145 non-null   category\n",
            " 4   NEds            3145 non-null   int64   \n",
            " 5   NDays           3145 non-null   int64   \n",
            " 6   NActDays        3145 non-null   int64   \n",
            " 7   NPages          3145 non-null   int64   \n",
            " 8   NPcreated       3145 non-null   int64   \n",
            " 9   pagesWomen      3145 non-null   float64 \n",
            " 10  wikiprojWomen   3145 non-null   float64 \n",
            " 11  ns_user         3145 non-null   float64 \n",
            " 12  ns_wikipedia    3145 non-null   float64 \n",
            " 13  ns_talk         3145 non-null   float64 \n",
            " 14  ns_userTalk     3145 non-null   float64 \n",
            " 15  ns_content      3145 non-null   float64 \n",
            " 16  NEds/NDays      3145 non-null   float64 \n",
            " 17  NActDays/NDays  3145 non-null   float64 \n",
            " 18  firstYear       3145 non-null   float64 \n",
            " 19  lastYear        3145 non-null   float64 \n",
            "dtypes: category(4), float64(11), int64(5)\n",
            "memory usage: 430.6 KB\n"
          ]
        }
      ]
    },
    {
      "cell_type": "markdown",
      "source": [
        "Para fazer a divisão de dados para treino, teste e validação, precisamos levar usaremos um split estratificado pelo gênero, o que é muito importante neste caso pois os dados estão desbalanceados, com muitos mais ocorrências de 'male'."
      ],
      "metadata": {
        "id": "GjARfU_L03YY"
      }
    },
    {
      "cell_type": "code",
      "source": [
        "from sklearn.model_selection import train_test_split\n",
        "train_df, test_df = train_test_split(df, test_size=0.3, random_state=8, stratify=df['gender'])\n",
        "#train_df, valid_df = train_test_split(train_df, test_size=0.2, random_state=8, stratify=train_df['gender'])\n",
        "\n",
        "X_train, y_train = train_df.drop(['gender'],axis=1), train_df['gender']\n",
        "X_test, y_test = test_df.drop(['gender'],axis=1), test_df['gender']\n",
        "#X_valid, y_valid = valid_df.drop(['gender'],axis=1), valid_df['gender']"
      ],
      "metadata": {
        "id": "bIc7Mr5ZMs8E"
      },
      "execution_count": null,
      "outputs": []
    },
    {
      "cell_type": "code",
      "source": [
        "print(X_train.shape)\n",
        "print(X_test.shape)\n",
        "#print(X_valid.shape)"
      ],
      "metadata": {
        "colab": {
          "base_uri": "https://localhost:8080/"
        },
        "id": "CCX_PXLKN1ST",
        "outputId": "05c0bbec-ffa3-4544-d167-b25ad88ff6cc"
      },
      "execution_count": null,
      "outputs": [
        {
          "output_type": "stream",
          "name": "stdout",
          "text": [
            "(2201, 19)\n",
            "(944, 19)\n"
          ]
        }
      ]
    },
    {
      "cell_type": "markdown",
      "source": [
        "Para alguns modelos, é necessário fazer o uso do OneHotEnconder para se obter valores númericos."
      ],
      "metadata": {
        "id": "HJo1O1DJ1pMh"
      }
    },
    {
      "cell_type": "code",
      "source": [
        "from sklearn.preprocessing import OneHotEncoder\n",
        "from sklearn.compose import make_column_transformer\n",
        "onehot = make_column_transformer((OneHotEncoder(handle_unknown='ignore'),['C_api','E_NEds','E_Bpag']),remainder='passthrough')\n",
        "X_train_oh = onehot.fit_transform(X_train)\n",
        "X_train_oh = pd.DataFrame(X_train_oh,columns=onehot.get_feature_names_out())"
      ],
      "metadata": {
        "id": "OGgMQ7IuNQnt"
      },
      "execution_count": null,
      "outputs": []
    },
    {
      "cell_type": "code",
      "source": [
        "X_train_oh.info()"
      ],
      "metadata": {
        "colab": {
          "base_uri": "https://localhost:8080/"
        },
        "id": "L6oaPZwXSOWI",
        "outputId": "cbce9b84-1236-411c-e84f-84629b31efa8"
      },
      "execution_count": null,
      "outputs": [
        {
          "output_type": "stream",
          "name": "stdout",
          "text": [
            "<class 'pandas.core.frame.DataFrame'>\n",
            "RangeIndex: 2201 entries, 0 to 2200\n",
            "Data columns (total 27 columns):\n",
            " #   Column                        Non-Null Count  Dtype  \n",
            "---  ------                        --------------  -----  \n",
            " 0   onehotencoder__C_api_female   2201 non-null   float64\n",
            " 1   onehotencoder__C_api_male     2201 non-null   float64\n",
            " 2   onehotencoder__C_api_unknown  2201 non-null   float64\n",
            " 3   onehotencoder__E_NEds_0       2201 non-null   float64\n",
            " 4   onehotencoder__E_NEds_1       2201 non-null   float64\n",
            " 5   onehotencoder__E_NEds_2       2201 non-null   float64\n",
            " 6   onehotencoder__E_NEds_3       2201 non-null   float64\n",
            " 7   onehotencoder__E_Bpag_0       2201 non-null   float64\n",
            " 8   onehotencoder__E_Bpag_1       2201 non-null   float64\n",
            " 9   onehotencoder__E_Bpag_2       2201 non-null   float64\n",
            " 10  onehotencoder__E_Bpag_3       2201 non-null   float64\n",
            " 11  remainder__NEds               2201 non-null   float64\n",
            " 12  remainder__NDays              2201 non-null   float64\n",
            " 13  remainder__NActDays           2201 non-null   float64\n",
            " 14  remainder__NPages             2201 non-null   float64\n",
            " 15  remainder__NPcreated          2201 non-null   float64\n",
            " 16  remainder__pagesWomen         2201 non-null   float64\n",
            " 17  remainder__wikiprojWomen      2201 non-null   float64\n",
            " 18  remainder__ns_user            2201 non-null   float64\n",
            " 19  remainder__ns_wikipedia       2201 non-null   float64\n",
            " 20  remainder__ns_talk            2201 non-null   float64\n",
            " 21  remainder__ns_userTalk        2201 non-null   float64\n",
            " 22  remainder__ns_content         2201 non-null   float64\n",
            " 23  remainder__NEds/NDays         2201 non-null   float64\n",
            " 24  remainder__NActDays/NDays     2201 non-null   float64\n",
            " 25  remainder__firstYear          2201 non-null   float64\n",
            " 26  remainder__lastYear           2201 non-null   float64\n",
            "dtypes: float64(27)\n",
            "memory usage: 464.4 KB\n"
          ]
        }
      ]
    },
    {
      "cell_type": "code",
      "source": [
        "X_train_oh.head()"
      ],
      "metadata": {
        "colab": {
          "base_uri": "https://localhost:8080/"
        },
        "id": "3uZOVt9jNuAh",
        "outputId": "21fccded-2532-4745-a3a6-149f614f4375"
      },
      "execution_count": null,
      "outputs": [
        {
          "output_type": "execute_result",
          "data": {
            "text/plain": [
              "   onehotencoder__C_api_female  onehotencoder__C_api_male  \\\n",
              "0                         0.00                       1.00   \n",
              "1                         0.00                       0.00   \n",
              "2                         0.00                       0.00   \n",
              "3                         0.00                       1.00   \n",
              "4                         0.00                       1.00   \n",
              "\n",
              "   onehotencoder__C_api_unknown  onehotencoder__E_NEds_0  \\\n",
              "0                          0.00                     0.00   \n",
              "1                          1.00                     0.00   \n",
              "2                          1.00                     1.00   \n",
              "3                          0.00                     0.00   \n",
              "4                          0.00                     0.00   \n",
              "\n",
              "   onehotencoder__E_NEds_1  onehotencoder__E_NEds_2  onehotencoder__E_NEds_3  \\\n",
              "0                     0.00                     0.00                     1.00   \n",
              "1                     0.00                     0.00                     1.00   \n",
              "2                     0.00                     0.00                     0.00   \n",
              "3                     1.00                     0.00                     0.00   \n",
              "4                     0.00                     0.00                     1.00   \n",
              "\n",
              "   onehotencoder__E_Bpag_0  onehotencoder__E_Bpag_1  onehotencoder__E_Bpag_2  \\\n",
              "0                     0.00                     0.00                     0.00   \n",
              "1                     0.00                     1.00                     0.00   \n",
              "2                     1.00                     0.00                     0.00   \n",
              "3                     0.00                     1.00                     0.00   \n",
              "4                     0.00                     1.00                     0.00   \n",
              "\n",
              "   ...  remainder__wikiprojWomen  remainder__ns_user  remainder__ns_wikipedia  \\\n",
              "0  ...                      0.00                0.08                     0.00   \n",
              "1  ...                      0.00                0.03                     0.24   \n",
              "2  ...                      0.00                0.26                     0.00   \n",
              "3  ...                      0.00                0.98                     0.00   \n",
              "4  ...                      0.00                0.01                     0.00   \n",
              "\n",
              "   remainder__ns_talk  remainder__ns_userTalk  remainder__ns_content  \\\n",
              "0                0.05                    0.02                   0.78   \n",
              "1                0.01                    0.02                   0.51   \n",
              "2                0.00                    0.00                   0.74   \n",
              "3                0.00                    0.00                   0.00   \n",
              "4                0.01                    0.03                   0.90   \n",
              "\n",
              "   remainder__NEds/NDays  remainder__NActDays/NDays  remainder__firstYear  \\\n",
              "0                   0.80                       0.19               2012.42   \n",
              "1                   2.38                       0.26               2009.83   \n",
              "2                   1.24                       0.15               2015.33   \n",
              "3                   0.06                       0.01               2011.00   \n",
              "4                   2.20                       0.37               2012.83   \n",
              "\n",
              "   remainder__lastYear  \n",
              "0              2017.58  \n",
              "1              2017.67  \n",
              "2              2015.50  \n",
              "3              2015.75  \n",
              "4              2017.67  \n",
              "\n",
              "[5 rows x 27 columns]"
            ],
            "text/html": [
              "\n",
              "  <div id=\"df-fa01e58e-e1f6-4a8d-9685-a7cafb63e050\">\n",
              "    <div class=\"colab-df-container\">\n",
              "      <div>\n",
              "<style scoped>\n",
              "    .dataframe tbody tr th:only-of-type {\n",
              "        vertical-align: middle;\n",
              "    }\n",
              "\n",
              "    .dataframe tbody tr th {\n",
              "        vertical-align: top;\n",
              "    }\n",
              "\n",
              "    .dataframe thead th {\n",
              "        text-align: right;\n",
              "    }\n",
              "</style>\n",
              "<table border=\"1\" class=\"dataframe\">\n",
              "  <thead>\n",
              "    <tr style=\"text-align: right;\">\n",
              "      <th></th>\n",
              "      <th>onehotencoder__C_api_female</th>\n",
              "      <th>onehotencoder__C_api_male</th>\n",
              "      <th>onehotencoder__C_api_unknown</th>\n",
              "      <th>onehotencoder__E_NEds_0</th>\n",
              "      <th>onehotencoder__E_NEds_1</th>\n",
              "      <th>onehotencoder__E_NEds_2</th>\n",
              "      <th>onehotencoder__E_NEds_3</th>\n",
              "      <th>onehotencoder__E_Bpag_0</th>\n",
              "      <th>onehotencoder__E_Bpag_1</th>\n",
              "      <th>onehotencoder__E_Bpag_2</th>\n",
              "      <th>...</th>\n",
              "      <th>remainder__wikiprojWomen</th>\n",
              "      <th>remainder__ns_user</th>\n",
              "      <th>remainder__ns_wikipedia</th>\n",
              "      <th>remainder__ns_talk</th>\n",
              "      <th>remainder__ns_userTalk</th>\n",
              "      <th>remainder__ns_content</th>\n",
              "      <th>remainder__NEds/NDays</th>\n",
              "      <th>remainder__NActDays/NDays</th>\n",
              "      <th>remainder__firstYear</th>\n",
              "      <th>remainder__lastYear</th>\n",
              "    </tr>\n",
              "  </thead>\n",
              "  <tbody>\n",
              "    <tr>\n",
              "      <th>0</th>\n",
              "      <td>0.00</td>\n",
              "      <td>1.00</td>\n",
              "      <td>0.00</td>\n",
              "      <td>0.00</td>\n",
              "      <td>0.00</td>\n",
              "      <td>0.00</td>\n",
              "      <td>1.00</td>\n",
              "      <td>0.00</td>\n",
              "      <td>0.00</td>\n",
              "      <td>0.00</td>\n",
              "      <td>...</td>\n",
              "      <td>0.00</td>\n",
              "      <td>0.08</td>\n",
              "      <td>0.00</td>\n",
              "      <td>0.05</td>\n",
              "      <td>0.02</td>\n",
              "      <td>0.78</td>\n",
              "      <td>0.80</td>\n",
              "      <td>0.19</td>\n",
              "      <td>2012.42</td>\n",
              "      <td>2017.58</td>\n",
              "    </tr>\n",
              "    <tr>\n",
              "      <th>1</th>\n",
              "      <td>0.00</td>\n",
              "      <td>0.00</td>\n",
              "      <td>1.00</td>\n",
              "      <td>0.00</td>\n",
              "      <td>0.00</td>\n",
              "      <td>0.00</td>\n",
              "      <td>1.00</td>\n",
              "      <td>0.00</td>\n",
              "      <td>1.00</td>\n",
              "      <td>0.00</td>\n",
              "      <td>...</td>\n",
              "      <td>0.00</td>\n",
              "      <td>0.03</td>\n",
              "      <td>0.24</td>\n",
              "      <td>0.01</td>\n",
              "      <td>0.02</td>\n",
              "      <td>0.51</td>\n",
              "      <td>2.38</td>\n",
              "      <td>0.26</td>\n",
              "      <td>2009.83</td>\n",
              "      <td>2017.67</td>\n",
              "    </tr>\n",
              "    <tr>\n",
              "      <th>2</th>\n",
              "      <td>0.00</td>\n",
              "      <td>0.00</td>\n",
              "      <td>1.00</td>\n",
              "      <td>1.00</td>\n",
              "      <td>0.00</td>\n",
              "      <td>0.00</td>\n",
              "      <td>0.00</td>\n",
              "      <td>1.00</td>\n",
              "      <td>0.00</td>\n",
              "      <td>0.00</td>\n",
              "      <td>...</td>\n",
              "      <td>0.00</td>\n",
              "      <td>0.26</td>\n",
              "      <td>0.00</td>\n",
              "      <td>0.00</td>\n",
              "      <td>0.00</td>\n",
              "      <td>0.74</td>\n",
              "      <td>1.24</td>\n",
              "      <td>0.15</td>\n",
              "      <td>2015.33</td>\n",
              "      <td>2015.50</td>\n",
              "    </tr>\n",
              "    <tr>\n",
              "      <th>3</th>\n",
              "      <td>0.00</td>\n",
              "      <td>1.00</td>\n",
              "      <td>0.00</td>\n",
              "      <td>0.00</td>\n",
              "      <td>1.00</td>\n",
              "      <td>0.00</td>\n",
              "      <td>0.00</td>\n",
              "      <td>0.00</td>\n",
              "      <td>1.00</td>\n",
              "      <td>0.00</td>\n",
              "      <td>...</td>\n",
              "      <td>0.00</td>\n",
              "      <td>0.98</td>\n",
              "      <td>0.00</td>\n",
              "      <td>0.00</td>\n",
              "      <td>0.00</td>\n",
              "      <td>0.00</td>\n",
              "      <td>0.06</td>\n",
              "      <td>0.01</td>\n",
              "      <td>2011.00</td>\n",
              "      <td>2015.75</td>\n",
              "    </tr>\n",
              "    <tr>\n",
              "      <th>4</th>\n",
              "      <td>0.00</td>\n",
              "      <td>1.00</td>\n",
              "      <td>0.00</td>\n",
              "      <td>0.00</td>\n",
              "      <td>0.00</td>\n",
              "      <td>0.00</td>\n",
              "      <td>1.00</td>\n",
              "      <td>0.00</td>\n",
              "      <td>1.00</td>\n",
              "      <td>0.00</td>\n",
              "      <td>...</td>\n",
              "      <td>0.00</td>\n",
              "      <td>0.01</td>\n",
              "      <td>0.00</td>\n",
              "      <td>0.01</td>\n",
              "      <td>0.03</td>\n",
              "      <td>0.90</td>\n",
              "      <td>2.20</td>\n",
              "      <td>0.37</td>\n",
              "      <td>2012.83</td>\n",
              "      <td>2017.67</td>\n",
              "    </tr>\n",
              "  </tbody>\n",
              "</table>\n",
              "<p>5 rows × 27 columns</p>\n",
              "</div>\n",
              "      <button class=\"colab-df-convert\" onclick=\"convertToInteractive('df-fa01e58e-e1f6-4a8d-9685-a7cafb63e050')\"\n",
              "              title=\"Convert this dataframe to an interactive table.\"\n",
              "              style=\"display:none;\">\n",
              "        \n",
              "  <svg xmlns=\"http://www.w3.org/2000/svg\" height=\"24px\"viewBox=\"0 0 24 24\"\n",
              "       width=\"24px\">\n",
              "    <path d=\"M0 0h24v24H0V0z\" fill=\"none\"/>\n",
              "    <path d=\"M18.56 5.44l.94 2.06.94-2.06 2.06-.94-2.06-.94-.94-2.06-.94 2.06-2.06.94zm-11 1L8.5 8.5l.94-2.06 2.06-.94-2.06-.94L8.5 2.5l-.94 2.06-2.06.94zm10 10l.94 2.06.94-2.06 2.06-.94-2.06-.94-.94-2.06-.94 2.06-2.06.94z\"/><path d=\"M17.41 7.96l-1.37-1.37c-.4-.4-.92-.59-1.43-.59-.52 0-1.04.2-1.43.59L10.3 9.45l-7.72 7.72c-.78.78-.78 2.05 0 2.83L4 21.41c.39.39.9.59 1.41.59.51 0 1.02-.2 1.41-.59l7.78-7.78 2.81-2.81c.8-.78.8-2.07 0-2.86zM5.41 20L4 18.59l7.72-7.72 1.47 1.35L5.41 20z\"/>\n",
              "  </svg>\n",
              "      </button>\n",
              "      \n",
              "  <style>\n",
              "    .colab-df-container {\n",
              "      display:flex;\n",
              "      flex-wrap:wrap;\n",
              "      gap: 12px;\n",
              "    }\n",
              "\n",
              "    .colab-df-convert {\n",
              "      background-color: #E8F0FE;\n",
              "      border: none;\n",
              "      border-radius: 50%;\n",
              "      cursor: pointer;\n",
              "      display: none;\n",
              "      fill: #1967D2;\n",
              "      height: 32px;\n",
              "      padding: 0 0 0 0;\n",
              "      width: 32px;\n",
              "    }\n",
              "\n",
              "    .colab-df-convert:hover {\n",
              "      background-color: #E2EBFA;\n",
              "      box-shadow: 0px 1px 2px rgba(60, 64, 67, 0.3), 0px 1px 3px 1px rgba(60, 64, 67, 0.15);\n",
              "      fill: #174EA6;\n",
              "    }\n",
              "\n",
              "    [theme=dark] .colab-df-convert {\n",
              "      background-color: #3B4455;\n",
              "      fill: #D2E3FC;\n",
              "    }\n",
              "\n",
              "    [theme=dark] .colab-df-convert:hover {\n",
              "      background-color: #434B5C;\n",
              "      box-shadow: 0px 1px 3px 1px rgba(0, 0, 0, 0.15);\n",
              "      filter: drop-shadow(0px 1px 2px rgba(0, 0, 0, 0.3));\n",
              "      fill: #FFFFFF;\n",
              "    }\n",
              "  </style>\n",
              "\n",
              "      <script>\n",
              "        const buttonEl =\n",
              "          document.querySelector('#df-fa01e58e-e1f6-4a8d-9685-a7cafb63e050 button.colab-df-convert');\n",
              "        buttonEl.style.display =\n",
              "          google.colab.kernel.accessAllowed ? 'block' : 'none';\n",
              "\n",
              "        async function convertToInteractive(key) {\n",
              "          const element = document.querySelector('#df-fa01e58e-e1f6-4a8d-9685-a7cafb63e050');\n",
              "          const dataTable =\n",
              "            await google.colab.kernel.invokeFunction('convertToInteractive',\n",
              "                                                     [key], {});\n",
              "          if (!dataTable) return;\n",
              "\n",
              "          const docLinkHtml = 'Like what you see? Visit the ' +\n",
              "            '<a target=\"_blank\" href=https://colab.research.google.com/notebooks/data_table.ipynb>data table notebook</a>'\n",
              "            + ' to learn more about interactive tables.';\n",
              "          element.innerHTML = '';\n",
              "          dataTable['output_type'] = 'display_data';\n",
              "          await google.colab.output.renderOutput(dataTable, element);\n",
              "          const docLink = document.createElement('div');\n",
              "          docLink.innerHTML = docLinkHtml;\n",
              "          element.appendChild(docLink);\n",
              "        }\n",
              "      </script>\n",
              "    </div>\n",
              "  </div>\n",
              "  "
            ]
          },
          "metadata": {},
          "execution_count": 20
        }
      ]
    },
    {
      "cell_type": "markdown",
      "source": [
        "Por fim normalizando as features para que fiquem na mesma escala:"
      ],
      "metadata": {
        "id": "dAkfQUrGIqzH"
      }
    },
    {
      "cell_type": "code",
      "source": [
        "from sklearn.preprocessing import MinMaxScaler\n",
        "scaler = MinMaxScaler()\n",
        "scaler.fit(X_train_oh)\n",
        "X_train_oh = pd.DataFrame(scaler.transform(X_train_oh),columns = X_train_oh .columns)"
      ],
      "metadata": {
        "id": "-9jSW_jcV0lr"
      },
      "execution_count": null,
      "outputs": []
    },
    {
      "cell_type": "code",
      "source": [
        "X_train.info()"
      ],
      "metadata": {
        "colab": {
          "base_uri": "https://localhost:8080/"
        },
        "id": "Ne2IxsApyFgG",
        "outputId": "0b1ee649-c81c-4bed-97f0-3da3b12c8635"
      },
      "execution_count": null,
      "outputs": [
        {
          "output_type": "stream",
          "name": "stdout",
          "text": [
            "<class 'pandas.core.frame.DataFrame'>\n",
            "Int64Index: 2201 entries, 3874 to 1248\n",
            "Data columns (total 19 columns):\n",
            " #   Column          Non-Null Count  Dtype   \n",
            "---  ------          --------------  -----   \n",
            " 0   C_api           2201 non-null   category\n",
            " 1   E_NEds          2201 non-null   category\n",
            " 2   E_Bpag          2201 non-null   category\n",
            " 3   NEds            2201 non-null   int64   \n",
            " 4   NDays           2201 non-null   int64   \n",
            " 5   NActDays        2201 non-null   int64   \n",
            " 6   NPages          2201 non-null   int64   \n",
            " 7   NPcreated       2201 non-null   int64   \n",
            " 8   pagesWomen      2201 non-null   float64 \n",
            " 9   wikiprojWomen   2201 non-null   float64 \n",
            " 10  ns_user         2201 non-null   float64 \n",
            " 11  ns_wikipedia    2201 non-null   float64 \n",
            " 12  ns_talk         2201 non-null   float64 \n",
            " 13  ns_userTalk     2201 non-null   float64 \n",
            " 14  ns_content      2201 non-null   float64 \n",
            " 15  NEds/NDays      2201 non-null   float64 \n",
            " 16  NActDays/NDays  2201 non-null   float64 \n",
            " 17  firstYear       2201 non-null   float64 \n",
            " 18  lastYear        2201 non-null   float64 \n",
            "dtypes: category(3), float64(11), int64(5)\n",
            "memory usage: 299.3 KB\n"
          ]
        }
      ]
    },
    {
      "cell_type": "code",
      "source": [
        "train_temp = X_train[['C_api','E_NEds','E_Bpag']]\n",
        "X_train = X_train.drop(['C_api','E_NEds','E_Bpag'],axis=1)\n",
        "scaler_n = MinMaxScaler()\n",
        "scaler_n.fit(X_train)\n",
        "X_train = pd.DataFrame(scaler_n.transform(X_train),columns = X_train .columns)\n",
        "X_train = pd.concat([X_train,train_temp],axis=1)"
      ],
      "metadata": {
        "id": "XipWUixnhSxZ"
      },
      "execution_count": null,
      "outputs": []
    },
    {
      "cell_type": "markdown",
      "source": [
        "## Aplicando os transformadores treinados apenas com o conjunto de trainemento nos de  validação e teste"
      ],
      "metadata": {
        "id": "Qc_6sjibiOb-"
      }
    },
    {
      "cell_type": "code",
      "source": [
        "X_test1 = pd.DataFrame(onehot.transform(X_test),columns=onehot.get_feature_names_out())\n",
        "#X_valid1 = pd.DataFrame(onehot.transform(X_valid),columns=onehot.get_feature_names_out())"
      ],
      "metadata": {
        "id": "2enb1bDWiQyp"
      },
      "execution_count": null,
      "outputs": []
    },
    {
      "cell_type": "code",
      "source": [
        "X_test1 = pd.DataFrame(scaler.transform(X_test1),columns = X_test1.columns)\n",
        "#X_valid1 = pd.DataFrame(scaler.transform(X_valid1),columns = X_valid1.columns)                    "
      ],
      "metadata": {
        "id": "mo-k0eOGiuoN"
      },
      "execution_count": null,
      "outputs": []
    },
    {
      "cell_type": "markdown",
      "source": [
        "Para concluir, gostariamos de salientar que o processo de treinamento de modelos de machine learning é um ciclico e requer muita experimentação. Decisões feitas nessa etapa podem ser revisitadas a partir dos resultados obtidos nas próximas etapas, em busca de um melhor modelo.<p>\n",
        "Algumas alterações como as transformações feitas quanto ao número de edições em certos contextos de seu valor absoluto para porcentagem, serão testadas para atestar se elas melhoram ou não os modelos."
      ],
      "metadata": {
        "id": "yPuSevBS3mGX"
      }
    },
    {
      "cell_type": "markdown",
      "source": [
        "# Modelagem"
      ],
      "metadata": {
        "id": "-1rC1Hrbf948"
      }
    },
    {
      "cell_type": "markdown",
      "source": [
        "## kNN"
      ],
      "metadata": {
        "id": "KZ_w-ecyFDpm"
      }
    },
    {
      "cell_type": "markdown",
      "source": [
        "Variando vários parâmetros do kNN como algoritmo utilizado e as mais diversas métricas:"
      ],
      "metadata": {
        "id": "0uqFfSUui8e-"
      }
    },
    {
      "cell_type": "code",
      "source": [
        "import numpy as np\n",
        "import matplotlib.pyplot as plt\n",
        "from sklearn.model_selection import GridSearchCV\n",
        "from sklearn.neighbors import KNeighborsClassifier\n",
        "\n",
        "# Definindo os valores para os parâmetros que queremos testar\n",
        "k_range = list(range(1, 31))\n",
        "\n",
        "# Criando um dicionário com as opções de parâmetros\n",
        "param_grid = {'n_neighbors' : k_range, 'weights': ['uniform', 'distance'],\n",
        "              'algorithm':['auto', 'ball_tree', 'kd_tree', 'brute'],\n",
        "              'metric':['minkowski','chebyshev','manhattan','euclidean',]}\n",
        "\n",
        "# Criando o objeto GridSearchCV\n",
        "knn = KNeighborsClassifier()\n",
        "grid = GridSearchCV(knn, param_grid, cv=10, scoring='accuracy')\n",
        "\n",
        "# Ajustando o modelo com os dados de treino\n",
        "grid.fit(X_train_oh, y_train)\n",
        "\n",
        "# Imprimindo os melhores parâmetros e a melhor pontuação\n",
        "print(\"Melhores parâmetros:\", grid.best_params_)\n",
        "print(\"Melhor pontuação:\", grid.best_score_)"
      ],
      "metadata": {
        "colab": {
          "base_uri": "https://localhost:8080/"
        },
        "id": "AkQglqC7f_up",
        "outputId": "b145af11-6b77-4c92-f16a-8389024c96d1"
      },
      "execution_count": null,
      "outputs": [
        {
          "output_type": "stream",
          "name": "stdout",
          "text": [
            "Melhores parâmetros: {'algorithm': 'kd_tree', 'metric': 'chebyshev', 'n_neighbors': 25, 'weights': 'distance'}\n",
            "Melhor pontuação: 0.949572192513369\n"
          ]
        }
      ]
    },
    {
      "cell_type": "markdown",
      "source": [
        "Aqui podemos ver que o 'mahalanobis' não é compatível com o algoritmo 'kd_tree'"
      ],
      "metadata": {
        "id": "kxcjrflNeW5_"
      }
    },
    {
      "cell_type": "code",
      "source": [
        "import sklearn.neighbors\n",
        "sorted(sklearn.neighbors.VALID_METRICS['kd_tree'])"
      ],
      "metadata": {
        "colab": {
          "base_uri": "https://localhost:8080/"
        },
        "id": "aOeUTPalB9QT",
        "outputId": "05f52246-7781-443c-f142-1a847e22b09a"
      },
      "execution_count": null,
      "outputs": [
        {
          "output_type": "execute_result",
          "data": {
            "text/plain": [
              "['chebyshev',\n",
              " 'cityblock',\n",
              " 'euclidean',\n",
              " 'infinity',\n",
              " 'l1',\n",
              " 'l2',\n",
              " 'manhattan',\n",
              " 'minkowski',\n",
              " 'p']"
            ]
          },
          "metadata": {},
          "execution_count": 121
        }
      ]
    },
    {
      "cell_type": "markdown",
      "source": [
        "Rodando o Gridsearch agora com parâmetros específicos para a métrica 'mahalanobis', tirando o algoritmo 'kd_tree' por não serem compatíveis"
      ],
      "metadata": {
        "id": "35Vx0Vm0ENK-"
      }
    },
    {
      "cell_type": "code",
      "source": [
        "from sklearn.covariance import LedoitWolf\n",
        "cov = LedoitWolf().fit(X_train_oh).covariance_\n",
        "param_grid_2 = {'n_neighbors' : k_range, 'weights': ['uniform', 'distance'],\n",
        "              'algorithm':['auto', 'ball_tree', 'brute'],\n",
        "              'metric':['mahalanobis'], 'metric_params': [{'VI': cov}]}\n",
        "\n",
        "\n",
        "\n",
        "knn_2 = KNeighborsClassifier()\n",
        "grid_2 = GridSearchCV(knn_2, param_grid_2, cv=10, scoring='accuracy')\n",
        "\n",
        "# Ajustando o modelo com os dados de treino\n",
        "grid_2.fit(X_train_oh, y_train)\n",
        "\n",
        "# Imprimindo os melhores parâmetros e a melhor pontuação\n",
        "print(\"Melhores parâmetros:\", grid.best_params_)\n",
        "print(\"Melhor pontuação:\", grid.best_score_)"
      ],
      "metadata": {
        "colab": {
          "base_uri": "https://localhost:8080/"
        },
        "id": "yDNwcxzm-rkI",
        "outputId": "3d50a1fb-ea7d-42c2-e808-7ee46139363c"
      },
      "execution_count": null,
      "outputs": [
        {
          "output_type": "stream",
          "name": "stdout",
          "text": [
            "Melhores parâmetros: {'algorithm': 'kd_tree', 'metric': 'chebyshev', 'n_neighbors': 25, 'weights': 'distance'}\n",
            "Melhor pontuação: 0.949572192513369\n"
          ]
        }
      ]
    },
    {
      "cell_type": "markdown",
      "source": [
        "## Decision Tree"
      ],
      "metadata": {
        "id": "hwBNeNfFFLUs"
      }
    },
    {
      "cell_type": "code",
      "source": [
        "from sklearn.tree import DecisionTreeClassifier\n",
        "from sklearn.model_selection import GridSearchCV\n",
        "import matplotlib.pyplot as plt\n",
        "import seaborn as sns\n",
        "import numpy as np\n",
        "\n",
        "# Define os parâmetros a serem testados\n",
        "param_grid = {'max_depth': np.arange(1, 11, 2),\n",
        "              'min_samples_leaf': np.arange(5, 51,5),\n",
        "              'criterion': ['gini', 'entropy','log_loss'],\n",
        "              'splitter': ['best','random'],\n",
        "              'min_impurity_decrease': [0.0, 0.1, 0.2, 0.3],\n",
        "              'random_state':[10]}\n",
        "\n",
        "# Cria o modelo de árvore de decisão\n",
        "tree_model = DecisionTreeClassifier()\n",
        "\n",
        "# Realiza a busca de parâmetros usando a técnica de validação cruzada\n",
        "grid_search = GridSearchCV(tree_model, param_grid, cv=10)\n",
        "grid_search.fit(X_train_oh, y_train)\n",
        "\n",
        "# Imprime os melhores parâmetros encontrados\n",
        "print(\"Melhores parâmetros: \", grid_search.best_params_)\n",
        "print(\"Melhor acurácia: \", grid_search.best_score_)\n",
        "\n"
      ],
      "metadata": {
        "colab": {
          "base_uri": "https://localhost:8080/"
        },
        "id": "xvCBWphQFgaN",
        "outputId": "ac8786ca-6309-4ec1-e734-8ec141ce7c38"
      },
      "execution_count": null,
      "outputs": [
        {
          "output_type": "stream",
          "name": "stdout",
          "text": [
            "Melhores parâmetros:  {'criterion': 'gini', 'max_depth': 7, 'min_impurity_decrease': 0.0, 'min_samples_leaf': 25, 'random_state': 10, 'splitter': 'best'}\n",
            "Melhor acurácia:  0.9491135335252983\n"
          ]
        }
      ]
    },
    {
      "cell_type": "markdown",
      "source": [
        "Vamos refinar a busca em torno do melhor 'min_sample_leaf', 'max_depth' e 'min_impurity_decrease':"
      ],
      "metadata": {
        "id": "LyBNoKpABXYo"
      }
    },
    {
      "cell_type": "code",
      "source": [
        "from sklearn.tree import DecisionTreeClassifier\n",
        "from sklearn.model_selection import GridSearchCV\n",
        "import matplotlib.pyplot as plt\n",
        "import seaborn as sns\n",
        "import numpy as np\n",
        "\n",
        "# Define os parâmetros a serem testados\n",
        "param_grid = {'max_depth': np.arange(5, 9),\n",
        "              'min_samples_leaf': np.arange(22, 29),\n",
        "              'criterion': ['gini'],\n",
        "              'min_impurity_decrease': [0.0, 0.025, 0.05, 0.075],\n",
        "              'random_state':[10]}\n",
        "\n",
        "# Cria o modelo de árvore de decisão\n",
        "tree_model = DecisionTreeClassifier()\n",
        "\n",
        "# Realiza a busca de parâmetros usando a técnica de validação cruzada\n",
        "grid_search = GridSearchCV(tree_model, param_grid, cv=10)\n",
        "grid_search.fit(X_train_oh, y_train)\n",
        "\n",
        "# Imprime os melhores parâmetros encontrados\n",
        "print(\"Melhores parâmetros: \", grid_search.best_params_)\n",
        "print(\"Melhor acurácia: \", grid_search.best_score_)\n",
        "\n"
      ],
      "metadata": {
        "colab": {
          "base_uri": "https://localhost:8080/"
        },
        "id": "dhD9HbjhBU-T",
        "outputId": "02ebea0c-3ac6-4b11-dec4-c8476ce7c273"
      },
      "execution_count": null,
      "outputs": [
        {
          "output_type": "stream",
          "name": "stdout",
          "text": [
            "Melhores parâmetros:  {'criterion': 'gini', 'max_depth': 6, 'min_impurity_decrease': 0.0, 'min_samples_leaf': 25, 'random_state': 10}\n",
            "Melhor acurácia:  0.9491135335252983\n"
          ]
        }
      ]
    },
    {
      "cell_type": "markdown",
      "source": [
        "Tivemos os mesmos resultados para acurácia, logo podemos concluir que estamos próximos do limite do que o algoritmo pode nos dar. Abaixo podemos ver a árvore gerada."
      ],
      "metadata": {
        "id": "utQwj0crEYRi"
      }
    },
    {
      "cell_type": "code",
      "source": [
        "from sklearn.tree import export_graphviz\n",
        "from sklearn import tree\n",
        "import graphviz\n",
        "\n",
        "best_tree = grid_search.best_estimator_\n",
        "\n",
        "plt.figure(figsize=(15, 8))\n",
        "tree.plot_tree(best_tree, filled=True, feature_names=X_train_oh.columns)\n",
        "plt.show()\n"
      ],
      "metadata": {
        "colab": {
          "base_uri": "https://localhost:8080/",
          "height": 653
        },
        "id": "e1M17NeB29Zz",
        "outputId": "4d07f23e-1b17-4547-8d4c-d4ca57a74132"
      },
      "execution_count": null,
      "outputs": [
        {
          "output_type": "display_data",
          "data": {
            "text/plain": [
              "<Figure size 1500x800 with 1 Axes>"
            ],
            "image/png": "[encoded data removed]"
          },
          "metadata": {}
        }
      ]
    },
    {
      "cell_type": "markdown",
      "source": [
        "Observando a árvore, podemos perceber quais foram os atributos mais significativos na classificação. O primeiro é se C_api_female (se o usuário se identificou como mulher), depois o C_api_unknown (se não se classificou) e em terceiro lugar NDays (número de dias ativo como editor)."
      ],
      "metadata": {
        "id": "N_f97XS1E9rO"
      }
    },
    {
      "cell_type": "markdown",
      "source": [
        "## SVM"
      ],
      "metadata": {
        "id": "vqiFzBikFPp5"
      }
    },
    {
      "cell_type": "code",
      "source": [
        "from sklearn.svm import SVC\n",
        "\n",
        "param_grid = {'C': [0.01, 0.1, 1, 10, 100],\n",
        "              'kernel': ['linear', 'poly', 'rbf', 'sigmoid'],\n",
        "              'gamma': ['scale', 'auto'],\n",
        "              'random_state':[10]}\n",
        "\n",
        "# criando o modelo SVM\n",
        "svm = SVC()\n",
        "\n",
        "# criando um objeto GridSearchCV para buscar os melhores parâmetros\n",
        "grid_search = GridSearchCV(svm, param_grid, cv=10, n_jobs=-1)\n",
        "\n",
        "# treinando o modelo com a busca de parâmetros\n",
        "grid_search.fit(X_train_oh, y_train)\n",
        "\n",
        "    \n",
        "# extraindo os melhores parâmetros encontrados pela busca\n",
        "best_params = grid_search.best_params_\n",
        "print(f'Melhores parâmetros: {best_params}')\n",
        "print(\"Melhor acurácia: \", grid_search.best_score_)"
      ],
      "metadata": {
        "colab": {
          "base_uri": "https://localhost:8080/"
        },
        "id": "blkBpvyxHkig",
        "outputId": "2d95a18d-3f7b-40ff-d6d2-a8c164e5974e"
      },
      "execution_count": null,
      "outputs": [
        {
          "output_type": "stream",
          "name": "stdout",
          "text": [
            "Melhores parâmetros: {'C': 1, 'gamma': 'scale', 'kernel': 'poly', 'random_state': 10}\n",
            "Melhor acurácia:  0.948663101604278\n"
          ]
        }
      ]
    },
    {
      "cell_type": "markdown",
      "source": [
        "Vamos variar os parâmetros de 'C' em torno do melhor obitido para tentar encontrar um melhor valor."
      ],
      "metadata": {
        "id": "RlBBWuLjHqa9"
      }
    },
    {
      "cell_type": "code",
      "source": [
        "from sklearn.svm import SVC\n",
        "\n",
        "param_grid = {'C': np.arange(.5, 1.51, 0.05),\n",
        "              'kernel': ['poly'],\n",
        "              'gamma': ['scale'],\n",
        "              'random_state':[10]}\n",
        "\n",
        "# criando o modelo SVM\n",
        "svm = SVC()\n",
        "\n",
        "# criando um objeto GridSearchCV para buscar os melhores parâmetros\n",
        "grid_search = GridSearchCV(svm, param_grid, cv=10, n_jobs=-1)\n",
        "\n",
        "# treinando o modelo com a busca de parâmetros\n",
        "grid_search.fit(X_train_oh, y_train)\n",
        "    \n",
        "# extraindo os melhores parâmetros encontrados pela busca\n",
        "best_params = grid_search.best_params_\n",
        "print(f'Melhores parâmetros: {best_params}')\n",
        "print(\"Melhor acurácia: \", grid_search.best_score_)"
      ],
      "metadata": {
        "colab": {
          "base_uri": "https://localhost:8080/"
        },
        "id": "BadKF_EgHpQI",
        "outputId": "2a2f1169-687c-4df2-85fe-5e25f53e09de"
      },
      "execution_count": null,
      "outputs": [
        {
          "output_type": "stream",
          "name": "stdout",
          "text": [
            "Melhores parâmetros: {'C': 0.7000000000000002, 'gamma': 'scale', 'kernel': 'poly', 'random_state': 10}\n",
            "Melhor acurácia:  0.9491176470588234\n"
          ]
        }
      ]
    },
    {
      "cell_type": "markdown",
      "source": [
        "Obtivemos uma leve melhora na acurácia, o que mostra que já estamos perto do limite do que esse algoritmo pode nos dar de modelo."
      ],
      "metadata": {
        "id": "0_AQMcjsIBvb"
      }
    },
    {
      "cell_type": "markdown",
      "source": [
        "## Random Forest"
      ],
      "metadata": {
        "id": "MGAQJ_z5FRqZ"
      }
    },
    {
      "cell_type": "markdown",
      "source": [
        "O método da Random Forest, por gerar diversas árvores precisa de mais tempo para seu treino, por isso utilizamos o Random Search no lugar do Grid Search para acelerar nossas buscas por melhores parâmetros."
      ],
      "metadata": {
        "id": "w0UY28oEI-Da"
      }
    },
    {
      "cell_type": "code",
      "source": [
        "from sklearn.ensemble import RandomForestClassifier\n",
        "from sklearn.model_selection import RandomizedSearchCV\n",
        "\n",
        "param_grid = {\n",
        "    'n_estimators': [50, 100, 150, 200],\n",
        "    'max_depth': np.arange(1, 11, 2),\n",
        "    'min_impurity_decrease': [0.0, 0.1, 0.2, 0.3],\n",
        "    'min_samples_leaf': np.arange(5, 51,5),\n",
        "    'max_features': [.1, .3, .5, .7, .9],\n",
        "    'bootstrap': [True, False],\n",
        "    'random_state':[10]\n",
        "}\n",
        "\n",
        "# Cria o modelo de classificação\n",
        "rfc = RandomForestClassifier()\n",
        "\n",
        "# Realiza a busca de parâmetros com cross validation\n",
        "grid_search = RandomizedSearchCV(estimator=rfc, param_distributions=param_grid,  n_iter=100, cv=10)\n",
        "grid_search.fit(X_train_oh, y_train)\n",
        "\n",
        "# Exibe o melhor conjunto de parâmetros e a acurácia correspondente\n",
        "print(f\"Melhores parâmetros: {grid_search.best_params_}\")\n",
        "print(f\"Acurácia: {grid_search.best_score_}\")"
      ],
      "metadata": {
        "colab": {
          "base_uri": "https://localhost:8080/"
        },
        "id": "ZDvCJDHvIXGA",
        "outputId": "d5fd2bca-ba9c-4715-8a13-3a6cfe8fc383"
      },
      "execution_count": null,
      "outputs": [
        {
          "output_type": "stream",
          "name": "stdout",
          "text": [
            "Melhores parâmetros: {'random_state': 10, 'n_estimators': 50, 'min_samples_leaf': 10, 'min_impurity_decrease': 0.0, 'max_features': 0.7, 'max_depth': 7, 'bootstrap': True}\n",
            "Acurácia: 0.9486610448375155\n"
          ]
        }
      ]
    },
    {
      "cell_type": "markdown",
      "source": [
        "Assim como fizemos nos outros métodos, vamos variar alguns parâmetros me busca de melhores resultados."
      ],
      "metadata": {
        "id": "mTBGpY6NSHsn"
      }
    },
    {
      "cell_type": "code",
      "source": [
        "from sklearn.ensemble import RandomForestClassifier\n",
        "from sklearn.model_selection import RandomizedSearchCV\n",
        "\n",
        "param_grid = {\n",
        "    'n_estimators': [50, 100, 150, 200],\n",
        "    'max_depth': np.arange(5, 10, 1),\n",
        "    'min_impurity_decrease': [0.0],\n",
        "    'min_samples_leaf': np.arange(10, 30,2),\n",
        "    'max_features': [.6, .7, .8],\n",
        "    'bootstrap': [True, False],\n",
        "    'random_state':[10]\n",
        "}\n",
        "\n",
        "\n",
        "# Cria o modelo de classificação\n",
        "rfc = RandomForestClassifier()\n",
        "\n",
        "# Realiza a busca de parâmetros com cross validation\n",
        "grid_search = RandomizedSearchCV(estimator=rfc, param_distributions=param_grid,  n_iter=30, cv=10)\n",
        "grid_search.fit(X_train_oh, y_train)\n",
        "\n",
        "# Exibe o melhor conjunto de parâmetros e a acurácia correspondente\n",
        "print(f\"Melhores parâmetros: {grid_search.best_params_}\")\n",
        "print(f\"Acurácia: {grid_search.best_score_}\")"
      ],
      "metadata": {
        "colab": {
          "base_uri": "https://localhost:8080/"
        },
        "id": "yZfI3MDlMtA-",
        "outputId": "e625a77d-035e-4f9c-957a-2ce4cdd85697"
      },
      "execution_count": null,
      "outputs": [
        {
          "output_type": "stream",
          "name": "stdout",
          "text": [
            "Melhores parâmetros: {'random_state': 10, 'n_estimators': 50, 'min_samples_leaf': 16, 'min_impurity_decrease': 0.0, 'max_features': 0.7, 'max_depth': 8, 'bootstrap': True}\n",
            "Acurácia: 0.9495680789798439\n"
          ]
        }
      ]
    },
    {
      "cell_type": "markdown",
      "source": [
        "## LVQ"
      ],
      "metadata": {
        "id": "ABxxwVgAFGgg"
      }
    },
    {
      "cell_type": "code",
      "source": [
        "pip install sklearn_lvq"
      ],
      "metadata": {
        "colab": {
          "base_uri": "https://localhost:8080/"
        },
        "id": "_p5EBx1bkJda",
        "outputId": "859dfed4-2562-493a-f6dc-dbd91ba66751"
      },
      "execution_count": null,
      "outputs": [
        {
          "output_type": "stream",
          "name": "stdout",
          "text": [
            "Looking in indexes: https://pypi.org/simple, https://us-python.pkg.dev/colab-wheels/public/simple/\n",
            "Requirement already satisfied: sklearn_lvq in /usr/local/lib/python3.9/dist-packages (1.1.1)\n",
            "Requirement already satisfied: scikit-learn>=0.17 in /usr/local/lib/python3.9/dist-packages (from sklearn_lvq) (1.2.2)\n",
            "Requirement already satisfied: numpy>=1.9.1 in /usr/local/lib/python3.9/dist-packages (from sklearn_lvq) (1.22.4)\n",
            "Requirement already satisfied: joblib>=1.1.1 in /usr/local/lib/python3.9/dist-packages (from scikit-learn>=0.17->sklearn_lvq) (1.2.0)\n",
            "Requirement already satisfied: threadpoolctl>=2.0.0 in /usr/local/lib/python3.9/dist-packages (from scikit-learn>=0.17->sklearn_lvq) (3.1.0)\n",
            "Requirement already satisfied: scipy>=1.3.2 in /usr/local/lib/python3.9/dist-packages (from scikit-learn>=0.17->sklearn_lvq) (1.10.1)\n"
          ]
        }
      ]
    },
    {
      "cell_type": "markdown",
      "source": [
        "Variando alguns parâmetros do LVQ como grau de adaptação dos protótipos às amostras e definição de quantos prorótipos para cada classe"
      ],
      "metadata": {
        "id": "sTrC90SajNk1"
      }
    },
    {
      "cell_type": "code",
      "source": [
        "from sklearn_lvq import GlvqModel\n",
        "\n",
        "# Definindo os parâmetros a serem testados\n",
        "param_grid = {\n",
        "    'max_iter':[200,400,1000,2500],\n",
        "    'prototypes_per_class': [1, 2, 3],\n",
        "    'beta': [1, 2, 5]\n",
        "}\n",
        "\n",
        "# Criando o modelo GLVQ\n",
        "model = GlvqModel()\n",
        "\n",
        "# Criando o objeto de busca de parâmetros com validação cruzada\n",
        "grid_search = GridSearchCV(model, param_grid=param_grid, cv=10)\n",
        "\n",
        "# Realizando a busca de parâmetros com validação cruzada\n",
        "grid_search.fit(X_train_oh, y_train)\n",
        "\n",
        "# Imprimindo os melhores parâmetros encontrados\n",
        "print(\"Melhores parâmetros:\", grid_search.best_params_)\n",
        "print(\"Melhor pontuação:\", grid_search.best_score_)\n"
      ],
      "metadata": {
        "colab": {
          "base_uri": "https://localhost:8080/"
        },
        "id": "0qkIQTIYjqUp",
        "outputId": "d61f9102-0f4f-4aff-a9af-f8c8173bdc05"
      },
      "execution_count": null,
      "outputs": [
        {
          "output_type": "stream",
          "name": "stdout",
          "text": [
            "Melhores parâmetros: {'beta': 1, 'max_iter': 200, 'prototypes_per_class': 1}\n",
            "Melhor pontuação: 0.887778691896339\n"
          ]
        }
      ]
    },
    {
      "cell_type": "markdown",
      "source": [
        "Usando o label encoder nas classes para usar outra ferramenta do LVQ"
      ],
      "metadata": {
        "id": "7omMxG2ejzi_"
      }
    },
    {
      "cell_type": "code",
      "source": [
        "from sklearn.preprocessing import LabelEncoder\n",
        "\n",
        "le = LabelEncoder()\n",
        "y_trainle = le.fit_transform(y_train)"
      ],
      "metadata": {
        "id": "stY7xqT8Oi_i"
      },
      "execution_count": null,
      "outputs": []
    },
    {
      "cell_type": "code",
      "source": [
        "counts = np.bincount(y_trainle)\n",
        "num_zeros = counts[0]\n",
        "num_ones = counts[1]\n",
        "\n",
        "print(f\"Número de ocorrências de 0: {num_zeros}\")\n",
        "print(f\"Número de ocorrências de 1: {num_ones}\")"
      ],
      "metadata": {
        "colab": {
          "base_uri": "https://localhost:8080/"
        },
        "id": "JPMuALa7O5-i",
        "outputId": "dc21d6c2-a86c-4501-a50e-d87d2dd7e979"
      },
      "execution_count": null,
      "outputs": [
        {
          "output_type": "stream",
          "name": "stdout",
          "text": [
            "Número de ocorrências de 0: 247\n",
            "Número de ocorrências de 1: 1954\n"
          ]
        }
      ]
    },
    {
      "cell_type": "markdown",
      "source": [
        "Dando mais ênfase no erro de predição em que classifica mulher como homem, já que temos muito mais homens em nosso dataset:"
      ],
      "metadata": {
        "id": "WJeWLGN8PQL4"
      }
    },
    {
      "cell_type": "code",
      "source": [
        "from sklearn_lvq import GlvqModel\n",
        "\n",
        "# Definindo os parâmetros a serem testados\n",
        "param_grid = {\n",
        "    'max_iter':[200,400],\n",
        "    'prototypes_per_class': [1, 2],\n",
        "    'beta': [1, 2, 5],\n",
        "    'c': [[[0,1, 2], [1,0, 1]],[[0,1,1],[1,0,1]]]\n",
        "}\n",
        "\n",
        "# Criando o modelo GLVQ\n",
        "model2 = GlvqModel()\n",
        "\n",
        "# Criando o objeto de busca de parâmetros com validação cruzada\n",
        "grid_search2 = GridSearchCV(model2, param_grid=param_grid, cv=10)\n",
        "\n",
        "# Realizando a busca de parâmetros com validação cruzada\n",
        "grid_search2.fit(X_train_oh, y_trainle)\n",
        "\n",
        "# Imprimindo os melhores parâmetros encontrados\n",
        "print(\"Melhores parâmetros:\", grid_search2.best_params_)\n",
        "print(\"Melhor pontuação:\", grid_search2.best_score_)\n"
      ],
      "metadata": {
        "colab": {
          "base_uri": "https://localhost:8080/"
        },
        "id": "B0KVhSCrFBBW",
        "outputId": "eda4acbd-e068-44f2-cdfc-2a07f48cb202"
      },
      "execution_count": null,
      "outputs": [
        {
          "output_type": "stream",
          "name": "stdout",
          "text": [
            "Melhores parâmetros: {'beta': 1, 'c': [[0, 1, 2], [1, 0, 1]], 'max_iter': 200, 'prototypes_per_class': 1}\n",
            "Melhor pontuação: 0.887778691896339\n"
          ]
        }
      ]
    },
    {
      "cell_type": "markdown",
      "source": [
        "Dando mais peso a esse erro foi visto como melhor."
      ],
      "metadata": {
        "id": "8WPMgCJaiYvq"
      }
    },
    {
      "cell_type": "markdown",
      "source": [
        "## MLP"
      ],
      "metadata": {
        "id": "3VgcX4G6FUA-"
      }
    },
    {
      "cell_type": "code",
      "source": [
        "from sklearn.neural_network import MLPClassifier\n",
        "from sklearn.model_selection import RandomizedSearchCV\n",
        "\n",
        "params = {\n",
        "    'hidden_layer_sizes': [(20,), (50,50), (100,)],\n",
        "    'activation': ['identity','logistic', 'tanh', 'relu'],\n",
        "    'alpha': [0.0001, 0.001, 0.01],\n",
        "    'learning_rate_init': [0.001, 0.01, 0.1],\n",
        "    'max_iter': [600,1000], # Não converge com o padrão 200\n",
        "    'learning_rate': ['constant', 'adaptive']\n",
        "    }\n",
        "\n",
        "mlp = MLPClassifier()\n",
        "rf_random = RandomizedSearchCV(estimator = mlp, param_distributions = params, n_iter = 40, cv = 10)\n",
        "\n",
        "\n",
        "rf_random.fit(X_train_oh, y_train)\n",
        "print(\"Melhores parâmetros:\", rf_random.best_params_)\n",
        "print(\"Melhor pontuação:\", rf_random.best_score_)"
      ],
      "metadata": {
        "colab": {
          "base_uri": "https://localhost:8080/"
        },
        "id": "0cXvM4NdTfjS",
        "outputId": "f4c0a2b7-a338-4185-9965-470b5e6eade0"
      },
      "execution_count": null,
      "outputs": [
        {
          "output_type": "stream",
          "name": "stdout",
          "text": [
            "Melhores parâmetros: {'max_iter': 1000, 'learning_rate_init': 0.001, 'learning_rate': 'constant', 'hidden_layer_sizes': (50, 50), 'alpha': 0.01, 'activation': 'tanh'}\n",
            "Melhor pontuação: 0.9482085561497327\n"
          ]
        }
      ]
    },
    {
      "cell_type": "markdown",
      "source": [
        "Rodando agora de forma mais robusta com mais camadas e com um teto maior de iterações fixo"
      ],
      "metadata": {
        "id": "dNSiKebYcFZH"
      }
    },
    {
      "cell_type": "code",
      "source": [
        "from sklearn.neural_network import MLPClassifier\n",
        "from sklearn.model_selection import RandomizedSearchCV\n",
        "\n",
        "params2 = {\n",
        "    'hidden_layer_sizes': [(50,50), (20,80,20)],\n",
        "    'activation': ['tanh'],\n",
        "    'alpha': [0.0001, 0.001],\n",
        "    'learning_rate_init': [0.001, 0.01, 0.1],\n",
        "    'max_iter': [1000],\n",
        "    'learning_rate': ['constant', 'adaptive']\n",
        "    }\n",
        "\n",
        "mlp2 = MLPClassifier()\n",
        "rf_random2 = RandomizedSearchCV(estimator = mlp2, param_distributions = params2, n_iter = 40, cv = 10,verbose=10)\n",
        "\n",
        "\n",
        "rf_random2.fit(X_train_oh, y_train)\n",
        "print(\"Melhores parâmetros:\", rf_random2.best_params_)\n",
        "print(\"Melhor pontuação:\", rf_random2.best_score_)"
      ],
      "metadata": {
        "colab": {
          "base_uri": "https://localhost:8080/"
        },
        "id": "UFvd8LMYXFAW",
        "outputId": "ff6cda68-9665-4a34-9723-e7025e08b19b"
      },
      "execution_count": null,
      "outputs": [
        {
          "output_type": "stream",
          "name": "stderr",
          "text": [
            "/usr/local/lib/python3.9/dist-packages/sklearn/model_selection/_search.py:305: UserWarning: The total space of parameters 24 is smaller than n_iter=40. Running 24 iterations. For exhaustive searches, use GridSearchCV.\n",
            "  warnings.warn(\n"
          ]
        },
        {
          "output_type": "stream",
          "name": "stdout",
          "text": [
            "Fitting 10 folds for each of 24 candidates, totalling 240 fits\n",
            "[CV 1/10; 1/24] START activation=tanh, alpha=0.0001, hidden_layer_sizes=(50, 50), learning_rate=constant, learning_rate_init=0.001, max_iter=1000\n",
            "[CV 1/10; 1/24] END activation=tanh, alpha=0.0001, hidden_layer_sizes=(50, 50), learning_rate=constant, learning_rate_init=0.001, max_iter=1000;, score=0.937 total time=   4.4s\n",
            "[CV 2/10; 1/24] START activation=tanh, alpha=0.0001, hidden_layer_sizes=(50, 50), learning_rate=constant, learning_rate_init=0.001, max_iter=1000\n",
            "[CV 2/10; 1/24] END activation=tanh, alpha=0.0001, hidden_layer_sizes=(50, 50), learning_rate=constant, learning_rate_init=0.001, max_iter=1000;, score=0.964 total time=   2.5s\n",
            "[CV 3/10; 1/24] START activation=tanh, alpha=0.0001, hidden_layer_sizes=(50, 50), learning_rate=constant, learning_rate_init=0.001, max_iter=1000\n",
            "[CV 3/10; 1/24] END activation=tanh, alpha=0.0001, hidden_layer_sizes=(50, 50), learning_rate=constant, learning_rate_init=0.001, max_iter=1000;, score=0.941 total time=   5.4s\n",
            "[CV 4/10; 1/24] START activation=tanh, alpha=0.0001, hidden_layer_sizes=(50, 50), learning_rate=constant, learning_rate_init=0.001, max_iter=1000\n",
            "[CV 4/10; 1/24] END activation=tanh, alpha=0.0001, hidden_layer_sizes=(50, 50), learning_rate=constant, learning_rate_init=0.001, max_iter=1000;, score=0.973 total time=   5.3s\n",
            "[CV 5/10; 1/24] START activation=tanh, alpha=0.0001, hidden_layer_sizes=(50, 50), learning_rate=constant, learning_rate_init=0.001, max_iter=1000\n",
            "[CV 5/10; 1/24] END activation=tanh, alpha=0.0001, hidden_layer_sizes=(50, 50), learning_rate=constant, learning_rate_init=0.001, max_iter=1000;, score=0.941 total time=   2.9s\n",
            "[CV 6/10; 1/24] START activation=tanh, alpha=0.0001, hidden_layer_sizes=(50, 50), learning_rate=constant, learning_rate_init=0.001, max_iter=1000\n",
            "[CV 6/10; 1/24] END activation=tanh, alpha=0.0001, hidden_layer_sizes=(50, 50), learning_rate=constant, learning_rate_init=0.001, max_iter=1000;, score=0.918 total time=   3.4s\n",
            "[CV 7/10; 1/24] START activation=tanh, alpha=0.0001, hidden_layer_sizes=(50, 50), learning_rate=constant, learning_rate_init=0.001, max_iter=1000\n",
            "[CV 7/10; 1/24] END activation=tanh, alpha=0.0001, hidden_layer_sizes=(50, 50), learning_rate=constant, learning_rate_init=0.001, max_iter=1000;, score=0.945 total time=   4.4s\n",
            "[CV 8/10; 1/24] START activation=tanh, alpha=0.0001, hidden_layer_sizes=(50, 50), learning_rate=constant, learning_rate_init=0.001, max_iter=1000\n",
            "[CV 8/10; 1/24] END activation=tanh, alpha=0.0001, hidden_layer_sizes=(50, 50), learning_rate=constant, learning_rate_init=0.001, max_iter=1000;, score=0.950 total time=   2.9s\n",
            "[CV 9/10; 1/24] START activation=tanh, alpha=0.0001, hidden_layer_sizes=(50, 50), learning_rate=constant, learning_rate_init=0.001, max_iter=1000\n",
            "[CV 9/10; 1/24] END activation=tanh, alpha=0.0001, hidden_layer_sizes=(50, 50), learning_rate=constant, learning_rate_init=0.001, max_iter=1000;, score=0.941 total time=   4.4s\n",
            "[CV 10/10; 1/24] START activation=tanh, alpha=0.0001, hidden_layer_sizes=(50, 50), learning_rate=constant, learning_rate_init=0.001, max_iter=1000\n",
            "[CV 10/10; 1/24] END activation=tanh, alpha=0.0001, hidden_layer_sizes=(50, 50), learning_rate=constant, learning_rate_init=0.001, max_iter=1000;, score=0.945 total time=   3.3s\n",
            "[CV 1/10; 2/24] START activation=tanh, alpha=0.0001, hidden_layer_sizes=(50, 50), learning_rate=constant, learning_rate_init=0.01, max_iter=1000\n",
            "[CV 1/10; 2/24] END activation=tanh, alpha=0.0001, hidden_layer_sizes=(50, 50), learning_rate=constant, learning_rate_init=0.01, max_iter=1000;, score=0.910 total time=   5.0s\n",
            "[CV 2/10; 2/24] START activation=tanh, alpha=0.0001, hidden_layer_sizes=(50, 50), learning_rate=constant, learning_rate_init=0.01, max_iter=1000\n",
            "[CV 2/10; 2/24] END activation=tanh, alpha=0.0001, hidden_layer_sizes=(50, 50), learning_rate=constant, learning_rate_init=0.01, max_iter=1000;, score=0.964 total time=   9.3s\n",
            "[CV 3/10; 2/24] START activation=tanh, alpha=0.0001, hidden_layer_sizes=(50, 50), learning_rate=constant, learning_rate_init=0.01, max_iter=1000\n",
            "[CV 3/10; 2/24] END activation=tanh, alpha=0.0001, hidden_layer_sizes=(50, 50), learning_rate=constant, learning_rate_init=0.01, max_iter=1000;, score=0.936 total time=   6.9s\n",
            "[CV 4/10; 2/24] START activation=tanh, alpha=0.0001, hidden_layer_sizes=(50, 50), learning_rate=constant, learning_rate_init=0.01, max_iter=1000\n",
            "[CV 4/10; 2/24] END activation=tanh, alpha=0.0001, hidden_layer_sizes=(50, 50), learning_rate=constant, learning_rate_init=0.01, max_iter=1000;, score=0.923 total time=   8.7s\n",
            "[CV 5/10; 2/24] START activation=tanh, alpha=0.0001, hidden_layer_sizes=(50, 50), learning_rate=constant, learning_rate_init=0.01, max_iter=1000\n",
            "[CV 5/10; 2/24] END activation=tanh, alpha=0.0001, hidden_layer_sizes=(50, 50), learning_rate=constant, learning_rate_init=0.01, max_iter=1000;, score=0.941 total time=   6.2s\n",
            "[CV 6/10; 2/24] START activation=tanh, alpha=0.0001, hidden_layer_sizes=(50, 50), learning_rate=constant, learning_rate_init=0.01, max_iter=1000\n",
            "[CV 6/10; 2/24] END activation=tanh, alpha=0.0001, hidden_layer_sizes=(50, 50), learning_rate=constant, learning_rate_init=0.01, max_iter=1000;, score=0.900 total time=   9.2s\n",
            "[CV 7/10; 2/24] START activation=tanh, alpha=0.0001, hidden_layer_sizes=(50, 50), learning_rate=constant, learning_rate_init=0.01, max_iter=1000\n",
            "[CV 7/10; 2/24] END activation=tanh, alpha=0.0001, hidden_layer_sizes=(50, 50), learning_rate=constant, learning_rate_init=0.01, max_iter=1000;, score=0.923 total time=   6.8s\n",
            "[CV 8/10; 2/24] START activation=tanh, alpha=0.0001, hidden_layer_sizes=(50, 50), learning_rate=constant, learning_rate_init=0.01, max_iter=1000\n",
            "[CV 8/10; 2/24] END activation=tanh, alpha=0.0001, hidden_layer_sizes=(50, 50), learning_rate=constant, learning_rate_init=0.01, max_iter=1000;, score=0.927 total time=   7.9s\n",
            "[CV 9/10; 2/24] START activation=tanh, alpha=0.0001, hidden_layer_sizes=(50, 50), learning_rate=constant, learning_rate_init=0.01, max_iter=1000\n",
            "[CV 9/10; 2/24] END activation=tanh, alpha=0.0001, hidden_layer_sizes=(50, 50), learning_rate=constant, learning_rate_init=0.01, max_iter=1000;, score=0.927 total time=   7.9s\n",
            "[CV 10/10; 2/24] START activation=tanh, alpha=0.0001, hidden_layer_sizes=(50, 50), learning_rate=constant, learning_rate_init=0.01, max_iter=1000\n",
            "[CV 10/10; 2/24] END activation=tanh, alpha=0.0001, hidden_layer_sizes=(50, 50), learning_rate=constant, learning_rate_init=0.01, max_iter=1000;, score=0.923 total time=   6.0s\n",
            "[CV 1/10; 3/24] START activation=tanh, alpha=0.0001, hidden_layer_sizes=(50, 50), learning_rate=constant, learning_rate_init=0.1, max_iter=1000\n",
            "[CV 1/10; 3/24] END activation=tanh, alpha=0.0001, hidden_layer_sizes=(50, 50), learning_rate=constant, learning_rate_init=0.1, max_iter=1000;, score=0.932 total time=   0.7s\n",
            "[CV 2/10; 3/24] START activation=tanh, alpha=0.0001, hidden_layer_sizes=(50, 50), learning_rate=constant, learning_rate_init=0.1, max_iter=1000\n",
            "[CV 2/10; 3/24] END activation=tanh, alpha=0.0001, hidden_layer_sizes=(50, 50), learning_rate=constant, learning_rate_init=0.1, max_iter=1000;, score=0.959 total time=   0.8s\n",
            "[CV 3/10; 3/24] START activation=tanh, alpha=0.0001, hidden_layer_sizes=(50, 50), learning_rate=constant, learning_rate_init=0.1, max_iter=1000\n",
            "[CV 3/10; 3/24] END activation=tanh, alpha=0.0001, hidden_layer_sizes=(50, 50), learning_rate=constant, learning_rate_init=0.1, max_iter=1000;, score=0.923 total time=   1.6s\n",
            "[CV 4/10; 3/24] START activation=tanh, alpha=0.0001, hidden_layer_sizes=(50, 50), learning_rate=constant, learning_rate_init=0.1, max_iter=1000\n",
            "[CV 4/10; 3/24] END activation=tanh, alpha=0.0001, hidden_layer_sizes=(50, 50), learning_rate=constant, learning_rate_init=0.1, max_iter=1000;, score=0.968 total time=   0.7s\n",
            "[CV 5/10; 3/24] START activation=tanh, alpha=0.0001, hidden_layer_sizes=(50, 50), learning_rate=constant, learning_rate_init=0.1, max_iter=1000\n",
            "[CV 5/10; 3/24] END activation=tanh, alpha=0.0001, hidden_layer_sizes=(50, 50), learning_rate=constant, learning_rate_init=0.1, max_iter=1000;, score=0.923 total time=   2.2s\n",
            "[CV 6/10; 3/24] START activation=tanh, alpha=0.0001, hidden_layer_sizes=(50, 50), learning_rate=constant, learning_rate_init=0.1, max_iter=1000\n",
            "[CV 6/10; 3/24] END activation=tanh, alpha=0.0001, hidden_layer_sizes=(50, 50), learning_rate=constant, learning_rate_init=0.1, max_iter=1000;, score=0.918 total time=   1.7s\n",
            "[CV 7/10; 3/24] START activation=tanh, alpha=0.0001, hidden_layer_sizes=(50, 50), learning_rate=constant, learning_rate_init=0.1, max_iter=1000\n",
            "[CV 7/10; 3/24] END activation=tanh, alpha=0.0001, hidden_layer_sizes=(50, 50), learning_rate=constant, learning_rate_init=0.1, max_iter=1000;, score=0.941 total time=   0.5s\n",
            "[CV 8/10; 3/24] START activation=tanh, alpha=0.0001, hidden_layer_sizes=(50, 50), learning_rate=constant, learning_rate_init=0.1, max_iter=1000\n",
            "[CV 8/10; 3/24] END activation=tanh, alpha=0.0001, hidden_layer_sizes=(50, 50), learning_rate=constant, learning_rate_init=0.1, max_iter=1000;, score=0.959 total time=   0.8s\n",
            "[CV 9/10; 3/24] START activation=tanh, alpha=0.0001, hidden_layer_sizes=(50, 50), learning_rate=constant, learning_rate_init=0.1, max_iter=1000\n",
            "[CV 9/10; 3/24] END activation=tanh, alpha=0.0001, hidden_layer_sizes=(50, 50), learning_rate=constant, learning_rate_init=0.1, max_iter=1000;, score=0.955 total time=   1.0s\n",
            "[CV 10/10; 3/24] START activation=tanh, alpha=0.0001, hidden_layer_sizes=(50, 50), learning_rate=constant, learning_rate_init=0.1, max_iter=1000\n",
            "[CV 10/10; 3/24] END activation=tanh, alpha=0.0001, hidden_layer_sizes=(50, 50), learning_rate=constant, learning_rate_init=0.1, max_iter=1000;, score=0.945 total time=   0.7s\n",
            "[CV 1/10; 4/24] START activation=tanh, alpha=0.0001, hidden_layer_sizes=(50, 50), learning_rate=adaptive, learning_rate_init=0.001, max_iter=1000\n",
            "[CV 1/10; 4/24] END activation=tanh, alpha=0.0001, hidden_layer_sizes=(50, 50), learning_rate=adaptive, learning_rate_init=0.001, max_iter=1000;, score=0.937 total time=   1.5s\n",
            "[CV 2/10; 4/24] START activation=tanh, alpha=0.0001, hidden_layer_sizes=(50, 50), learning_rate=adaptive, learning_rate_init=0.001, max_iter=1000\n",
            "[CV 2/10; 4/24] END activation=tanh, alpha=0.0001, hidden_layer_sizes=(50, 50), learning_rate=adaptive, learning_rate_init=0.001, max_iter=1000;, score=0.964 total time=   4.2s\n",
            "[CV 3/10; 4/24] START activation=tanh, alpha=0.0001, hidden_layer_sizes=(50, 50), learning_rate=adaptive, learning_rate_init=0.001, max_iter=1000\n",
            "[CV 3/10; 4/24] END activation=tanh, alpha=0.0001, hidden_layer_sizes=(50, 50), learning_rate=adaptive, learning_rate_init=0.001, max_iter=1000;, score=0.941 total time=   5.8s\n",
            "[CV 4/10; 4/24] START activation=tanh, alpha=0.0001, hidden_layer_sizes=(50, 50), learning_rate=adaptive, learning_rate_init=0.001, max_iter=1000\n",
            "[CV 4/10; 4/24] END activation=tanh, alpha=0.0001, hidden_layer_sizes=(50, 50), learning_rate=adaptive, learning_rate_init=0.001, max_iter=1000;, score=0.968 total time=   3.9s\n",
            "[CV 5/10; 4/24] START activation=tanh, alpha=0.0001, hidden_layer_sizes=(50, 50), learning_rate=adaptive, learning_rate_init=0.001, max_iter=1000\n",
            "[CV 5/10; 4/24] END activation=tanh, alpha=0.0001, hidden_layer_sizes=(50, 50), learning_rate=adaptive, learning_rate_init=0.001, max_iter=1000;, score=0.941 total time=   5.1s\n",
            "[CV 6/10; 4/24] START activation=tanh, alpha=0.0001, hidden_layer_sizes=(50, 50), learning_rate=adaptive, learning_rate_init=0.001, max_iter=1000\n",
            "[CV 6/10; 4/24] END activation=tanh, alpha=0.0001, hidden_layer_sizes=(50, 50), learning_rate=adaptive, learning_rate_init=0.001, max_iter=1000;, score=0.918 total time=   5.0s\n",
            "[CV 7/10; 4/24] START activation=tanh, alpha=0.0001, hidden_layer_sizes=(50, 50), learning_rate=adaptive, learning_rate_init=0.001, max_iter=1000\n",
            "[CV 7/10; 4/24] END activation=tanh, alpha=0.0001, hidden_layer_sizes=(50, 50), learning_rate=adaptive, learning_rate_init=0.001, max_iter=1000;, score=0.945 total time=   2.1s\n",
            "[CV 8/10; 4/24] START activation=tanh, alpha=0.0001, hidden_layer_sizes=(50, 50), learning_rate=adaptive, learning_rate_init=0.001, max_iter=1000\n",
            "[CV 8/10; 4/24] END activation=tanh, alpha=0.0001, hidden_layer_sizes=(50, 50), learning_rate=adaptive, learning_rate_init=0.001, max_iter=1000;, score=0.950 total time=   4.4s\n",
            "[CV 9/10; 4/24] START activation=tanh, alpha=0.0001, hidden_layer_sizes=(50, 50), learning_rate=adaptive, learning_rate_init=0.001, max_iter=1000\n",
            "[CV 9/10; 4/24] END activation=tanh, alpha=0.0001, hidden_layer_sizes=(50, 50), learning_rate=adaptive, learning_rate_init=0.001, max_iter=1000;, score=0.941 total time=   6.1s\n",
            "[CV 10/10; 4/24] START activation=tanh, alpha=0.0001, hidden_layer_sizes=(50, 50), learning_rate=adaptive, learning_rate_init=0.001, max_iter=1000\n",
            "[CV 10/10; 4/24] END activation=tanh, alpha=0.0001, hidden_layer_sizes=(50, 50), learning_rate=adaptive, learning_rate_init=0.001, max_iter=1000;, score=0.941 total time=   5.1s\n",
            "[CV 1/10; 5/24] START activation=tanh, alpha=0.0001, hidden_layer_sizes=(50, 50), learning_rate=adaptive, learning_rate_init=0.01, max_iter=1000\n",
            "[CV 1/10; 5/24] END activation=tanh, alpha=0.0001, hidden_layer_sizes=(50, 50), learning_rate=adaptive, learning_rate_init=0.01, max_iter=1000;, score=0.896 total time=   8.1s\n",
            "[CV 2/10; 5/24] START activation=tanh, alpha=0.0001, hidden_layer_sizes=(50, 50), learning_rate=adaptive, learning_rate_init=0.01, max_iter=1000\n",
            "[CV 2/10; 5/24] END activation=tanh, alpha=0.0001, hidden_layer_sizes=(50, 50), learning_rate=adaptive, learning_rate_init=0.01, max_iter=1000;, score=0.941 total time=   5.8s\n",
            "[CV 3/10; 5/24] START activation=tanh, alpha=0.0001, hidden_layer_sizes=(50, 50), learning_rate=adaptive, learning_rate_init=0.01, max_iter=1000\n",
            "[CV 3/10; 5/24] END activation=tanh, alpha=0.0001, hidden_layer_sizes=(50, 50), learning_rate=adaptive, learning_rate_init=0.01, max_iter=1000;, score=0.945 total time=   1.9s\n",
            "[CV 4/10; 5/24] START activation=tanh, alpha=0.0001, hidden_layer_sizes=(50, 50), learning_rate=adaptive, learning_rate_init=0.01, max_iter=1000\n",
            "[CV 4/10; 5/24] END activation=tanh, alpha=0.0001, hidden_layer_sizes=(50, 50), learning_rate=adaptive, learning_rate_init=0.01, max_iter=1000;, score=0.936 total time=   8.7s\n",
            "[CV 5/10; 5/24] START activation=tanh, alpha=0.0001, hidden_layer_sizes=(50, 50), learning_rate=adaptive, learning_rate_init=0.01, max_iter=1000\n",
            "[CV 5/10; 5/24] END activation=tanh, alpha=0.0001, hidden_layer_sizes=(50, 50), learning_rate=adaptive, learning_rate_init=0.01, max_iter=1000;, score=0.927 total time=   8.3s\n",
            "[CV 6/10; 5/24] START activation=tanh, alpha=0.0001, hidden_layer_sizes=(50, 50), learning_rate=adaptive, learning_rate_init=0.01, max_iter=1000\n",
            "[CV 6/10; 5/24] END activation=tanh, alpha=0.0001, hidden_layer_sizes=(50, 50), learning_rate=adaptive, learning_rate_init=0.01, max_iter=1000;, score=0.895 total time=   6.4s\n",
            "[CV 7/10; 5/24] START activation=tanh, alpha=0.0001, hidden_layer_sizes=(50, 50), learning_rate=adaptive, learning_rate_init=0.01, max_iter=1000\n",
            "[CV 7/10; 5/24] END activation=tanh, alpha=0.0001, hidden_layer_sizes=(50, 50), learning_rate=adaptive, learning_rate_init=0.01, max_iter=1000;, score=0.900 total time=   8.1s\n",
            "[CV 8/10; 5/24] START activation=tanh, alpha=0.0001, hidden_layer_sizes=(50, 50), learning_rate=adaptive, learning_rate_init=0.01, max_iter=1000\n",
            "[CV 8/10; 5/24] END activation=tanh, alpha=0.0001, hidden_layer_sizes=(50, 50), learning_rate=adaptive, learning_rate_init=0.01, max_iter=1000;, score=0.932 total time=   6.5s\n",
            "[CV 9/10; 5/24] START activation=tanh, alpha=0.0001, hidden_layer_sizes=(50, 50), learning_rate=adaptive, learning_rate_init=0.01, max_iter=1000\n",
            "[CV 9/10; 5/24] END activation=tanh, alpha=0.0001, hidden_layer_sizes=(50, 50), learning_rate=adaptive, learning_rate_init=0.01, max_iter=1000;, score=0.959 total time=   6.8s\n",
            "[CV 10/10; 5/24] START activation=tanh, alpha=0.0001, hidden_layer_sizes=(50, 50), learning_rate=adaptive, learning_rate_init=0.01, max_iter=1000\n",
            "[CV 10/10; 5/24] END activation=tanh, alpha=0.0001, hidden_layer_sizes=(50, 50), learning_rate=adaptive, learning_rate_init=0.01, max_iter=1000;, score=0.941 total time=   0.7s\n",
            "[CV 1/10; 6/24] START activation=tanh, alpha=0.0001, hidden_layer_sizes=(50, 50), learning_rate=adaptive, learning_rate_init=0.1, max_iter=1000\n",
            "[CV 1/10; 6/24] END activation=tanh, alpha=0.0001, hidden_layer_sizes=(50, 50), learning_rate=adaptive, learning_rate_init=0.1, max_iter=1000;, score=0.932 total time=   1.0s\n",
            "[CV 2/10; 6/24] START activation=tanh, alpha=0.0001, hidden_layer_sizes=(50, 50), learning_rate=adaptive, learning_rate_init=0.1, max_iter=1000\n",
            "[CV 2/10; 6/24] END activation=tanh, alpha=0.0001, hidden_layer_sizes=(50, 50), learning_rate=adaptive, learning_rate_init=0.1, max_iter=1000;, score=0.955 total time=   1.1s\n",
            "[CV 3/10; 6/24] START activation=tanh, alpha=0.0001, hidden_layer_sizes=(50, 50), learning_rate=adaptive, learning_rate_init=0.1, max_iter=1000\n",
            "[CV 3/10; 6/24] END activation=tanh, alpha=0.0001, hidden_layer_sizes=(50, 50), learning_rate=adaptive, learning_rate_init=0.1, max_iter=1000;, score=0.941 total time=   1.2s\n",
            "[CV 4/10; 6/24] START activation=tanh, alpha=0.0001, hidden_layer_sizes=(50, 50), learning_rate=adaptive, learning_rate_init=0.1, max_iter=1000\n",
            "[CV 4/10; 6/24] END activation=tanh, alpha=0.0001, hidden_layer_sizes=(50, 50), learning_rate=adaptive, learning_rate_init=0.1, max_iter=1000;, score=0.891 total time=   0.4s\n",
            "[CV 5/10; 6/24] START activation=tanh, alpha=0.0001, hidden_layer_sizes=(50, 50), learning_rate=adaptive, learning_rate_init=0.1, max_iter=1000\n",
            "[CV 5/10; 6/24] END activation=tanh, alpha=0.0001, hidden_layer_sizes=(50, 50), learning_rate=adaptive, learning_rate_init=0.1, max_iter=1000;, score=0.936 total time=   0.5s\n",
            "[CV 6/10; 6/24] START activation=tanh, alpha=0.0001, hidden_layer_sizes=(50, 50), learning_rate=adaptive, learning_rate_init=0.1, max_iter=1000\n",
            "[CV 6/10; 6/24] END activation=tanh, alpha=0.0001, hidden_layer_sizes=(50, 50), learning_rate=adaptive, learning_rate_init=0.1, max_iter=1000;, score=0.918 total time=   0.6s\n",
            "[CV 7/10; 6/24] START activation=tanh, alpha=0.0001, hidden_layer_sizes=(50, 50), learning_rate=adaptive, learning_rate_init=0.1, max_iter=1000\n",
            "[CV 7/10; 6/24] END activation=tanh, alpha=0.0001, hidden_layer_sizes=(50, 50), learning_rate=adaptive, learning_rate_init=0.1, max_iter=1000;, score=0.950 total time=   0.8s\n",
            "[CV 8/10; 6/24] START activation=tanh, alpha=0.0001, hidden_layer_sizes=(50, 50), learning_rate=adaptive, learning_rate_init=0.1, max_iter=1000\n",
            "[CV 8/10; 6/24] END activation=tanh, alpha=0.0001, hidden_layer_sizes=(50, 50), learning_rate=adaptive, learning_rate_init=0.1, max_iter=1000;, score=0.959 total time=   0.4s\n",
            "[CV 9/10; 6/24] START activation=tanh, alpha=0.0001, hidden_layer_sizes=(50, 50), learning_rate=adaptive, learning_rate_init=0.1, max_iter=1000\n",
            "[CV 9/10; 6/24] END activation=tanh, alpha=0.0001, hidden_layer_sizes=(50, 50), learning_rate=adaptive, learning_rate_init=0.1, max_iter=1000;, score=0.936 total time=   0.6s\n",
            "[CV 10/10; 6/24] START activation=tanh, alpha=0.0001, hidden_layer_sizes=(50, 50), learning_rate=adaptive, learning_rate_init=0.1, max_iter=1000\n",
            "[CV 10/10; 6/24] END activation=tanh, alpha=0.0001, hidden_layer_sizes=(50, 50), learning_rate=adaptive, learning_rate_init=0.1, max_iter=1000;, score=0.945 total time=   1.2s\n",
            "[CV 1/10; 7/24] START activation=tanh, alpha=0.0001, hidden_layer_sizes=(20, 80, 20), learning_rate=constant, learning_rate_init=0.001, max_iter=1000\n",
            "[CV 1/10; 7/24] END activation=tanh, alpha=0.0001, hidden_layer_sizes=(20, 80, 20), learning_rate=constant, learning_rate_init=0.001, max_iter=1000;, score=0.937 total time=   7.6s\n",
            "[CV 2/10; 7/24] START activation=tanh, alpha=0.0001, hidden_layer_sizes=(20, 80, 20), learning_rate=constant, learning_rate_init=0.001, max_iter=1000\n",
            "[CV 2/10; 7/24] END activation=tanh, alpha=0.0001, hidden_layer_sizes=(20, 80, 20), learning_rate=constant, learning_rate_init=0.001, max_iter=1000;, score=0.968 total time=   3.7s\n",
            "[CV 3/10; 7/24] START activation=tanh, alpha=0.0001, hidden_layer_sizes=(20, 80, 20), learning_rate=constant, learning_rate_init=0.001, max_iter=1000\n",
            "[CV 3/10; 7/24] END activation=tanh, alpha=0.0001, hidden_layer_sizes=(20, 80, 20), learning_rate=constant, learning_rate_init=0.001, max_iter=1000;, score=0.941 total time=   5.4s\n",
            "[CV 4/10; 7/24] START activation=tanh, alpha=0.0001, hidden_layer_sizes=(20, 80, 20), learning_rate=constant, learning_rate_init=0.001, max_iter=1000\n",
            "[CV 4/10; 7/24] END activation=tanh, alpha=0.0001, hidden_layer_sizes=(20, 80, 20), learning_rate=constant, learning_rate_init=0.001, max_iter=1000;, score=0.977 total time=   6.2s\n",
            "[CV 5/10; 7/24] START activation=tanh, alpha=0.0001, hidden_layer_sizes=(20, 80, 20), learning_rate=constant, learning_rate_init=0.001, max_iter=1000\n",
            "[CV 5/10; 7/24] END activation=tanh, alpha=0.0001, hidden_layer_sizes=(20, 80, 20), learning_rate=constant, learning_rate_init=0.001, max_iter=1000;, score=0.941 total time=   3.5s\n",
            "[CV 6/10; 7/24] START activation=tanh, alpha=0.0001, hidden_layer_sizes=(20, 80, 20), learning_rate=constant, learning_rate_init=0.001, max_iter=1000\n",
            "[CV 6/10; 7/24] END activation=tanh, alpha=0.0001, hidden_layer_sizes=(20, 80, 20), learning_rate=constant, learning_rate_init=0.001, max_iter=1000;, score=0.918 total time=   5.4s\n",
            "[CV 7/10; 7/24] START activation=tanh, alpha=0.0001, hidden_layer_sizes=(20, 80, 20), learning_rate=constant, learning_rate_init=0.001, max_iter=1000\n",
            "[CV 7/10; 7/24] END activation=tanh, alpha=0.0001, hidden_layer_sizes=(20, 80, 20), learning_rate=constant, learning_rate_init=0.001, max_iter=1000;, score=0.945 total time=   4.0s\n",
            "[CV 8/10; 7/24] START activation=tanh, alpha=0.0001, hidden_layer_sizes=(20, 80, 20), learning_rate=constant, learning_rate_init=0.001, max_iter=1000\n",
            "[CV 8/10; 7/24] END activation=tanh, alpha=0.0001, hidden_layer_sizes=(20, 80, 20), learning_rate=constant, learning_rate_init=0.001, max_iter=1000;, score=0.950 total time=   3.1s\n",
            "[CV 9/10; 7/24] START activation=tanh, alpha=0.0001, hidden_layer_sizes=(20, 80, 20), learning_rate=constant, learning_rate_init=0.001, max_iter=1000\n",
            "[CV 9/10; 7/24] END activation=tanh, alpha=0.0001, hidden_layer_sizes=(20, 80, 20), learning_rate=constant, learning_rate_init=0.001, max_iter=1000;, score=0.945 total time=   7.0s\n",
            "[CV 10/10; 7/24] START activation=tanh, alpha=0.0001, hidden_layer_sizes=(20, 80, 20), learning_rate=constant, learning_rate_init=0.001, max_iter=1000\n",
            "[CV 10/10; 7/24] END activation=tanh, alpha=0.0001, hidden_layer_sizes=(20, 80, 20), learning_rate=constant, learning_rate_init=0.001, max_iter=1000;, score=0.932 total time=   3.3s\n",
            "[CV 1/10; 8/24] START activation=tanh, alpha=0.0001, hidden_layer_sizes=(20, 80, 20), learning_rate=constant, learning_rate_init=0.01, max_iter=1000\n",
            "[CV 1/10; 8/24] END activation=tanh, alpha=0.0001, hidden_layer_sizes=(20, 80, 20), learning_rate=constant, learning_rate_init=0.01, max_iter=1000;, score=0.932 total time=   4.1s\n",
            "[CV 2/10; 8/24] START activation=tanh, alpha=0.0001, hidden_layer_sizes=(20, 80, 20), learning_rate=constant, learning_rate_init=0.01, max_iter=1000\n",
            "[CV 2/10; 8/24] END activation=tanh, alpha=0.0001, hidden_layer_sizes=(20, 80, 20), learning_rate=constant, learning_rate_init=0.01, max_iter=1000;, score=0.964 total time=   4.0s\n",
            "[CV 3/10; 8/24] START activation=tanh, alpha=0.0001, hidden_layer_sizes=(20, 80, 20), learning_rate=constant, learning_rate_init=0.01, max_iter=1000\n",
            "[CV 3/10; 8/24] END activation=tanh, alpha=0.0001, hidden_layer_sizes=(20, 80, 20), learning_rate=constant, learning_rate_init=0.01, max_iter=1000;, score=0.936 total time=   5.5s\n",
            "[CV 4/10; 8/24] START activation=tanh, alpha=0.0001, hidden_layer_sizes=(20, 80, 20), learning_rate=constant, learning_rate_init=0.01, max_iter=1000\n",
            "[CV 4/10; 8/24] END activation=tanh, alpha=0.0001, hidden_layer_sizes=(20, 80, 20), learning_rate=constant, learning_rate_init=0.01, max_iter=1000;, score=0.955 total time=   4.5s\n",
            "[CV 5/10; 8/24] START activation=tanh, alpha=0.0001, hidden_layer_sizes=(20, 80, 20), learning_rate=constant, learning_rate_init=0.01, max_iter=1000\n",
            "[CV 5/10; 8/24] END activation=tanh, alpha=0.0001, hidden_layer_sizes=(20, 80, 20), learning_rate=constant, learning_rate_init=0.01, max_iter=1000;, score=0.936 total time=   5.6s\n",
            "[CV 6/10; 8/24] START activation=tanh, alpha=0.0001, hidden_layer_sizes=(20, 80, 20), learning_rate=constant, learning_rate_init=0.01, max_iter=1000\n",
            "[CV 6/10; 8/24] END activation=tanh, alpha=0.0001, hidden_layer_sizes=(20, 80, 20), learning_rate=constant, learning_rate_init=0.01, max_iter=1000;, score=0.918 total time=   4.5s\n",
            "[CV 7/10; 8/24] START activation=tanh, alpha=0.0001, hidden_layer_sizes=(20, 80, 20), learning_rate=constant, learning_rate_init=0.01, max_iter=1000\n",
            "[CV 7/10; 8/24] END activation=tanh, alpha=0.0001, hidden_layer_sizes=(20, 80, 20), learning_rate=constant, learning_rate_init=0.01, max_iter=1000;, score=0.927 total time=   5.9s\n",
            "[CV 8/10; 8/24] START activation=tanh, alpha=0.0001, hidden_layer_sizes=(20, 80, 20), learning_rate=constant, learning_rate_init=0.01, max_iter=1000\n",
            "[CV 8/10; 8/24] END activation=tanh, alpha=0.0001, hidden_layer_sizes=(20, 80, 20), learning_rate=constant, learning_rate_init=0.01, max_iter=1000;, score=0.950 total time=   5.1s\n",
            "[CV 9/10; 8/24] START activation=tanh, alpha=0.0001, hidden_layer_sizes=(20, 80, 20), learning_rate=constant, learning_rate_init=0.01, max_iter=1000\n",
            "[CV 9/10; 8/24] END activation=tanh, alpha=0.0001, hidden_layer_sizes=(20, 80, 20), learning_rate=constant, learning_rate_init=0.01, max_iter=1000;, score=0.941 total time=   4.9s\n",
            "[CV 10/10; 8/24] START activation=tanh, alpha=0.0001, hidden_layer_sizes=(20, 80, 20), learning_rate=constant, learning_rate_init=0.01, max_iter=1000\n",
            "[CV 10/10; 8/24] END activation=tanh, alpha=0.0001, hidden_layer_sizes=(20, 80, 20), learning_rate=constant, learning_rate_init=0.01, max_iter=1000;, score=0.959 total time=   4.6s\n",
            "[CV 1/10; 9/24] START activation=tanh, alpha=0.0001, hidden_layer_sizes=(20, 80, 20), learning_rate=constant, learning_rate_init=0.1, max_iter=1000\n",
            "[CV 1/10; 9/24] END activation=tanh, alpha=0.0001, hidden_layer_sizes=(20, 80, 20), learning_rate=constant, learning_rate_init=0.1, max_iter=1000;, score=0.887 total time=   0.6s\n",
            "[CV 2/10; 9/24] START activation=tanh, alpha=0.0001, hidden_layer_sizes=(20, 80, 20), learning_rate=constant, learning_rate_init=0.1, max_iter=1000\n",
            "[CV 2/10; 9/24] END activation=tanh, alpha=0.0001, hidden_layer_sizes=(20, 80, 20), learning_rate=constant, learning_rate_init=0.1, max_iter=1000;, score=0.891 total time=   0.6s\n",
            "[CV 3/10; 9/24] START activation=tanh, alpha=0.0001, hidden_layer_sizes=(20, 80, 20), learning_rate=constant, learning_rate_init=0.1, max_iter=1000\n",
            "[CV 3/10; 9/24] END activation=tanh, alpha=0.0001, hidden_layer_sizes=(20, 80, 20), learning_rate=constant, learning_rate_init=0.1, max_iter=1000;, score=0.891 total time=   0.5s\n",
            "[CV 4/10; 9/24] START activation=tanh, alpha=0.0001, hidden_layer_sizes=(20, 80, 20), learning_rate=constant, learning_rate_init=0.1, max_iter=1000\n",
            "[CV 4/10; 9/24] END activation=tanh, alpha=0.0001, hidden_layer_sizes=(20, 80, 20), learning_rate=constant, learning_rate_init=0.1, max_iter=1000;, score=0.955 total time=   0.5s\n",
            "[CV 5/10; 9/24] START activation=tanh, alpha=0.0001, hidden_layer_sizes=(20, 80, 20), learning_rate=constant, learning_rate_init=0.1, max_iter=1000\n",
            "[CV 5/10; 9/24] END activation=tanh, alpha=0.0001, hidden_layer_sizes=(20, 80, 20), learning_rate=constant, learning_rate_init=0.1, max_iter=1000;, score=0.941 total time=   0.9s\n",
            "[CV 6/10; 9/24] START activation=tanh, alpha=0.0001, hidden_layer_sizes=(20, 80, 20), learning_rate=constant, learning_rate_init=0.1, max_iter=1000\n",
            "[CV 6/10; 9/24] END activation=tanh, alpha=0.0001, hidden_layer_sizes=(20, 80, 20), learning_rate=constant, learning_rate_init=0.1, max_iter=1000;, score=0.886 total time=   0.9s\n",
            "[CV 7/10; 9/24] START activation=tanh, alpha=0.0001, hidden_layer_sizes=(20, 80, 20), learning_rate=constant, learning_rate_init=0.1, max_iter=1000\n",
            "[CV 7/10; 9/24] END activation=tanh, alpha=0.0001, hidden_layer_sizes=(20, 80, 20), learning_rate=constant, learning_rate_init=0.1, max_iter=1000;, score=0.886 total time=   0.5s\n",
            "[CV 8/10; 9/24] START activation=tanh, alpha=0.0001, hidden_layer_sizes=(20, 80, 20), learning_rate=constant, learning_rate_init=0.1, max_iter=1000\n",
            "[CV 8/10; 9/24] END activation=tanh, alpha=0.0001, hidden_layer_sizes=(20, 80, 20), learning_rate=constant, learning_rate_init=0.1, max_iter=1000;, score=0.886 total time=   0.6s\n",
            "[CV 9/10; 9/24] START activation=tanh, alpha=0.0001, hidden_layer_sizes=(20, 80, 20), learning_rate=constant, learning_rate_init=0.1, max_iter=1000\n",
            "[CV 9/10; 9/24] END activation=tanh, alpha=0.0001, hidden_layer_sizes=(20, 80, 20), learning_rate=constant, learning_rate_init=0.1, max_iter=1000;, score=0.886 total time=   0.6s\n",
            "[CV 10/10; 9/24] START activation=tanh, alpha=0.0001, hidden_layer_sizes=(20, 80, 20), learning_rate=constant, learning_rate_init=0.1, max_iter=1000\n",
            "[CV 10/10; 9/24] END activation=tanh, alpha=0.0001, hidden_layer_sizes=(20, 80, 20), learning_rate=constant, learning_rate_init=0.1, max_iter=1000;, score=0.886 total time=   0.4s\n",
            "[CV 1/10; 10/24] START activation=tanh, alpha=0.0001, hidden_layer_sizes=(20, 80, 20), learning_rate=adaptive, learning_rate_init=0.001, max_iter=1000\n",
            "[CV 1/10; 10/24] END activation=tanh, alpha=0.0001, hidden_layer_sizes=(20, 80, 20), learning_rate=adaptive, learning_rate_init=0.001, max_iter=1000;, score=0.919 total time=  10.6s\n",
            "[CV 2/10; 10/24] START activation=tanh, alpha=0.0001, hidden_layer_sizes=(20, 80, 20), learning_rate=adaptive, learning_rate_init=0.001, max_iter=1000\n",
            "[CV 2/10; 10/24] END activation=tanh, alpha=0.0001, hidden_layer_sizes=(20, 80, 20), learning_rate=adaptive, learning_rate_init=0.001, max_iter=1000;, score=0.968 total time=   3.3s\n",
            "[CV 3/10; 10/24] START activation=tanh, alpha=0.0001, hidden_layer_sizes=(20, 80, 20), learning_rate=adaptive, learning_rate_init=0.001, max_iter=1000\n",
            "[CV 3/10; 10/24] END activation=tanh, alpha=0.0001, hidden_layer_sizes=(20, 80, 20), learning_rate=adaptive, learning_rate_init=0.001, max_iter=1000;, score=0.941 total time=   4.1s\n",
            "[CV 4/10; 10/24] START activation=tanh, alpha=0.0001, hidden_layer_sizes=(20, 80, 20), learning_rate=adaptive, learning_rate_init=0.001, max_iter=1000\n",
            "[CV 4/10; 10/24] END activation=tanh, alpha=0.0001, hidden_layer_sizes=(20, 80, 20), learning_rate=adaptive, learning_rate_init=0.001, max_iter=1000;, score=0.964 total time=   4.3s\n",
            "[CV 5/10; 10/24] START activation=tanh, alpha=0.0001, hidden_layer_sizes=(20, 80, 20), learning_rate=adaptive, learning_rate_init=0.001, max_iter=1000\n",
            "[CV 5/10; 10/24] END activation=tanh, alpha=0.0001, hidden_layer_sizes=(20, 80, 20), learning_rate=adaptive, learning_rate_init=0.001, max_iter=1000;, score=0.941 total time=   4.3s\n",
            "[CV 6/10; 10/24] START activation=tanh, alpha=0.0001, hidden_layer_sizes=(20, 80, 20), learning_rate=adaptive, learning_rate_init=0.001, max_iter=1000\n",
            "[CV 6/10; 10/24] END activation=tanh, alpha=0.0001, hidden_layer_sizes=(20, 80, 20), learning_rate=adaptive, learning_rate_init=0.001, max_iter=1000;, score=0.914 total time=   6.9s\n",
            "[CV 7/10; 10/24] START activation=tanh, alpha=0.0001, hidden_layer_sizes=(20, 80, 20), learning_rate=adaptive, learning_rate_init=0.001, max_iter=1000\n",
            "[CV 7/10; 10/24] END activation=tanh, alpha=0.0001, hidden_layer_sizes=(20, 80, 20), learning_rate=adaptive, learning_rate_init=0.001, max_iter=1000;, score=0.945 total time=   3.4s\n",
            "[CV 8/10; 10/24] START activation=tanh, alpha=0.0001, hidden_layer_sizes=(20, 80, 20), learning_rate=adaptive, learning_rate_init=0.001, max_iter=1000\n",
            "[CV 8/10; 10/24] END activation=tanh, alpha=0.0001, hidden_layer_sizes=(20, 80, 20), learning_rate=adaptive, learning_rate_init=0.001, max_iter=1000;, score=0.955 total time=   4.1s\n",
            "[CV 9/10; 10/24] START activation=tanh, alpha=0.0001, hidden_layer_sizes=(20, 80, 20), learning_rate=adaptive, learning_rate_init=0.001, max_iter=1000\n",
            "[CV 9/10; 10/24] END activation=tanh, alpha=0.0001, hidden_layer_sizes=(20, 80, 20), learning_rate=adaptive, learning_rate_init=0.001, max_iter=1000;, score=0.941 total time=   5.0s\n",
            "[CV 10/10; 10/24] START activation=tanh, alpha=0.0001, hidden_layer_sizes=(20, 80, 20), learning_rate=adaptive, learning_rate_init=0.001, max_iter=1000\n",
            "[CV 10/10; 10/24] END activation=tanh, alpha=0.0001, hidden_layer_sizes=(20, 80, 20), learning_rate=adaptive, learning_rate_init=0.001, max_iter=1000;, score=0.950 total time=   2.6s\n",
            "[CV 1/10; 11/24] START activation=tanh, alpha=0.0001, hidden_layer_sizes=(20, 80, 20), learning_rate=adaptive, learning_rate_init=0.01, max_iter=1000\n",
            "[CV 1/10; 11/24] END activation=tanh, alpha=0.0001, hidden_layer_sizes=(20, 80, 20), learning_rate=adaptive, learning_rate_init=0.01, max_iter=1000;, score=0.928 total time=   2.9s\n",
            "[CV 2/10; 11/24] START activation=tanh, alpha=0.0001, hidden_layer_sizes=(20, 80, 20), learning_rate=adaptive, learning_rate_init=0.01, max_iter=1000\n",
            "[CV 2/10; 11/24] END activation=tanh, alpha=0.0001, hidden_layer_sizes=(20, 80, 20), learning_rate=adaptive, learning_rate_init=0.01, max_iter=1000;, score=0.964 total time=   3.9s\n",
            "[CV 3/10; 11/24] START activation=tanh, alpha=0.0001, hidden_layer_sizes=(20, 80, 20), learning_rate=adaptive, learning_rate_init=0.01, max_iter=1000\n",
            "[CV 3/10; 11/24] END activation=tanh, alpha=0.0001, hidden_layer_sizes=(20, 80, 20), learning_rate=adaptive, learning_rate_init=0.01, max_iter=1000;, score=0.936 total time=   6.5s\n",
            "[CV 4/10; 11/24] START activation=tanh, alpha=0.0001, hidden_layer_sizes=(20, 80, 20), learning_rate=adaptive, learning_rate_init=0.01, max_iter=1000\n",
            "[CV 4/10; 11/24] END activation=tanh, alpha=0.0001, hidden_layer_sizes=(20, 80, 20), learning_rate=adaptive, learning_rate_init=0.01, max_iter=1000;, score=0.950 total time=   5.0s\n",
            "[CV 5/10; 11/24] START activation=tanh, alpha=0.0001, hidden_layer_sizes=(20, 80, 20), learning_rate=adaptive, learning_rate_init=0.01, max_iter=1000\n",
            "[CV 5/10; 11/24] END activation=tanh, alpha=0.0001, hidden_layer_sizes=(20, 80, 20), learning_rate=adaptive, learning_rate_init=0.01, max_iter=1000;, score=0.927 total time=   3.5s\n",
            "[CV 6/10; 11/24] START activation=tanh, alpha=0.0001, hidden_layer_sizes=(20, 80, 20), learning_rate=adaptive, learning_rate_init=0.01, max_iter=1000\n",
            "[CV 6/10; 11/24] END activation=tanh, alpha=0.0001, hidden_layer_sizes=(20, 80, 20), learning_rate=adaptive, learning_rate_init=0.01, max_iter=1000;, score=0.914 total time=   6.7s\n",
            "[CV 7/10; 11/24] START activation=tanh, alpha=0.0001, hidden_layer_sizes=(20, 80, 20), learning_rate=adaptive, learning_rate_init=0.01, max_iter=1000\n",
            "[CV 7/10; 11/24] END activation=tanh, alpha=0.0001, hidden_layer_sizes=(20, 80, 20), learning_rate=adaptive, learning_rate_init=0.01, max_iter=1000;, score=0.936 total time=   3.2s\n",
            "[CV 8/10; 11/24] START activation=tanh, alpha=0.0001, hidden_layer_sizes=(20, 80, 20), learning_rate=adaptive, learning_rate_init=0.01, max_iter=1000\n",
            "[CV 8/10; 11/24] END activation=tanh, alpha=0.0001, hidden_layer_sizes=(20, 80, 20), learning_rate=adaptive, learning_rate_init=0.01, max_iter=1000;, score=0.932 total time=   5.2s\n",
            "[CV 9/10; 11/24] START activation=tanh, alpha=0.0001, hidden_layer_sizes=(20, 80, 20), learning_rate=adaptive, learning_rate_init=0.01, max_iter=1000\n",
            "[CV 9/10; 11/24] END activation=tanh, alpha=0.0001, hidden_layer_sizes=(20, 80, 20), learning_rate=adaptive, learning_rate_init=0.01, max_iter=1000;, score=0.950 total time=   5.0s\n",
            "[CV 10/10; 11/24] START activation=tanh, alpha=0.0001, hidden_layer_sizes=(20, 80, 20), learning_rate=adaptive, learning_rate_init=0.01, max_iter=1000\n",
            "[CV 10/10; 11/24] END activation=tanh, alpha=0.0001, hidden_layer_sizes=(20, 80, 20), learning_rate=adaptive, learning_rate_init=0.01, max_iter=1000;, score=0.941 total time=   4.4s\n",
            "[CV 1/10; 12/24] START activation=tanh, alpha=0.0001, hidden_layer_sizes=(20, 80, 20), learning_rate=adaptive, learning_rate_init=0.1, max_iter=1000\n",
            "[CV 1/10; 12/24] END activation=tanh, alpha=0.0001, hidden_layer_sizes=(20, 80, 20), learning_rate=adaptive, learning_rate_init=0.1, max_iter=1000;, score=0.887 total time=   0.5s\n",
            "[CV 2/10; 12/24] START activation=tanh, alpha=0.0001, hidden_layer_sizes=(20, 80, 20), learning_rate=adaptive, learning_rate_init=0.1, max_iter=1000\n",
            "[CV 2/10; 12/24] END activation=tanh, alpha=0.0001, hidden_layer_sizes=(20, 80, 20), learning_rate=adaptive, learning_rate_init=0.1, max_iter=1000;, score=0.891 total time=   0.8s\n",
            "[CV 3/10; 12/24] START activation=tanh, alpha=0.0001, hidden_layer_sizes=(20, 80, 20), learning_rate=adaptive, learning_rate_init=0.1, max_iter=1000\n",
            "[CV 3/10; 12/24] END activation=tanh, alpha=0.0001, hidden_layer_sizes=(20, 80, 20), learning_rate=adaptive, learning_rate_init=0.1, max_iter=1000;, score=0.868 total time=   1.2s\n",
            "[CV 4/10; 12/24] START activation=tanh, alpha=0.0001, hidden_layer_sizes=(20, 80, 20), learning_rate=adaptive, learning_rate_init=0.1, max_iter=1000\n",
            "[CV 4/10; 12/24] END activation=tanh, alpha=0.0001, hidden_layer_sizes=(20, 80, 20), learning_rate=adaptive, learning_rate_init=0.1, max_iter=1000;, score=0.891 total time=   1.6s\n",
            "[CV 5/10; 12/24] START activation=tanh, alpha=0.0001, hidden_layer_sizes=(20, 80, 20), learning_rate=adaptive, learning_rate_init=0.1, max_iter=1000\n",
            "[CV 5/10; 12/24] END activation=tanh, alpha=0.0001, hidden_layer_sizes=(20, 80, 20), learning_rate=adaptive, learning_rate_init=0.1, max_iter=1000;, score=0.886 total time=   1.2s\n",
            "[CV 6/10; 12/24] START activation=tanh, alpha=0.0001, hidden_layer_sizes=(20, 80, 20), learning_rate=adaptive, learning_rate_init=0.1, max_iter=1000\n",
            "[CV 6/10; 12/24] END activation=tanh, alpha=0.0001, hidden_layer_sizes=(20, 80, 20), learning_rate=adaptive, learning_rate_init=0.1, max_iter=1000;, score=0.918 total time=   0.9s\n",
            "[CV 7/10; 12/24] START activation=tanh, alpha=0.0001, hidden_layer_sizes=(20, 80, 20), learning_rate=adaptive, learning_rate_init=0.1, max_iter=1000\n",
            "[CV 7/10; 12/24] END activation=tanh, alpha=0.0001, hidden_layer_sizes=(20, 80, 20), learning_rate=adaptive, learning_rate_init=0.1, max_iter=1000;, score=0.886 total time=   0.6s\n",
            "[CV 8/10; 12/24] START activation=tanh, alpha=0.0001, hidden_layer_sizes=(20, 80, 20), learning_rate=adaptive, learning_rate_init=0.1, max_iter=1000\n",
            "[CV 8/10; 12/24] END activation=tanh, alpha=0.0001, hidden_layer_sizes=(20, 80, 20), learning_rate=adaptive, learning_rate_init=0.1, max_iter=1000;, score=0.950 total time=   0.8s\n",
            "[CV 9/10; 12/24] START activation=tanh, alpha=0.0001, hidden_layer_sizes=(20, 80, 20), learning_rate=adaptive, learning_rate_init=0.1, max_iter=1000\n",
            "[CV 9/10; 12/24] END activation=tanh, alpha=0.0001, hidden_layer_sizes=(20, 80, 20), learning_rate=adaptive, learning_rate_init=0.1, max_iter=1000;, score=0.936 total time=   0.9s\n",
            "[CV 10/10; 12/24] START activation=tanh, alpha=0.0001, hidden_layer_sizes=(20, 80, 20), learning_rate=adaptive, learning_rate_init=0.1, max_iter=1000\n",
            "[CV 10/10; 12/24] END activation=tanh, alpha=0.0001, hidden_layer_sizes=(20, 80, 20), learning_rate=adaptive, learning_rate_init=0.1, max_iter=1000;, score=0.886 total time=   0.4s\n",
            "[CV 1/10; 13/24] START activation=tanh, alpha=0.001, hidden_layer_sizes=(50, 50), learning_rate=constant, learning_rate_init=0.001, max_iter=1000\n",
            "[CV 1/10; 13/24] END activation=tanh, alpha=0.001, hidden_layer_sizes=(50, 50), learning_rate=constant, learning_rate_init=0.001, max_iter=1000;, score=0.937 total time=   3.9s\n",
            "[CV 2/10; 13/24] START activation=tanh, alpha=0.001, hidden_layer_sizes=(50, 50), learning_rate=constant, learning_rate_init=0.001, max_iter=1000\n",
            "[CV 2/10; 13/24] END activation=tanh, alpha=0.001, hidden_layer_sizes=(50, 50), learning_rate=constant, learning_rate_init=0.001, max_iter=1000;, score=0.964 total time=   7.1s\n",
            "[CV 3/10; 13/24] START activation=tanh, alpha=0.001, hidden_layer_sizes=(50, 50), learning_rate=constant, learning_rate_init=0.001, max_iter=1000\n",
            "[CV 3/10; 13/24] END activation=tanh, alpha=0.001, hidden_layer_sizes=(50, 50), learning_rate=constant, learning_rate_init=0.001, max_iter=1000;, score=0.945 total time=   2.3s\n",
            "[CV 4/10; 13/24] START activation=tanh, alpha=0.001, hidden_layer_sizes=(50, 50), learning_rate=constant, learning_rate_init=0.001, max_iter=1000\n",
            "[CV 4/10; 13/24] END activation=tanh, alpha=0.001, hidden_layer_sizes=(50, 50), learning_rate=constant, learning_rate_init=0.001, max_iter=1000;, score=0.973 total time=   3.9s\n",
            "[CV 5/10; 13/24] START activation=tanh, alpha=0.001, hidden_layer_sizes=(50, 50), learning_rate=constant, learning_rate_init=0.001, max_iter=1000\n",
            "[CV 5/10; 13/24] END activation=tanh, alpha=0.001, hidden_layer_sizes=(50, 50), learning_rate=constant, learning_rate_init=0.001, max_iter=1000;, score=0.941 total time=   7.7s\n",
            "[CV 6/10; 13/24] START activation=tanh, alpha=0.001, hidden_layer_sizes=(50, 50), learning_rate=constant, learning_rate_init=0.001, max_iter=1000\n",
            "[CV 6/10; 13/24] END activation=tanh, alpha=0.001, hidden_layer_sizes=(50, 50), learning_rate=constant, learning_rate_init=0.001, max_iter=1000;, score=0.909 total time=   5.7s\n",
            "[CV 7/10; 13/24] START activation=tanh, alpha=0.001, hidden_layer_sizes=(50, 50), learning_rate=constant, learning_rate_init=0.001, max_iter=1000\n",
            "[CV 7/10; 13/24] END activation=tanh, alpha=0.001, hidden_layer_sizes=(50, 50), learning_rate=constant, learning_rate_init=0.001, max_iter=1000;, score=0.950 total time=   6.8s\n",
            "[CV 8/10; 13/24] START activation=tanh, alpha=0.001, hidden_layer_sizes=(50, 50), learning_rate=constant, learning_rate_init=0.001, max_iter=1000\n",
            "[CV 8/10; 13/24] END activation=tanh, alpha=0.001, hidden_layer_sizes=(50, 50), learning_rate=constant, learning_rate_init=0.001, max_iter=1000;, score=0.936 total time=   5.2s\n",
            "[CV 9/10; 13/24] START activation=tanh, alpha=0.001, hidden_layer_sizes=(50, 50), learning_rate=constant, learning_rate_init=0.001, max_iter=1000\n",
            "[CV 9/10; 13/24] END activation=tanh, alpha=0.001, hidden_layer_sizes=(50, 50), learning_rate=constant, learning_rate_init=0.001, max_iter=1000;, score=0.941 total time=   2.7s\n",
            "[CV 10/10; 13/24] START activation=tanh, alpha=0.001, hidden_layer_sizes=(50, 50), learning_rate=constant, learning_rate_init=0.001, max_iter=1000\n",
            "[CV 10/10; 13/24] END activation=tanh, alpha=0.001, hidden_layer_sizes=(50, 50), learning_rate=constant, learning_rate_init=0.001, max_iter=1000;, score=0.950 total time=   7.7s\n",
            "[CV 1/10; 14/24] START activation=tanh, alpha=0.001, hidden_layer_sizes=(50, 50), learning_rate=constant, learning_rate_init=0.01, max_iter=1000\n",
            "[CV 1/10; 14/24] END activation=tanh, alpha=0.001, hidden_layer_sizes=(50, 50), learning_rate=constant, learning_rate_init=0.01, max_iter=1000;, score=0.910 total time=  13.7s\n",
            "[CV 2/10; 14/24] START activation=tanh, alpha=0.001, hidden_layer_sizes=(50, 50), learning_rate=constant, learning_rate_init=0.01, max_iter=1000\n",
            "[CV 2/10; 14/24] END activation=tanh, alpha=0.001, hidden_layer_sizes=(50, 50), learning_rate=constant, learning_rate_init=0.01, max_iter=1000;, score=0.964 total time=   3.1s\n",
            "[CV 3/10; 14/24] START activation=tanh, alpha=0.001, hidden_layer_sizes=(50, 50), learning_rate=constant, learning_rate_init=0.01, max_iter=1000\n",
            "[CV 3/10; 14/24] END activation=tanh, alpha=0.001, hidden_layer_sizes=(50, 50), learning_rate=constant, learning_rate_init=0.01, max_iter=1000;, score=0.927 total time=  13.4s\n",
            "[CV 4/10; 14/24] START activation=tanh, alpha=0.001, hidden_layer_sizes=(50, 50), learning_rate=constant, learning_rate_init=0.01, max_iter=1000\n",
            "[CV 4/10; 14/24] END activation=tanh, alpha=0.001, hidden_layer_sizes=(50, 50), learning_rate=constant, learning_rate_init=0.01, max_iter=1000;, score=0.959 total time=  15.4s\n",
            "[CV 5/10; 14/24] START activation=tanh, alpha=0.001, hidden_layer_sizes=(50, 50), learning_rate=constant, learning_rate_init=0.01, max_iter=1000\n",
            "[CV 5/10; 14/24] END activation=tanh, alpha=0.001, hidden_layer_sizes=(50, 50), learning_rate=constant, learning_rate_init=0.01, max_iter=1000;, score=0.932 total time=   6.9s\n",
            "[CV 6/10; 14/24] START activation=tanh, alpha=0.001, hidden_layer_sizes=(50, 50), learning_rate=constant, learning_rate_init=0.01, max_iter=1000\n",
            "[CV 6/10; 14/24] END activation=tanh, alpha=0.001, hidden_layer_sizes=(50, 50), learning_rate=constant, learning_rate_init=0.01, max_iter=1000;, score=0.895 total time=   5.6s\n",
            "[CV 7/10; 14/24] START activation=tanh, alpha=0.001, hidden_layer_sizes=(50, 50), learning_rate=constant, learning_rate_init=0.01, max_iter=1000\n",
            "[CV 7/10; 14/24] END activation=tanh, alpha=0.001, hidden_layer_sizes=(50, 50), learning_rate=constant, learning_rate_init=0.01, max_iter=1000;, score=0.941 total time=   5.8s\n",
            "[CV 8/10; 14/24] START activation=tanh, alpha=0.001, hidden_layer_sizes=(50, 50), learning_rate=constant, learning_rate_init=0.01, max_iter=1000\n",
            "[CV 8/10; 14/24] END activation=tanh, alpha=0.001, hidden_layer_sizes=(50, 50), learning_rate=constant, learning_rate_init=0.01, max_iter=1000;, score=0.932 total time=   6.1s\n",
            "[CV 9/10; 14/24] START activation=tanh, alpha=0.001, hidden_layer_sizes=(50, 50), learning_rate=constant, learning_rate_init=0.01, max_iter=1000\n",
            "[CV 9/10; 14/24] END activation=tanh, alpha=0.001, hidden_layer_sizes=(50, 50), learning_rate=constant, learning_rate_init=0.01, max_iter=1000;, score=0.941 total time=   6.0s\n",
            "[CV 10/10; 14/24] START activation=tanh, alpha=0.001, hidden_layer_sizes=(50, 50), learning_rate=constant, learning_rate_init=0.01, max_iter=1000\n",
            "[CV 10/10; 14/24] END activation=tanh, alpha=0.001, hidden_layer_sizes=(50, 50), learning_rate=constant, learning_rate_init=0.01, max_iter=1000;, score=0.941 total time=   7.4s\n",
            "[CV 1/10; 15/24] START activation=tanh, alpha=0.001, hidden_layer_sizes=(50, 50), learning_rate=constant, learning_rate_init=0.1, max_iter=1000\n",
            "[CV 1/10; 15/24] END activation=tanh, alpha=0.001, hidden_layer_sizes=(50, 50), learning_rate=constant, learning_rate_init=0.1, max_iter=1000;, score=0.941 total time=   1.0s\n",
            "[CV 2/10; 15/24] START activation=tanh, alpha=0.001, hidden_layer_sizes=(50, 50), learning_rate=constant, learning_rate_init=0.1, max_iter=1000\n",
            "[CV 2/10; 15/24] END activation=tanh, alpha=0.001, hidden_layer_sizes=(50, 50), learning_rate=constant, learning_rate_init=0.1, max_iter=1000;, score=0.959 total time=   0.5s\n",
            "[CV 3/10; 15/24] START activation=tanh, alpha=0.001, hidden_layer_sizes=(50, 50), learning_rate=constant, learning_rate_init=0.1, max_iter=1000\n",
            "[CV 3/10; 15/24] END activation=tanh, alpha=0.001, hidden_layer_sizes=(50, 50), learning_rate=constant, learning_rate_init=0.1, max_iter=1000;, score=0.923 total time=   0.6s\n",
            "[CV 4/10; 15/24] START activation=tanh, alpha=0.001, hidden_layer_sizes=(50, 50), learning_rate=constant, learning_rate_init=0.1, max_iter=1000\n",
            "[CV 4/10; 15/24] END activation=tanh, alpha=0.001, hidden_layer_sizes=(50, 50), learning_rate=constant, learning_rate_init=0.1, max_iter=1000;, score=0.973 total time=   1.3s\n",
            "[CV 5/10; 15/24] START activation=tanh, alpha=0.001, hidden_layer_sizes=(50, 50), learning_rate=constant, learning_rate_init=0.1, max_iter=1000\n",
            "[CV 5/10; 15/24] END activation=tanh, alpha=0.001, hidden_layer_sizes=(50, 50), learning_rate=constant, learning_rate_init=0.1, max_iter=1000;, score=0.936 total time=   1.1s\n",
            "[CV 6/10; 15/24] START activation=tanh, alpha=0.001, hidden_layer_sizes=(50, 50), learning_rate=constant, learning_rate_init=0.1, max_iter=1000\n",
            "[CV 6/10; 15/24] END activation=tanh, alpha=0.001, hidden_layer_sizes=(50, 50), learning_rate=constant, learning_rate_init=0.1, max_iter=1000;, score=0.918 total time=   1.4s\n",
            "[CV 7/10; 15/24] START activation=tanh, alpha=0.001, hidden_layer_sizes=(50, 50), learning_rate=constant, learning_rate_init=0.1, max_iter=1000\n",
            "[CV 7/10; 15/24] END activation=tanh, alpha=0.001, hidden_layer_sizes=(50, 50), learning_rate=constant, learning_rate_init=0.1, max_iter=1000;, score=0.955 total time=   2.2s\n",
            "[CV 8/10; 15/24] START activation=tanh, alpha=0.001, hidden_layer_sizes=(50, 50), learning_rate=constant, learning_rate_init=0.1, max_iter=1000\n",
            "[CV 8/10; 15/24] END activation=tanh, alpha=0.001, hidden_layer_sizes=(50, 50), learning_rate=constant, learning_rate_init=0.1, max_iter=1000;, score=0.950 total time=   0.6s\n",
            "[CV 9/10; 15/24] START activation=tanh, alpha=0.001, hidden_layer_sizes=(50, 50), learning_rate=constant, learning_rate_init=0.1, max_iter=1000\n",
            "[CV 9/10; 15/24] END activation=tanh, alpha=0.001, hidden_layer_sizes=(50, 50), learning_rate=constant, learning_rate_init=0.1, max_iter=1000;, score=0.936 total time=   0.5s\n",
            "[CV 10/10; 15/24] START activation=tanh, alpha=0.001, hidden_layer_sizes=(50, 50), learning_rate=constant, learning_rate_init=0.1, max_iter=1000\n",
            "[CV 10/10; 15/24] END activation=tanh, alpha=0.001, hidden_layer_sizes=(50, 50), learning_rate=constant, learning_rate_init=0.1, max_iter=1000;, score=0.945 total time=   0.7s\n",
            "[CV 1/10; 16/24] START activation=tanh, alpha=0.001, hidden_layer_sizes=(50, 50), learning_rate=adaptive, learning_rate_init=0.001, max_iter=1000\n",
            "[CV 1/10; 16/24] END activation=tanh, alpha=0.001, hidden_layer_sizes=(50, 50), learning_rate=adaptive, learning_rate_init=0.001, max_iter=1000;, score=0.937 total time=   2.0s\n",
            "[CV 2/10; 16/24] START activation=tanh, alpha=0.001, hidden_layer_sizes=(50, 50), learning_rate=adaptive, learning_rate_init=0.001, max_iter=1000\n",
            "[CV 2/10; 16/24] END activation=tanh, alpha=0.001, hidden_layer_sizes=(50, 50), learning_rate=adaptive, learning_rate_init=0.001, max_iter=1000;, score=0.959 total time=   3.1s\n",
            "[CV 3/10; 16/24] START activation=tanh, alpha=0.001, hidden_layer_sizes=(50, 50), learning_rate=adaptive, learning_rate_init=0.001, max_iter=1000\n",
            "[CV 3/10; 16/24] END activation=tanh, alpha=0.001, hidden_layer_sizes=(50, 50), learning_rate=adaptive, learning_rate_init=0.001, max_iter=1000;, score=0.936 total time=  11.3s\n",
            "[CV 4/10; 16/24] START activation=tanh, alpha=0.001, hidden_layer_sizes=(50, 50), learning_rate=adaptive, learning_rate_init=0.001, max_iter=1000\n",
            "[CV 4/10; 16/24] END activation=tanh, alpha=0.001, hidden_layer_sizes=(50, 50), learning_rate=adaptive, learning_rate_init=0.001, max_iter=1000;, score=0.964 total time=   3.3s\n",
            "[CV 5/10; 16/24] START activation=tanh, alpha=0.001, hidden_layer_sizes=(50, 50), learning_rate=adaptive, learning_rate_init=0.001, max_iter=1000\n",
            "[CV 5/10; 16/24] END activation=tanh, alpha=0.001, hidden_layer_sizes=(50, 50), learning_rate=adaptive, learning_rate_init=0.001, max_iter=1000;, score=0.941 total time=   5.7s\n",
            "[CV 6/10; 16/24] START activation=tanh, alpha=0.001, hidden_layer_sizes=(50, 50), learning_rate=adaptive, learning_rate_init=0.001, max_iter=1000\n",
            "[CV 6/10; 16/24] END activation=tanh, alpha=0.001, hidden_layer_sizes=(50, 50), learning_rate=adaptive, learning_rate_init=0.001, max_iter=1000;, score=0.918 total time=   2.5s\n",
            "[CV 7/10; 16/24] START activation=tanh, alpha=0.001, hidden_layer_sizes=(50, 50), learning_rate=adaptive, learning_rate_init=0.001, max_iter=1000\n",
            "[CV 7/10; 16/24] END activation=tanh, alpha=0.001, hidden_layer_sizes=(50, 50), learning_rate=adaptive, learning_rate_init=0.001, max_iter=1000;, score=0.945 total time=   2.5s\n",
            "[CV 8/10; 16/24] START activation=tanh, alpha=0.001, hidden_layer_sizes=(50, 50), learning_rate=adaptive, learning_rate_init=0.001, max_iter=1000\n",
            "[CV 8/10; 16/24] END activation=tanh, alpha=0.001, hidden_layer_sizes=(50, 50), learning_rate=adaptive, learning_rate_init=0.001, max_iter=1000;, score=0.950 total time=   4.4s\n",
            "[CV 9/10; 16/24] START activation=tanh, alpha=0.001, hidden_layer_sizes=(50, 50), learning_rate=adaptive, learning_rate_init=0.001, max_iter=1000\n",
            "[CV 9/10; 16/24] END activation=tanh, alpha=0.001, hidden_layer_sizes=(50, 50), learning_rate=adaptive, learning_rate_init=0.001, max_iter=1000;, score=0.936 total time=   2.2s\n",
            "[CV 10/10; 16/24] START activation=tanh, alpha=0.001, hidden_layer_sizes=(50, 50), learning_rate=adaptive, learning_rate_init=0.001, max_iter=1000\n",
            "[CV 10/10; 16/24] END activation=tanh, alpha=0.001, hidden_layer_sizes=(50, 50), learning_rate=adaptive, learning_rate_init=0.001, max_iter=1000;, score=0.941 total time=   5.2s\n",
            "[CV 1/10; 17/24] START activation=tanh, alpha=0.001, hidden_layer_sizes=(50, 50), learning_rate=adaptive, learning_rate_init=0.01, max_iter=1000\n",
            "[CV 1/10; 17/24] END activation=tanh, alpha=0.001, hidden_layer_sizes=(50, 50), learning_rate=adaptive, learning_rate_init=0.01, max_iter=1000;, score=0.905 total time=   5.9s\n",
            "[CV 2/10; 17/24] START activation=tanh, alpha=0.001, hidden_layer_sizes=(50, 50), learning_rate=adaptive, learning_rate_init=0.01, max_iter=1000\n",
            "[CV 2/10; 17/24] END activation=tanh, alpha=0.001, hidden_layer_sizes=(50, 50), learning_rate=adaptive, learning_rate_init=0.01, max_iter=1000;, score=0.968 total time=   9.1s\n",
            "[CV 3/10; 17/24] START activation=tanh, alpha=0.001, hidden_layer_sizes=(50, 50), learning_rate=adaptive, learning_rate_init=0.01, max_iter=1000\n",
            "[CV 3/10; 17/24] END activation=tanh, alpha=0.001, hidden_layer_sizes=(50, 50), learning_rate=adaptive, learning_rate_init=0.01, max_iter=1000;, score=0.914 total time=   6.2s\n",
            "[CV 4/10; 17/24] START activation=tanh, alpha=0.001, hidden_layer_sizes=(50, 50), learning_rate=adaptive, learning_rate_init=0.01, max_iter=1000\n",
            "[CV 4/10; 17/24] END activation=tanh, alpha=0.001, hidden_layer_sizes=(50, 50), learning_rate=adaptive, learning_rate_init=0.01, max_iter=1000;, score=0.950 total time=   7.7s\n",
            "[CV 5/10; 17/24] START activation=tanh, alpha=0.001, hidden_layer_sizes=(50, 50), learning_rate=adaptive, learning_rate_init=0.01, max_iter=1000\n",
            "[CV 5/10; 17/24] END activation=tanh, alpha=0.001, hidden_layer_sizes=(50, 50), learning_rate=adaptive, learning_rate_init=0.01, max_iter=1000;, score=0.923 total time=   5.9s\n",
            "[CV 6/10; 17/24] START activation=tanh, alpha=0.001, hidden_layer_sizes=(50, 50), learning_rate=adaptive, learning_rate_init=0.01, max_iter=1000\n",
            "[CV 6/10; 17/24] END activation=tanh, alpha=0.001, hidden_layer_sizes=(50, 50), learning_rate=adaptive, learning_rate_init=0.01, max_iter=1000;, score=0.918 total time=   6.2s\n",
            "[CV 7/10; 17/24] START activation=tanh, alpha=0.001, hidden_layer_sizes=(50, 50), learning_rate=adaptive, learning_rate_init=0.01, max_iter=1000\n",
            "[CV 7/10; 17/24] END activation=tanh, alpha=0.001, hidden_layer_sizes=(50, 50), learning_rate=adaptive, learning_rate_init=0.01, max_iter=1000;, score=0.909 total time=   7.7s\n",
            "[CV 8/10; 17/24] START activation=tanh, alpha=0.001, hidden_layer_sizes=(50, 50), learning_rate=adaptive, learning_rate_init=0.01, max_iter=1000\n",
            "[CV 8/10; 17/24] END activation=tanh, alpha=0.001, hidden_layer_sizes=(50, 50), learning_rate=adaptive, learning_rate_init=0.01, max_iter=1000;, score=0.927 total time=   7.1s\n",
            "[CV 9/10; 17/24] START activation=tanh, alpha=0.001, hidden_layer_sizes=(50, 50), learning_rate=adaptive, learning_rate_init=0.01, max_iter=1000\n",
            "[CV 9/10; 17/24] END activation=tanh, alpha=0.001, hidden_layer_sizes=(50, 50), learning_rate=adaptive, learning_rate_init=0.01, max_iter=1000;, score=0.927 total time=   7.3s\n",
            "[CV 10/10; 17/24] START activation=tanh, alpha=0.001, hidden_layer_sizes=(50, 50), learning_rate=adaptive, learning_rate_init=0.01, max_iter=1000\n",
            "[CV 10/10; 17/24] END activation=tanh, alpha=0.001, hidden_layer_sizes=(50, 50), learning_rate=adaptive, learning_rate_init=0.01, max_iter=1000;, score=0.955 total time=   4.5s\n",
            "[CV 1/10; 18/24] START activation=tanh, alpha=0.001, hidden_layer_sizes=(50, 50), learning_rate=adaptive, learning_rate_init=0.1, max_iter=1000\n",
            "[CV 1/10; 18/24] END activation=tanh, alpha=0.001, hidden_layer_sizes=(50, 50), learning_rate=adaptive, learning_rate_init=0.1, max_iter=1000;, score=0.941 total time=   1.6s\n",
            "[CV 2/10; 18/24] START activation=tanh, alpha=0.001, hidden_layer_sizes=(50, 50), learning_rate=adaptive, learning_rate_init=0.1, max_iter=1000\n",
            "[CV 2/10; 18/24] END activation=tanh, alpha=0.001, hidden_layer_sizes=(50, 50), learning_rate=adaptive, learning_rate_init=0.1, max_iter=1000;, score=0.955 total time=   1.1s\n",
            "[CV 3/10; 18/24] START activation=tanh, alpha=0.001, hidden_layer_sizes=(50, 50), learning_rate=adaptive, learning_rate_init=0.1, max_iter=1000\n",
            "[CV 3/10; 18/24] END activation=tanh, alpha=0.001, hidden_layer_sizes=(50, 50), learning_rate=adaptive, learning_rate_init=0.1, max_iter=1000;, score=0.945 total time=   0.6s\n",
            "[CV 4/10; 18/24] START activation=tanh, alpha=0.001, hidden_layer_sizes=(50, 50), learning_rate=adaptive, learning_rate_init=0.1, max_iter=1000\n",
            "[CV 4/10; 18/24] END activation=tanh, alpha=0.001, hidden_layer_sizes=(50, 50), learning_rate=adaptive, learning_rate_init=0.1, max_iter=1000;, score=0.936 total time=   0.7s\n",
            "[CV 5/10; 18/24] START activation=tanh, alpha=0.001, hidden_layer_sizes=(50, 50), learning_rate=adaptive, learning_rate_init=0.1, max_iter=1000\n",
            "[CV 5/10; 18/24] END activation=tanh, alpha=0.001, hidden_layer_sizes=(50, 50), learning_rate=adaptive, learning_rate_init=0.1, max_iter=1000;, score=0.945 total time=   1.2s\n",
            "[CV 6/10; 18/24] START activation=tanh, alpha=0.001, hidden_layer_sizes=(50, 50), learning_rate=adaptive, learning_rate_init=0.1, max_iter=1000\n",
            "[CV 6/10; 18/24] END activation=tanh, alpha=0.001, hidden_layer_sizes=(50, 50), learning_rate=adaptive, learning_rate_init=0.1, max_iter=1000;, score=0.918 total time=   1.2s\n",
            "[CV 7/10; 18/24] START activation=tanh, alpha=0.001, hidden_layer_sizes=(50, 50), learning_rate=adaptive, learning_rate_init=0.1, max_iter=1000\n",
            "[CV 7/10; 18/24] END activation=tanh, alpha=0.001, hidden_layer_sizes=(50, 50), learning_rate=adaptive, learning_rate_init=0.1, max_iter=1000;, score=0.955 total time=   2.3s\n",
            "[CV 8/10; 18/24] START activation=tanh, alpha=0.001, hidden_layer_sizes=(50, 50), learning_rate=adaptive, learning_rate_init=0.1, max_iter=1000\n",
            "[CV 8/10; 18/24] END activation=tanh, alpha=0.001, hidden_layer_sizes=(50, 50), learning_rate=adaptive, learning_rate_init=0.1, max_iter=1000;, score=0.945 total time=   0.5s\n",
            "[CV 9/10; 18/24] START activation=tanh, alpha=0.001, hidden_layer_sizes=(50, 50), learning_rate=adaptive, learning_rate_init=0.1, max_iter=1000\n",
            "[CV 9/10; 18/24] END activation=tanh, alpha=0.001, hidden_layer_sizes=(50, 50), learning_rate=adaptive, learning_rate_init=0.1, max_iter=1000;, score=0.914 total time=   1.0s\n",
            "[CV 10/10; 18/24] START activation=tanh, alpha=0.001, hidden_layer_sizes=(50, 50), learning_rate=adaptive, learning_rate_init=0.1, max_iter=1000\n",
            "[CV 10/10; 18/24] END activation=tanh, alpha=0.001, hidden_layer_sizes=(50, 50), learning_rate=adaptive, learning_rate_init=0.1, max_iter=1000;, score=0.950 total time=   0.8s\n",
            "[CV 1/10; 19/24] START activation=tanh, alpha=0.001, hidden_layer_sizes=(20, 80, 20), learning_rate=constant, learning_rate_init=0.001, max_iter=1000\n",
            "[CV 1/10; 19/24] END activation=tanh, alpha=0.001, hidden_layer_sizes=(20, 80, 20), learning_rate=constant, learning_rate_init=0.001, max_iter=1000;, score=0.937 total time=   3.9s\n",
            "[CV 2/10; 19/24] START activation=tanh, alpha=0.001, hidden_layer_sizes=(20, 80, 20), learning_rate=constant, learning_rate_init=0.001, max_iter=1000\n",
            "[CV 2/10; 19/24] END activation=tanh, alpha=0.001, hidden_layer_sizes=(20, 80, 20), learning_rate=constant, learning_rate_init=0.001, max_iter=1000;, score=0.964 total time=   3.6s\n",
            "[CV 3/10; 19/24] START activation=tanh, alpha=0.001, hidden_layer_sizes=(20, 80, 20), learning_rate=constant, learning_rate_init=0.001, max_iter=1000\n",
            "[CV 3/10; 19/24] END activation=tanh, alpha=0.001, hidden_layer_sizes=(20, 80, 20), learning_rate=constant, learning_rate_init=0.001, max_iter=1000;, score=0.941 total time=   5.1s\n",
            "[CV 4/10; 19/24] START activation=tanh, alpha=0.001, hidden_layer_sizes=(20, 80, 20), learning_rate=constant, learning_rate_init=0.001, max_iter=1000\n",
            "[CV 4/10; 19/24] END activation=tanh, alpha=0.001, hidden_layer_sizes=(20, 80, 20), learning_rate=constant, learning_rate_init=0.001, max_iter=1000;, score=0.973 total time=   4.2s\n",
            "[CV 5/10; 19/24] START activation=tanh, alpha=0.001, hidden_layer_sizes=(20, 80, 20), learning_rate=constant, learning_rate_init=0.001, max_iter=1000\n",
            "[CV 5/10; 19/24] END activation=tanh, alpha=0.001, hidden_layer_sizes=(20, 80, 20), learning_rate=constant, learning_rate_init=0.001, max_iter=1000;, score=0.936 total time=   2.5s\n",
            "[CV 6/10; 19/24] START activation=tanh, alpha=0.001, hidden_layer_sizes=(20, 80, 20), learning_rate=constant, learning_rate_init=0.001, max_iter=1000\n",
            "[CV 6/10; 19/24] END activation=tanh, alpha=0.001, hidden_layer_sizes=(20, 80, 20), learning_rate=constant, learning_rate_init=0.001, max_iter=1000;, score=0.914 total time=   2.0s\n",
            "[CV 7/10; 19/24] START activation=tanh, alpha=0.001, hidden_layer_sizes=(20, 80, 20), learning_rate=constant, learning_rate_init=0.001, max_iter=1000\n",
            "[CV 7/10; 19/24] END activation=tanh, alpha=0.001, hidden_layer_sizes=(20, 80, 20), learning_rate=constant, learning_rate_init=0.001, max_iter=1000;, score=0.941 total time=   4.5s\n",
            "[CV 8/10; 19/24] START activation=tanh, alpha=0.001, hidden_layer_sizes=(20, 80, 20), learning_rate=constant, learning_rate_init=0.001, max_iter=1000\n",
            "[CV 8/10; 19/24] END activation=tanh, alpha=0.001, hidden_layer_sizes=(20, 80, 20), learning_rate=constant, learning_rate_init=0.001, max_iter=1000;, score=0.941 total time=   3.8s\n",
            "[CV 9/10; 19/24] START activation=tanh, alpha=0.001, hidden_layer_sizes=(20, 80, 20), learning_rate=constant, learning_rate_init=0.001, max_iter=1000\n",
            "[CV 9/10; 19/24] END activation=tanh, alpha=0.001, hidden_layer_sizes=(20, 80, 20), learning_rate=constant, learning_rate_init=0.001, max_iter=1000;, score=0.941 total time=   6.7s\n",
            "[CV 10/10; 19/24] START activation=tanh, alpha=0.001, hidden_layer_sizes=(20, 80, 20), learning_rate=constant, learning_rate_init=0.001, max_iter=1000\n",
            "[CV 10/10; 19/24] END activation=tanh, alpha=0.001, hidden_layer_sizes=(20, 80, 20), learning_rate=constant, learning_rate_init=0.001, max_iter=1000;, score=0.945 total time=   8.4s\n",
            "[CV 1/10; 20/24] START activation=tanh, alpha=0.001, hidden_layer_sizes=(20, 80, 20), learning_rate=constant, learning_rate_init=0.01, max_iter=1000\n",
            "[CV 1/10; 20/24] END activation=tanh, alpha=0.001, hidden_layer_sizes=(20, 80, 20), learning_rate=constant, learning_rate_init=0.01, max_iter=1000;, score=0.932 total time=   5.0s\n",
            "[CV 2/10; 20/24] START activation=tanh, alpha=0.001, hidden_layer_sizes=(20, 80, 20), learning_rate=constant, learning_rate_init=0.01, max_iter=1000\n",
            "[CV 2/10; 20/24] END activation=tanh, alpha=0.001, hidden_layer_sizes=(20, 80, 20), learning_rate=constant, learning_rate_init=0.01, max_iter=1000;, score=0.955 total time=   3.2s\n",
            "[CV 3/10; 20/24] START activation=tanh, alpha=0.001, hidden_layer_sizes=(20, 80, 20), learning_rate=constant, learning_rate_init=0.01, max_iter=1000\n",
            "[CV 3/10; 20/24] END activation=tanh, alpha=0.001, hidden_layer_sizes=(20, 80, 20), learning_rate=constant, learning_rate_init=0.01, max_iter=1000;, score=0.950 total time=   4.1s\n",
            "[CV 4/10; 20/24] START activation=tanh, alpha=0.001, hidden_layer_sizes=(20, 80, 20), learning_rate=constant, learning_rate_init=0.01, max_iter=1000\n",
            "[CV 4/10; 20/24] END activation=tanh, alpha=0.001, hidden_layer_sizes=(20, 80, 20), learning_rate=constant, learning_rate_init=0.01, max_iter=1000;, score=0.959 total time=   3.1s\n",
            "[CV 5/10; 20/24] START activation=tanh, alpha=0.001, hidden_layer_sizes=(20, 80, 20), learning_rate=constant, learning_rate_init=0.01, max_iter=1000\n",
            "[CV 5/10; 20/24] END activation=tanh, alpha=0.001, hidden_layer_sizes=(20, 80, 20), learning_rate=constant, learning_rate_init=0.01, max_iter=1000;, score=0.941 total time=   5.3s\n",
            "[CV 6/10; 20/24] START activation=tanh, alpha=0.001, hidden_layer_sizes=(20, 80, 20), learning_rate=constant, learning_rate_init=0.01, max_iter=1000\n",
            "[CV 6/10; 20/24] END activation=tanh, alpha=0.001, hidden_layer_sizes=(20, 80, 20), learning_rate=constant, learning_rate_init=0.01, max_iter=1000;, score=0.895 total time=   3.1s\n",
            "[CV 7/10; 20/24] START activation=tanh, alpha=0.001, hidden_layer_sizes=(20, 80, 20), learning_rate=constant, learning_rate_init=0.01, max_iter=1000\n",
            "[CV 7/10; 20/24] END activation=tanh, alpha=0.001, hidden_layer_sizes=(20, 80, 20), learning_rate=constant, learning_rate_init=0.01, max_iter=1000;, score=0.936 total time=   4.0s\n",
            "[CV 8/10; 20/24] START activation=tanh, alpha=0.001, hidden_layer_sizes=(20, 80, 20), learning_rate=constant, learning_rate_init=0.01, max_iter=1000\n",
            "[CV 8/10; 20/24] END activation=tanh, alpha=0.001, hidden_layer_sizes=(20, 80, 20), learning_rate=constant, learning_rate_init=0.01, max_iter=1000;, score=0.936 total time=   4.1s\n",
            "[CV 9/10; 20/24] START activation=tanh, alpha=0.001, hidden_layer_sizes=(20, 80, 20), learning_rate=constant, learning_rate_init=0.01, max_iter=1000\n",
            "[CV 9/10; 20/24] END activation=tanh, alpha=0.001, hidden_layer_sizes=(20, 80, 20), learning_rate=constant, learning_rate_init=0.01, max_iter=1000;, score=0.932 total time=   2.2s\n",
            "[CV 10/10; 20/24] START activation=tanh, alpha=0.001, hidden_layer_sizes=(20, 80, 20), learning_rate=constant, learning_rate_init=0.01, max_iter=1000\n",
            "[CV 10/10; 20/24] END activation=tanh, alpha=0.001, hidden_layer_sizes=(20, 80, 20), learning_rate=constant, learning_rate_init=0.01, max_iter=1000;, score=0.950 total time=   3.7s\n",
            "[CV 1/10; 21/24] START activation=tanh, alpha=0.001, hidden_layer_sizes=(20, 80, 20), learning_rate=constant, learning_rate_init=0.1, max_iter=1000\n",
            "[CV 1/10; 21/24] END activation=tanh, alpha=0.001, hidden_layer_sizes=(20, 80, 20), learning_rate=constant, learning_rate_init=0.1, max_iter=1000;, score=0.941 total time=   0.6s\n",
            "[CV 2/10; 21/24] START activation=tanh, alpha=0.001, hidden_layer_sizes=(20, 80, 20), learning_rate=constant, learning_rate_init=0.1, max_iter=1000\n",
            "[CV 2/10; 21/24] END activation=tanh, alpha=0.001, hidden_layer_sizes=(20, 80, 20), learning_rate=constant, learning_rate_init=0.1, max_iter=1000;, score=0.959 total time=   0.5s\n",
            "[CV 3/10; 21/24] START activation=tanh, alpha=0.001, hidden_layer_sizes=(20, 80, 20), learning_rate=constant, learning_rate_init=0.1, max_iter=1000\n",
            "[CV 3/10; 21/24] END activation=tanh, alpha=0.001, hidden_layer_sizes=(20, 80, 20), learning_rate=constant, learning_rate_init=0.1, max_iter=1000;, score=0.891 total time=   0.8s\n",
            "[CV 4/10; 21/24] START activation=tanh, alpha=0.001, hidden_layer_sizes=(20, 80, 20), learning_rate=constant, learning_rate_init=0.1, max_iter=1000\n",
            "[CV 4/10; 21/24] END activation=tanh, alpha=0.001, hidden_layer_sizes=(20, 80, 20), learning_rate=constant, learning_rate_init=0.1, max_iter=1000;, score=0.955 total time=   0.9s\n",
            "[CV 5/10; 21/24] START activation=tanh, alpha=0.001, hidden_layer_sizes=(20, 80, 20), learning_rate=constant, learning_rate_init=0.1, max_iter=1000\n",
            "[CV 5/10; 21/24] END activation=tanh, alpha=0.001, hidden_layer_sizes=(20, 80, 20), learning_rate=constant, learning_rate_init=0.1, max_iter=1000;, score=0.886 total time=   0.7s\n",
            "[CV 6/10; 21/24] START activation=tanh, alpha=0.001, hidden_layer_sizes=(20, 80, 20), learning_rate=constant, learning_rate_init=0.1, max_iter=1000\n",
            "[CV 6/10; 21/24] END activation=tanh, alpha=0.001, hidden_layer_sizes=(20, 80, 20), learning_rate=constant, learning_rate_init=0.1, max_iter=1000;, score=0.918 total time=   0.8s\n",
            "[CV 7/10; 21/24] START activation=tanh, alpha=0.001, hidden_layer_sizes=(20, 80, 20), learning_rate=constant, learning_rate_init=0.1, max_iter=1000\n",
            "[CV 7/10; 21/24] END activation=tanh, alpha=0.001, hidden_layer_sizes=(20, 80, 20), learning_rate=constant, learning_rate_init=0.1, max_iter=1000;, score=0.955 total time=   0.6s\n",
            "[CV 8/10; 21/24] START activation=tanh, alpha=0.001, hidden_layer_sizes=(20, 80, 20), learning_rate=constant, learning_rate_init=0.1, max_iter=1000\n",
            "[CV 8/10; 21/24] END activation=tanh, alpha=0.001, hidden_layer_sizes=(20, 80, 20), learning_rate=constant, learning_rate_init=0.1, max_iter=1000;, score=0.886 total time=   1.2s\n",
            "[CV 9/10; 21/24] START activation=tanh, alpha=0.001, hidden_layer_sizes=(20, 80, 20), learning_rate=constant, learning_rate_init=0.1, max_iter=1000\n",
            "[CV 9/10; 21/24] END activation=tanh, alpha=0.001, hidden_layer_sizes=(20, 80, 20), learning_rate=constant, learning_rate_init=0.1, max_iter=1000;, score=0.936 total time=   2.5s\n",
            "[CV 10/10; 21/24] START activation=tanh, alpha=0.001, hidden_layer_sizes=(20, 80, 20), learning_rate=constant, learning_rate_init=0.1, max_iter=1000\n",
            "[CV 10/10; 21/24] END activation=tanh, alpha=0.001, hidden_layer_sizes=(20, 80, 20), learning_rate=constant, learning_rate_init=0.1, max_iter=1000;, score=0.945 total time=   1.0s\n",
            "[CV 1/10; 22/24] START activation=tanh, alpha=0.001, hidden_layer_sizes=(20, 80, 20), learning_rate=adaptive, learning_rate_init=0.001, max_iter=1000\n",
            "[CV 1/10; 22/24] END activation=tanh, alpha=0.001, hidden_layer_sizes=(20, 80, 20), learning_rate=adaptive, learning_rate_init=0.001, max_iter=1000;, score=0.941 total time=   2.1s\n",
            "[CV 2/10; 22/24] START activation=tanh, alpha=0.001, hidden_layer_sizes=(20, 80, 20), learning_rate=adaptive, learning_rate_init=0.001, max_iter=1000\n",
            "[CV 2/10; 22/24] END activation=tanh, alpha=0.001, hidden_layer_sizes=(20, 80, 20), learning_rate=adaptive, learning_rate_init=0.001, max_iter=1000;, score=0.964 total time=   2.1s\n",
            "[CV 3/10; 22/24] START activation=tanh, alpha=0.001, hidden_layer_sizes=(20, 80, 20), learning_rate=adaptive, learning_rate_init=0.001, max_iter=1000\n",
            "[CV 3/10; 22/24] END activation=tanh, alpha=0.001, hidden_layer_sizes=(20, 80, 20), learning_rate=adaptive, learning_rate_init=0.001, max_iter=1000;, score=0.941 total time=   3.7s\n",
            "[CV 4/10; 22/24] START activation=tanh, alpha=0.001, hidden_layer_sizes=(20, 80, 20), learning_rate=adaptive, learning_rate_init=0.001, max_iter=1000\n",
            "[CV 4/10; 22/24] END activation=tanh, alpha=0.001, hidden_layer_sizes=(20, 80, 20), learning_rate=adaptive, learning_rate_init=0.001, max_iter=1000;, score=0.973 total time=   8.0s\n",
            "[CV 5/10; 22/24] START activation=tanh, alpha=0.001, hidden_layer_sizes=(20, 80, 20), learning_rate=adaptive, learning_rate_init=0.001, max_iter=1000\n",
            "[CV 5/10; 22/24] END activation=tanh, alpha=0.001, hidden_layer_sizes=(20, 80, 20), learning_rate=adaptive, learning_rate_init=0.001, max_iter=1000;, score=0.936 total time=   4.8s\n",
            "[CV 6/10; 22/24] START activation=tanh, alpha=0.001, hidden_layer_sizes=(20, 80, 20), learning_rate=adaptive, learning_rate_init=0.001, max_iter=1000\n",
            "[CV 6/10; 22/24] END activation=tanh, alpha=0.001, hidden_layer_sizes=(20, 80, 20), learning_rate=adaptive, learning_rate_init=0.001, max_iter=1000;, score=0.909 total time=   8.0s\n",
            "[CV 7/10; 22/24] START activation=tanh, alpha=0.001, hidden_layer_sizes=(20, 80, 20), learning_rate=adaptive, learning_rate_init=0.001, max_iter=1000\n",
            "[CV 7/10; 22/24] END activation=tanh, alpha=0.001, hidden_layer_sizes=(20, 80, 20), learning_rate=adaptive, learning_rate_init=0.001, max_iter=1000;, score=0.950 total time=   2.6s\n",
            "[CV 8/10; 22/24] START activation=tanh, alpha=0.001, hidden_layer_sizes=(20, 80, 20), learning_rate=adaptive, learning_rate_init=0.001, max_iter=1000\n",
            "[CV 8/10; 22/24] END activation=tanh, alpha=0.001, hidden_layer_sizes=(20, 80, 20), learning_rate=adaptive, learning_rate_init=0.001, max_iter=1000;, score=0.941 total time=   3.1s\n",
            "[CV 9/10; 22/24] START activation=tanh, alpha=0.001, hidden_layer_sizes=(20, 80, 20), learning_rate=adaptive, learning_rate_init=0.001, max_iter=1000\n",
            "[CV 9/10; 22/24] END activation=tanh, alpha=0.001, hidden_layer_sizes=(20, 80, 20), learning_rate=adaptive, learning_rate_init=0.001, max_iter=1000;, score=0.945 total time=   6.5s\n",
            "[CV 10/10; 22/24] START activation=tanh, alpha=0.001, hidden_layer_sizes=(20, 80, 20), learning_rate=adaptive, learning_rate_init=0.001, max_iter=1000\n",
            "[CV 10/10; 22/24] END activation=tanh, alpha=0.001, hidden_layer_sizes=(20, 80, 20), learning_rate=adaptive, learning_rate_init=0.001, max_iter=1000;, score=0.941 total time=   3.7s\n",
            "[CV 1/10; 23/24] START activation=tanh, alpha=0.001, hidden_layer_sizes=(20, 80, 20), learning_rate=adaptive, learning_rate_init=0.01, max_iter=1000\n",
            "[CV 1/10; 23/24] END activation=tanh, alpha=0.001, hidden_layer_sizes=(20, 80, 20), learning_rate=adaptive, learning_rate_init=0.01, max_iter=1000;, score=0.923 total time=   5.2s\n",
            "[CV 2/10; 23/24] START activation=tanh, alpha=0.001, hidden_layer_sizes=(20, 80, 20), learning_rate=adaptive, learning_rate_init=0.01, max_iter=1000\n",
            "[CV 2/10; 23/24] END activation=tanh, alpha=0.001, hidden_layer_sizes=(20, 80, 20), learning_rate=adaptive, learning_rate_init=0.01, max_iter=1000;, score=0.955 total time=   7.4s\n",
            "[CV 3/10; 23/24] START activation=tanh, alpha=0.001, hidden_layer_sizes=(20, 80, 20), learning_rate=adaptive, learning_rate_init=0.01, max_iter=1000\n",
            "[CV 3/10; 23/24] END activation=tanh, alpha=0.001, hidden_layer_sizes=(20, 80, 20), learning_rate=adaptive, learning_rate_init=0.01, max_iter=1000;, score=0.936 total time=   3.6s\n",
            "[CV 4/10; 23/24] START activation=tanh, alpha=0.001, hidden_layer_sizes=(20, 80, 20), learning_rate=adaptive, learning_rate_init=0.01, max_iter=1000\n",
            "[CV 4/10; 23/24] END activation=tanh, alpha=0.001, hidden_layer_sizes=(20, 80, 20), learning_rate=adaptive, learning_rate_init=0.01, max_iter=1000;, score=0.959 total time=   4.7s\n",
            "[CV 5/10; 23/24] START activation=tanh, alpha=0.001, hidden_layer_sizes=(20, 80, 20), learning_rate=adaptive, learning_rate_init=0.01, max_iter=1000\n",
            "[CV 5/10; 23/24] END activation=tanh, alpha=0.001, hidden_layer_sizes=(20, 80, 20), learning_rate=adaptive, learning_rate_init=0.01, max_iter=1000;, score=0.950 total time=  19.4s\n",
            "[CV 6/10; 23/24] START activation=tanh, alpha=0.001, hidden_layer_sizes=(20, 80, 20), learning_rate=adaptive, learning_rate_init=0.01, max_iter=1000\n",
            "[CV 6/10; 23/24] END activation=tanh, alpha=0.001, hidden_layer_sizes=(20, 80, 20), learning_rate=adaptive, learning_rate_init=0.01, max_iter=1000;, score=0.891 total time=   3.9s\n",
            "[CV 7/10; 23/24] START activation=tanh, alpha=0.001, hidden_layer_sizes=(20, 80, 20), learning_rate=adaptive, learning_rate_init=0.01, max_iter=1000\n",
            "[CV 7/10; 23/24] END activation=tanh, alpha=0.001, hidden_layer_sizes=(20, 80, 20), learning_rate=adaptive, learning_rate_init=0.01, max_iter=1000;, score=0.909 total time=   5.9s\n",
            "[CV 8/10; 23/24] START activation=tanh, alpha=0.001, hidden_layer_sizes=(20, 80, 20), learning_rate=adaptive, learning_rate_init=0.01, max_iter=1000\n",
            "[CV 8/10; 23/24] END activation=tanh, alpha=0.001, hidden_layer_sizes=(20, 80, 20), learning_rate=adaptive, learning_rate_init=0.01, max_iter=1000;, score=0.950 total time=   3.0s\n",
            "[CV 9/10; 23/24] START activation=tanh, alpha=0.001, hidden_layer_sizes=(20, 80, 20), learning_rate=adaptive, learning_rate_init=0.01, max_iter=1000\n",
            "[CV 9/10; 23/24] END activation=tanh, alpha=0.001, hidden_layer_sizes=(20, 80, 20), learning_rate=adaptive, learning_rate_init=0.01, max_iter=1000;, score=0.955 total time=   5.3s\n",
            "[CV 10/10; 23/24] START activation=tanh, alpha=0.001, hidden_layer_sizes=(20, 80, 20), learning_rate=adaptive, learning_rate_init=0.01, max_iter=1000\n",
            "[CV 10/10; 23/24] END activation=tanh, alpha=0.001, hidden_layer_sizes=(20, 80, 20), learning_rate=adaptive, learning_rate_init=0.01, max_iter=1000;, score=0.941 total time=   6.5s\n",
            "[CV 1/10; 24/24] START activation=tanh, alpha=0.001, hidden_layer_sizes=(20, 80, 20), learning_rate=adaptive, learning_rate_init=0.1, max_iter=1000\n",
            "[CV 1/10; 24/24] END activation=tanh, alpha=0.001, hidden_layer_sizes=(20, 80, 20), learning_rate=adaptive, learning_rate_init=0.1, max_iter=1000;, score=0.887 total time=   0.6s\n",
            "[CV 2/10; 24/24] START activation=tanh, alpha=0.001, hidden_layer_sizes=(20, 80, 20), learning_rate=adaptive, learning_rate_init=0.1, max_iter=1000\n",
            "[CV 2/10; 24/24] END activation=tanh, alpha=0.001, hidden_layer_sizes=(20, 80, 20), learning_rate=adaptive, learning_rate_init=0.1, max_iter=1000;, score=0.941 total time=   0.5s\n",
            "[CV 3/10; 24/24] START activation=tanh, alpha=0.001, hidden_layer_sizes=(20, 80, 20), learning_rate=adaptive, learning_rate_init=0.1, max_iter=1000\n",
            "[CV 3/10; 24/24] END activation=tanh, alpha=0.001, hidden_layer_sizes=(20, 80, 20), learning_rate=adaptive, learning_rate_init=0.1, max_iter=1000;, score=0.950 total time=   1.0s\n",
            "[CV 4/10; 24/24] START activation=tanh, alpha=0.001, hidden_layer_sizes=(20, 80, 20), learning_rate=adaptive, learning_rate_init=0.1, max_iter=1000\n",
            "[CV 4/10; 24/24] END activation=tanh, alpha=0.001, hidden_layer_sizes=(20, 80, 20), learning_rate=adaptive, learning_rate_init=0.1, max_iter=1000;, score=0.955 total time=   0.6s\n",
            "[CV 5/10; 24/24] START activation=tanh, alpha=0.001, hidden_layer_sizes=(20, 80, 20), learning_rate=adaptive, learning_rate_init=0.1, max_iter=1000\n",
            "[CV 5/10; 24/24] END activation=tanh, alpha=0.001, hidden_layer_sizes=(20, 80, 20), learning_rate=adaptive, learning_rate_init=0.1, max_iter=1000;, score=0.941 total time=   0.9s\n",
            "[CV 6/10; 24/24] START activation=tanh, alpha=0.001, hidden_layer_sizes=(20, 80, 20), learning_rate=adaptive, learning_rate_init=0.1, max_iter=1000\n",
            "[CV 6/10; 24/24] END activation=tanh, alpha=0.001, hidden_layer_sizes=(20, 80, 20), learning_rate=adaptive, learning_rate_init=0.1, max_iter=1000;, score=0.918 total time=   0.8s\n",
            "[CV 7/10; 24/24] START activation=tanh, alpha=0.001, hidden_layer_sizes=(20, 80, 20), learning_rate=adaptive, learning_rate_init=0.1, max_iter=1000\n",
            "[CV 7/10; 24/24] END activation=tanh, alpha=0.001, hidden_layer_sizes=(20, 80, 20), learning_rate=adaptive, learning_rate_init=0.1, max_iter=1000;, score=0.886 total time=   0.6s\n",
            "[CV 8/10; 24/24] START activation=tanh, alpha=0.001, hidden_layer_sizes=(20, 80, 20), learning_rate=adaptive, learning_rate_init=0.1, max_iter=1000\n",
            "[CV 8/10; 24/24] END activation=tanh, alpha=0.001, hidden_layer_sizes=(20, 80, 20), learning_rate=adaptive, learning_rate_init=0.1, max_iter=1000;, score=0.955 total time=   1.0s\n",
            "[CV 9/10; 24/24] START activation=tanh, alpha=0.001, hidden_layer_sizes=(20, 80, 20), learning_rate=adaptive, learning_rate_init=0.1, max_iter=1000\n",
            "[CV 9/10; 24/24] END activation=tanh, alpha=0.001, hidden_layer_sizes=(20, 80, 20), learning_rate=adaptive, learning_rate_init=0.1, max_iter=1000;, score=0.886 total time=   0.4s\n",
            "[CV 10/10; 24/24] START activation=tanh, alpha=0.001, hidden_layer_sizes=(20, 80, 20), learning_rate=adaptive, learning_rate_init=0.1, max_iter=1000\n",
            "[CV 10/10; 24/24] END activation=tanh, alpha=0.001, hidden_layer_sizes=(20, 80, 20), learning_rate=adaptive, learning_rate_init=0.1, max_iter=1000;, score=0.945 total time=   1.0s\n",
            "Melhores parâmetros: {'max_iter': 1000, 'learning_rate_init': 0.001, 'learning_rate': 'constant', 'hidden_layer_sizes': (50, 50), 'alpha': 0.0001, 'activation': 'tanh'}\n",
            "Melhor pontuação: 0.9454833401892225\n"
          ]
        }
      ]
    },
    {
      "cell_type": "markdown",
      "source": [
        "## Comitê de redes neurais"
      ],
      "metadata": {
        "id": "FlDvlrVWFWDL"
      }
    },
    {
      "cell_type": "code",
      "source": [
        "from sklearn.ensemble import VotingClassifier\n",
        "\n",
        "mlp1 = MLPClassifier(max_iter=1000, learning_rate_init=0.001, learning_rate='constant', hidden_layer_sizes=(50, 50), alpha=0.01, activation='tanh')\n",
        "mlp2 = MLPClassifier(hidden_layer_sizes=(10),max_iter=1000,alpha=0.0001)\n",
        "mlp3 = MLPClassifier(activation='tanh', alpha=0.001, hidden_layer_sizes=(20, 80, 20),max_iter=1000, learning_rate='adaptive', learning_rate_init=0.001)\n",
        "\n",
        "# Definindo o Comitê de Redes Neurais\n",
        "estimators = [('mlp1', mlp1), ('mlp2', mlp2), ('mlp3', mlp3)]\n",
        "ensemble = VotingClassifier(estimators)\n",
        "\n",
        "# Definindo penalização para a função de custo e o tipo de predição adotado pelo modelo\n",
        "params = {\n",
        "    'mlp1__alpha': [0.0001, 0.001, 0.01, 0.1],\n",
        "    'mlp2__alpha': [0.0001, 0.001, 0.01, 0.1],\n",
        "    'mlp3__alpha': [0.0001, 0.001, 0.01, 0.1],\n",
        "    'voting': ['hard', 'soft']\n",
        "}\n",
        "\n",
        "# Realizando a busca de hiperparâmetros com cross-validation\n",
        "rf_random2 = RandomizedSearchCV(estimator = ensemble, param_distributions = params, n_iter = 5, cv = 10,verbose=3)\n",
        "rf_random2.fit(X_train_oh, y_train)\n",
        "\n",
        "print(\"Melhores parâmetros:\", rf_random2.best_params_)\n",
        "print(\"Melhor pontuação:\", rf_random2.best_score_)"
      ],
      "metadata": {
        "colab": {
          "base_uri": "https://localhost:8080/"
        },
        "id": "S8DrlSgKZ90O",
        "outputId": "d39771bb-35e4-45c0-a520-8c4388cd25e3"
      },
      "execution_count": null,
      "outputs": [
        {
          "output_type": "stream",
          "name": "stdout",
          "text": [
            "Fitting 10 folds for each of 5 candidates, totalling 50 fits\n",
            "[CV 1/10] END mlp1__alpha=0.01, mlp2__alpha=0.0001, mlp3__alpha=0.0001, voting=hard;, score=0.937 total time=  10.1s\n",
            "[CV 2/10] END mlp1__alpha=0.01, mlp2__alpha=0.0001, mlp3__alpha=0.0001, voting=hard;, score=0.964 total time=   9.4s\n",
            "[CV 3/10] END mlp1__alpha=0.01, mlp2__alpha=0.0001, mlp3__alpha=0.0001, voting=hard;, score=0.945 total time=   8.2s\n",
            "[CV 4/10] END mlp1__alpha=0.01, mlp2__alpha=0.0001, mlp3__alpha=0.0001, voting=hard;, score=0.968 total time=   8.8s\n",
            "[CV 5/10] END mlp1__alpha=0.01, mlp2__alpha=0.0001, mlp3__alpha=0.0001, voting=hard;, score=0.941 total time=   6.5s\n"
          ]
        },
        {
          "output_type": "stream",
          "name": "stderr",
          "text": [
            "/usr/local/lib/python3.9/dist-packages/sklearn/neural_network/_multilayer_perceptron.py:686: ConvergenceWarning: Stochastic Optimizer: Maximum iterations (1000) reached and the optimization hasn't converged yet.\n",
            "  warnings.warn(\n"
          ]
        },
        {
          "output_type": "stream",
          "name": "stdout",
          "text": [
            "[CV 6/10] END mlp1__alpha=0.01, mlp2__alpha=0.0001, mlp3__alpha=0.0001, voting=hard;, score=0.923 total time=  40.7s\n",
            "[CV 7/10] END mlp1__alpha=0.01, mlp2__alpha=0.0001, mlp3__alpha=0.0001, voting=hard;, score=0.945 total time=   8.5s\n",
            "[CV 8/10] END mlp1__alpha=0.01, mlp2__alpha=0.0001, mlp3__alpha=0.0001, voting=hard;, score=0.959 total time=   9.8s\n",
            "[CV 9/10] END mlp1__alpha=0.01, mlp2__alpha=0.0001, mlp3__alpha=0.0001, voting=hard;, score=0.936 total time=   6.4s\n",
            "[CV 10/10] END mlp1__alpha=0.01, mlp2__alpha=0.0001, mlp3__alpha=0.0001, voting=hard;, score=0.945 total time=  20.9s\n",
            "[CV 1/10] END mlp1__alpha=0.001, mlp2__alpha=0.1, mlp3__alpha=0.1, voting=hard;, score=0.941 total time=  15.9s\n",
            "[CV 2/10] END mlp1__alpha=0.001, mlp2__alpha=0.1, mlp3__alpha=0.1, voting=hard;, score=0.959 total time=  16.8s\n",
            "[CV 3/10] END mlp1__alpha=0.001, mlp2__alpha=0.1, mlp3__alpha=0.1, voting=hard;, score=0.945 total time=  12.9s\n",
            "[CV 4/10] END mlp1__alpha=0.001, mlp2__alpha=0.1, mlp3__alpha=0.1, voting=hard;, score=0.968 total time=  15.9s\n",
            "[CV 5/10] END mlp1__alpha=0.001, mlp2__alpha=0.1, mlp3__alpha=0.1, voting=hard;, score=0.941 total time=  19.2s\n",
            "[CV 6/10] END mlp1__alpha=0.001, mlp2__alpha=0.1, mlp3__alpha=0.1, voting=hard;, score=0.918 total time=  10.8s\n",
            "[CV 7/10] END mlp1__alpha=0.001, mlp2__alpha=0.1, mlp3__alpha=0.1, voting=hard;, score=0.945 total time=  14.6s\n",
            "[CV 8/10] END mlp1__alpha=0.001, mlp2__alpha=0.1, mlp3__alpha=0.1, voting=hard;, score=0.955 total time=   6.6s\n",
            "[CV 9/10] END mlp1__alpha=0.001, mlp2__alpha=0.1, mlp3__alpha=0.1, voting=hard;, score=0.941 total time=   7.9s\n",
            "[CV 10/10] END mlp1__alpha=0.001, mlp2__alpha=0.1, mlp3__alpha=0.1, voting=hard;, score=0.941 total time=  11.6s\n",
            "[CV 1/10] END mlp1__alpha=0.01, mlp2__alpha=0.01, mlp3__alpha=0.0001, voting=soft;, score=0.941 total time=  10.8s\n",
            "[CV 2/10] END mlp1__alpha=0.01, mlp2__alpha=0.01, mlp3__alpha=0.0001, voting=soft;, score=0.968 total time=  12.0s\n",
            "[CV 3/10] END mlp1__alpha=0.01, mlp2__alpha=0.01, mlp3__alpha=0.0001, voting=soft;, score=0.945 total time=   8.5s\n",
            "[CV 4/10] END mlp1__alpha=0.01, mlp2__alpha=0.01, mlp3__alpha=0.0001, voting=soft;, score=0.973 total time=   7.8s\n",
            "[CV 5/10] END mlp1__alpha=0.01, mlp2__alpha=0.01, mlp3__alpha=0.0001, voting=soft;, score=0.936 total time=  32.6s\n",
            "[CV 6/10] END mlp1__alpha=0.01, mlp2__alpha=0.01, mlp3__alpha=0.0001, voting=soft;, score=0.914 total time=  11.2s\n",
            "[CV 7/10] END mlp1__alpha=0.01, mlp2__alpha=0.01, mlp3__alpha=0.0001, voting=soft;, score=0.945 total time=   9.4s\n",
            "[CV 8/10] END mlp1__alpha=0.01, mlp2__alpha=0.01, mlp3__alpha=0.0001, voting=soft;, score=0.959 total time=  12.5s\n",
            "[CV 9/10] END mlp1__alpha=0.01, mlp2__alpha=0.01, mlp3__alpha=0.0001, voting=soft;, score=0.950 total time=  34.4s\n",
            "[CV 10/10] END mlp1__alpha=0.01, mlp2__alpha=0.01, mlp3__alpha=0.0001, voting=soft;, score=0.945 total time=   6.9s\n",
            "[CV 1/10] END mlp1__alpha=0.01, mlp2__alpha=0.01, mlp3__alpha=0.1, voting=hard;, score=0.941 total time=   6.4s\n",
            "[CV 2/10] END mlp1__alpha=0.01, mlp2__alpha=0.01, mlp3__alpha=0.1, voting=hard;, score=0.959 total time=  10.4s\n",
            "[CV 3/10] END mlp1__alpha=0.01, mlp2__alpha=0.01, mlp3__alpha=0.1, voting=hard;, score=0.945 total time=   8.8s\n",
            "[CV 4/10] END mlp1__alpha=0.01, mlp2__alpha=0.01, mlp3__alpha=0.1, voting=hard;, score=0.968 total time=   8.7s\n",
            "[CV 5/10] END mlp1__alpha=0.01, mlp2__alpha=0.01, mlp3__alpha=0.1, voting=hard;, score=0.941 total time=  10.0s\n",
            "[CV 6/10] END mlp1__alpha=0.01, mlp2__alpha=0.01, mlp3__alpha=0.1, voting=hard;, score=0.914 total time=  14.9s\n",
            "[CV 7/10] END mlp1__alpha=0.01, mlp2__alpha=0.01, mlp3__alpha=0.1, voting=hard;, score=0.945 total time=  11.0s\n",
            "[CV 8/10] END mlp1__alpha=0.01, mlp2__alpha=0.01, mlp3__alpha=0.1, voting=hard;, score=0.955 total time=   9.0s\n",
            "[CV 9/10] END mlp1__alpha=0.01, mlp2__alpha=0.01, mlp3__alpha=0.1, voting=hard;, score=0.945 total time=   7.2s\n",
            "[CV 10/10] END mlp1__alpha=0.01, mlp2__alpha=0.01, mlp3__alpha=0.1, voting=hard;, score=0.945 total time=   8.3s\n",
            "[CV 1/10] END mlp1__alpha=0.1, mlp2__alpha=0.001, mlp3__alpha=0.01, voting=hard;, score=0.941 total time=  14.0s\n",
            "[CV 2/10] END mlp1__alpha=0.1, mlp2__alpha=0.001, mlp3__alpha=0.01, voting=hard;, score=0.959 total time=   9.3s\n",
            "[CV 3/10] END mlp1__alpha=0.1, mlp2__alpha=0.001, mlp3__alpha=0.01, voting=hard;, score=0.945 total time=  15.8s\n",
            "[CV 4/10] END mlp1__alpha=0.1, mlp2__alpha=0.001, mlp3__alpha=0.01, voting=hard;, score=0.968 total time=  11.5s\n",
            "[CV 5/10] END mlp1__alpha=0.1, mlp2__alpha=0.001, mlp3__alpha=0.01, voting=hard;, score=0.941 total time=   8.3s\n",
            "[CV 6/10] END mlp1__alpha=0.1, mlp2__alpha=0.001, mlp3__alpha=0.01, voting=hard;, score=0.918 total time=  10.5s\n",
            "[CV 7/10] END mlp1__alpha=0.1, mlp2__alpha=0.001, mlp3__alpha=0.01, voting=hard;, score=0.945 total time=  10.6s\n",
            "[CV 8/10] END mlp1__alpha=0.1, mlp2__alpha=0.001, mlp3__alpha=0.01, voting=hard;, score=0.959 total time=   7.1s\n",
            "[CV 9/10] END mlp1__alpha=0.1, mlp2__alpha=0.001, mlp3__alpha=0.01, voting=hard;, score=0.950 total time=  10.1s\n",
            "[CV 10/10] END mlp1__alpha=0.1, mlp2__alpha=0.001, mlp3__alpha=0.01, voting=hard;, score=0.945 total time=  12.2s\n",
            "Melhores parâmetros: {'voting': 'soft', 'mlp3__alpha': 0.0001, 'mlp2__alpha': 0.01, 'mlp1__alpha': 0.01}\n",
            "Melhor pontuação: 0.947754010695187\n"
          ]
        }
      ]
    },
    {
      "cell_type": "markdown",
      "source": [
        "Podemos ver que houve um caso que mesmo com 1000 iterações não convergiu, conseguiu melhorar de forma minúscula comparado ao MLP sozinho."
      ],
      "metadata": {
        "id": "ZJm-r18kkNge"
      }
    },
    {
      "cell_type": "markdown",
      "source": [
        "## Comitê heterogêneo"
      ],
      "metadata": {
        "id": "dlH_7yq6FZv6"
      }
    },
    {
      "cell_type": "markdown",
      "source": [
        "Para gerar o comitê, vamos nos utilizar do nosso conhecimento prévio de na exploração dos melhores parâmetros para os diversos algoritmos."
      ],
      "metadata": {
        "id": "fZkRFguROvHW"
      }
    },
    {
      "cell_type": "code",
      "source": [
        "from sklearn.ensemble import VotingClassifier\n",
        "from sklearn.neural_network import MLPClassifier\n",
        "\n",
        "dtc = DecisionTreeClassifier(criterion='gini', max_depth=6, min_impurity_decrease=0.0, min_samples_leaf=25, random_state=10)\n",
        "knn = KNeighborsClassifier(algorithm='kd_tree', metric='chebyshev', n_neighbors=25, weights='distance')\n",
        "svm = SVC(C=0.7, gamma='scale', kernel='poly', random_state=10)\n",
        "mlp = MLPClassifier(max_iter=1000, learning_rate_init=0.001, learning_rate='constant', hidden_layer_sizes=(50, 50), alpha=0.01, activation='tanh')\n",
        "\n",
        "estimators = [('dtc', dtc), ('knn', knn), ('svm', svm), ('mlp', mlp)]\n",
        "voting_clf = VotingClassifier(estimators, voting='hard')\n",
        "\n",
        "params = {'voting': ['hard', 'soft'],\n",
        "          'weights': [[1, 1, 1, 1], [2, 1, 1, 1], [1, 2, 1, 1], [1, 1, 2, 1], [1, 1, 1, 2],\n",
        "                      [2, 2, 1, 1], [2, 1, 2, 1], [2, 1, 1, 2], [1, 2, 2, 1], [1, 1, 2, 2], [1, 2, 1, 2]]}\n",
        "grid_search = GridSearchCV(voting_clf, params, cv=10, verbose=1, n_jobs=-1)\n",
        "grid_search.fit(X_train_oh, y_train)\n",
        "\n",
        "# Imprime os resultados\n",
        "print(f\"Melhores parâmetros: {grid_search.best_params_}\")\n",
        "print(f\"Acurácia: {grid_search.best_score_}\")"
      ],
      "metadata": {
        "id": "CD2XX-zKcc8D",
        "colab": {
          "base_uri": "https://localhost:8080/"
        },
        "outputId": "32b5f33f-ef24-4427-fbf2-22f67f401be4"
      },
      "execution_count": null,
      "outputs": [
        {
          "output_type": "stream",
          "name": "stdout",
          "text": [
            "Fitting 10 folds for each of 22 candidates, totalling 220 fits\n"
          ]
        },
        {
          "output_type": "stream",
          "name": "stderr",
          "text": [
            "/usr/local/lib/python3.9/dist-packages/sklearn/model_selection/_search.py:952: UserWarning: One or more of the test scores are non-finite: [0.94820856 0.9486631  0.94911765 0.94911765 0.94684492 0.94820856\n",
            " 0.94729947 0.94684492 0.94911765 0.9477499  0.94865899        nan\n",
            "        nan        nan        nan        nan        nan        nan\n",
            "        nan        nan        nan        nan]\n",
            "  warnings.warn(\n"
          ]
        },
        {
          "output_type": "stream",
          "name": "stdout",
          "text": [
            "Melhores parâmetros: {'voting': 'hard', 'weights': [1, 2, 1, 1]}\n",
            "Acurácia: 0.9491176470588234\n"
          ]
        }
      ]
    },
    {
      "cell_type": "markdown",
      "source": [
        "Podemos perceber que a acurácia foi similar da dos modelos separados. Isso indica que os modelos a combinação dos modelos não nos trouxe nenhuma informação nova quanto a classificação do probleam, ou seja os modelos são independentes um do outro e para um melhor sistema de Comitê talvez fosse melhor buscar novos tipos de algoritmo."
      ],
      "metadata": {
        "id": "3SXMx5U-bu9p"
      }
    }
  ]
}